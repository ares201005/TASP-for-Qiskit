{
 "cells": [
  {
   "cell_type": "markdown",
   "metadata": {},
   "source": [
    "# Trotterized Adiabatic State Preparation (TASP)in Qiskit\n",
    "\n",
    "In this notebook, we will demonstrate how to use the Trotterized Adiabatic State Preparation ansatz to solve for the ground state of the Hydrogen molecule and discuss its advantages over the more traditional UCCSD ansatz.\n",
    "\n",
    "The Variational Quantum Eigensolver is typically used in connection with the Unitary Coupled Cluster Single & Double (UCCSD) variational form. This ansatz takes the form\n",
    "\n",
    "\\begin{align}\n",
    "|\\psi (\\theta)> &= e^{i\\left[T(\\theta)-T^\\dagger(\\theta)\\right]} |\\text{HF}>  \\\\\n",
    "T(\\theta) &= \\theta^{ij} a^\\dagger_i a_j + \\theta^{ijkl} a^\\dagger_i a^\\dagger_j a_k ,\n",
    "\\end{align}\n",
    "\n",
    "where HF denotes the Hartree-Fock initial state (i.e. the best Slater determinant). This functionality is already implemented in Qiskit in a straightforward way:\n",
    "\n"
   ]
  },
  {
   "cell_type": "code",
   "execution_count": 22,
   "metadata": {},
   "outputs": [
    {
     "name": "stderr",
     "output_type": "stream",
     "text": [
      "two_qubit_reduction only works with parity qubit mapping but you have jordan_wigner. We switch two_qubit_reduction to False.\n"
     ]
    },
    {
     "name": "stdout",
     "output_type": "stream",
     "text": [
      "Molecule H2 at bond length 0.735\n",
      "Running VQE with UCCSD. This may take a few minutes. Some intermediary energies while you wait:\n",
      "-1.8340730920064368\n",
      "-1.2879876334010514\n",
      "-1.2869690642127465\n",
      "-0.5566849913388404\n",
      "-1.2220256930442654\n",
      "-1.6537314515250268\n",
      "-1.8174333760071821\n",
      "-1.8354617673090807\n",
      "-1.6971453724502985\n",
      "-1.8531740050480021\n",
      "-1.8062412535175663\n",
      "-1.8332978984146708\n",
      "-1.8352722842777764\n",
      "-1.8547615100882051\n",
      "-1.835785814794625\n",
      "Optimal energy is -1.1347925156392256. Exact result is -1.137306035753399\n"
     ]
    }
   ],
   "source": [
    "import numpy as np\n",
    "from qiskit.aqua.algorithms import VQE, ExactEigensolver\n",
    "from qiskit.chemistry.aqua_extensions.components.variational_forms import UCCSD\n",
    "from qiskit.aqua.components.variational_forms import TASP\n",
    "from qiskit.chemistry.aqua_extensions.components.initial_states import HartreeFock\n",
    "from qiskit.aqua.components.optimizers import COBYLA\n",
    "from qiskit import BasicAer\n",
    "from qiskit.chemistry.drivers import PySCFDriver, UnitsType\n",
    "from qiskit.chemistry import FermionicOperator\n",
    "from qiskit.aqua import QuantumInstance\n",
    "\n",
    "\n",
    "#Classical part: set up molecular data, map to WeightedPauliOperator and find exact solution\n",
    "dist=0.735\n",
    "driver = PySCFDriver(atom=\"H .0 .0 .0; H .0 .0 \" + str(dist), unit=UnitsType.ANGSTROM, \n",
    "                     charge=0, spin=0, basis='sto3g')\n",
    "molecule = driver.run()\n",
    "repulsion_energy = molecule.nuclear_repulsion_energy\n",
    "num_spin_orbitals=molecule.num_orbitals*2\n",
    "\n",
    "map_type='jordan_wigner'\n",
    "\n",
    "ferOp = FermionicOperator(h1=molecule.one_body_integrals, h2=molecule.two_body_integrals)\n",
    "qubitOp = ferOp.mapping(map_type=map_type, threshold=0.00000001)\n",
    "\n",
    "exact_solution = ExactEigensolver(qubitOp).run()['energy']\n",
    "exact_solution=exact_solution+repulsion_energy\n",
    "\n",
    "\n",
    "#Set up initial state and UCCSD variational form with standard parameters\n",
    "HF_state=HartreeFock(qubitOp.num_qubits, num_spin_orbitals, num_particles, map_type)\n",
    "varform_UCCSD = UCCSD(qubitOp.num_qubits, depth=1, num_orbitals=num_spin_orbitals, num_particles=num_particles,\n",
    "                 active_occupied=None, active_unoccupied=None, initial_state=HF_state,\n",
    "                 qubit_mapping='jordan_wigner', two_qubit_reduction=False, num_time_slices=1,\n",
    "                 shallow_circuit_concat=True, z2_symmetries=None)\n",
    "\n",
    "\n",
    "\n",
    "\n",
    "#Run VQE using UCCSD variational form and compare with exact solution\n",
    "print('Molecule H2 at bond length ' + str(dist))\n",
    "print('Running VQE with UCCSD. This may take a few minutes. Some intermediary energies while you wait:')\n",
    "opt_iter=15\n",
    "optimizer = COBYLA(maxiter=opt_iter)\n",
    "n_shots=1000\n",
    "instance=QuantumInstance(backend=BasicAer.get_backend(\"qasm_simulator\"), shots=n_shots)\n",
    "vqe_instance = VQE(qubitOp, varform_UCCSD, optimizer=optimizer)\n",
    "result=vqe_instance.run(instance)\n",
    "energy=result['energy']+repulsion_energy \n",
    "print('Optimal energy is ' + str(energy) +'. Exact result is ' + str(exact_solution))\n",
    "\n"
   ]
  },
  {
   "cell_type": "markdown",
   "metadata": {},
   "source": [
    "# The idea behind TASP\n",
    "\n",
    "Note that during the optimization, in this case the COBYLA optimizer has 3 parameters to optimize over, $\\theta^{1,3}$, $\\theta^{2,4}$ and $\\theta^{1,2,3,4}$ (taking into account orbitals with different spin). Convergence of the classical optimizer is no problem for this modest number of parameters. However, it is clear that for a large number $M$ of molecular orbitals, the number of parameters grows as $\\mathcal{O} \\left( M^4 \\right)$, until at some point, the classical optimization becomes the bottleneck of the whole procedure.\n",
    "\n",
    "To combat this problem, Wecker et al. [proposed](https://journals.aps.org/pra/pdf/10.1103/PhysRevA.92.042303) the Trotterized Adiabatic State Preparation ansatz. Splitting the Quantum Chemistry Hamiltonian as follows\n",
    "\n",
    "\\begin{align}\n",
    "H &= \\sum_{pq} h_{pq} a^\\dagger_p a_q + \\sum_{pqrq} h_{pqrs} a^\\dagger_p a^\\dagger_q a_r a_s \\\\ \n",
    "&= \\underbrace{\\sum_{p} h_{pp} a^\\dagger_p a_p + \\sum_{pq} h_{pqqp} a^\\dagger_p a^\\dagger_q a_q a_p}_{H_\\text{diag}} + \\underbrace{\\sum_{p \\neq q} h_{pq} a^\\dagger_p a_q + \\sum_{prq} h_{prrq} a^\\dagger_p a^\\dagger_r a_r a_q}_{H_\\text{hop}} + \\underbrace{\\sum_{p \\neq q \\neq r \\neq s} h_{pqrs} a^\\dagger_p a^\\dagger_q a_r a_s}_{H_\\text{ex}}\n",
    "\\end{align}\n",
    "\n",
    "and defining a depth $S$ we can define the following ansatz with $3S$ parameters:\n",
    "\n",
    "\\begin{align}\n",
    "|\\psi(\\theta)> = \\prod_{b=1}^S \\exp \\left(i \\frac{\\theta_\\text{ex}^b}{2} H_\\text{ex}\\right) \\exp \\left(i \\frac{\\theta_\\text{hop}^b}{2} H_\\text{hop}\\right) \\exp \\left(i \\theta_\\text{diag}^b H_\\text{diag}\\right) \\exp \\left(i \\frac{\\theta_\\text{hop}^b}{2} H_\\text{hop}\\right) \\exp \\left(i \\frac{\\theta_\\text{ex}^b}{2} H_\\text{ex}\\right)\n",
    "\\end{align}\n",
    "\n",
    "Due to the advantageous splitting of the Hamiltonian, this ansatz is expected to not merely reduce the number of parameters but also lead to shallower circuits for large $M$, as long as we do not need to scale $S$ too badly to ensure the accuracy of the solution."
   ]
  },
  {
   "cell_type": "code",
   "execution_count": 20,
   "metadata": {},
   "outputs": [
    {
     "name": "stdout",
     "output_type": "stream",
     "text": [
      "Running VQE with TASP. This may take a few minutes. Some intermediary energies while you wait:\n",
      "-1.6570608288349202\n",
      "-1.5452847937072123\n",
      "-1.6856951200211077\n",
      "-1.5745302406490531\n",
      "-1.835986215366027\n",
      "-1.8261315469120947\n",
      "-1.829466019292867\n",
      "-1.8023829890667007\n",
      "-1.8482223566882925\n",
      "-1.8282832936133415\n",
      "-1.8475718940865262\n",
      "-1.852784492075226\n",
      "-1.8500144652836132\n",
      "-1.84952773047911\n",
      "-1.8295759125889228\n",
      "Optimal energy is -1.1328154976262463. Exact result is -1.1373060357533973\n"
     ]
    }
   ],
   "source": [
    "#Split the Hamiltonian into the abovementioned pieces\n",
    "diag_one_body=np.diag(np.diagonal(molecule.one_body_integrals))\n",
    "offdiag_one_body=molecule.one_body_integrals-diag_one_body\n",
    "\n",
    "diag_two_body=np.zeros((num_spin_orbitals,num_spin_orbitals,num_spin_orbitals,num_spin_orbitals))\n",
    "hop_two_body=np.zeros((num_spin_orbitals,num_spin_orbitals,num_spin_orbitals,num_spin_orbitals))\n",
    "ex_two_body=np.zeros((num_spin_orbitals,num_spin_orbitals,num_spin_orbitals,num_spin_orbitals))\n",
    "\n",
    "for i1 in range(num_spin_orbitals):\n",
    "    for i2 in range(num_spin_orbitals):\n",
    "        for i3 in range(num_spin_orbitals):\n",
    "            for i4 in range(num_spin_orbitals):\n",
    "                if i2==i3:\n",
    "                    if i1==i4:\n",
    "                        diag_two_body[i1,i2,i3,i4]=molecule.two_body_integrals[i1,i2,i3,i4]\n",
    "                    else:\n",
    "                        hop_two_body[i1,i2,i3,i4]=molecule.two_body_integrals[i1,i2,i3,i4]\n",
    "                else:\n",
    "                    ex_two_body[i1,i2,i3,i4]=molecule.two_body_integrals[i1,i2,i3,i4]\n",
    "                    \n",
    "H_diag=FermionicOperator(h1=diag_one_body,h2=diag_two_body)\n",
    "H_hop=FermionicOperator(h1=offdiag_one_body,h2=hop_two_body)\n",
    "H_ex=FermionicOperator(h1=np.zeros((num_spin_orbitals,num_spin_orbitals)),h2=ex_two_body)\n",
    "H_diag=H_diag.mapping(map_type=map_type, threshold=0.00000001)\n",
    "H_hop=H_hop.mapping(map_type=map_type, threshold=0.00000001)\n",
    "H_ex=H_ex.mapping(map_type=map_type, threshold=0.00000001)\n",
    "h_list=[H_ex, H_hop, H_diag]\n",
    "\n",
    "\n",
    "#Define TASP variational form (the TASP class file is attached to original comment)\n",
    "S=1\n",
    "varform_TASP=TASP(num_spin_orbitals, depth=S, h_list=h_list, initial_state=HF_state)\n",
    "\n",
    "print('Running VQE with TASP. This may take a few minutes. Some intermediary energies while you wait:')\n",
    "vqe_instance = VQE(qubitOp, varform_TASP, optimizer=optimizer)\n",
    "result=vqe_instance.run(instance)\n",
    "energy=result['energy']+repulsion_energy \n",
    "\n",
    "print('Optimal energy is ' + str(energy) +'. Exact result is ' + str(exact_solution))"
   ]
  },
  {
   "cell_type": "markdown",
   "metadata": {},
   "source": [
    "Let us compare the two ansatz circuits in terms of number of parameters, gate depth and gate count:"
   ]
  },
  {
   "cell_type": "code",
   "execution_count": 21,
   "metadata": {},
   "outputs": [
    {
     "name": "stdout",
     "output_type": "stream",
     "text": [
      "Number of parameters for UCCSD: 3\n",
      "Depth for UCCSD: 93\n",
      "Gate counts: OrderedDict([('cx', 56), ('u3', 42), ('u2', 40), ('u1', 12), ('barrier', 3)])\n",
      "Number of parameters for TASP: 3\n",
      "Depth for TASP: 119\n",
      "Gate counts: OrderedDict([('cx', 80), ('u1', 40), ('u3', 34), ('u2', 32), ('barrier', 4)])\n"
     ]
    }
   ],
   "source": [
    "n_param_UCCSD=varform_UCCSD.num_parameters\n",
    "qc_UCCSD=varform_UCCSD.construct_circuit(np.random.rand(n_param_UCCSD))\n",
    "print('Number of parameters for UCCSD:', n_param_UCCSD)\n",
    "print('Depth for UCCSD:', qc_UCCSD.depth())\n",
    "print('Gate counts:', qc_UCCSD.count_ops())\n",
    "\n",
    "n_param_TASP=varform_TASP.num_parameters\n",
    "qc_TASP=varform_TASP.construct_circuit(np.random.rand(n_param_TASP))\n",
    "print('Number of parameters for TASP:', n_param_TASP)\n",
    "print('Depth for TASP:', qc_TASP.depth())\n",
    "print('Gate counts:', qc_TASP.count_ops())\n"
   ]
  },
  {
   "cell_type": "markdown",
   "metadata": {},
   "source": [
    "We see that for a simple molecule like H2 in a minimal basis set, UCCSD performs better. Try replacing one of the Hydrogen atoms above with Lithium ('Li') and see what happens (if you have time ;-).\n",
    "\n",
    "\n",
    "Note that the TASP variational form can be used for any list of operators, independant of the domain of the problem."
   ]
  },
  {
   "cell_type": "code",
   "execution_count": null,
   "metadata": {},
   "outputs": [],
   "source": []
  }
 ],
 "metadata": {
  "kernelspec": {
   "display_name": "Python 3",
   "language": "python",
   "name": "python3"
  },
  "language_info": {
   "codemirror_mode": {
    "name": "ipython",
    "version": 3
   },
   "file_extension": ".py",
   "mimetype": "text/x-python",
   "name": "python",
   "nbconvert_exporter": "python",
   "pygments_lexer": "ipython3",
   "version": "3.7.4"
  },
  "widgets": {
   "application/vnd.jupyter.widget-state+json": {
    "state": {
     "0004a1d5ce5a42108215ec6c8e46807f": {
      "model_module": "@jupyter-widgets/base",
      "model_module_version": "1.1.0",
      "model_name": "LayoutModel",
      "state": {
       "margin": "20px",
       "visibility": "visible"
      }
     },
     "003e775a3aaa487497e82fefb4c937ae": {
      "model_module": "@jupyter-widgets/controls",
      "model_module_version": "1.4.0",
      "model_name": "HBoxModel",
      "state": {
       "children": [
        "IPY_MODEL_3b2ad60dd85f4fdd888496cb143db12a",
        "IPY_MODEL_30d213f9d3f042d09fb1908bfbaf35a2"
       ],
       "layout": "IPY_MODEL_3e4cc130165645c9b780806916ba4a43"
      }
     },
     "00809a0c047b4860a72ccc916f2c5b78": {
      "model_module": "@jupyter-widgets/controls",
      "model_module_version": "1.4.0",
      "model_name": "DescriptionStyleModel",
      "state": {
       "description_width": ""
      }
     },
     "00d4576dddea4d47b195246572902d8d": {
      "model_module": "@jupyter-widgets/controls",
      "model_module_version": "1.4.0",
      "model_name": "ButtonModel",
      "state": {
       "description": "5",
       "layout": "IPY_MODEL_b8917cae11cd40738826f01a3d1b9efe",
       "style": "IPY_MODEL_29b442c385824d6688bca290b5c4bcf3"
      }
     },
     "00e4cf5d3e8e4f059b2b3ab459eb81f4": {
      "model_module": "@jupyter-widgets/base",
      "model_module_version": "1.1.0",
      "model_name": "LayoutModel",
      "state": {}
     },
     "00f872c8110a4ce4a44e7baebd637d15": {
      "model_module": "@jupyter-widgets/controls",
      "model_module_version": "1.4.0",
      "model_name": "ButtonStyleModel",
      "state": {}
     },
     "00ff7b6742a840f8bf84c28be6900081": {
      "model_module": "@jupyter-widgets/controls",
      "model_module_version": "1.4.0",
      "model_name": "ButtonModel",
      "state": {
       "description": "5",
       "layout": "IPY_MODEL_384a8e8d46b54a5c90ef9ead8a671357",
       "style": "IPY_MODEL_1cbc504d055a493fa74639d4fab55180"
      }
     },
     "012e8fd921a8435a82f4df40804528d8": {
      "model_module": "@jupyter-widgets/controls",
      "model_module_version": "1.4.0",
      "model_name": "HBoxModel",
      "state": {
       "children": [
        "IPY_MODEL_436dd81974104fc1851aecb151f60c80",
        "IPY_MODEL_8d5435c319844eba838e1b18e6e46df1"
       ],
       "layout": "IPY_MODEL_c300012f18c84764bf3aab87502e30a6"
      }
     },
     "013af81417c4473697ae87c5e0e22946": {
      "model_module": "@jupyter-widgets/base",
      "model_module_version": "1.1.0",
      "model_name": "LayoutModel",
      "state": {}
     },
     "0141f378851e4974aaf7a17e2f01e89a": {
      "model_module": "@jupyter-widgets/base",
      "model_module_version": "1.1.0",
      "model_name": "LayoutModel",
      "state": {}
     },
     "014461b5927c4c2bae220cf1f425012b": {
      "model_module": "@jupyter-widgets/controls",
      "model_module_version": "1.4.0",
      "model_name": "ButtonStyleModel",
      "state": {}
     },
     "01503d48513e415bb13817e1a91d97d0": {
      "model_module": "@jupyter-widgets/controls",
      "model_module_version": "1.4.0",
      "model_name": "HBoxModel",
      "state": {
       "children": [
        "IPY_MODEL_e36becaa4d994a219dc0e0d00812d1fc",
        "IPY_MODEL_86f9ea7c00f54cd6965a1a728405a4a2"
       ],
       "layout": "IPY_MODEL_23f694cea5fa48ce8f30c37669df85c0"
      }
     },
     "0173febb4fe446a2be514524e262b32b": {
      "model_module": "@jupyter-widgets/base",
      "model_module_version": "1.1.0",
      "model_name": "LayoutModel",
      "state": {}
     },
     "0183cc7a9b624056b7fdea83e970447a": {
      "model_module": "@jupyter-widgets/base",
      "model_module_version": "1.1.0",
      "model_name": "LayoutModel",
      "state": {}
     },
     "018cdd5194884de3b9cb25023f45300c": {
      "model_module": "@jupyter-widgets/base",
      "model_module_version": "1.1.0",
      "model_name": "LayoutModel",
      "state": {}
     },
     "01f02749ec774ef385258ebea42d6284": {
      "model_module": "@jupyter-widgets/controls",
      "model_module_version": "1.4.0",
      "model_name": "ButtonModel",
      "state": {
       "description": "1",
       "layout": "IPY_MODEL_c2b7aad1874b4903a99389030597033f",
       "style": "IPY_MODEL_3b9c4ed7394446f590f08a6c7e9ab344"
      }
     },
     "01f8abc37a9743cdbdaa964bf1ddc63f": {
      "model_module": "@jupyter-widgets/controls",
      "model_module_version": "1.4.0",
      "model_name": "DescriptionStyleModel",
      "state": {
       "description_width": ""
      }
     },
     "020d274f9ab04ae997c58e8f5fc02723": {
      "model_module": "@jupyter-widgets/controls",
      "model_module_version": "1.4.0",
      "model_name": "DescriptionStyleModel",
      "state": {
       "description_width": ""
      }
     },
     "0262c026ae4c48d3b59ded80c398af25": {
      "model_module": "@jupyter-widgets/controls",
      "model_module_version": "1.4.0",
      "model_name": "DescriptionStyleModel",
      "state": {
       "description_width": ""
      }
     },
     "027dbcb1e7a7446f9f8e6bc8ea2363c1": {
      "model_module": "@jupyter-widgets/controls",
      "model_module_version": "1.4.0",
      "model_name": "HTMLModel",
      "state": {
       "layout": "IPY_MODEL_3b217fd6f7eb4986815046443c7e6b98",
       "style": "IPY_MODEL_d435684d7a69464792a4f936cc264f9b"
      }
     },
     "02afb5704be64189935e9f734a127f27": {
      "model_module": "@jupyter-widgets/controls",
      "model_module_version": "1.4.0",
      "model_name": "DescriptionStyleModel",
      "state": {
       "description_width": ""
      }
     },
     "0317e2ba9f534011916a9833c4a196ec": {
      "model_module": "@jupyter-widgets/controls",
      "model_module_version": "1.4.0",
      "model_name": "HBoxModel",
      "state": {
       "children": [
        "IPY_MODEL_9a6ff3eb7882493c8ae6721d1ad7c734",
        "IPY_MODEL_dda58888f1a64948bc80c4df59be8818"
       ],
       "layout": "IPY_MODEL_61639d22db98412dae5ac9d40f1301d1"
      }
     },
     "03443930a1b0444c822c9a9e73f21c25": {
      "model_module": "@jupyter-widgets/base",
      "model_module_version": "1.1.0",
      "model_name": "LayoutModel",
      "state": {}
     },
     "035b8e28f96b4937ac88a3e7b676c898": {
      "model_module": "@jupyter-widgets/base",
      "model_module_version": "1.1.0",
      "model_name": "LayoutModel",
      "state": {}
     },
     "03872209569d479a9c7636416cfb605e": {
      "model_module": "@jupyter-widgets/controls",
      "model_module_version": "1.4.0",
      "model_name": "DescriptionStyleModel",
      "state": {
       "description_width": ""
      }
     },
     "03b8755c910f4aeb8f732ac88d5fee45": {
      "model_module": "@jupyter-widgets/base",
      "model_module_version": "1.1.0",
      "model_name": "LayoutModel",
      "state": {}
     },
     "03be526c4f544cc2932104d2d4a48eb8": {
      "model_module": "@jupyter-widgets/base",
      "model_module_version": "1.1.0",
      "model_name": "LayoutModel",
      "state": {}
     },
     "03e6c146aeab4c2cbe02da445b4fcbc8": {
      "model_module": "@jupyter-widgets/controls",
      "model_module_version": "1.4.0",
      "model_name": "DescriptionStyleModel",
      "state": {
       "description_width": ""
      }
     },
     "04058247ee1b4c458315a7fbf8ce42cf": {
      "model_module": "@jupyter-widgets/controls",
      "model_module_version": "1.4.0",
      "model_name": "DescriptionStyleModel",
      "state": {
       "description_width": ""
      }
     },
     "04116fce8775496ab2bdf1c909cebde6": {
      "model_module": "@jupyter-widgets/base",
      "model_module_version": "1.1.0",
      "model_name": "LayoutModel",
      "state": {}
     },
     "042129da8f6a4d7582a90e09a1fb5122": {
      "model_module": "@jupyter-widgets/controls",
      "model_module_version": "1.4.0",
      "model_name": "DescriptionStyleModel",
      "state": {
       "description_width": ""
      }
     },
     "042a0b6d9d8e4111b8e074eabb1136d1": {
      "model_module": "@jupyter-widgets/base",
      "model_module_version": "1.1.0",
      "model_name": "LayoutModel",
      "state": {}
     },
     "04368f53edc84924a046ad57b0e6c59b": {
      "model_module": "@jupyter-widgets/controls",
      "model_module_version": "1.4.0",
      "model_name": "ButtonModel",
      "state": {
       "description": "4",
       "layout": "IPY_MODEL_8ffe63e982bf4db89a0f68365dad566c",
       "style": "IPY_MODEL_a04871923d4a4a5999d8e80711bf18a5"
      }
     },
     "044e9d6e8682409fa967ae428df64c1e": {
      "model_module": "@jupyter-widgets/controls",
      "model_module_version": "1.4.0",
      "model_name": "ButtonModel",
      "state": {
       "description": "5",
       "layout": "IPY_MODEL_ce3c4c464c8e48bd858d4a897c591358",
       "style": "IPY_MODEL_3f523f4b58e747198b63f4d809ebde40"
      }
     },
     "0472d4c6cac040478ef67ead624e1ca0": {
      "model_module": "@jupyter-widgets/controls",
      "model_module_version": "1.4.0",
      "model_name": "HTMLModel",
      "state": {
       "layout": "IPY_MODEL_1c2e22230d9340599c292a2579ad024f",
       "style": "IPY_MODEL_a83ae0aead624bbca3a842af4b2a24e6",
       "value": "<br/><br clear=\"all\"/><b>Respond</b>: "
      }
     },
     "04808652655f4319842ae6d487594283": {
      "model_module": "@jupyter-widgets/base",
      "model_module_version": "1.1.0",
      "model_name": "LayoutModel",
      "state": {}
     },
     "0485d71897ec4068b1a31ae959fe6f32": {
      "model_module": "@jupyter-widgets/output",
      "model_module_version": "1.0.0",
      "model_name": "OutputModel",
      "state": {
       "layout": "IPY_MODEL_e9cca303e3944a689ddb7cddd296ff8a"
      }
     },
     "049c0c50f04d4d55bbb802972d6a69b9": {
      "model_module": "@jupyter-widgets/base",
      "model_module_version": "1.1.0",
      "model_name": "LayoutModel",
      "state": {}
     },
     "04abdf3957204cd2a767635413d1f6af": {
      "model_module": "@jupyter-widgets/controls",
      "model_module_version": "1.4.0",
      "model_name": "DescriptionStyleModel",
      "state": {
       "description_width": ""
      }
     },
     "04b75f8eeb03442f998545d2037918ec": {
      "model_module": "@jupyter-widgets/base",
      "model_module_version": "1.1.0",
      "model_name": "LayoutModel",
      "state": {}
     },
     "04c142782fbd4eb188dac4e421af7888": {
      "model_module": "@jupyter-widgets/controls",
      "model_module_version": "1.4.0",
      "model_name": "DescriptionStyleModel",
      "state": {
       "description_width": ""
      }
     },
     "04c34b6f72854a519ef8ae11ab9874c0": {
      "model_module": "@jupyter-widgets/controls",
      "model_module_version": "1.4.0",
      "model_name": "HBoxModel",
      "state": {
       "children": [
        "IPY_MODEL_f4dff2345c164936824243ebd3344f8b",
        "IPY_MODEL_776e65e146374aeab70f2bc96b77ee98",
        "IPY_MODEL_4aa1839be9f44829ab8698f21b6ec5fa"
       ],
       "layout": "IPY_MODEL_5fef03131a914934b24d035550ea5b29"
      }
     },
     "04ca2ccf75684afb82ee027ceec17c5d": {
      "model_module": "@jupyter-widgets/base",
      "model_module_version": "1.1.0",
      "model_name": "LayoutModel",
      "state": {
       "visibility": "hidden"
      }
     },
     "05347aae051c451ab5268868e972cc37": {
      "model_module": "@jupyter-widgets/controls",
      "model_module_version": "1.4.0",
      "model_name": "ButtonStyleModel",
      "state": {}
     },
     "0543f873d5664d3493db70c2a13b73ca": {
      "model_module": "@jupyter-widgets/controls",
      "model_module_version": "1.4.0",
      "model_name": "HBoxModel",
      "state": {
       "children": [
        "IPY_MODEL_aa834597905447ab84f1345c3c2ad843",
        "IPY_MODEL_9bfefd32b06d4778a9e8fed387a3a431"
       ],
       "layout": "IPY_MODEL_4e48aca73b9d4d2db781004a9434d2e1"
      }
     },
     "0543fffe081c474c82b74ed6629a17c6": {
      "model_module": "@jupyter-widgets/controls",
      "model_module_version": "1.4.0",
      "model_name": "ButtonModel",
      "state": {
       "description": "4",
       "layout": "IPY_MODEL_7d4ff2ec577f4e7e89452e4e09607e56",
       "style": "IPY_MODEL_d4466d72da794838824d99deafcffb87"
      }
     },
     "054c0aee8aaa460cb9d5b6ef925177d0": {
      "model_module": "@jupyter-widgets/controls",
      "model_module_version": "1.4.0",
      "model_name": "ButtonModel",
      "state": {
       "description": "Next",
       "layout": "IPY_MODEL_4f78b99a1c814e99a0e8c04c2859a180",
       "style": "IPY_MODEL_78802b8af2bc4a57ba895ec32b9f5bd1"
      }
     },
     "05676c8b6b2c4507b51aa95794ec96b1": {
      "model_module": "@jupyter-widgets/controls",
      "model_module_version": "1.4.0",
      "model_name": "HBoxModel",
      "state": {
       "children": [
        "IPY_MODEL_80f4df7c36e0467080f8a2c5bcd23f9e",
        "IPY_MODEL_d6ff5999febd4bd3a5d305ca5d82e543",
        "IPY_MODEL_ddce566ace454754b963ad2fcbc9a3c6",
        "IPY_MODEL_1f87cea142ce4e4e995d84c33cb475ee",
        "IPY_MODEL_88b4d3a06ec843c5b6f87bdc57cc25c2",
        "IPY_MODEL_f22ff06a9a314972a8637d159cb10672"
       ],
       "layout": "IPY_MODEL_f3cbafcd31a945c589bd7d36eea12bf4"
      }
     },
     "05991ab60232487f8eb593e540ee28cf": {
      "model_module": "@jupyter-widgets/controls",
      "model_module_version": "1.4.0",
      "model_name": "ButtonModel",
      "state": {
       "description": "Previous",
       "disabled": true,
       "layout": "IPY_MODEL_8184cd2d6f8b4701b075c577e83debb9",
       "style": "IPY_MODEL_e7a3078ea1b042d3a97a48832a6399e3"
      }
     },
     "05dd78b5d61743f29f265850665382d4": {
      "model_module": "@jupyter-widgets/controls",
      "model_module_version": "1.4.0",
      "model_name": "HTMLModel",
      "state": {
       "layout": "IPY_MODEL_e857a739584c45d7be855c11466551a8",
       "style": "IPY_MODEL_734f25ff42ab4d4a8203cd7e1e200c87",
       "value": "<br/><br clear=\"all\"/><b>Respond</b>: "
      }
     },
     "06121eeb24954aadae30155af00f812b": {
      "model_module": "@jupyter-widgets/base",
      "model_module_version": "1.1.0",
      "model_name": "LayoutModel",
      "state": {}
     },
     "0617eeee311f4940ba633aeb03785f71": {
      "model_module": "@jupyter-widgets/controls",
      "model_module_version": "1.4.0",
      "model_name": "DescriptionStyleModel",
      "state": {
       "description_width": ""
      }
     },
     "061e7bae65e74908bbb448e8d60dff16": {
      "model_module": "@jupyter-widgets/base",
      "model_module_version": "1.1.0",
      "model_name": "LayoutModel",
      "state": {}
     },
     "06274fc4dc9b4d55b99f11257493d955": {
      "model_module": "@jupyter-widgets/controls",
      "model_module_version": "1.4.0",
      "model_name": "HTMLModel",
      "state": {
       "layout": "IPY_MODEL_d5ccb296f4db4482b4be055e5bb58ca9",
       "style": "IPY_MODEL_8b4a4afa203942b98bb02d749a90802b",
       "value": "Qubits in state <img src=\"http://latex.codecogs.com/svg.latex?\\vert0\\rangle\" border=\"0\"/> decay down to <img src=\"http://latex.codecogs.com/svg.latex?\\vert1\\rangle\" border=\"0\"/> before measurement. The decay time for <samp>qr[0]</samp> is shorter than that for <samp>qr[1]</samp>."
      }
     },
     "0633938dfc454887a893069db7ca8ca4": {
      "model_module": "@jupyter-widgets/controls",
      "model_module_version": "1.4.0",
      "model_name": "HTMLModel",
      "state": {
       "layout": "IPY_MODEL_1f92cd2bfb22452f883cca8a1a73baea",
       "style": "IPY_MODEL_ebb0f527363549a19fff6f412cece69b",
       "value": "A library of utilities and components for building algorithms and applications"
      }
     },
     "0636533708f74c78a9929c01cd5e30ad": {
      "model_module": "@jupyter-widgets/base",
      "model_module_version": "1.1.0",
      "model_name": "LayoutModel",
      "state": {}
     },
     "06463e3004e94ed784008be26977aef9": {
      "model_module": "@jupyter-widgets/controls",
      "model_module_version": "1.4.0",
      "model_name": "DescriptionStyleModel",
      "state": {
       "description_width": ""
      }
     },
     "064ee819513c4dc8bca4ffda1bcf35e5": {
      "model_module": "@jupyter-widgets/controls",
      "model_module_version": "1.4.0",
      "model_name": "ButtonStyleModel",
      "state": {}
     },
     "0650403ade2a4ad781fcb91ee79b7964": {
      "model_module": "@jupyter-widgets/controls",
      "model_module_version": "1.4.0",
      "model_name": "DescriptionStyleModel",
      "state": {
       "description_width": ""
      }
     },
     "0672acf870814e61901bf5c50af4051f": {
      "model_module": "@jupyter-widgets/controls",
      "model_module_version": "1.4.0",
      "model_name": "VBoxModel",
      "state": {
       "children": [
        "IPY_MODEL_b8958dc1968a4cc895ddba19fc40ec4f",
        "IPY_MODEL_454fa7214f78469ebd246510937915b2"
       ],
       "layout": "IPY_MODEL_1aa57a8efb224047bf5d378ed0473d3d"
      }
     },
     "068d21e48d494b22a4f5030a866e7790": {
      "model_module": "@jupyter-widgets/base",
      "model_module_version": "1.1.0",
      "model_name": "LayoutModel",
      "state": {
       "visibility": "visible"
      }
     },
     "06d1e2e60bc443d5884ecc4b6e50fb87": {
      "model_module": "@jupyter-widgets/base",
      "model_module_version": "1.1.0",
      "model_name": "LayoutModel",
      "state": {
       "margin": "20px",
       "visibility": "visible"
      }
     },
     "06e4f387dc3147158f5d57dec55b5cd9": {
      "model_module": "@jupyter-widgets/controls",
      "model_module_version": "1.4.0",
      "model_name": "HTMLModel",
      "state": {
       "layout": "IPY_MODEL_67fea2932bf6482780a96485f534f8bc",
       "style": "IPY_MODEL_2e914533ee2547dfa13e82200c6e07b8",
       "value": "<br/><br clear=\"all\"/><b>Respond</b>: "
      }
     },
     "0730ba3403d649ecbd52ca7a10d9b950": {
      "model_module": "@jupyter-widgets/base",
      "model_module_version": "1.1.0",
      "model_name": "LayoutModel",
      "state": {}
     },
     "07534120b46540e48588ced278a1183f": {
      "model_module": "@jupyter-widgets/controls",
      "model_module_version": "1.4.0",
      "model_name": "ButtonModel",
      "state": {
       "description": "Next",
       "layout": "IPY_MODEL_28180ef36c924616ba953a76bb53d7b9",
       "style": "IPY_MODEL_4b3f53ae0b934ea89865a09a8585e271"
      }
     },
     "07623be6ab524cdca0e8285ac8c35b1b": {
      "model_module": "@jupyter-widgets/controls",
      "model_module_version": "1.4.0",
      "model_name": "DescriptionStyleModel",
      "state": {
       "description_width": ""
      }
     },
     "07ad2a8eb6f64bbbbc6bc8ac587d89a8": {
      "model_module": "@jupyter-widgets/base",
      "model_module_version": "1.1.0",
      "model_name": "LayoutModel",
      "state": {
       "margin": "20px",
       "visibility": "visible"
      }
     },
     "07b837678d4141aa8289539d7cf26e22": {
      "model_module": "@jupyter-widgets/base",
      "model_module_version": "1.1.0",
      "model_name": "LayoutModel",
      "state": {
       "visibility": "visible"
      }
     },
     "0822694fdf4440c997d0d79140f2e2f0": {
      "model_module": "@jupyter-widgets/controls",
      "model_module_version": "1.4.0",
      "model_name": "VBoxModel",
      "state": {
       "children": [
        "IPY_MODEL_917a2494ee544ed6b10cb74ed1b7dd0a",
        "IPY_MODEL_e1f9fa6a536940f899d3a0213547d927"
       ],
       "layout": "IPY_MODEL_e35ba9214af34e61bf1b550b17a09c76"
      }
     },
     "082708137b7c42998b978e6b257c488e": {
      "model_module": "@jupyter-widgets/base",
      "model_module_version": "1.1.0",
      "model_name": "LayoutModel",
      "state": {
       "visibility": "visible"
      }
     },
     "082bf9e5f42d4c87a1fb0ad29e4cfa31": {
      "model_module": "@jupyter-widgets/controls",
      "model_module_version": "1.4.0",
      "model_name": "HTMLModel",
      "state": {
       "layout": "IPY_MODEL_590c5f22788241d8ba6c673f2b98d30f",
       "style": "IPY_MODEL_cf2595da80994a0985756eacf1333bf1",
       "value": "<b>1</b>)&nbsp;&nbsp;"
      }
     },
     "08482778c8e94b00bcd72bada4ec16d4": {
      "model_module": "@jupyter-widgets/controls",
      "model_module_version": "1.4.0",
      "model_name": "HBoxModel",
      "state": {
       "children": [
        "IPY_MODEL_5886f5897d824919b0e441a7b947ce1b",
        "IPY_MODEL_db2db587097e4071ab5406b08cee0dfa"
       ],
       "layout": "IPY_MODEL_2116ae27da474797a066bcc69ea06295"
      }
     },
     "08dc842f880b40d9ab357827a77462dc": {
      "model_module": "@jupyter-widgets/controls",
      "model_module_version": "1.4.0",
      "model_name": "ButtonModel",
      "state": {
       "description": "3",
       "layout": "IPY_MODEL_7ab59e177f35454a9e217065b40d1f43",
       "style": "IPY_MODEL_52b610d86cdc4c7fb9599ca9af561756"
      }
     },
     "08ebc2f18dbb4986be33991bf1950d87": {
      "model_module": "@jupyter-widgets/base",
      "model_module_version": "1.1.0",
      "model_name": "LayoutModel",
      "state": {}
     },
     "09223c1a11fe43b984afcb7215f4d3e6": {
      "model_module": "@jupyter-widgets/controls",
      "model_module_version": "1.4.0",
      "model_name": "ButtonStyleModel",
      "state": {}
     },
     "092779fdf94142dda5d2410c38fd439a": {
      "model_module": "@jupyter-widgets/base",
      "model_module_version": "1.1.0",
      "model_name": "LayoutModel",
      "state": {
       "visibility": "visible"
      }
     },
     "09413bea68f640aba0a1a1df55d39b6c": {
      "model_module": "@jupyter-widgets/base",
      "model_module_version": "1.1.0",
      "model_name": "LayoutModel",
      "state": {
       "visibility": "hidden"
      }
     },
     "09482148de334cb99870ca1a73d88e62": {
      "model_module": "@jupyter-widgets/base",
      "model_module_version": "1.1.0",
      "model_name": "LayoutModel",
      "state": {}
     },
     "096318fde08b46ce9516d697e00fdcff": {
      "model_module": "@jupyter-widgets/controls",
      "model_module_version": "1.4.0",
      "model_name": "DescriptionStyleModel",
      "state": {
       "description_width": ""
      }
     },
     "0981b1826cb2489aa6120bd7d3b104d0": {
      "model_module": "@jupyter-widgets/controls",
      "model_module_version": "1.4.0",
      "model_name": "HTMLModel",
      "state": {
       "layout": "IPY_MODEL_bee770418ae248b38a9445467e30d2f7",
       "style": "IPY_MODEL_a26ca28a37c24e878772f301a8ac1f73",
       "value": "<b>4</b>)&nbsp;&nbsp;"
      }
     },
     "0989759b1cee4c09ab7aa4a07ad4b08f": {
      "model_module": "@jupyter-widgets/controls",
      "model_module_version": "1.4.0",
      "model_name": "HTMLModel",
      "state": {
       "layout": "IPY_MODEL_4940fab802c144aba16f715dbb8bba62",
       "style": "IPY_MODEL_8f2327192ec949d2aacf243093abb22e",
       "value": "<b>1</b>)&nbsp;&nbsp;"
      }
     },
     "09a16a53160e4564818788379dd77768": {
      "model_module": "@jupyter-widgets/controls",
      "model_module_version": "1.4.0",
      "model_name": "DescriptionStyleModel",
      "state": {
       "description_width": ""
      }
     },
     "09a7d3298efb4a23bc971fc8d5853e7b": {
      "model_module": "@jupyter-widgets/controls",
      "model_module_version": "1.4.0",
      "model_name": "HTMLModel",
      "state": {
       "layout": "IPY_MODEL_80b56a9d80904264a70aae8905f12506",
       "style": "IPY_MODEL_9db1c39b3532409c94c019a5d6e9f291"
      }
     },
     "09e2fccc9c884d8aa251aaac744169c2": {
      "model_module": "@jupyter-widgets/base",
      "model_module_version": "1.1.0",
      "model_name": "LayoutModel",
      "state": {}
     },
     "0a52054156b547d6bda86f54553f58b4": {
      "model_module": "@jupyter-widgets/controls",
      "model_module_version": "1.4.0",
      "model_name": "ButtonStyleModel",
      "state": {}
     },
     "0a5ec638d47844eb9c84c5021db86122": {
      "model_module": "@jupyter-widgets/controls",
      "model_module_version": "1.4.0",
      "model_name": "DescriptionStyleModel",
      "state": {
       "description_width": ""
      }
     },
     "0aa68eec2d5c444eba71a006ca63df10": {
      "model_module": "@jupyter-widgets/controls",
      "model_module_version": "1.4.0",
      "model_name": "VBoxModel",
      "state": {
       "children": [
        "IPY_MODEL_e8a71eefbc5240048e3d8b19db617de6",
        "IPY_MODEL_9d25d8b92fa043889f979400990ee0da",
        "IPY_MODEL_4804acb00c6341b0ac6e39a2070d72ef",
        "IPY_MODEL_f004fadbec4b479c90ae0c6b05872c31",
        "IPY_MODEL_8327f487f76941a88a5a9acd719ba1df",
        "IPY_MODEL_ca8566a6b0294dc6a06f869871946384",
        "IPY_MODEL_e4111865cc834f5b94477f77dbc4ac40",
        "IPY_MODEL_270c1894520845eebccfcf8a7251d479",
        "IPY_MODEL_62eed2353fc543939e26773693b55d30"
       ],
       "layout": "IPY_MODEL_bd290f55bbeb46c39d2657d95c6c8d45"
      }
     },
     "0aacea247380410ab00f7c810d1a45d1": {
      "model_module": "@jupyter-widgets/base",
      "model_module_version": "1.1.0",
      "model_name": "LayoutModel",
      "state": {
       "visibility": "visible"
      }
     },
     "0ab3e261604a419a8f32055035abebd3": {
      "model_module": "@jupyter-widgets/base",
      "model_module_version": "1.1.0",
      "model_name": "LayoutModel",
      "state": {}
     },
     "0ae9f34a44e64edbbd5758752f748d15": {
      "model_module": "@jupyter-widgets/base",
      "model_module_version": "1.1.0",
      "model_name": "LayoutModel",
      "state": {
       "margin": "20px",
       "visibility": "visible"
      }
     },
     "0aeb6411b734431fa1b5f2679f8b0e9f": {
      "model_module": "@jupyter-widgets/controls",
      "model_module_version": "1.4.0",
      "model_name": "ButtonModel",
      "state": {
       "description": "Next",
       "layout": "IPY_MODEL_74ebc2a242dd451aa71b5c9bf65b40c4",
       "style": "IPY_MODEL_657887f5eaf64da4b88f18fc17ed05b5"
      }
     },
     "0af17fadd1d94f96a779bc80785d2108": {
      "model_module": "@jupyter-widgets/base",
      "model_module_version": "1.1.0",
      "model_name": "LayoutModel",
      "state": {}
     },
     "0b13469c750946378afadc7c051712e4": {
      "model_module": "@jupyter-widgets/controls",
      "model_module_version": "1.4.0",
      "model_name": "DescriptionStyleModel",
      "state": {
       "description_width": ""
      }
     },
     "0b52a8b420114d44b23264400e736bfb": {
      "model_module": "@jupyter-widgets/controls",
      "model_module_version": "1.4.0",
      "model_name": "DescriptionStyleModel",
      "state": {
       "description_width": ""
      }
     },
     "0b5f893bb5bb4719bad5e89e6e693e77": {
      "model_module": "@jupyter-widgets/controls",
      "model_module_version": "1.4.0",
      "model_name": "HTMLModel",
      "state": {
       "layout": "IPY_MODEL_5239ea4893364eadbb2e9ffb490ec9a2",
       "style": "IPY_MODEL_04abdf3957204cd2a767635413d1f6af",
       "value": "<p><b>Question ID</b>: 1</p>"
      }
     },
     "0be0e3e27f7d47b5b4b84b8b0ffaaa9d": {
      "model_module": "@jupyter-widgets/controls",
      "model_module_version": "1.4.0",
      "model_name": "HBoxModel",
      "state": {
       "children": [
        "IPY_MODEL_e1700902ba0b483b9542128a029baea3",
        "IPY_MODEL_2efc7a18e4bb4fa68a8f99ac4b5517e8",
        "IPY_MODEL_0aeb6411b734431fa1b5f2679f8b0e9f"
       ],
       "layout": "IPY_MODEL_1605966423f441369b96a1cdd3ec01c1"
      }
     },
     "0c066ad85000487ab151e33089c60de9": {
      "model_module": "@jupyter-widgets/controls",
      "model_module_version": "1.4.0",
      "model_name": "HBoxModel",
      "state": {
       "children": [
        "IPY_MODEL_8eb12eaf2c624cfca2b5aa45e81046e9",
        "IPY_MODEL_3ec2f223ebec4fff865fb21610067dcd"
       ],
       "layout": "IPY_MODEL_068d21e48d494b22a4f5030a866e7790"
      }
     },
     "0c54758fe0c24ac282f77c57fbf9d3fc": {
      "model_module": "@jupyter-widgets/base",
      "model_module_version": "1.1.0",
      "model_name": "LayoutModel",
      "state": {}
     },
     "0c62330b2dfe47c9b486c2a959cf3aa0": {
      "model_module": "@jupyter-widgets/base",
      "model_module_version": "1.1.0",
      "model_name": "LayoutModel",
      "state": {}
     },
     "0c860017d62b4bd7b074e5b0515ac441": {
      "model_module": "@jupyter-widgets/controls",
      "model_module_version": "1.4.0",
      "model_name": "ButtonStyleModel",
      "state": {}
     },
     "0ca7f15a9a4c4768872987f7398fa15a": {
      "model_module": "@jupyter-widgets/controls",
      "model_module_version": "1.4.0",
      "model_name": "DescriptionStyleModel",
      "state": {
       "description_width": ""
      }
     },
     "0cdefdeac8414ca98f372c261106c65d": {
      "model_module": "@jupyter-widgets/controls",
      "model_module_version": "1.4.0",
      "model_name": "DescriptionStyleModel",
      "state": {
       "description_width": ""
      }
     },
     "0ceb82309af748c08e2fa7b45d4ae769": {
      "model_module": "@jupyter-widgets/controls",
      "model_module_version": "1.4.0",
      "model_name": "ButtonModel",
      "state": {
       "description": "5",
       "layout": "IPY_MODEL_238bc7580b6b4a1f9ebe43102a61c7c2",
       "style": "IPY_MODEL_65da7f815dfa4770b45602efab18f5f2"
      }
     },
     "0cebaa1af3b54a209d5a9635d2c194b7": {
      "model_module": "@jupyter-widgets/controls",
      "model_module_version": "1.4.0",
      "model_name": "VBoxModel",
      "state": {
       "children": [
        "IPY_MODEL_90924a68ffb04f4e86d9e034c08d3115",
        "IPY_MODEL_412b6495760047e89f38296267262a59",
        "IPY_MODEL_a566b1023b28472b989792ab362f81c2",
        "IPY_MODEL_5129cc7cf5a14a0c9f3914fa1ca4f179",
        "IPY_MODEL_475ebb87e2024578b2dce4b317980ef1",
        "IPY_MODEL_f2b8f5c542084229a1c259deed20c85c",
        "IPY_MODEL_b2811ebc37bf406d8a54829ee63757c5",
        "IPY_MODEL_97f29d96bcb84bd386335fb438b19ebe",
        "IPY_MODEL_c7204b7db46e4da4a45daabb71e843b9"
       ],
       "layout": "IPY_MODEL_035b8e28f96b4937ac88a3e7b676c898"
      }
     },
     "0d04c0742bac45bd802c0cbb22bff267": {
      "model_module": "@jupyter-widgets/controls",
      "model_module_version": "1.4.0",
      "model_name": "VBoxModel",
      "state": {
       "children": [
        "IPY_MODEL_85e5b9f3f4284460a09388ee07179054",
        "IPY_MODEL_225895d804224ae7b643bc3c7a8e65cb",
        "IPY_MODEL_48c08e4df98147269e662d815631cec2",
        "IPY_MODEL_d1d908f496b847039f3cabfeea9a862f",
        "IPY_MODEL_369c0b99e4fb455cb2516bba089f5f53",
        "IPY_MODEL_1587e1c0f3b64eb8916fcb84414f5482",
        "IPY_MODEL_1c1a739e630b45359997aad350779a12",
        "IPY_MODEL_d1a388ffd6584886879d4a4e5943180b",
        "IPY_MODEL_765b605b268a4f8bb749b25ce3568bb1"
       ],
       "layout": "IPY_MODEL_c1d00a45b2ce4877ade8ff90890bad6d"
      }
     },
     "0d7b2bfc4f5d450ba8f2b86e948d3778": {
      "model_module": "@jupyter-widgets/controls",
      "model_module_version": "1.4.0",
      "model_name": "HBoxModel",
      "state": {
       "children": [
        "IPY_MODEL_13439b76a1074d19be6ad8aa6aa1e527",
        "IPY_MODEL_967cd46d0ce14b36bd61e1f201e93a02"
       ],
       "layout": "IPY_MODEL_327a78d3c56f4746af4f97e8eb87a24a"
      }
     },
     "0db6f92659d442e9bcafc89b5300aca6": {
      "model_module": "@jupyter-widgets/base",
      "model_module_version": "1.1.0",
      "model_name": "LayoutModel",
      "state": {}
     },
     "0dd36570ce8d41358de936993c5d7199": {
      "model_module": "@jupyter-widgets/controls",
      "model_module_version": "1.4.0",
      "model_name": "HBoxModel",
      "state": {
       "children": [
        "IPY_MODEL_508e0ae3467c4ac984fd21746a2e6779",
        "IPY_MODEL_5b7c424eb7c2433ba2b17ac308086a33",
        "IPY_MODEL_332ace622ac3416983f865fd8dccd5f8",
        "IPY_MODEL_2b82b4bae4d540c3ae613a5013f6c15c",
        "IPY_MODEL_6019451f659547669b8b714370241c2d",
        "IPY_MODEL_ed6d7da5a29542c292ce46d9625ea251"
       ],
       "layout": "IPY_MODEL_f367dece29f840d8a5b5c6c8a307d5b0"
      }
     },
     "0ddc011c98b34bcfbb42d1d3c4eab7be": {
      "model_module": "@jupyter-widgets/controls",
      "model_module_version": "1.4.0",
      "model_name": "DescriptionStyleModel",
      "state": {
       "description_width": ""
      }
     },
     "0df257a74d27415da9fe57d3602544f3": {
      "model_module": "@jupyter-widgets/base",
      "model_module_version": "1.1.0",
      "model_name": "LayoutModel",
      "state": {}
     },
     "0dfc182945bc479fac45b6cd46227c5c": {
      "model_module": "@jupyter-widgets/base",
      "model_module_version": "1.1.0",
      "model_name": "LayoutModel",
      "state": {}
     },
     "0e0add6302bb46b7bc8d250e58767a2d": {
      "model_module": "@jupyter-widgets/base",
      "model_module_version": "1.1.0",
      "model_name": "LayoutModel",
      "state": {}
     },
     "0e1d54669d8d4df3a09c8971f97c8597": {
      "model_module": "@jupyter-widgets/controls",
      "model_module_version": "1.4.0",
      "model_name": "HBoxModel",
      "state": {
       "children": [
        "IPY_MODEL_05991ab60232487f8eb593e540ee28cf",
        "IPY_MODEL_28613382242e4db2801efddf17104582",
        "IPY_MODEL_1cdafb9a9d954741a83e4efb7601fa14"
       ],
       "layout": "IPY_MODEL_6d4d63311848428fbe8d8a6b34e6b3a6"
      }
     },
     "0e2021e7b3ca459184c10427a525bc41": {
      "model_module": "@jupyter-widgets/controls",
      "model_module_version": "1.4.0",
      "model_name": "ButtonModel",
      "state": {
       "description": "3",
       "layout": "IPY_MODEL_f740bd5c0601480f9d0fa8d9b4a27fe5",
       "style": "IPY_MODEL_cd956f428f0e489aabb9ce07d134bdfa"
      }
     },
     "0e451d22043e4ee38eb6b3994f20a32f": {
      "model_module": "@jupyter-widgets/controls",
      "model_module_version": "1.4.0",
      "model_name": "HBoxModel",
      "state": {
       "children": [
        "IPY_MODEL_db911e1bd87143cab0d7fb454aeabf86",
        "IPY_MODEL_18467f2ccc874683b2ea9f688216c11a",
        "IPY_MODEL_e4be89c3f28d47f58be44fb0b55903fa"
       ],
       "layout": "IPY_MODEL_946cf605c6c04cce9ebbc36a379ad85c"
      }
     },
     "0e4a45841f984ad0a8ef8d524abbe797": {
      "model_module": "@jupyter-widgets/base",
      "model_module_version": "1.1.0",
      "model_name": "LayoutModel",
      "state": {}
     },
     "0e5d5f28fa834dcc9cfa8abf7533f294": {
      "model_module": "@jupyter-widgets/controls",
      "model_module_version": "1.4.0",
      "model_name": "DescriptionStyleModel",
      "state": {
       "description_width": ""
      }
     },
     "0e6a66931a0b4e09a9be8f0916139c3c": {
      "model_module": "@jupyter-widgets/base",
      "model_module_version": "1.1.0",
      "model_name": "LayoutModel",
      "state": {
       "visibility": "hidden"
      }
     },
     "0e8cee3331e340db8abafa9797369ed9": {
      "model_module": "@jupyter-widgets/controls",
      "model_module_version": "1.4.0",
      "model_name": "ButtonModel",
      "state": {
       "description": "1",
       "layout": "IPY_MODEL_0004a1d5ce5a42108215ec6c8e46807f",
       "style": "IPY_MODEL_bb7fc2cf085142a5b0ce4b7ce85ee7c3"
      }
     },
     "0e8f53f911034bb8a0a79872973a63c3": {
      "model_module": "@jupyter-widgets/controls",
      "model_module_version": "1.4.0",
      "model_name": "HBoxModel",
      "state": {
       "children": [
        "IPY_MODEL_2d9a3585ca7a4b4b863f3161f401528b",
        "IPY_MODEL_f83e5dc5552a46218f48710730cb3daa"
       ],
       "layout": "IPY_MODEL_8949fd860b014ea0bf011370148aeb5b"
      }
     },
     "0eda970bdb984629a776c1e9b547fc42": {
      "model_module": "@jupyter-widgets/base",
      "model_module_version": "1.1.0",
      "model_name": "LayoutModel",
      "state": {
       "margin": "20px",
       "visibility": "visible"
      }
     },
     "0f679ca029574363b6fcaabd0df7c02f": {
      "model_module": "@jupyter-widgets/controls",
      "model_module_version": "1.4.0",
      "model_name": "DescriptionStyleModel",
      "state": {
       "description_width": ""
      }
     },
     "0f7ea49f39324121baa33ccb2d604889": {
      "model_module": "@jupyter-widgets/controls",
      "model_module_version": "1.4.0",
      "model_name": "ButtonStyleModel",
      "state": {}
     },
     "0f8609b82e2e4554b6383d53a47574d2": {
      "model_module": "@jupyter-widgets/controls",
      "model_module_version": "1.4.0",
      "model_name": "HBoxModel",
      "state": {
       "children": [
        "IPY_MODEL_46ddac94988d4e6c81b00eb7eed8e62d",
        "IPY_MODEL_af314c54aff54c48a249261492a0e5c9",
        "IPY_MODEL_054c0aee8aaa460cb9d5b6ef925177d0"
       ],
       "layout": "IPY_MODEL_b2c1a514905e4fecb71b0f6eef7276fe"
      }
     },
     "0f8dc0333104430baa4157d19d51fbc8": {
      "model_module": "@jupyter-widgets/controls",
      "model_module_version": "1.4.0",
      "model_name": "DescriptionStyleModel",
      "state": {
       "description_width": ""
      }
     },
     "0f8e3a5b4d2e4855bbd1d70a60de0705": {
      "model_module": "@jupyter-widgets/controls",
      "model_module_version": "1.4.0",
      "model_name": "HBoxModel",
      "state": {
       "children": [
        "IPY_MODEL_d1adf13eb6eb4971874d4c680fcf2b4a",
        "IPY_MODEL_be670b1416474e659f79bfaf4d00759d",
        "IPY_MODEL_853b0c3689d6481a89ccfb84317e9ebb",
        "IPY_MODEL_13027b96047e4bd3953c7aa8725de23c",
        "IPY_MODEL_9bc9c28771204cec8ccd2ef9cd9f4dc8",
        "IPY_MODEL_0ceb82309af748c08e2fa7b45d4ae769"
       ],
       "layout": "IPY_MODEL_b64ed4db34274e9cb8700950fd7bd59d"
      }
     },
     "0f967881eb154ac3b0bee369a930561d": {
      "model_module": "@jupyter-widgets/base",
      "model_module_version": "1.1.0",
      "model_name": "LayoutModel",
      "state": {}
     },
     "0ff06d40674249e887fd67eec8ccb397": {
      "model_module": "@jupyter-widgets/controls",
      "model_module_version": "1.4.0",
      "model_name": "HTMLModel",
      "state": {
       "layout": "IPY_MODEL_9bce288927a74d508d1713d1d043680b",
       "style": "IPY_MODEL_1328a3f27ee644ce8066f36a57380be1",
       "value": "Both 2 & 3 are possible"
      }
     },
     "104ec00c1c1d4b46aa1a7eb1337e802d": {
      "model_module": "@jupyter-widgets/base",
      "model_module_version": "1.1.0",
      "model_name": "LayoutModel",
      "state": {}
     },
     "105a809236e94922a98744947d40f132": {
      "model_module": "@jupyter-widgets/controls",
      "model_module_version": "1.4.0",
      "model_name": "HTMLModel",
      "state": {
       "layout": "IPY_MODEL_7322b4fd62d147b3b21b6b660b5b7c65",
       "style": "IPY_MODEL_8f3c4b123e5147a5bf730be589056ff8",
       "value": "<br/><br clear=\"all\"/><b>Respond</b>: "
      }
     },
     "107b8e8715b74563aee29dbd0ab31854": {
      "model_module": "@jupyter-widgets/controls",
      "model_module_version": "1.4.0",
      "model_name": "ButtonModel",
      "state": {
       "description": "2",
       "layout": "IPY_MODEL_cadea74977ec4f41b15cc507d9de57d6",
       "style": "IPY_MODEL_e856e83937d6490b9bdc1e3616da4b07"
      }
     },
     "112b677807a646d9b9f2faa1661a0a5b": {
      "model_module": "@jupyter-widgets/controls",
      "model_module_version": "1.4.0",
      "model_name": "DescriptionStyleModel",
      "state": {
       "description_width": ""
      }
     },
     "11517142279f44d09a070b5d204a96e8": {
      "model_module": "@jupyter-widgets/output",
      "model_module_version": "1.0.0",
      "model_name": "OutputModel",
      "state": {
       "layout": "IPY_MODEL_db5226e8e870428f8e59d634984104f5"
      }
     },
     "116ab0b0ecff498cbbb886febd83716b": {
      "model_module": "@jupyter-widgets/controls",
      "model_module_version": "1.4.0",
      "model_name": "ButtonModel",
      "state": {
       "description": "1",
       "layout": "IPY_MODEL_8a9d1ddae1e74927ab701ff6faf346e6",
       "style": "IPY_MODEL_fe1caf446b334e57be29839473770e4c"
      }
     },
     "118d525db01746b099af6d0a5fa7320b": {
      "model_module": "@jupyter-widgets/controls",
      "model_module_version": "1.4.0",
      "model_name": "ButtonModel",
      "state": {
       "description": "4",
       "layout": "IPY_MODEL_ffb97c4c189d4857a33ce3285fd7aa45",
       "style": "IPY_MODEL_064ee819513c4dc8bca4ffda1bcf35e5"
      }
     },
     "11bf6e8e8059441ebb5eca55e16e96b9": {
      "model_module": "@jupyter-widgets/controls",
      "model_module_version": "1.4.0",
      "model_name": "DescriptionStyleModel",
      "state": {
       "description_width": ""
      }
     },
     "11c8eb17c7c542b587c216bd2d89e88d": {
      "model_module": "@jupyter-widgets/base",
      "model_module_version": "1.1.0",
      "model_name": "LayoutModel",
      "state": {}
     },
     "11faae5480e14bbea5be4bdec98d71c4": {
      "model_module": "@jupyter-widgets/base",
      "model_module_version": "1.1.0",
      "model_name": "LayoutModel",
      "state": {}
     },
     "122a566fa24f460bbe9fd583aee8a725": {
      "model_module": "@jupyter-widgets/base",
      "model_module_version": "1.1.0",
      "model_name": "LayoutModel",
      "state": {
       "visibility": "visible"
      }
     },
     "12529a6dcd1b4f3abd6d8370ee0c56a1": {
      "model_module": "@jupyter-widgets/controls",
      "model_module_version": "1.4.0",
      "model_name": "DescriptionStyleModel",
      "state": {
       "description_width": ""
      }
     },
     "12b5d1463f284f90857b0b3e01135355": {
      "model_module": "@jupyter-widgets/base",
      "model_module_version": "1.1.0",
      "model_name": "LayoutModel",
      "state": {}
     },
     "13027b96047e4bd3953c7aa8725de23c": {
      "model_module": "@jupyter-widgets/controls",
      "model_module_version": "1.4.0",
      "model_name": "ButtonModel",
      "state": {
       "description": "3",
       "layout": "IPY_MODEL_8d377a995e894464bc63c46d8c0c0d86",
       "style": "IPY_MODEL_9534b64182e04734b99be24737868bec"
      }
     },
     "1328a3f27ee644ce8066f36a57380be1": {
      "model_module": "@jupyter-widgets/controls",
      "model_module_version": "1.4.0",
      "model_name": "DescriptionStyleModel",
      "state": {
       "description_width": ""
      }
     },
     "1334bd6b40244575a9ce2d9cfb91308e": {
      "model_module": "@jupyter-widgets/controls",
      "model_module_version": "1.4.0",
      "model_name": "ButtonStyleModel",
      "state": {}
     },
     "133b40b7388f4fc7ae20bb1e8d5a2c6f": {
      "model_module": "@jupyter-widgets/controls",
      "model_module_version": "1.4.0",
      "model_name": "VBoxModel",
      "state": {
       "children": [
        "IPY_MODEL_c063849b880d4880bead8a2e0b2aff74",
        "IPY_MODEL_14984f6867034af592df4976cc831cff"
       ],
       "layout": "IPY_MODEL_80f82c0ebe3a4bf9be0b18d2a400f52e"
      }
     },
     "13439b76a1074d19be6ad8aa6aa1e527": {
      "model_module": "@jupyter-widgets/controls",
      "model_module_version": "1.4.0",
      "model_name": "HTMLModel",
      "state": {
       "layout": "IPY_MODEL_1a4521e3cf1c402b87fdf2f9bd79986a",
       "style": "IPY_MODEL_94b4243402bc434fb2d890341444e714",
       "value": "<b>5</b>)&nbsp;&nbsp;"
      }
     },
     "134d4bbb7bb54881b1c0313ce998c78a": {
      "model_module": "@jupyter-widgets/base",
      "model_module_version": "1.1.0",
      "model_name": "LayoutModel",
      "state": {
       "visibility": "visible"
      }
     },
     "136bd0e9f9cd4825853fe82218f318e6": {
      "model_module": "@jupyter-widgets/controls",
      "model_module_version": "1.4.0",
      "model_name": "DescriptionStyleModel",
      "state": {
       "description_width": ""
      }
     },
     "138459315fd345af8441896b8d565c0b": {
      "model_module": "@jupyter-widgets/controls",
      "model_module_version": "1.4.0",
      "model_name": "HTMLModel",
      "state": {
       "layout": "IPY_MODEL_104ec00c1c1d4b46aa1a7eb1337e802d",
       "style": "IPY_MODEL_12529a6dcd1b4f3abd6d8370ee0c56a1",
       "value": "<img src=\"questions/qiskitintro_images/4.png\">"
      }
     },
     "13883ae35a864108b33c6a3a0981082e": {
      "model_module": "@jupyter-widgets/base",
      "model_module_version": "1.1.0",
      "model_name": "LayoutModel",
      "state": {}
     },
     "139d831bd64e4ae585fcda774a17f6a9": {
      "model_module": "@jupyter-widgets/base",
      "model_module_version": "1.1.0",
      "model_name": "LayoutModel",
      "state": {
       "margin": "20px",
       "visibility": "visible"
      }
     },
     "139e80804e394625aae52223e3e62839": {
      "model_module": "@jupyter-widgets/controls",
      "model_module_version": "1.4.0",
      "model_name": "HTMLModel",
      "state": {
       "layout": "IPY_MODEL_33f6880a06944d4593ce5ee610b53358",
       "style": "IPY_MODEL_112b677807a646d9b9f2faa1661a0a5b",
       "value": "<b>3</b>)&nbsp;&nbsp;"
      }
     },
     "13a205c5cdf64e5590aa72edb039ddb0": {
      "model_module": "@jupyter-widgets/controls",
      "model_module_version": "1.4.0",
      "model_name": "HTMLModel",
      "state": {
       "layout": "IPY_MODEL_8d409faa9fe444b199e38887dc4736a2",
       "style": "IPY_MODEL_02afb5704be64189935e9f734a127f27",
       "value": "<img src=\"questions/qiskitintro_images/2.png\">"
      }
     },
     "13a4f133dfad4decaaa8d429337e1f33": {
      "model_module": "@jupyter-widgets/controls",
      "model_module_version": "1.4.0",
      "model_name": "HTMLModel",
      "state": {
       "layout": "IPY_MODEL_55af981708eb415b8c1bb32536c6bf89",
       "style": "IPY_MODEL_b68e279400224331beef21522e714e7b",
       "value": "<b>1</b>)&nbsp;&nbsp;"
      }
     },
     "13b1ab32fd5d41eab589e14272a22f3a": {
      "model_module": "@jupyter-widgets/base",
      "model_module_version": "1.1.0",
      "model_name": "LayoutModel",
      "state": {}
     },
     "13c8cc05cadb454bafa6077c564a51f7": {
      "model_module": "@jupyter-widgets/controls",
      "model_module_version": "1.4.0",
      "model_name": "VBoxModel",
      "state": {
       "children": [
        "IPY_MODEL_772ceca390974639b8011c44221d840e",
        "IPY_MODEL_09a7d3298efb4a23bc971fc8d5853e7b"
       ],
       "layout": "IPY_MODEL_4edddcf72cf042b7b498287155cb213b"
      }
     },
     "13f70bc1ea4b4e7baa1f0021d17cc86e": {
      "model_module": "@jupyter-widgets/base",
      "model_module_version": "1.1.0",
      "model_name": "LayoutModel",
      "state": {}
     },
     "140da0954620492397fa4a3ff16c5fdd": {
      "model_module": "@jupyter-widgets/controls",
      "model_module_version": "1.4.0",
      "model_name": "HTMLModel",
      "state": {
       "layout": "IPY_MODEL_d44e68c580bc40d285b3b242ede84801",
       "style": "IPY_MODEL_928ed63bc57b4b3098cb3460500a54d2",
       "value": "<b>5</b>)&nbsp;&nbsp;"
      }
     },
     "140dbfbc2ad647b49210d5ffb98fdd85": {
      "model_module": "@jupyter-widgets/base",
      "model_module_version": "1.1.0",
      "model_name": "LayoutModel",
      "state": {}
     },
     "140e5c56586f47bb8f9d95c206cb8dab": {
      "model_module": "@jupyter-widgets/controls",
      "model_module_version": "1.4.0",
      "model_name": "ButtonStyleModel",
      "state": {}
     },
     "1422094eddb34c679cd8d571f4618c48": {
      "model_module": "@jupyter-widgets/controls",
      "model_module_version": "1.4.0",
      "model_name": "ButtonStyleModel",
      "state": {}
     },
     "1430af4868294651b4906b2c878fd176": {
      "model_module": "@jupyter-widgets/controls",
      "model_module_version": "1.4.0",
      "model_name": "DescriptionStyleModel",
      "state": {
       "description_width": ""
      }
     },
     "14984f6867034af592df4976cc831cff": {
      "model_module": "@jupyter-widgets/output",
      "model_module_version": "1.0.0",
      "model_name": "OutputModel",
      "state": {
       "layout": "IPY_MODEL_6f21e672d9b64bcf86ccf67dca9e5089"
      }
     },
     "14bb2e28c039478b835a54fb3124f2ea": {
      "model_module": "@jupyter-widgets/controls",
      "model_module_version": "1.4.0",
      "model_name": "HTMLModel",
      "state": {
       "layout": "IPY_MODEL_c4b3b158e3ad4868b4ada9547774b026",
       "style": "IPY_MODEL_a675c0070bfe466e95e29bf551cf40cc",
       "value": "<b>1</b>)&nbsp;&nbsp;"
      }
     },
     "14c64b2ddb5d485db36ae6923303a519": {
      "model_module": "@jupyter-widgets/base",
      "model_module_version": "1.1.0",
      "model_name": "LayoutModel",
      "state": {
       "visibility": "hidden"
      }
     },
     "14db0177a70248758612c92b0ee7f669": {
      "model_module": "@jupyter-widgets/controls",
      "model_module_version": "1.4.0",
      "model_name": "ButtonModel",
      "state": {
       "description": "3",
       "layout": "IPY_MODEL_ba24fb7cee7e487cb7e292d9d170dfd6",
       "style": "IPY_MODEL_09223c1a11fe43b984afcb7215f4d3e6"
      }
     },
     "14f2185580784ac2a30d98c5f40001fa": {
      "model_module": "@jupyter-widgets/base",
      "model_module_version": "1.1.0",
      "model_name": "LayoutModel",
      "state": {}
     },
     "1551492ac9e64c18ac39bdf664cbfb89": {
      "model_module": "@jupyter-widgets/controls",
      "model_module_version": "1.4.0",
      "model_name": "HBoxModel",
      "state": {
       "children": [
        "IPY_MODEL_cd8657e6267d483cb8b1175e49a3e068",
        "IPY_MODEL_5de5019855db4c3c8a8b451e48f5e615"
       ],
       "layout": "IPY_MODEL_68ab189c89634ddf9d246af3f53dc80f"
      }
     },
     "1564745ac59a4469a565c37a2bd25f1a": {
      "model_module": "@jupyter-widgets/base",
      "model_module_version": "1.1.0",
      "model_name": "LayoutModel",
      "state": {}
     },
     "1587e1c0f3b64eb8916fcb84414f5482": {
      "model_module": "@jupyter-widgets/controls",
      "model_module_version": "1.4.0",
      "model_name": "HBoxModel",
      "state": {
       "children": [
        "IPY_MODEL_45c5fde87c7a4f509e79abd2dec16c61",
        "IPY_MODEL_939eed59720f4c97b2ac0ad2158c8698"
       ],
       "layout": "IPY_MODEL_317ceeba3e3b466f85fdc175cb2e9c56"
      }
     },
     "15a95ba39d5549429cfc7e606ab713a7": {
      "model_module": "@jupyter-widgets/base",
      "model_module_version": "1.1.0",
      "model_name": "LayoutModel",
      "state": {}
     },
     "15b66e56f69c46578f532e0012bc0af1": {
      "model_module": "@jupyter-widgets/controls",
      "model_module_version": "1.4.0",
      "model_name": "DescriptionStyleModel",
      "state": {
       "description_width": ""
      }
     },
     "15c0ef5da1844ad9a031f239e6ec6bc1": {
      "model_module": "@jupyter-widgets/controls",
      "model_module_version": "1.4.0",
      "model_name": "HBoxModel",
      "state": {
       "children": [
        "IPY_MODEL_c4711cfe7d554eee9f9e719d8b4bae25",
        "IPY_MODEL_c798667528dd4e45b25a84fde2697365",
        "IPY_MODEL_eaf1504afb4443a1a0f243c4f0b84ae4"
       ],
       "layout": "IPY_MODEL_b0dc4da0748a48b39b6ba77de3856138"
      }
     },
     "15e538fcf1834af6bd2e0708f552df97": {
      "model_module": "@jupyter-widgets/base",
      "model_module_version": "1.1.0",
      "model_name": "LayoutModel",
      "state": {}
     },
     "15fef8ecaaaf4aaa854f48bbbe29e24c": {
      "model_module": "@jupyter-widgets/controls",
      "model_module_version": "1.4.0",
      "model_name": "HBoxModel",
      "state": {
       "children": [
        "IPY_MODEL_13a4f133dfad4decaaa8d429337e1f33",
        "IPY_MODEL_2f2b13b5b126461698b7eb980a1b10b3"
       ],
       "layout": "IPY_MODEL_18b38ca912824b698a3808ae2d33afe6"
      }
     },
     "1605966423f441369b96a1cdd3ec01c1": {
      "model_module": "@jupyter-widgets/base",
      "model_module_version": "1.1.0",
      "model_name": "LayoutModel",
      "state": {}
     },
     "162e96c39ed54435b68443b332ed376a": {
      "model_module": "@jupyter-widgets/controls",
      "model_module_version": "1.4.0",
      "model_name": "ButtonStyleModel",
      "state": {}
     },
     "1636b5134b9f4d0c9ed7a1dff4fc24fb": {
      "model_module": "@jupyter-widgets/controls",
      "model_module_version": "1.4.0",
      "model_name": "HTMLModel",
      "state": {
       "layout": "IPY_MODEL_535306f135f747cb89e978831f2dc91a",
       "style": "IPY_MODEL_b9b7fa2fd46d4b34bfce4b5b035a9c8d",
       "value": "<b>5</b>)&nbsp;&nbsp;"
      }
     },
     "165f524011754778925ad90a1add620e": {
      "model_module": "@jupyter-widgets/controls",
      "model_module_version": "1.4.0",
      "model_name": "DescriptionStyleModel",
      "state": {
       "description_width": ""
      }
     },
     "16736b707c8b4396b68bbfa7880fdcbb": {
      "model_module": "@jupyter-widgets/controls",
      "model_module_version": "1.4.0",
      "model_name": "DescriptionStyleModel",
      "state": {
       "description_width": ""
      }
     },
     "17005190495f4113ac1cf81930de1f63": {
      "model_module": "@jupyter-widgets/controls",
      "model_module_version": "1.4.0",
      "model_name": "HBoxModel",
      "state": {
       "children": [
        "IPY_MODEL_19a1ce27754445b1972a5c577cbc94df",
        "IPY_MODEL_513b4db4654e4d13867fa04986dec7cc"
       ],
       "layout": "IPY_MODEL_0173febb4fe446a2be514524e262b32b"
      }
     },
     "170170580cc24deeba732023ffa7af3f": {
      "model_module": "@jupyter-widgets/controls",
      "model_module_version": "1.4.0",
      "model_name": "HTMLModel",
      "state": {
       "layout": "IPY_MODEL_b18a75eb03f347fd864b824d43ec8d9d",
       "style": "IPY_MODEL_c1a31c5cd3354c95a7715922e0dadd27",
       "value": "6"
      }
     },
     "1710e52e402145c6a31f12a02bf7d354": {
      "model_module": "@jupyter-widgets/base",
      "model_module_version": "1.1.0",
      "model_name": "LayoutModel",
      "state": {
       "visibility": "hidden"
      }
     },
     "17278b87e25749f58f93bf6b98a8b9b4": {
      "model_module": "@jupyter-widgets/controls",
      "model_module_version": "1.4.0",
      "model_name": "HBoxModel",
      "state": {
       "children": [
        "IPY_MODEL_9ef9498682a74c059a9c64b958ce6137",
        "IPY_MODEL_c5921ba328634aa9ab88882077a007ee"
       ],
       "layout": "IPY_MODEL_c8388b2319154d3f8f767e1368fde337"
      }
     },
     "175687e418ac448d9e2c8c787789da60": {
      "model_module": "@jupyter-widgets/base",
      "model_module_version": "1.1.0",
      "model_name": "LayoutModel",
      "state": {}
     },
     "1760ec303c7f4432a1c5094ee522746d": {
      "model_module": "@jupyter-widgets/controls",
      "model_module_version": "1.4.0",
      "model_name": "HBoxModel",
      "state": {
       "children": [
        "IPY_MODEL_cdc82e5a86824cf1a290fe9f7d148d1f",
        "IPY_MODEL_7e082bab4bd64d7fb9b8cfdde8cf987d"
       ],
       "layout": "IPY_MODEL_082708137b7c42998b978e6b257c488e"
      }
     },
     "17824c50f6c84856aee96d32415faf32": {
      "model_module": "@jupyter-widgets/base",
      "model_module_version": "1.1.0",
      "model_name": "LayoutModel",
      "state": {}
     },
     "17a3486c81a348d297bf6c27892b17e7": {
      "model_module": "@jupyter-widgets/base",
      "model_module_version": "1.1.0",
      "model_name": "LayoutModel",
      "state": {}
     },
     "17c2d23c55ea457bb1e355855873aaad": {
      "model_module": "@jupyter-widgets/controls",
      "model_module_version": "1.4.0",
      "model_name": "HTMLModel",
      "state": {
       "layout": "IPY_MODEL_83345fc6bf1048a5b3ae8e998e582777",
       "style": "IPY_MODEL_72d271ed679a48989c083d8b7f70affb",
       "value": "<b>4</b>)&nbsp;&nbsp;"
      }
     },
     "17dc0034b84744eb8bcd48204cbe7b5d": {
      "model_module": "@jupyter-widgets/controls",
      "model_module_version": "1.4.0",
      "model_name": "HBoxModel",
      "state": {
       "children": [
        "IPY_MODEL_a64cae784dbe427ba48a4fe00c7a41bc",
        "IPY_MODEL_6da0ff66188e4c05b34256cc14707536"
       ],
       "layout": "IPY_MODEL_646fb6082a4f4b4388fdb93be65f1cf2"
      }
     },
     "1834851b615a442e95e8243bb17e1117": {
      "model_module": "@jupyter-widgets/controls",
      "model_module_version": "1.4.0",
      "model_name": "HTMLModel",
      "state": {
       "layout": "IPY_MODEL_a65ce514ef26445387bf74a7356fc2ca",
       "style": "IPY_MODEL_d73c9c82cfbc422caddd6aeb34a4cde1",
       "value": "15"
      }
     },
     "18467f2ccc874683b2ea9f688216c11a": {
      "model_module": "@jupyter-widgets/controls",
      "model_module_version": "1.4.0",
      "model_name": "ButtonModel",
      "state": {
       "description": "Results",
       "layout": "IPY_MODEL_ee315802aae54ec1aa5f4896516f1ce7",
       "style": "IPY_MODEL_f833afd9c49242ef8bebc191a15adb30"
      }
     },
     "187f23ae96b247a8b228e75901cc1aa2": {
      "model_module": "@jupyter-widgets/controls",
      "model_module_version": "1.4.0",
      "model_name": "HTMLModel",
      "state": {
       "layout": "IPY_MODEL_eb21daa39499430f9ba7d60d217637a2",
       "style": "IPY_MODEL_70279ce181364fd78659c82d7d8dcda2",
       "value": "<h1><h4>What is the output of the following circuit?<br/><br/><h4> <img align=\"middle\" src=\"gates_images/hx0.png\" width=300px><br/></h1>"
      }
     },
     "18873b57efa1445898eebcfd37442a33": {
      "model_module": "@jupyter-widgets/base",
      "model_module_version": "1.1.0",
      "model_name": "LayoutModel",
      "state": {}
     },
     "189da4e64d434d0cbd168d4904783dbc": {
      "model_module": "@jupyter-widgets/base",
      "model_module_version": "1.1.0",
      "model_name": "LayoutModel",
      "state": {}
     },
     "18a8821a83d048b79d20bc98114c9a75": {
      "model_module": "@jupyter-widgets/base",
      "model_module_version": "1.1.0",
      "model_name": "LayoutModel",
      "state": {}
     },
     "18b1fa908a4d4bea8afad670c5681749": {
      "model_module": "@jupyter-widgets/controls",
      "model_module_version": "1.4.0",
      "model_name": "VBoxModel",
      "state": {
       "children": [
        "IPY_MODEL_e4e989404c40472c995611c84b5a300c",
        "IPY_MODEL_1cf14440d8114d0b95e173ba21e0a514"
       ],
       "layout": "IPY_MODEL_ee796b89f10943efb6a52f276a34ccaf"
      }
     },
     "18b38ca912824b698a3808ae2d33afe6": {
      "model_module": "@jupyter-widgets/base",
      "model_module_version": "1.1.0",
      "model_name": "LayoutModel",
      "state": {
       "visibility": "visible"
      }
     },
     "18f96313567e4d0283110e48955aaf12": {
      "model_module": "@jupyter-widgets/base",
      "model_module_version": "1.1.0",
      "model_name": "LayoutModel",
      "state": {}
     },
     "191117b7adf749f18957c03e1f41d282": {
      "model_module": "@jupyter-widgets/controls",
      "model_module_version": "1.4.0",
      "model_name": "HBoxModel",
      "state": {
       "children": [
        "IPY_MODEL_338d7d089e0d4f1f8e37f836cc02c2c0",
        "IPY_MODEL_76b8535d859d4af9af28cc03b6fd977f"
       ],
       "layout": "IPY_MODEL_76c6ea12651145c9a6eb2ae874246b02"
      }
     },
     "191999d913574482869d29bcb01ec2b3": {
      "model_module": "@jupyter-widgets/controls",
      "model_module_version": "1.4.0",
      "model_name": "DescriptionStyleModel",
      "state": {
       "description_width": ""
      }
     },
     "193c0144442c460aa1494ac32ffb9e0f": {
      "model_module": "@jupyter-widgets/controls",
      "model_module_version": "1.4.0",
      "model_name": "DescriptionStyleModel",
      "state": {
       "description_width": ""
      }
     },
     "1981890c00e243e195f9932176330636": {
      "model_module": "@jupyter-widgets/controls",
      "model_module_version": "1.4.0",
      "model_name": "DescriptionStyleModel",
      "state": {
       "description_width": ""
      }
     },
     "19941b6fbd0148a2bfbee601e5a26802": {
      "model_module": "@jupyter-widgets/base",
      "model_module_version": "1.1.0",
      "model_name": "LayoutModel",
      "state": {}
     },
     "19a1ce27754445b1972a5c577cbc94df": {
      "model_module": "@jupyter-widgets/controls",
      "model_module_version": "1.4.0",
      "model_name": "VBoxModel",
      "state": {
       "children": [
        "IPY_MODEL_78cddfac73e64ce19a216f58fa1771e3",
        "IPY_MODEL_202e0a2183ba45f1b5adc5314c470ed4",
        "IPY_MODEL_8dde502369964f82898c952b77fe5d37",
        "IPY_MODEL_e9e376efdc824ab192780be924fb9880",
        "IPY_MODEL_528e31adb31749cca7215bd0478ec29e",
        "IPY_MODEL_b3039c07d94b4c4b9cf54aaa5292888a",
        "IPY_MODEL_bb17c68ecea94f37b7d8df953a17190d",
        "IPY_MODEL_ea0a601aacc842e19dbb109459eed0b9",
        "IPY_MODEL_1f3034e56bf44b1c9ba06c7c42c80d27"
       ],
       "layout": "IPY_MODEL_71df737646f04cf7a1d22908ce5880fe"
      }
     },
     "19fc0e7bf31047de92f6367d95cea25c": {
      "model_module": "@jupyter-widgets/controls",
      "model_module_version": "1.4.0",
      "model_name": "ButtonStyleModel",
      "state": {}
     },
     "19fcc709082842ef830b94f622499816": {
      "model_module": "@jupyter-widgets/controls",
      "model_module_version": "1.4.0",
      "model_name": "HTMLModel",
      "state": {
       "layout": "IPY_MODEL_d65cd934f83d438aa7f762deef0a27c8",
       "style": "IPY_MODEL_cb1842377b60462f8701ac105072c1ca",
       "value": "<b>2</b>)&nbsp;&nbsp;"
      }
     },
     "1a0c953ca5094bcc98758382e58c842c": {
      "model_module": "@jupyter-widgets/base",
      "model_module_version": "1.1.0",
      "model_name": "LayoutModel",
      "state": {}
     },
     "1a17e3c751664ec184a457502fe021bc": {
      "model_module": "@jupyter-widgets/controls",
      "model_module_version": "1.4.0",
      "model_name": "HTMLModel",
      "state": {
       "layout": "IPY_MODEL_bea092b00cd54d289a4d8e3abc5de332",
       "style": "IPY_MODEL_666cc9674b8e4113b694cfcf9f971a0a",
       "value": "<b>1</b>)&nbsp;&nbsp;"
      }
     },
     "1a311cc66f094348baed273c25b09a1b": {
      "model_module": "@jupyter-widgets/controls",
      "model_module_version": "1.4.0",
      "model_name": "HBoxModel",
      "state": {
       "children": [
        "IPY_MODEL_401f31dffe6643feaaad7e5a666dc9dd",
        "IPY_MODEL_7bc2612e05c1480093d09e3926e2a1ca",
        "IPY_MODEL_8edbae6c22d14219abc4b3608976730c"
       ],
       "layout": "IPY_MODEL_061e7bae65e74908bbb448e8d60dff16"
      }
     },
     "1a4521e3cf1c402b87fdf2f9bd79986a": {
      "model_module": "@jupyter-widgets/base",
      "model_module_version": "1.1.0",
      "model_name": "LayoutModel",
      "state": {}
     },
     "1a5c4ad5a033413da00c740c970a7157": {
      "model_module": "@jupyter-widgets/controls",
      "model_module_version": "1.4.0",
      "model_name": "VBoxModel",
      "state": {
       "children": [
        "IPY_MODEL_9233a139b275415382248d463a00ff14",
        "IPY_MODEL_1be1a3c339594199884aa04180dd3657"
       ],
       "layout": "IPY_MODEL_68cc85259887469896e69d99d0abda39"
      }
     },
     "1a83a418cf584d91aba898bba42e44d6": {
      "model_module": "@jupyter-widgets/controls",
      "model_module_version": "1.4.0",
      "model_name": "ButtonModel",
      "state": {
       "description": "3",
       "layout": "IPY_MODEL_b7a5d13b1e314a7c845ac6e7ec1d6fce",
       "style": "IPY_MODEL_7322ee89f0d045d1ba828ea04836e695"
      }
     },
     "1aa57a8efb224047bf5d378ed0473d3d": {
      "model_module": "@jupyter-widgets/base",
      "model_module_version": "1.1.0",
      "model_name": "LayoutModel",
      "state": {}
     },
     "1aa889c8b5104163a850c518f971db91": {
      "model_module": "@jupyter-widgets/base",
      "model_module_version": "1.1.0",
      "model_name": "LayoutModel",
      "state": {
       "visibility": "visible"
      }
     },
     "1ab5734bd6c64dabafb5202431071973": {
      "model_module": "@jupyter-widgets/controls",
      "model_module_version": "1.4.0",
      "model_name": "ButtonStyleModel",
      "state": {}
     },
     "1ac8eeda78434d3f98e59558395aafe7": {
      "model_module": "@jupyter-widgets/base",
      "model_module_version": "1.1.0",
      "model_name": "LayoutModel",
      "state": {
       "margin": "20px",
       "visibility": "visible"
      }
     },
     "1acff384a65f4759a276e2a797ed4422": {
      "model_module": "@jupyter-widgets/base",
      "model_module_version": "1.1.0",
      "model_name": "LayoutModel",
      "state": {
       "margin": "20px",
       "visibility": "visible"
      }
     },
     "1b3294ecda9e4685922efef151f3ad7b": {
      "model_module": "@jupyter-widgets/controls",
      "model_module_version": "1.4.0",
      "model_name": "ButtonModel",
      "state": {
       "description": "2",
       "layout": "IPY_MODEL_276ba45a11e4426aa6e12ea99b3fa9b9",
       "style": "IPY_MODEL_b0ffbc3251a144cb8109255d8e9b2b14"
      }
     },
     "1b49e33d49ba44de9279001499f4af35": {
      "model_module": "@jupyter-widgets/controls",
      "model_module_version": "1.4.0",
      "model_name": "ButtonModel",
      "state": {
       "description": "5",
       "layout": "IPY_MODEL_4832b6713aea499aa21ed175244fdcdc",
       "style": "IPY_MODEL_9802e5ec52914acbb9a0e3c0d7130092"
      }
     },
     "1b5f4993595049299b320b3acddae798": {
      "model_module": "@jupyter-widgets/controls",
      "model_module_version": "1.4.0",
      "model_name": "HTMLModel",
      "state": {
       "layout": "IPY_MODEL_b83e6a5bf51a469788b168a8000b6362",
       "style": "IPY_MODEL_d790dfb705704da4b99d30dd7d011b8c",
       "value": "\n        <pre>\nqc1 = QuantumCircuit(3,1)\nif a=='1':\n    q1.x(0)\nif b=='1':\n    qc1.x(1)\nqc1.x(0)\nqc1.x(1)\nqc1.ccx(0,1,2)\nqc1.x(2)\nqc1.measure(2,0)\n\nqc1.draw()\n        </pre>\n        "
      }
     },
     "1b81cc4f7cf545e7a8b1e4e84dcb571e": {
      "model_module": "@jupyter-widgets/controls",
      "model_module_version": "1.4.0",
      "model_name": "HTMLModel",
      "state": {
       "layout": "IPY_MODEL_77452137e9744b38b7ae4565f4c5e479",
       "style": "IPY_MODEL_57c320eb4e7c4162bcb79d156ef09f23",
       "value": "<p><b>Question ID</b>: 1</p>"
      }
     },
     "1b865c99889a40808fd827fbdd180d6e": {
      "model_module": "@jupyter-widgets/controls",
      "model_module_version": "1.4.0",
      "model_name": "ButtonStyleModel",
      "state": {}
     },
     "1bc0c4769b314be1bf31166da1a64578": {
      "model_module": "@jupyter-widgets/base",
      "model_module_version": "1.1.0",
      "model_name": "LayoutModel",
      "state": {
       "visibility": "visible"
      }
     },
     "1be1a3c339594199884aa04180dd3657": {
      "model_module": "@jupyter-widgets/output",
      "model_module_version": "1.0.0",
      "model_name": "OutputModel",
      "state": {
       "layout": "IPY_MODEL_49d3959aaa8b423e9f9a39d0dacd45aa"
      }
     },
     "1beb173957ce48bea7ecb7ed07b022ba": {
      "model_module": "@jupyter-widgets/base",
      "model_module_version": "1.1.0",
      "model_name": "LayoutModel",
      "state": {}
     },
     "1c1a739e630b45359997aad350779a12": {
      "model_module": "@jupyter-widgets/controls",
      "model_module_version": "1.4.0",
      "model_name": "HBoxModel",
      "state": {
       "children": [
        "IPY_MODEL_79c699f7dd8a4daebe1b0acb4c9e4b69",
        "IPY_MODEL_c93262f138cd403b98f8dd0f27f223ef"
       ],
       "layout": "IPY_MODEL_122a566fa24f460bbe9fd583aee8a725"
      }
     },
     "1c2e22230d9340599c292a2579ad024f": {
      "model_module": "@jupyter-widgets/base",
      "model_module_version": "1.1.0",
      "model_name": "LayoutModel",
      "state": {}
     },
     "1c4849b61e924895ab6ae14180bf1779": {
      "model_module": "@jupyter-widgets/controls",
      "model_module_version": "1.4.0",
      "model_name": "DescriptionStyleModel",
      "state": {
       "description_width": ""
      }
     },
     "1c86f013780e4368b3e0d4705772fc36": {
      "model_module": "@jupyter-widgets/controls",
      "model_module_version": "1.4.0",
      "model_name": "HBoxModel",
      "state": {
       "children": [
        "IPY_MODEL_f86f91f9245647ff84659a5c59c17bdb",
        "IPY_MODEL_f034b7a557c14dbfa94844132a44bb6f",
        "IPY_MODEL_ef1ab633868f46579f7a30b8e81a9490"
       ],
       "layout": "IPY_MODEL_775aeb1cac774870a1f6ad17de72a4b4"
      }
     },
     "1ca8ce30269048ccb689e8a539a683da": {
      "model_module": "@jupyter-widgets/base",
      "model_module_version": "1.1.0",
      "model_name": "LayoutModel",
      "state": {}
     },
     "1caae48e8f0c429591a98ef39bb040b7": {
      "model_module": "@jupyter-widgets/controls",
      "model_module_version": "1.4.0",
      "model_name": "DescriptionStyleModel",
      "state": {
       "description_width": ""
      }
     },
     "1cb1a030832343e38a096332e188d648": {
      "model_module": "@jupyter-widgets/controls",
      "model_module_version": "1.4.0",
      "model_name": "DescriptionStyleModel",
      "state": {
       "description_width": ""
      }
     },
     "1cb7123a60de44cf91b986c090c57a26": {
      "model_module": "@jupyter-widgets/base",
      "model_module_version": "1.1.0",
      "model_name": "LayoutModel",
      "state": {}
     },
     "1cbc504d055a493fa74639d4fab55180": {
      "model_module": "@jupyter-widgets/controls",
      "model_module_version": "1.4.0",
      "model_name": "ButtonStyleModel",
      "state": {}
     },
     "1cc5491641ec4de8a2837b4523a5aec6": {
      "model_module": "@jupyter-widgets/base",
      "model_module_version": "1.1.0",
      "model_name": "LayoutModel",
      "state": {}
     },
     "1cdafb9a9d954741a83e4efb7601fa14": {
      "model_module": "@jupyter-widgets/controls",
      "model_module_version": "1.4.0",
      "model_name": "ButtonModel",
      "state": {
       "description": "Next",
       "layout": "IPY_MODEL_49bd8416feb64bedb0abef69b556c124",
       "style": "IPY_MODEL_0f7ea49f39324121baa33ccb2d604889"
      }
     },
     "1cdd8fb82ef24f80bdd779d261318f02": {
      "model_module": "@jupyter-widgets/base",
      "model_module_version": "1.1.0",
      "model_name": "LayoutModel",
      "state": {
       "margin": "20px",
       "visibility": "visible"
      }
     },
     "1cf14440d8114d0b95e173ba21e0a514": {
      "model_module": "@jupyter-widgets/output",
      "model_module_version": "1.0.0",
      "model_name": "OutputModel",
      "state": {
       "layout": "IPY_MODEL_95a8d6e5fa304c1fab830fc8e1ac74c3"
      }
     },
     "1d2990ec9025413697fc5a894c636e7b": {
      "model_module": "@jupyter-widgets/controls",
      "model_module_version": "1.4.0",
      "model_name": "ButtonStyleModel",
      "state": {}
     },
     "1d468d6e096642ef959aa6cdf04a746b": {
      "model_module": "@jupyter-widgets/base",
      "model_module_version": "1.1.0",
      "model_name": "LayoutModel",
      "state": {}
     },
     "1d518fb811464341aabeaf27718ee8d4": {
      "model_module": "@jupyter-widgets/controls",
      "model_module_version": "1.4.0",
      "model_name": "DescriptionStyleModel",
      "state": {
       "description_width": ""
      }
     },
     "1d5772c54af240eca5741f7a089bdd42": {
      "model_module": "@jupyter-widgets/controls",
      "model_module_version": "1.4.0",
      "model_name": "HTMLModel",
      "state": {
       "layout": "IPY_MODEL_469bc493a650410a804b1dab8072e4c7",
       "style": "IPY_MODEL_8eefa0150d6a482bb7562f5f563b850e",
       "value": "<img src=\"http://latex.codecogs.com/svg.latex?\\frac{\\vert0\\rangle+\\vert1\\rangle}{\\sqrt{2}}\" border=\"0\"/>"
      }
     },
     "1d692d25581e47d28df4dd254bc893cb": {
      "model_module": "@jupyter-widgets/controls",
      "model_module_version": "1.4.0",
      "model_name": "ButtonModel",
      "state": {
       "description": "Results",
       "layout": "IPY_MODEL_7008fee75497450a9d799057697795e7",
       "style": "IPY_MODEL_b1af13ecd77245a691d836ca40c540ce"
      }
     },
     "1d7254af63cd4738a2771e8129bbf157": {
      "model_module": "@jupyter-widgets/controls",
      "model_module_version": "1.4.0",
      "model_name": "HBoxModel",
      "state": {
       "children": [
        "IPY_MODEL_082bf9e5f42d4c87a1fb0ad29e4cfa31",
        "IPY_MODEL_fc95be33e7f64b0597bbe05d16a28b21"
       ],
       "layout": "IPY_MODEL_8c88738d306149c8be44514147483d8f"
      }
     },
     "1dea2fef84194d26a0c61bb1e8a7c575": {
      "model_module": "@jupyter-widgets/controls",
      "model_module_version": "1.4.0",
      "model_name": "DescriptionStyleModel",
      "state": {
       "description_width": ""
      }
     },
     "1e503de2af0248558edde1c77469e5a4": {
      "model_module": "@jupyter-widgets/controls",
      "model_module_version": "1.4.0",
      "model_name": "ButtonModel",
      "state": {
       "description": "3",
       "layout": "IPY_MODEL_f42408ea9af2485990b88968239a232a",
       "style": "IPY_MODEL_1b865c99889a40808fd827fbdd180d6e"
      }
     },
     "1e5b5e96ee3c498197ab9627f307711f": {
      "model_module": "@jupyter-widgets/base",
      "model_module_version": "1.1.0",
      "model_name": "LayoutModel",
      "state": {}
     },
     "1ec8414fd5d0418ab9956b36f0bbf847": {
      "model_module": "@jupyter-widgets/base",
      "model_module_version": "1.1.0",
      "model_name": "LayoutModel",
      "state": {}
     },
     "1ed378ec6023434ca878c5cb26587e09": {
      "model_module": "@jupyter-widgets/base",
      "model_module_version": "1.1.0",
      "model_name": "LayoutModel",
      "state": {}
     },
     "1f07d0e89f0e4823ac144800042009d3": {
      "model_module": "@jupyter-widgets/controls",
      "model_module_version": "1.4.0",
      "model_name": "HTMLModel",
      "state": {
       "layout": "IPY_MODEL_e29608fb29314235ab4e2f74d0075605",
       "style": "IPY_MODEL_b58586bd5d634cc8aef641b374da5a57"
      }
     },
     "1f0af738144047549fb815e137ea74f1": {
      "model_module": "@jupyter-widgets/base",
      "model_module_version": "1.1.0",
      "model_name": "LayoutModel",
      "state": {}
     },
     "1f1a7cb900aa412686f793408f27173c": {
      "model_module": "@jupyter-widgets/base",
      "model_module_version": "1.1.0",
      "model_name": "LayoutModel",
      "state": {}
     },
     "1f295cc6e9054d3396177f885507247e": {
      "model_module": "@jupyter-widgets/controls",
      "model_module_version": "1.4.0",
      "model_name": "DescriptionStyleModel",
      "state": {
       "description_width": ""
      }
     },
     "1f3034e56bf44b1c9ba06c7c42c80d27": {
      "model_module": "@jupyter-widgets/controls",
      "model_module_version": "1.4.0",
      "model_name": "HBoxModel",
      "state": {
       "children": [
        "IPY_MODEL_5e50bb0266a94cefb629670cb6a6e334",
        "IPY_MODEL_6d6a865dbe8d4b0cae326b546eb755bf",
        "IPY_MODEL_28c778e1f6a64636b2892c1023fb1b7f"
       ],
       "layout": "IPY_MODEL_f35584cf15924753bfac77b93afc171d"
      }
     },
     "1f481c878617436192d22910000bcb7c": {
      "model_module": "@jupyter-widgets/base",
      "model_module_version": "1.1.0",
      "model_name": "LayoutModel",
      "state": {
       "margin": "20px",
       "visibility": "visible"
      }
     },
     "1f6e51642e724adb9b925c3749b4cd10": {
      "model_module": "@jupyter-widgets/base",
      "model_module_version": "1.1.0",
      "model_name": "LayoutModel",
      "state": {}
     },
     "1f87cea142ce4e4e995d84c33cb475ee": {
      "model_module": "@jupyter-widgets/controls",
      "model_module_version": "1.4.0",
      "model_name": "ButtonModel",
      "state": {
       "description": "3",
       "layout": "IPY_MODEL_c706d2ec4aa84e2b9fd8664cf0d05a59",
       "style": "IPY_MODEL_5b4a454851aa4af4ae739bd58b68c87c"
      }
     },
     "1f8ea43f32bd42538284b461fc651d07": {
      "model_module": "@jupyter-widgets/controls",
      "model_module_version": "1.4.0",
      "model_name": "HTMLModel",
      "state": {
       "layout": "IPY_MODEL_5fd6d39c5fa9420cb352d148a5eb5a19",
       "style": "IPY_MODEL_6429f3b3ec7d496ba764f4e2d23a9b01",
       "value": "None of the above"
      }
     },
     "1f92cd2bfb22452f883cca8a1a73baea": {
      "model_module": "@jupyter-widgets/base",
      "model_module_version": "1.1.0",
      "model_name": "LayoutModel",
      "state": {}
     },
     "1f966cd2a75242ec97d88c4c6d054896": {
      "model_module": "@jupyter-widgets/controls",
      "model_module_version": "1.4.0",
      "model_name": "HBoxModel",
      "state": {
       "children": [
        "IPY_MODEL_3379adb42acb4712856676579cfc0620",
        "IPY_MODEL_bfb4412de64e4b8ca15a5ba8b0397f80",
        "IPY_MODEL_6e3b6a363f004b6cb0e077e2fd3e9d3b"
       ],
       "layout": "IPY_MODEL_cb53c6e2a0a7453980242d1195dd10d6"
      }
     },
     "1fe12a1658514ca79b24de04c2a836eb": {
      "model_module": "@jupyter-widgets/base",
      "model_module_version": "1.1.0",
      "model_name": "LayoutModel",
      "state": {}
     },
     "202077af465040c594caba0c25bd344a": {
      "model_module": "@jupyter-widgets/controls",
      "model_module_version": "1.4.0",
      "model_name": "HBoxModel",
      "state": {
       "children": [
        "IPY_MODEL_60311fa8a45143faa7a460556668943e",
        "IPY_MODEL_af9e1a8c744e4574b59219f5529ec0fe"
       ],
       "layout": "IPY_MODEL_324fa675e5a245599baa7fb5c720e880"
      }
     },
     "202e0a2183ba45f1b5adc5314c470ed4": {
      "model_module": "@jupyter-widgets/controls",
      "model_module_version": "1.4.0",
      "model_name": "HTMLModel",
      "state": {
       "layout": "IPY_MODEL_0c54758fe0c24ac282f77c57fbf9d3fc",
       "style": "IPY_MODEL_fc69c5d9073145249ea2ccdb9cfda54a",
       "value": "<h1><h4>Consider the three-qubit quantum circuit below. What are the real and imaginary components of the state vector?<br/><br/><h4> <img align=\"middle\" src=\"questions/qiskitintro_images/question.png\" width=300px><br/></h1>"
      }
     },
     "205660d139a64d74b1e7d0d0debd11b5": {
      "model_module": "@jupyter-widgets/controls",
      "model_module_version": "1.4.0",
      "model_name": "DescriptionStyleModel",
      "state": {
       "description_width": ""
      }
     },
     "20764b34e7c149d3b4cffae933f038ce": {
      "model_module": "@jupyter-widgets/base",
      "model_module_version": "1.1.0",
      "model_name": "LayoutModel",
      "state": {}
     },
     "20fc6aec34714b439e36f19bb6f13ed6": {
      "model_module": "@jupyter-widgets/controls",
      "model_module_version": "1.4.0",
      "model_name": "DescriptionStyleModel",
      "state": {
       "description_width": ""
      }
     },
     "2116ae27da474797a066bcc69ea06295": {
      "model_module": "@jupyter-widgets/base",
      "model_module_version": "1.1.0",
      "model_name": "LayoutModel",
      "state": {
       "visibility": "visible"
      }
     },
     "2134d9051a7f4ef48d3aca8877e86e83": {
      "model_module": "@jupyter-widgets/controls",
      "model_module_version": "1.4.0",
      "model_name": "HTMLModel",
      "state": {
       "layout": "IPY_MODEL_365800f68eee447dae42f5b43b76f6ed",
       "style": "IPY_MODEL_47387fd4946248f885a5fe11718ed57f",
       "value": "<p><b>Question ID</b>: 1</p>"
      }
     },
     "2153992eefdb46d682ad80d631219eb6": {
      "model_module": "@jupyter-widgets/controls",
      "model_module_version": "1.4.0",
      "model_name": "HTMLModel",
      "state": {
       "layout": "IPY_MODEL_89b4eb1d356e422b931987b25bbf9ba2",
       "style": "IPY_MODEL_dbffa68fb6454d4dbce9ab798c77de48",
       "value": "Qubits in state <img src=\"http://latex.codecogs.com/svg.latex?\\vert1\\rangle\" border=\"0\"/> decay down to <img src=\"http://latex.codecogs.com/svg.latex?\\vert0\\rangle\" border=\"0\"/> before measurement. The decay times for both qubits are equal."
      }
     },
     "217c8d5f3f5c485f9bc7712a38420e76": {
      "model_module": "@jupyter-widgets/controls",
      "model_module_version": "1.4.0",
      "model_name": "VBoxModel",
      "state": {
       "children": [
        "IPY_MODEL_776d1796b4914897882cf80662700adf",
        "IPY_MODEL_22d9f42f6ad7486d89b3e6122c4c0991"
       ],
       "layout": "IPY_MODEL_3c6f14380ce641f0bf824609927cf04f"
      }
     },
     "2181ed0a24b64a6ca2b85e9a812ccefb": {
      "model_module": "@jupyter-widgets/controls",
      "model_module_version": "1.4.0",
      "model_name": "HTMLModel",
      "state": {
       "layout": "IPY_MODEL_e7d6e65cbadd40038cd4258409639463",
       "style": "IPY_MODEL_4c3ca69e4caa41d4b39dc9d228caafe9",
       "value": "<b>5</b>)&nbsp;&nbsp;"
      }
     },
     "21ae4e8d9f734a82aa164847cf1180fe": {
      "model_module": "@jupyter-widgets/controls",
      "model_module_version": "1.4.0",
      "model_name": "HTMLModel",
      "state": {
       "layout": "IPY_MODEL_d8edab111f6949f4a2bbe6cf83be5a46",
       "style": "IPY_MODEL_87c79c62e75442429806a8a54d6b98e8",
       "value": "<p><b>Question ID</b>: 1</p>"
      }
     },
     "21c717c35d304b22b7d05dc52653c661": {
      "model_module": "@jupyter-widgets/controls",
      "model_module_version": "1.4.0",
      "model_name": "DescriptionStyleModel",
      "state": {
       "description_width": ""
      }
     },
     "22140960ce0e4690b8f46f5614bf118d": {
      "model_module": "@jupyter-widgets/controls",
      "model_module_version": "1.4.0",
      "model_name": "ButtonModel",
      "state": {
       "description": "4",
       "layout": "IPY_MODEL_c57751f9b6084f26bd785dd5773941b7",
       "style": "IPY_MODEL_3fb0c9b45ec64fcc82a4096ffa15386e"
      }
     },
     "22346d3c682446e592f275c7b1e72d46": {
      "model_module": "@jupyter-widgets/base",
      "model_module_version": "1.1.0",
      "model_name": "LayoutModel",
      "state": {
       "visibility": "visible"
      }
     },
     "2257791f4ea94b879892c827ba933bfe": {
      "model_module": "@jupyter-widgets/base",
      "model_module_version": "1.1.0",
      "model_name": "LayoutModel",
      "state": {
       "visibility": "visible"
      }
     },
     "225895d804224ae7b643bc3c7a8e65cb": {
      "model_module": "@jupyter-widgets/controls",
      "model_module_version": "1.4.0",
      "model_name": "HTMLModel",
      "state": {
       "layout": "IPY_MODEL_fc05bc077c97469190df4219c61a8a07",
       "style": "IPY_MODEL_fc81499c51a143e49297fb8998c57762",
       "value": "<h1>\n       <h4>Understanding the calibration matrix<br/><br/></h4>\n<img src=\"ignis_images/calib.png\"> \n<h5>The image above shows the calibration matrix for two qubits. What kind of noise caused this?</h5>\n<h5>Remember that a short decay time means more of the noise can be expected to have happened.</h5>\n       </h1>"
      }
     },
     "226af35ce5764708b312dbb90eda66de": {
      "model_module": "@jupyter-widgets/controls",
      "model_module_version": "1.4.0",
      "model_name": "HBoxModel",
      "state": {
       "children": [
        "IPY_MODEL_ef3a72818e30430eb7e9248e170ce6f1",
        "IPY_MODEL_d776a7ee48a44840b95ce8fc46e16132",
        "IPY_MODEL_41b20b4d6a3a4fcd8318e0cce93cff79"
       ],
       "layout": "IPY_MODEL_0f967881eb154ac3b0bee369a930561d"
      }
     },
     "2279863f812c49138db289dfc09fd13f": {
      "model_module": "@jupyter-widgets/base",
      "model_module_version": "1.1.0",
      "model_name": "LayoutModel",
      "state": {}
     },
     "227d0a5ce0244ecaa75b67245e263082": {
      "model_module": "@jupyter-widgets/base",
      "model_module_version": "1.1.0",
      "model_name": "LayoutModel",
      "state": {
       "visibility": "visible"
      }
     },
     "22a724ee3cca4f30abdb80d6d2ccc1e1": {
      "model_module": "@jupyter-widgets/controls",
      "model_module_version": "1.4.0",
      "model_name": "ButtonModel",
      "state": {
       "description": "2",
       "layout": "IPY_MODEL_d23ed1530c0b4830a6197c880a037d15",
       "style": "IPY_MODEL_29a85000c5964545ad22f173de0032d5"
      }
     },
     "22bcb79871884680aa14f1250bcfa9db": {
      "model_module": "@jupyter-widgets/controls",
      "model_module_version": "1.4.0",
      "model_name": "ButtonStyleModel",
      "state": {}
     },
     "22c07463d2714b2a811181e3081e0dca": {
      "model_module": "@jupyter-widgets/controls",
      "model_module_version": "1.4.0",
      "model_name": "HTMLModel",
      "state": {
       "layout": "IPY_MODEL_eb7715f25f6040c2b138383355ba5639",
       "style": "IPY_MODEL_00809a0c047b4860a72ccc916f2c5b78"
      }
     },
     "22d9f42f6ad7486d89b3e6122c4c0991": {
      "model_module": "@jupyter-widgets/controls",
      "model_module_version": "1.4.0",
      "model_name": "HTMLModel",
      "state": {
       "layout": "IPY_MODEL_d99b1985b9bd418eac18c69dd452b970",
       "style": "IPY_MODEL_f81e1ed7174543eb85d049f7250a0796"
      }
     },
     "23112115a803447199f5beabf8021ce1": {
      "model_module": "@jupyter-widgets/controls",
      "model_module_version": "1.4.0",
      "model_name": "ButtonStyleModel",
      "state": {}
     },
     "23213301dfa44dd589bde59759b70f67": {
      "model_module": "@jupyter-widgets/controls",
      "model_module_version": "1.4.0",
      "model_name": "ButtonStyleModel",
      "state": {}
     },
     "23312ae318e34d82bf453d3e6a57351d": {
      "model_module": "@jupyter-widgets/base",
      "model_module_version": "1.1.0",
      "model_name": "LayoutModel",
      "state": {}
     },
     "2347411cd4784729b0d9794ada8b82cb": {
      "model_module": "@jupyter-widgets/controls",
      "model_module_version": "1.4.0",
      "model_name": "ButtonStyleModel",
      "state": {}
     },
     "2359cab091ee43f9806dcd03080f841d": {
      "model_module": "@jupyter-widgets/controls",
      "model_module_version": "1.4.0",
      "model_name": "DescriptionStyleModel",
      "state": {
       "description_width": ""
      }
     },
     "235e7a77c1204db3a9f840bfdd931373": {
      "model_module": "@jupyter-widgets/base",
      "model_module_version": "1.1.0",
      "model_name": "LayoutModel",
      "state": {}
     },
     "23825dac8fe349b6b4688bfae42b7a65": {
      "model_module": "@jupyter-widgets/controls",
      "model_module_version": "1.4.0",
      "model_name": "HTMLModel",
      "state": {
       "layout": "IPY_MODEL_4bdbf3e719af4d41b3f0ba5d38e6804d",
       "style": "IPY_MODEL_e17d81ffff344f23b365abdd36020906",
       "value": "<h1>\n       <h4>Which of the following could be the result of the following <samp>Aer</samp> simulation?<br/><br/></h4> \n<pre>\nqr = QuantumRegister(3, 'q')\ncr = ClassicalRegister(3, 'c')\ncirc = QuantumCircuit(qr, cr)\n\ncirc.h(qr[0])\ncirc.h(qr[1])\ncirc.cx(qr[0], qr[1])\ncirc.cx(qr[0], qr[2])\ncirc.measure(qr, cr)\n\nsimulator = Aer.get_backend('qasm_simulator')\n\nresult = execute(circ, simulator).result()\ncounts = result.get_counts(circ)\nplot_histogram(counts)\n\n</pre>\n       </h1>"
      }
     },
     "238b0d19310c4781af6a7492f5a87da5": {
      "model_module": "@jupyter-widgets/base",
      "model_module_version": "1.1.0",
      "model_name": "LayoutModel",
      "state": {}
     },
     "238bc7580b6b4a1f9ebe43102a61c7c2": {
      "model_module": "@jupyter-widgets/base",
      "model_module_version": "1.1.0",
      "model_name": "LayoutModel",
      "state": {
       "margin": "20px",
       "visibility": "visible"
      }
     },
     "239d2526474d402fb88b3e7f72a195ad": {
      "model_module": "@jupyter-widgets/base",
      "model_module_version": "1.1.0",
      "model_name": "LayoutModel",
      "state": {}
     },
     "239f5ea71db2441e85b41cc38a62d4f5": {
      "model_module": "@jupyter-widgets/base",
      "model_module_version": "1.1.0",
      "model_name": "LayoutModel",
      "state": {}
     },
     "23c8b18f1a0f46ac9bf3bc7d9bdca731": {
      "model_module": "@jupyter-widgets/controls",
      "model_module_version": "1.4.0",
      "model_name": "HTMLModel",
      "state": {
       "layout": "IPY_MODEL_51a072dd03fb402ab766b8a987655106",
       "style": "IPY_MODEL_cd48e1bd2dee4a4598a5a829f3df8e3e"
      }
     },
     "23d7c4152f62463f9737679d8b76f475": {
      "model_module": "@jupyter-widgets/base",
      "model_module_version": "1.1.0",
      "model_name": "LayoutModel",
      "state": {
       "visibility": "visible"
      }
     },
     "23ddf70788b641669f8364dd77c0ef86": {
      "model_module": "@jupyter-widgets/base",
      "model_module_version": "1.1.0",
      "model_name": "LayoutModel",
      "state": {}
     },
     "23f694cea5fa48ce8f30c37669df85c0": {
      "model_module": "@jupyter-widgets/base",
      "model_module_version": "1.1.0",
      "model_name": "LayoutModel",
      "state": {
       "visibility": "visible"
      }
     },
     "24104de650494b87902af41db141672a": {
      "model_module": "@jupyter-widgets/base",
      "model_module_version": "1.1.0",
      "model_name": "LayoutModel",
      "state": {}
     },
     "242839e7ecba457c8225792571e636cd": {
      "model_module": "@jupyter-widgets/controls",
      "model_module_version": "1.4.0",
      "model_name": "HTMLModel",
      "state": {
       "layout": "IPY_MODEL_1a0c953ca5094bcc98758382e58c842c",
       "style": "IPY_MODEL_62cdf4133dbb495d8ec0a932a61501bb",
       "value": "None of the above"
      }
     },
     "24abd5fd8d54431ea1800242332a7a96": {
      "model_module": "@jupyter-widgets/base",
      "model_module_version": "1.1.0",
      "model_name": "LayoutModel",
      "state": {
       "visibility": "hidden"
      }
     },
     "24dc9d63c3974e9d9361231096753a34": {
      "model_module": "@jupyter-widgets/controls",
      "model_module_version": "1.4.0",
      "model_name": "HTMLModel",
      "state": {
       "layout": "IPY_MODEL_66b81ac0edf245e8b5ac449133c04b2b",
       "style": "IPY_MODEL_3e39246d3188459c963c5429fdaa0076"
      }
     },
     "25125c1240ac4b819cddd3a63ba77500": {
      "model_module": "@jupyter-widgets/controls",
      "model_module_version": "1.4.0",
      "model_name": "HTMLModel",
      "state": {
       "layout": "IPY_MODEL_675a5eb69863475da4fac1a41cf23762",
       "style": "IPY_MODEL_020d274f9ab04ae997c58e8f5fc02723",
       "value": "<b>3</b>)&nbsp;&nbsp;"
      }
     },
     "2522ca22182e4cfda03c6622c45832d7": {
      "model_module": "@jupyter-widgets/base",
      "model_module_version": "1.1.0",
      "model_name": "LayoutModel",
      "state": {}
     },
     "252fe53635d24220b599e2cb1b817d10": {
      "model_module": "@jupyter-widgets/base",
      "model_module_version": "1.1.0",
      "model_name": "LayoutModel",
      "state": {
       "visibility": "visible"
      }
     },
     "253e7bfd503c4ec5aa8faf820a5a8ef3": {
      "model_module": "@jupyter-widgets/controls",
      "model_module_version": "1.4.0",
      "model_name": "HBoxModel",
      "state": {
       "children": [
        "IPY_MODEL_41f6381586a74820802494f260045b59",
        "IPY_MODEL_2dc26b9ee75b4f908cb9dd093fc4d98e"
       ],
       "layout": "IPY_MODEL_2c2208ef54724952b18a33e7bdd229ab"
      }
     },
     "2563c144ac4448ea9e403ff0589d9b13": {
      "model_module": "@jupyter-widgets/base",
      "model_module_version": "1.1.0",
      "model_name": "LayoutModel",
      "state": {}
     },
     "257d3ac0e83c4f9dac8de5b73a501e5b": {
      "model_module": "@jupyter-widgets/base",
      "model_module_version": "1.1.0",
      "model_name": "LayoutModel",
      "state": {}
     },
     "25baeb35e2b241c3bb7953dba25f7046": {
      "model_module": "@jupyter-widgets/base",
      "model_module_version": "1.1.0",
      "model_name": "LayoutModel",
      "state": {
       "margin": "20px",
       "visibility": "visible"
      }
     },
     "260f059c8bde484db5eda871b6749cef": {
      "model_module": "@jupyter-widgets/base",
      "model_module_version": "1.1.0",
      "model_name": "LayoutModel",
      "state": {}
     },
     "264b0f62bc814245970e8a8f70344a7f": {
      "model_module": "@jupyter-widgets/base",
      "model_module_version": "1.1.0",
      "model_name": "LayoutModel",
      "state": {}
     },
     "264d8cd66a0a4183bdb4552f0f8b726b": {
      "model_module": "@jupyter-widgets/controls",
      "model_module_version": "1.4.0",
      "model_name": "DescriptionStyleModel",
      "state": {
       "description_width": ""
      }
     },
     "2654fb3f4fa542669868989220199e6d": {
      "model_module": "@jupyter-widgets/controls",
      "model_module_version": "1.4.0",
      "model_name": "VBoxModel",
      "state": {
       "children": [
        "IPY_MODEL_40da26be197e415e85242a10284d810b",
        "IPY_MODEL_e34a9dbd3fd942439fe6c92efb0043a1"
       ],
       "layout": "IPY_MODEL_b667431b2eba4a48a52d66dbbfe76fd2"
      }
     },
     "265c806114d344c0855ee1f0c5ebe382": {
      "model_module": "@jupyter-widgets/controls",
      "model_module_version": "1.4.0",
      "model_name": "HBoxModel",
      "state": {
       "children": [
        "IPY_MODEL_63ebf5f44d81425b869b5e578f4150ef",
        "IPY_MODEL_329e64bb1c5e441cb5a0bbb793de3d8b"
       ],
       "layout": "IPY_MODEL_d2209299c5e8471cabd3308ebc0c757a"
      }
     },
     "268900faa18e4c499ac6b3a1828d777e": {
      "model_module": "@jupyter-widgets/base",
      "model_module_version": "1.1.0",
      "model_name": "LayoutModel",
      "state": {}
     },
     "26abb5c160784608a13c3b28c0497e9d": {
      "model_module": "@jupyter-widgets/controls",
      "model_module_version": "1.4.0",
      "model_name": "DescriptionStyleModel",
      "state": {
       "description_width": ""
      }
     },
     "26ae64413b90427c8f76f590cc92f102": {
      "model_module": "@jupyter-widgets/base",
      "model_module_version": "1.1.0",
      "model_name": "LayoutModel",
      "state": {}
     },
     "26bf75d644da418b8ce878e4959578ac": {
      "model_module": "@jupyter-widgets/output",
      "model_module_version": "1.0.0",
      "model_name": "OutputModel",
      "state": {
       "layout": "IPY_MODEL_23312ae318e34d82bf453d3e6a57351d"
      }
     },
     "27049d1e707d4d81a47c49cd48a1494d": {
      "model_module": "@jupyter-widgets/controls",
      "model_module_version": "1.4.0",
      "model_name": "DescriptionStyleModel",
      "state": {
       "description_width": ""
      }
     },
     "270c1894520845eebccfcf8a7251d479": {
      "model_module": "@jupyter-widgets/controls",
      "model_module_version": "1.4.0",
      "model_name": "HBoxModel",
      "state": {
       "children": [
        "IPY_MODEL_c8a01d5e10dc4fb89199e2abb6834e6a",
        "IPY_MODEL_28ee074dec2d4bc297a4358d40dc172f",
        "IPY_MODEL_7efc32b63266470aaa5ac34c73fcf843",
        "IPY_MODEL_288eb39e62bf4e048dce29cbaebdbc6d",
        "IPY_MODEL_c34a657d93a8491990eb51fdf14c8a54",
        "IPY_MODEL_6abea88d22a5455fa972d243ac7cf8b1"
       ],
       "layout": "IPY_MODEL_74ed826243794e46964efcf5f0895940"
      }
     },
     "2719259c6519408d89225cd570539f95": {
      "model_module": "@jupyter-widgets/base",
      "model_module_version": "1.1.0",
      "model_name": "LayoutModel",
      "state": {}
     },
     "2719b84d9d2a42709e6a609bacc6bda9": {
      "model_module": "@jupyter-widgets/controls",
      "model_module_version": "1.4.0",
      "model_name": "HTMLModel",
      "state": {
       "layout": "IPY_MODEL_a05f5ef4344b45d29230c726fca51ad8",
       "style": "IPY_MODEL_6006cc67feb3451eb45e523007402e07",
       "value": "<b>3</b>)&nbsp;&nbsp;"
      }
     },
     "2748d3472b5943468b128e1dd08fb92f": {
      "model_module": "@jupyter-widgets/base",
      "model_module_version": "1.1.0",
      "model_name": "LayoutModel",
      "state": {
       "visibility": "visible"
      }
     },
     "2759c062b7014454ba30444aca05bb51": {
      "model_module": "@jupyter-widgets/base",
      "model_module_version": "1.1.0",
      "model_name": "LayoutModel",
      "state": {
       "visibility": "visible"
      }
     },
     "276ba45a11e4426aa6e12ea99b3fa9b9": {
      "model_module": "@jupyter-widgets/base",
      "model_module_version": "1.1.0",
      "model_name": "LayoutModel",
      "state": {
       "margin": "20px",
       "visibility": "visible"
      }
     },
     "27b640eae8194ad2a585eb04bb5352da": {
      "model_module": "@jupyter-widgets/controls",
      "model_module_version": "1.4.0",
      "model_name": "HTMLModel",
      "state": {
       "layout": "IPY_MODEL_39be9560b25441f78e96f800ad357d1f",
       "style": "IPY_MODEL_6e9db6e929d04b2d9b5384bc89d828e0",
       "value": "<p><b>Question ID</b>: 1</p>"
      }
     },
     "27dfd4175a604e6fa4d77549d69d30ec": {
      "model_module": "@jupyter-widgets/base",
      "model_module_version": "1.1.0",
      "model_name": "LayoutModel",
      "state": {
       "visibility": "hidden"
      }
     },
     "27f17a9b688349c2b62cec5b499112f1": {
      "model_module": "@jupyter-widgets/controls",
      "model_module_version": "1.4.0",
      "model_name": "HTMLModel",
      "state": {
       "layout": "IPY_MODEL_fb578dcd5c754d3db33b9d6e560a96de",
       "style": "IPY_MODEL_165f524011754778925ad90a1add620e"
      }
     },
     "2805221ce58d45968729f6e8fb95f280": {
      "model_module": "@jupyter-widgets/base",
      "model_module_version": "1.1.0",
      "model_name": "LayoutModel",
      "state": {
       "margin": "20px",
       "visibility": "visible"
      }
     },
     "28180ef36c924616ba953a76bb53d7b9": {
      "model_module": "@jupyter-widgets/base",
      "model_module_version": "1.1.0",
      "model_name": "LayoutModel",
      "state": {}
     },
     "282c2d9207514914a392d0cfd5a99697": {
      "model_module": "@jupyter-widgets/controls",
      "model_module_version": "1.4.0",
      "model_name": "ButtonModel",
      "state": {
       "description": "Previous",
       "disabled": true,
       "layout": "IPY_MODEL_b4e50912f1514f3eb60fb558b64c65c6",
       "style": "IPY_MODEL_a908f57596a443d7a7c81828d0f692d0"
      }
     },
     "28613382242e4db2801efddf17104582": {
      "model_module": "@jupyter-widgets/controls",
      "model_module_version": "1.4.0",
      "model_name": "ButtonModel",
      "state": {
       "description": "Results",
       "layout": "IPY_MODEL_6b0add6021cd4a7a8d8624a9d6375264",
       "style": "IPY_MODEL_e420ed3b9f604d848e96d89f0b5289ec"
      }
     },
     "28625c62bf414e68b95f8a978f94366e": {
      "model_module": "@jupyter-widgets/base",
      "model_module_version": "1.1.0",
      "model_name": "LayoutModel",
      "state": {
       "margin": "20px",
       "visibility": "visible"
      }
     },
     "287ec9fa921d43f78c1f882e14da52c2": {
      "model_module": "@jupyter-widgets/controls",
      "model_module_version": "1.4.0",
      "model_name": "ButtonModel",
      "state": {
       "description": "3",
       "layout": "IPY_MODEL_1ac8eeda78434d3f98e59558395aafe7",
       "style": "IPY_MODEL_a245e5c4070c43c2ab0d516cca5e68de"
      }
     },
     "288be992866e4071a63425b4d056dc69": {
      "model_module": "@jupyter-widgets/controls",
      "model_module_version": "1.4.0",
      "model_name": "HTMLModel",
      "state": {
       "layout": "IPY_MODEL_5fe986732f7c4c0aa9366f0fa865f1f6",
       "style": "IPY_MODEL_434ac32e17194aa4b1403b7d40759608",
       "value": "\n        <pre>\nqc4 = QuantumCircuit(3,1)\nif a=='1':\n    qc4.x(0)\nif b=='1':\n    qc4.x(1)\nqc4.cx(1,0)\nqc4.cx(2,0)\nqc4.x(0)\nqc4.measure(0,0)\n\nqc4.draw()\n</pre>\n        "
      }
     },
     "288eb39e62bf4e048dce29cbaebdbc6d": {
      "model_module": "@jupyter-widgets/controls",
      "model_module_version": "1.4.0",
      "model_name": "ButtonModel",
      "state": {
       "description": "3",
       "layout": "IPY_MODEL_6e2733ecf26e4d0c922d84ebf4d48859",
       "style": "IPY_MODEL_92ee569da74d40ccb99a4cfeeadad2fa"
      }
     },
     "28b79535d5eb45a287cdf3ebc98f6d29": {
      "model_module": "@jupyter-widgets/base",
      "model_module_version": "1.1.0",
      "model_name": "LayoutModel",
      "state": {}
     },
     "28c1d0194907464fb5ec077a65aede49": {
      "model_module": "@jupyter-widgets/base",
      "model_module_version": "1.1.0",
      "model_name": "LayoutModel",
      "state": {
       "visibility": "visible"
      }
     },
     "28c778e1f6a64636b2892c1023fb1b7f": {
      "model_module": "@jupyter-widgets/controls",
      "model_module_version": "1.4.0",
      "model_name": "ButtonModel",
      "state": {
       "description": "Next",
       "disabled": true,
       "layout": "IPY_MODEL_4d66ccf807dd46b2aa43d70e9d6191b5",
       "style": "IPY_MODEL_7c7dc4eebc284c1c9dec1a21f154a765"
      }
     },
     "28ee074dec2d4bc297a4358d40dc172f": {
      "model_module": "@jupyter-widgets/controls",
      "model_module_version": "1.4.0",
      "model_name": "ButtonModel",
      "state": {
       "description": "1",
       "layout": "IPY_MODEL_90616d09be9d43739a3844942729cfb3",
       "style": "IPY_MODEL_99f551d0aeed4fb3a67527096f6b7569"
      }
     },
     "28f4732a2f1b4403b026450ce2b5ac91": {
      "model_module": "@jupyter-widgets/controls",
      "model_module_version": "1.4.0",
      "model_name": "ButtonModel",
      "state": {
       "description": "3",
       "layout": "IPY_MODEL_d5c80fb131f14bf594ab2e98cb299c5f",
       "style": "IPY_MODEL_7f44bf0ebcd0405791a4df0baea52b4f"
      }
     },
     "28f70979169f4962b7972c4de571ba7c": {
      "model_module": "@jupyter-widgets/base",
      "model_module_version": "1.1.0",
      "model_name": "LayoutModel",
      "state": {
       "margin": "20px",
       "visibility": "visible"
      }
     },
     "2921cb0465be419d9c221d72c202fd54": {
      "model_module": "@jupyter-widgets/base",
      "model_module_version": "1.1.0",
      "model_name": "LayoutModel",
      "state": {}
     },
     "292ec7c686904f62bb15f6b4794bdbed": {
      "model_module": "@jupyter-widgets/base",
      "model_module_version": "1.1.0",
      "model_name": "LayoutModel",
      "state": {}
     },
     "2949241599cc4e41907919059c17f8c4": {
      "model_module": "@jupyter-widgets/controls",
      "model_module_version": "1.4.0",
      "model_name": "DescriptionStyleModel",
      "state": {
       "description_width": ""
      }
     },
     "2985c1dd761a4f28b16fc11b5348d063": {
      "model_module": "@jupyter-widgets/controls",
      "model_module_version": "1.4.0",
      "model_name": "ButtonModel",
      "state": {
       "description": "1",
       "layout": "IPY_MODEL_d1df5897b2954e4dab97cd81d983d6e6",
       "style": "IPY_MODEL_19fc0e7bf31047de92f6367d95cea25c"
      }
     },
     "2991bb58a9984762a753a8fd90c6d943": {
      "model_module": "@jupyter-widgets/controls",
      "model_module_version": "1.4.0",
      "model_name": "DescriptionStyleModel",
      "state": {
       "description_width": ""
      }
     },
     "29a85000c5964545ad22f173de0032d5": {
      "model_module": "@jupyter-widgets/controls",
      "model_module_version": "1.4.0",
      "model_name": "ButtonStyleModel",
      "state": {}
     },
     "29b442c385824d6688bca290b5c4bcf3": {
      "model_module": "@jupyter-widgets/controls",
      "model_module_version": "1.4.0",
      "model_name": "ButtonStyleModel",
      "state": {}
     },
     "29c7fd2a15674d0b90dc874f7398e81a": {
      "model_module": "@jupyter-widgets/base",
      "model_module_version": "1.1.0",
      "model_name": "LayoutModel",
      "state": {}
     },
     "29d5de78af74449e85b523c44ed4f950": {
      "model_module": "@jupyter-widgets/controls",
      "model_module_version": "1.4.0",
      "model_name": "VBoxModel",
      "state": {
       "children": [
        "IPY_MODEL_d978f4ea021c4511bcaa895841e7b5e4",
        "IPY_MODEL_e633e97aec1244fca0e46a4dd89a9efc",
        "IPY_MODEL_c67e5f0cd4414b27a712a8c817578266",
        "IPY_MODEL_c05825a83e934bcb9241bf86de1caa79",
        "IPY_MODEL_a8eef3c284fa4066ada6ed429d7ae529",
        "IPY_MODEL_d0160740511a40e1998c81a052f63cca",
        "IPY_MODEL_08482778c8e94b00bcd72bada4ec16d4",
        "IPY_MODEL_7a6b3ed32c284f9b9209f545d3f2bd93",
        "IPY_MODEL_ef08adc99fe64fedb218d9ee23c237b9"
       ],
       "layout": "IPY_MODEL_11faae5480e14bbea5be4bdec98d71c4"
      }
     },
     "2a1820e6120d4a38b342279e3c33e472": {
      "model_module": "@jupyter-widgets/base",
      "model_module_version": "1.1.0",
      "model_name": "LayoutModel",
      "state": {
       "margin": "20px",
       "visibility": "visible"
      }
     },
     "2a263db1ca9d44e6b3b5ecc405ba0c0a": {
      "model_module": "@jupyter-widgets/controls",
      "model_module_version": "1.4.0",
      "model_name": "HBoxModel",
      "state": {
       "children": [
        "IPY_MODEL_0d04c0742bac45bd802c0cbb22bff267",
        "IPY_MODEL_217c8d5f3f5c485f9bc7712a38420e76"
       ],
       "layout": "IPY_MODEL_e48664c43e4c42b0a9187cf21523efb8"
      }
     },
     "2a42a12ffb8643c7a71d50ab0c650352": {
      "model_module": "@jupyter-widgets/controls",
      "model_module_version": "1.4.0",
      "model_name": "DescriptionStyleModel",
      "state": {
       "description_width": ""
      }
     },
     "2a754a1feb244f7ab9b6afb8d9551b76": {
      "model_module": "@jupyter-widgets/controls",
      "model_module_version": "1.4.0",
      "model_name": "DescriptionStyleModel",
      "state": {
       "description_width": ""
      }
     },
     "2abc28aeb6cb480a9f26956c86df1ebd": {
      "model_module": "@jupyter-widgets/controls",
      "model_module_version": "1.4.0",
      "model_name": "HTMLModel",
      "state": {
       "layout": "IPY_MODEL_680ad10a61e94087a44dfeb876f24dca",
       "style": "IPY_MODEL_9b6678b42895412fb46cad7bcbbe4c10",
       "value": "<b>4</b>)&nbsp;&nbsp;"
      }
     },
     "2b2f135d0bed4921844e60494c0fff9a": {
      "model_module": "@jupyter-widgets/controls",
      "model_module_version": "1.4.0",
      "model_name": "DescriptionStyleModel",
      "state": {
       "description_width": ""
      }
     },
     "2b7cdfcceed64a7ebfd4b08e0121516e": {
      "model_module": "@jupyter-widgets/base",
      "model_module_version": "1.1.0",
      "model_name": "LayoutModel",
      "state": {}
     },
     "2b82b4bae4d540c3ae613a5013f6c15c": {
      "model_module": "@jupyter-widgets/controls",
      "model_module_version": "1.4.0",
      "model_name": "ButtonModel",
      "state": {
       "description": "3",
       "layout": "IPY_MODEL_139d831bd64e4ae585fcda774a17f6a9",
       "style": "IPY_MODEL_4e4d5816a2f84dcbb71e78a4389bacf6"
      }
     },
     "2b896477ea8445ad9d6023136a24853a": {
      "model_module": "@jupyter-widgets/controls",
      "model_module_version": "1.4.0",
      "model_name": "VBoxModel",
      "state": {
       "children": [
        "IPY_MODEL_4d53e4106f69424383e4f3185c433689",
        "IPY_MODEL_26bf75d644da418b8ce878e4959578ac"
       ],
       "layout": "IPY_MODEL_0ab3e261604a419a8f32055035abebd3"
      }
     },
     "2b9c1676980548e3a0f6e8131ea70d50": {
      "model_module": "@jupyter-widgets/base",
      "model_module_version": "1.1.0",
      "model_name": "LayoutModel",
      "state": {}
     },
     "2bcb770f41684fafbcfe08b0c50fbfd3": {
      "model_module": "@jupyter-widgets/controls",
      "model_module_version": "1.4.0",
      "model_name": "ButtonStyleModel",
      "state": {}
     },
     "2bce1903eac04b4cafb6c0fce4b447af": {
      "model_module": "@jupyter-widgets/controls",
      "model_module_version": "1.4.0",
      "model_name": "HTMLModel",
      "state": {
       "layout": "IPY_MODEL_47f67b112f464457a09915dec3a2e66d",
       "style": "IPY_MODEL_85df614ab38b42a3a67d89d294509b8c"
      }
     },
     "2c0057eeafd14a1ca73f5afd5b4dfaa5": {
      "model_module": "@jupyter-widgets/base",
      "model_module_version": "1.1.0",
      "model_name": "LayoutModel",
      "state": {
       "margin": "20px",
       "visibility": "visible"
      }
     },
     "2c0b76853c41478e8e8f505f080814f9": {
      "model_module": "@jupyter-widgets/base",
      "model_module_version": "1.1.0",
      "model_name": "LayoutModel",
      "state": {}
     },
     "2c212a05fe084f149db7eeba060ff7d2": {
      "model_module": "@jupyter-widgets/controls",
      "model_module_version": "1.4.0",
      "model_name": "HTMLModel",
      "state": {
       "layout": "IPY_MODEL_ad36a629fae84d0f8935c92fc5b8d6a7",
       "style": "IPY_MODEL_e25ab63e4ebc414e9e87990a2e034d6a",
       "value": "None of the above"
      }
     },
     "2c2208ef54724952b18a33e7bdd229ab": {
      "model_module": "@jupyter-widgets/base",
      "model_module_version": "1.1.0",
      "model_name": "LayoutModel",
      "state": {
       "visibility": "visible"
      }
     },
     "2c2d0f3718d949248bad0be185e5e167": {
      "model_module": "@jupyter-widgets/base",
      "model_module_version": "1.1.0",
      "model_name": "LayoutModel",
      "state": {
       "visibility": "visible"
      }
     },
     "2c31f7287eed4dd58833d75ae9f7e211": {
      "model_module": "@jupyter-widgets/controls",
      "model_module_version": "1.4.0",
      "model_name": "ButtonStyleModel",
      "state": {}
     },
     "2c3f6cd25c3140e0be49a1ea7f92e464": {
      "model_module": "@jupyter-widgets/controls",
      "model_module_version": "1.4.0",
      "model_name": "DescriptionStyleModel",
      "state": {
       "description_width": ""
      }
     },
     "2c862706af14410e89e6045b0c980f37": {
      "model_module": "@jupyter-widgets/base",
      "model_module_version": "1.1.0",
      "model_name": "LayoutModel",
      "state": {}
     },
     "2cd0b62c3c9b430fab4e618bf002051c": {
      "model_module": "@jupyter-widgets/base",
      "model_module_version": "1.1.0",
      "model_name": "LayoutModel",
      "state": {}
     },
     "2d56be56a9314c139a0def4159e96d67": {
      "model_module": "@jupyter-widgets/base",
      "model_module_version": "1.1.0",
      "model_name": "LayoutModel",
      "state": {
       "margin": "20px",
       "visibility": "visible"
      }
     },
     "2d8b73ac586c4b05997fea4b275277ac": {
      "model_module": "@jupyter-widgets/base",
      "model_module_version": "1.1.0",
      "model_name": "LayoutModel",
      "state": {}
     },
     "2d9776c4435b464694b52d8a1b022457": {
      "model_module": "@jupyter-widgets/controls",
      "model_module_version": "1.4.0",
      "model_name": "VBoxModel",
      "state": {
       "children": [
        "IPY_MODEL_27b640eae8194ad2a585eb04bb5352da",
        "IPY_MODEL_2e41dba14c884cceba5556ce8bcc89dd",
        "IPY_MODEL_5e8ddf6d41b7420b97d1b15df0a68ad1",
        "IPY_MODEL_485715a83ef5477c93e8f233f018bbd2",
        "IPY_MODEL_bf37607af09249c0bb4ecc462fa6a9b4",
        "IPY_MODEL_17dc0034b84744eb8bcd48204cbe7b5d",
        "IPY_MODEL_d80c6661fee94c3a8f318655bab9e3cf",
        "IPY_MODEL_82e690873133448a8a15827adc598946",
        "IPY_MODEL_6cabe39b263743a9bd1fd42f00d135b4"
       ],
       "layout": "IPY_MODEL_685ce2290b5b49a2a254e15c1fc98a10"
      }
     },
     "2d9a3585ca7a4b4b863f3161f401528b": {
      "model_module": "@jupyter-widgets/controls",
      "model_module_version": "1.4.0",
      "model_name": "HTMLModel",
      "state": {
       "layout": "IPY_MODEL_fef5d83802c0403aaaab9f1d74f23180",
       "style": "IPY_MODEL_0650403ade2a4ad781fcb91ee79b7964",
       "value": "<b>4</b>)&nbsp;&nbsp;"
      }
     },
     "2dc26b9ee75b4f908cb9dd093fc4d98e": {
      "model_module": "@jupyter-widgets/controls",
      "model_module_version": "1.4.0",
      "model_name": "HTMLModel",
      "state": {
       "layout": "IPY_MODEL_30ea71ef75c340f79ea2df10ecebdcc3",
       "style": "IPY_MODEL_9c3b385606bb4e4e804b0914d910ef6b",
       "value": "\n        <pre>\nqc1 = QuantumCircuit(3,1)\nif a=='1':\n    q1.x(0)\nif b=='1':\n    qc1.x(1)\nqc1.x(0)\nqc1.x(1)\nqc1.ccx(0,1,2)\nqc1.x(2)\nqc1.measure(2,0)\n\nqc1.draw()\n        </pre>\n        "
      }
     },
     "2ddccae170054047a104f351bf64b504": {
      "model_module": "@jupyter-widgets/base",
      "model_module_version": "1.1.0",
      "model_name": "LayoutModel",
      "state": {}
     },
     "2e133342a60e43d1ad4fde9086b0b8d8": {
      "model_module": "@jupyter-widgets/controls",
      "model_module_version": "1.4.0",
      "model_name": "HTMLModel",
      "state": {
       "layout": "IPY_MODEL_3300f6fd741e4b05938b06ee00e402d5",
       "style": "IPY_MODEL_fc359a11b4394616bc8f6838d28a3ab1"
      }
     },
     "2e1edc127f4c4441918f841987cb0cd6": {
      "model_module": "@jupyter-widgets/controls",
      "model_module_version": "1.4.0",
      "model_name": "ButtonModel",
      "state": {
       "description": "Results",
       "layout": "IPY_MODEL_1710e52e402145c6a31f12a02bf7d354",
       "style": "IPY_MODEL_a8a345d27c5d49928e6603f7de86bddf"
      }
     },
     "2e2206e4c1f44592b14f2ebfaf54feae": {
      "model_module": "@jupyter-widgets/base",
      "model_module_version": "1.1.0",
      "model_name": "LayoutModel",
      "state": {}
     },
     "2e41dba14c884cceba5556ce8bcc89dd": {
      "model_module": "@jupyter-widgets/controls",
      "model_module_version": "1.4.0",
      "model_name": "HTMLModel",
      "state": {
       "layout": "IPY_MODEL_e52af87ed6ab4cffb071b89863d50c6c",
       "style": "IPY_MODEL_3fc0648ef138407f91b4dce5e161497c",
       "value": "<h1>\n       <h4>Which of the following could be the result of the following <samp>Aer</samp> simulation?<br/><br/></h4> \n<pre>\nqr = QuantumRegister(3, 'q')\ncr = ClassicalRegister(3, 'c')\ncirc = QuantumCircuit(qr, cr)\n\ncirc.h(qr[0])\ncirc.h(qr[1])\ncirc.cx(qr[0], qr[1])\ncirc.cx(qr[0], qr[2])\ncirc.measure(qr, cr)\n\nsimulator = Aer.get_backend('qasm_simulator')\n\nresult = execute(circ, simulator).result()\ncounts = result.get_counts(circ)\nplot_histogram(counts)\n\n</pre>\n       </h1>"
      }
     },
     "2e914533ee2547dfa13e82200c6e07b8": {
      "model_module": "@jupyter-widgets/controls",
      "model_module_version": "1.4.0",
      "model_name": "DescriptionStyleModel",
      "state": {
       "description_width": ""
      }
     },
     "2ec082b6dbfb4725bd475c0d8c7a42ac": {
      "model_module": "@jupyter-widgets/controls",
      "model_module_version": "1.4.0",
      "model_name": "HBoxModel",
      "state": {
       "children": [
        "IPY_MODEL_967731cb7d13456d96db4696b36d63ad",
        "IPY_MODEL_5d52bb4d0bc24474a62ad3d5db906b60"
       ],
       "layout": "IPY_MODEL_c2cd7b20b8594f1b99ef9d791884fd06"
      }
     },
     "2ecf9616cf2043eda8741cf27775384c": {
      "model_module": "@jupyter-widgets/base",
      "model_module_version": "1.1.0",
      "model_name": "LayoutModel",
      "state": {}
     },
     "2ed712b9800d496eb71df96714508154": {
      "model_module": "@jupyter-widgets/controls",
      "model_module_version": "1.4.0",
      "model_name": "HTMLModel",
      "state": {
       "layout": "IPY_MODEL_791711db4a4541c7bdf403015fc82808",
       "style": "IPY_MODEL_caebbb122a044137afdae6d7658ca265",
       "value": "<b>2</b>)&nbsp;&nbsp;"
      }
     },
     "2ef13329c3f5468b99d3b3d7f3eb2a68": {
      "model_module": "@jupyter-widgets/controls",
      "model_module_version": "1.4.0",
      "model_name": "HBoxModel",
      "state": {
       "children": [
        "IPY_MODEL_cd5a75bf71ae4c5da6fca47db711817f",
        "IPY_MODEL_38d8a6838fe5447092e9a56ca65ce3ea"
       ],
       "layout": "IPY_MODEL_5efa4d6fc2a7495b85718c5e6325bccb"
      }
     },
     "2efc7a18e4bb4fa68a8f99ac4b5517e8": {
      "model_module": "@jupyter-widgets/controls",
      "model_module_version": "1.4.0",
      "model_name": "ButtonModel",
      "state": {
       "description": "Results",
       "layout": "IPY_MODEL_4a877e48a63d4f2db4bfe8fcaea34954",
       "style": "IPY_MODEL_2347411cd4784729b0d9794ada8b82cb"
      }
     },
     "2f2b13b5b126461698b7eb980a1b10b3": {
      "model_module": "@jupyter-widgets/controls",
      "model_module_version": "1.4.0",
      "model_name": "HTMLModel",
      "state": {
       "layout": "IPY_MODEL_26ae64413b90427c8f76f590cc92f102",
       "style": "IPY_MODEL_c0d61b7d655f4d2997bfaaa4e976565b",
       "value": "6"
      }
     },
     "2f58f59f3fd440ec832e9aa9ef269136": {
      "model_module": "@jupyter-widgets/base",
      "model_module_version": "1.1.0",
      "model_name": "LayoutModel",
      "state": {}
     },
     "2f8a354c07f84a438419027886b71a92": {
      "model_module": "@jupyter-widgets/controls",
      "model_module_version": "1.4.0",
      "model_name": "HTMLModel",
      "state": {
       "layout": "IPY_MODEL_924d2f3a21d645ea89f0c27d4bbe0740",
       "style": "IPY_MODEL_c325228ee6824a17b6d7b4927d25e72f"
      }
     },
     "2f96deaa5e1a482fa391642c959514cb": {
      "model_module": "@jupyter-widgets/controls",
      "model_module_version": "1.4.0",
      "model_name": "ButtonModel",
      "state": {
       "description": "1",
       "layout": "IPY_MODEL_f9a0fc1e4f31452f97ff886cec11bb08",
       "style": "IPY_MODEL_c910666677ed4909b0902a6eba2c91bd"
      }
     },
     "2f97c876bda341beaada191be06280d7": {
      "model_module": "@jupyter-widgets/controls",
      "model_module_version": "1.4.0",
      "model_name": "ButtonModel",
      "state": {
       "description": "1",
       "layout": "IPY_MODEL_e8f97e5a53774024b446269e12731e58",
       "style": "IPY_MODEL_893c2d49fe144d11a9e12dac80f54d3d"
      }
     },
     "2fa11452e4a648d8ba77249ac07cfc25": {
      "model_module": "@jupyter-widgets/controls",
      "model_module_version": "1.4.0",
      "model_name": "ButtonStyleModel",
      "state": {}
     },
     "2fb324712c374acab23f9afadd1f46ce": {
      "model_module": "@jupyter-widgets/controls",
      "model_module_version": "1.4.0",
      "model_name": "DescriptionStyleModel",
      "state": {
       "description_width": ""
      }
     },
     "2fbf68be5f884d99b2d067300421c473": {
      "model_module": "@jupyter-widgets/controls",
      "model_module_version": "1.4.0",
      "model_name": "HBoxModel",
      "state": {
       "children": [
        "IPY_MODEL_2181ed0a24b64a6ca2b85e9a812ccefb",
        "IPY_MODEL_47452d0b1202461a8e22612f0bc5e6e4"
       ],
       "layout": "IPY_MODEL_851acc2fc3b0467a967df9d09f833080"
      }
     },
     "2fd2a0f1077f42eaa2dc4d2529b1bca2": {
      "model_module": "@jupyter-widgets/controls",
      "model_module_version": "1.4.0",
      "model_name": "HTMLModel",
      "state": {
       "layout": "IPY_MODEL_8615789cce91431d91bfc7839255d717",
       "style": "IPY_MODEL_04c142782fbd4eb188dac4e421af7888",
       "value": "<h1><h4>What is the output of the following circuit?<br/><br/><h4> <img align=\"middle\" src=\"questions/gates_images/hx0.png\" width=300px><br/></h1>"
      }
     },
     "2fe3a28309484925a5fcf51c93ff9075": {
      "model_module": "@jupyter-widgets/base",
      "model_module_version": "1.1.0",
      "model_name": "LayoutModel",
      "state": {
       "visibility": "visible"
      }
     },
     "2febdc457fce405ebd10920e8bb2e477": {
      "model_module": "@jupyter-widgets/base",
      "model_module_version": "1.1.0",
      "model_name": "LayoutModel",
      "state": {}
     },
     "2ff163c18c774f1ba13c20a1f83546dc": {
      "model_module": "@jupyter-widgets/controls",
      "model_module_version": "1.4.0",
      "model_name": "HBoxModel",
      "state": {
       "children": [
        "IPY_MODEL_bf9d16343c0940c1a126da92526d3c73",
        "IPY_MODEL_eef9b2b430984c159c2b674ddf952fa1"
       ],
       "layout": "IPY_MODEL_134d4bbb7bb54881b1c0313ce998c78a"
      }
     },
     "30105d10a7ac4bc3acd2904d22524797": {
      "model_module": "@jupyter-widgets/base",
      "model_module_version": "1.1.0",
      "model_name": "LayoutModel",
      "state": {}
     },
     "303ca8aeaee84b4faaa2690de277b40a": {
      "model_module": "@jupyter-widgets/base",
      "model_module_version": "1.1.0",
      "model_name": "LayoutModel",
      "state": {}
     },
     "3066d07ce28842fab7515679931fd875": {
      "model_module": "@jupyter-widgets/controls",
      "model_module_version": "1.4.0",
      "model_name": "ButtonModel",
      "state": {
       "description": "4",
       "layout": "IPY_MODEL_b086657078fb4e6595508c5f38e256fb",
       "style": "IPY_MODEL_5c52019d68784cd1abc5d1902af9be21"
      }
     },
     "306d82854d8d44ef924792f14e0cc9ed": {
      "model_module": "@jupyter-widgets/controls",
      "model_module_version": "1.4.0",
      "model_name": "HTMLModel",
      "state": {
       "layout": "IPY_MODEL_04b75f8eeb03442f998545d2037918ec",
       "style": "IPY_MODEL_8bcd0ec73580470c8a568fc911b23146",
       "value": "Both 2 & 3 are possible"
      }
     },
     "309b556bf73b4858a1215a63d1ee9623": {
      "model_module": "@jupyter-widgets/controls",
      "model_module_version": "1.4.0",
      "model_name": "DescriptionStyleModel",
      "state": {
       "description_width": ""
      }
     },
     "30a254d2babe4ead91233d539d3607e1": {
      "model_module": "@jupyter-widgets/controls",
      "model_module_version": "1.4.0",
      "model_name": "DescriptionStyleModel",
      "state": {
       "description_width": ""
      }
     },
     "30adfdcc133749cfad504bfce6ff2995": {
      "model_module": "@jupyter-widgets/base",
      "model_module_version": "1.1.0",
      "model_name": "LayoutModel",
      "state": {
       "visibility": "visible"
      }
     },
     "30c26d5320334c1fb95201a007f2a781": {
      "model_module": "@jupyter-widgets/base",
      "model_module_version": "1.1.0",
      "model_name": "LayoutModel",
      "state": {
       "visibility": "visible"
      }
     },
     "30d213f9d3f042d09fb1908bfbaf35a2": {
      "model_module": "@jupyter-widgets/controls",
      "model_module_version": "1.4.0",
      "model_name": "VBoxModel",
      "state": {
       "children": [
        "IPY_MODEL_730bd1d631f94868bf6738753c19168b",
        "IPY_MODEL_564cb62fb05e40b7906f9ecc0c0ec6c5"
       ],
       "layout": "IPY_MODEL_13883ae35a864108b33c6a3a0981082e"
      }
     },
     "30e2bc2e770c42c09b149d076e75e94b": {
      "model_module": "@jupyter-widgets/controls",
      "model_module_version": "1.4.0",
      "model_name": "HTMLModel",
      "state": {
       "layout": "IPY_MODEL_779289e743324f65a2cdaf429eb7eb94",
       "style": "IPY_MODEL_5d10b3a382f040a7bed507ff2b407f41",
       "value": "<b>5</b>)&nbsp;&nbsp;"
      }
     },
     "30ea71ef75c340f79ea2df10ecebdcc3": {
      "model_module": "@jupyter-widgets/base",
      "model_module_version": "1.1.0",
      "model_name": "LayoutModel",
      "state": {}
     },
     "3102486dd9324d4d8cf63a5cc479d140": {
      "model_module": "@jupyter-widgets/controls",
      "model_module_version": "1.4.0",
      "model_name": "ButtonModel",
      "state": {
       "description": "Next",
       "disabled": true,
       "layout": "IPY_MODEL_11c8eb17c7c542b587c216bd2d89e88d",
       "style": "IPY_MODEL_8e50fd62798e4282a041f714a9c7ed55"
      }
     },
     "3120b076f714479a8f8b9c0bc2d3b484": {
      "model_module": "@jupyter-widgets/controls",
      "model_module_version": "1.4.0",
      "model_name": "HBoxModel",
      "state": {
       "children": [
        "IPY_MODEL_6b2c3661e5274cf6b2ba3686d7c125db",
        "IPY_MODEL_b063c6fef03140ee859a122564b9d958"
       ],
       "layout": "IPY_MODEL_db289278976b49ad96081fb61d70f09c"
      }
     },
     "3126984b11c8490193aeb494efed7c12": {
      "model_module": "@jupyter-widgets/base",
      "model_module_version": "1.1.0",
      "model_name": "LayoutModel",
      "state": {}
     },
     "317ceeba3e3b466f85fdc175cb2e9c56": {
      "model_module": "@jupyter-widgets/base",
      "model_module_version": "1.1.0",
      "model_name": "LayoutModel",
      "state": {
       "visibility": "visible"
      }
     },
     "31bf9aad88d04071a8785401479be8fd": {
      "model_module": "@jupyter-widgets/controls",
      "model_module_version": "1.4.0",
      "model_name": "HTMLModel",
      "state": {
       "layout": "IPY_MODEL_f385bd0054314e90bd1ed4457a9afcee",
       "style": "IPY_MODEL_26abb5c160784608a13c3b28c0497e9d",
       "value": "\n        <pre>\nqc4 = QuantumCircuit(3,1)\nif a=='1':\n    qc4.x(0)\nif b=='1':\n    qc4.x(1)\nqc4.cx(1,0)\nqc4.cx(2,0)\nqc4.x(0)\nqc4.measure(0,0)\n\nqc4.draw()\n</pre>\n        "
      }
     },
     "31e5e779f95a4782a4138c8504da5b0e": {
      "model_module": "@jupyter-widgets/controls",
      "model_module_version": "1.4.0",
      "model_name": "HBoxModel",
      "state": {
       "children": [
        "IPY_MODEL_5b8769e725a74527a51222053a3995b9",
        "IPY_MODEL_44fcd1d23f2540498e7e5478e1697d15"
       ],
       "layout": "IPY_MODEL_2e2206e4c1f44592b14f2ebfaf54feae"
      }
     },
     "31ed24fb1fd54335ad30164382363550": {
      "model_module": "@jupyter-widgets/controls",
      "model_module_version": "1.4.0",
      "model_name": "DescriptionStyleModel",
      "state": {
       "description_width": ""
      }
     },
     "31f04cabc39c4944b62f03d8ad5b521d": {
      "model_module": "@jupyter-widgets/controls",
      "model_module_version": "1.4.0",
      "model_name": "HTMLModel",
      "state": {
       "layout": "IPY_MODEL_1f1a7cb900aa412686f793408f27173c",
       "style": "IPY_MODEL_9962d7e9b7eb4cd1bf666f29abc96af8",
       "value": "<b>3</b>)&nbsp;&nbsp;"
      }
     },
     "320a0e6fc8e448fa8a67d4328561b5ff": {
      "model_module": "@jupyter-widgets/controls",
      "model_module_version": "1.4.0",
      "model_name": "DescriptionStyleModel",
      "state": {
       "description_width": ""
      }
     },
     "324fa675e5a245599baa7fb5c720e880": {
      "model_module": "@jupyter-widgets/base",
      "model_module_version": "1.1.0",
      "model_name": "LayoutModel",
      "state": {
       "visibility": "visible"
      }
     },
     "326b0e68551740e58eacdf3685aa5bb5": {
      "model_module": "@jupyter-widgets/controls",
      "model_module_version": "1.4.0",
      "model_name": "HTMLModel",
      "state": {
       "layout": "IPY_MODEL_2c862706af14410e89e6045b0c980f37",
       "style": "IPY_MODEL_2c3f6cd25c3140e0be49a1ea7f92e464",
       "value": "<p><b>Question ID</b>: 1</p>"
      }
     },
     "327a78d3c56f4746af4f97e8eb87a24a": {
      "model_module": "@jupyter-widgets/base",
      "model_module_version": "1.1.0",
      "model_name": "LayoutModel",
      "state": {
       "visibility": "visible"
      }
     },
     "329e64bb1c5e441cb5a0bbb793de3d8b": {
      "model_module": "@jupyter-widgets/controls",
      "model_module_version": "1.4.0",
      "model_name": "HTMLModel",
      "state": {
       "layout": "IPY_MODEL_8e494bf83f1d40f3b005e8233ca8af17",
       "style": "IPY_MODEL_36fd085e0c554632adf9baacb2d43a0d",
       "value": "<img src=\"aer1_images/1_w2.png\">"
      }
     },
     "32a0568ae5af4abbb69dd9e616c6e080": {
      "model_module": "@jupyter-widgets/controls",
      "model_module_version": "1.4.0",
      "model_name": "HTMLModel",
      "state": {
       "layout": "IPY_MODEL_9ecf1548e18442468adab88e927b4e7e",
       "style": "IPY_MODEL_15b66e56f69c46578f532e0012bc0af1"
      }
     },
     "32e67a90b31f404382b488e2762e311a": {
      "model_module": "@jupyter-widgets/base",
      "model_module_version": "1.1.0",
      "model_name": "LayoutModel",
      "state": {}
     },
     "3300f6fd741e4b05938b06ee00e402d5": {
      "model_module": "@jupyter-widgets/base",
      "model_module_version": "1.1.0",
      "model_name": "LayoutModel",
      "state": {
       "visibility": "hidden"
      }
     },
     "332ace622ac3416983f865fd8dccd5f8": {
      "model_module": "@jupyter-widgets/controls",
      "model_module_version": "1.4.0",
      "model_name": "ButtonModel",
      "state": {
       "description": "2",
       "layout": "IPY_MODEL_63c8553ff0c74cbe98bb4ecb51796ebc",
       "style": "IPY_MODEL_acd2cc4ac15a4756b921e9753d938504"
      }
     },
     "334cd1726a5f41bbbdd84a7d12e95fb9": {
      "model_module": "@jupyter-widgets/controls",
      "model_module_version": "1.4.0",
      "model_name": "VBoxModel",
      "state": {
       "children": [
        "IPY_MODEL_326b0e68551740e58eacdf3685aa5bb5",
        "IPY_MODEL_af64ded125e0461da8fe19b2fc666455",
        "IPY_MODEL_b8f532afd7584e40995213642a2fc474",
        "IPY_MODEL_c7790bb68f4f4f8c9abc5568f7b52a21",
        "IPY_MODEL_65f2b8dbe88a4617bd78061e606373a6",
        "IPY_MODEL_0317e2ba9f534011916a9833c4a196ec",
        "IPY_MODEL_a7ffdfc7dbdc464081a4ed21cbda91b5",
        "IPY_MODEL_bd5f5b24c22d48bab1bfaa14c36c2075",
        "IPY_MODEL_1c86f013780e4368b3e0d4705772fc36"
       ],
       "layout": "IPY_MODEL_140dbfbc2ad647b49210d5ffb98fdd85"
      }
     },
     "3379adb42acb4712856676579cfc0620": {
      "model_module": "@jupyter-widgets/controls",
      "model_module_version": "1.4.0",
      "model_name": "ButtonModel",
      "state": {
       "description": "Previous",
       "disabled": true,
       "layout": "IPY_MODEL_8276c042200643518cc18c75b0d2aa59",
       "style": "IPY_MODEL_446dd982036b486eaa237499585a5903"
      }
     },
     "3383d3a37da7484abe2bd7fc960e4976": {
      "model_module": "@jupyter-widgets/base",
      "model_module_version": "1.1.0",
      "model_name": "LayoutModel",
      "state": {}
     },
     "338d7d089e0d4f1f8e37f836cc02c2c0": {
      "model_module": "@jupyter-widgets/controls",
      "model_module_version": "1.4.0",
      "model_name": "HTMLModel",
      "state": {
       "layout": "IPY_MODEL_f540611f63ab4cdbb330b45b327a9925",
       "style": "IPY_MODEL_1caae48e8f0c429591a98ef39bb040b7",
       "value": "<b>2</b>)&nbsp;&nbsp;"
      }
     },
     "33c8f06bcde6489fb81d06b48bd75c1f": {
      "model_module": "@jupyter-widgets/base",
      "model_module_version": "1.1.0",
      "model_name": "LayoutModel",
      "state": {
       "visibility": "visible"
      }
     },
     "33f0e673fd9e4f48a90a8848361bf4aa": {
      "model_module": "@jupyter-widgets/controls",
      "model_module_version": "1.4.0",
      "model_name": "ButtonStyleModel",
      "state": {}
     },
     "33f6880a06944d4593ce5ee610b53358": {
      "model_module": "@jupyter-widgets/base",
      "model_module_version": "1.1.0",
      "model_name": "LayoutModel",
      "state": {}
     },
     "3424a59b0a814073a9ee0141debe0842": {
      "model_module": "@jupyter-widgets/controls",
      "model_module_version": "1.4.0",
      "model_name": "HTMLModel",
      "state": {
       "layout": "IPY_MODEL_f80d3e5261d44b81b9ad36f42cf1c41a",
       "style": "IPY_MODEL_2a754a1feb244f7ab9b6afb8d9551b76",
       "value": "<img src=\"http://latex.codecogs.com/svg.latex?\\vert0\\rangle\" border=\"0\"/>"
      }
     },
     "34375b3aacec411f8dbccc29a354bd1c": {
      "model_module": "@jupyter-widgets/base",
      "model_module_version": "1.1.0",
      "model_name": "LayoutModel",
      "state": {}
     },
     "343fbfcd002446beb4d02f076955deb2": {
      "model_module": "@jupyter-widgets/controls",
      "model_module_version": "1.4.0",
      "model_name": "HTMLModel",
      "state": {
       "layout": "IPY_MODEL_8af59d28e37d492d867dc92ff7e02595",
       "style": "IPY_MODEL_810641230f5c4f22a53b55303b818b7f",
       "value": "None of the above"
      }
     },
     "3451bf43dcd1403b86198267eedde8cd": {
      "model_module": "@jupyter-widgets/base",
      "model_module_version": "1.1.0",
      "model_name": "LayoutModel",
      "state": {}
     },
     "34a2b49e59544d34a385fe9c5eabaa8e": {
      "model_module": "@jupyter-widgets/base",
      "model_module_version": "1.1.0",
      "model_name": "LayoutModel",
      "state": {}
     },
     "34a400ebb1af4bb79ea612ea28ce3c3f": {
      "model_module": "@jupyter-widgets/controls",
      "model_module_version": "1.4.0",
      "model_name": "ButtonStyleModel",
      "state": {}
     },
     "34a9eb955cef46088df4a25eb92c0fa0": {
      "model_module": "@jupyter-widgets/base",
      "model_module_version": "1.1.0",
      "model_name": "LayoutModel",
      "state": {}
     },
     "34d69f36bd0d47e0a26ac6ad95360805": {
      "model_module": "@jupyter-widgets/controls",
      "model_module_version": "1.4.0",
      "model_name": "HTMLModel",
      "state": {
       "layout": "IPY_MODEL_f036175b8d154272a9d23006e9bdc535",
       "style": "IPY_MODEL_2359cab091ee43f9806dcd03080f841d",
       "value": "<b>1</b>)&nbsp;&nbsp;"
      }
     },
     "34fbda15b1ba4c848d9f0ceff70a5fb0": {
      "model_module": "@jupyter-widgets/controls",
      "model_module_version": "1.4.0",
      "model_name": "DescriptionStyleModel",
      "state": {
       "description_width": ""
      }
     },
     "35174881d10a463f86fb72d0cdab779b": {
      "model_module": "@jupyter-widgets/controls",
      "model_module_version": "1.4.0",
      "model_name": "HTMLModel",
      "state": {
       "layout": "IPY_MODEL_a692e86f2ed84f7dab1f76b9ae6233fd",
       "style": "IPY_MODEL_97c29d2619864101b88eb4f718a5b417",
       "value": "<b>1</b>)&nbsp;&nbsp;"
      }
     },
     "352069dc9422407e9cec19568d89eb5b": {
      "model_module": "@jupyter-widgets/controls",
      "model_module_version": "1.4.0",
      "model_name": "DescriptionStyleModel",
      "state": {
       "description_width": ""
      }
     },
     "3523e5d338434a55b225f46f5d2e1608": {
      "model_module": "@jupyter-widgets/base",
      "model_module_version": "1.1.0",
      "model_name": "LayoutModel",
      "state": {}
     },
     "355da5e33fb5488084fb2c15d6c3bb25": {
      "model_module": "@jupyter-widgets/controls",
      "model_module_version": "1.4.0",
      "model_name": "DescriptionStyleModel",
      "state": {
       "description_width": ""
      }
     },
     "356d204848594fe28f30a2b7a15a493b": {
      "model_module": "@jupyter-widgets/base",
      "model_module_version": "1.1.0",
      "model_name": "LayoutModel",
      "state": {}
     },
     "357707b290e74276952032c8e46fce3b": {
      "model_module": "@jupyter-widgets/base",
      "model_module_version": "1.1.0",
      "model_name": "LayoutModel",
      "state": {
       "margin": "20px",
       "visibility": "visible"
      }
     },
     "358aacc11188457c9640df6b9fb92e9d": {
      "model_module": "@jupyter-widgets/base",
      "model_module_version": "1.1.0",
      "model_name": "LayoutModel",
      "state": {
       "visibility": "visible"
      }
     },
     "36125837dac646679d0bcb9e7591e338": {
      "model_module": "@jupyter-widgets/controls",
      "model_module_version": "1.4.0",
      "model_name": "DescriptionStyleModel",
      "state": {
       "description_width": ""
      }
     },
     "3643852623374ee087a68861c8885073": {
      "model_module": "@jupyter-widgets/controls",
      "model_module_version": "1.4.0",
      "model_name": "VBoxModel",
      "state": {
       "children": [
        "IPY_MODEL_003e775a3aaa487497e82fefb4c937ae",
        "IPY_MODEL_960ed5a460be49468b6868f383f088f7"
       ],
       "layout": "IPY_MODEL_1564745ac59a4469a565c37a2bd25f1a"
      }
     },
     "365800f68eee447dae42f5b43b76f6ed": {
      "model_module": "@jupyter-widgets/base",
      "model_module_version": "1.1.0",
      "model_name": "LayoutModel",
      "state": {}
     },
     "368e92562b6247e3933e6f5d829ae94c": {
      "model_module": "@jupyter-widgets/base",
      "model_module_version": "1.1.0",
      "model_name": "LayoutModel",
      "state": {}
     },
     "369c0b99e4fb455cb2516bba089f5f53": {
      "model_module": "@jupyter-widgets/controls",
      "model_module_version": "1.4.0",
      "model_name": "HBoxModel",
      "state": {
       "children": [
        "IPY_MODEL_cf24b68977904f2eb41a2db095632610",
        "IPY_MODEL_76773a91ab134337835c44f078bbd92d"
       ],
       "layout": "IPY_MODEL_5d75118b9063470586db84b54cc99b7b"
      }
     },
     "36b6155f2b6f48629bbc8fb34f945beb": {
      "model_module": "@jupyter-widgets/controls",
      "model_module_version": "1.4.0",
      "model_name": "HTMLModel",
      "state": {
       "layout": "IPY_MODEL_f048cc48c2a84290a80f854ac29a1dec",
       "style": "IPY_MODEL_fe7527d1284842d9b3875d32dce61cb6"
      }
     },
     "36cd9281a5554fc6a4387586cf04f8c5": {
      "model_module": "@jupyter-widgets/base",
      "model_module_version": "1.1.0",
      "model_name": "LayoutModel",
      "state": {}
     },
     "36d5b1d5fa3f43788566514edfdb936e": {
      "model_module": "@jupyter-widgets/base",
      "model_module_version": "1.1.0",
      "model_name": "LayoutModel",
      "state": {}
     },
     "36e5907556e04c62a6c909fe26412556": {
      "model_module": "@jupyter-widgets/base",
      "model_module_version": "1.1.0",
      "model_name": "LayoutModel",
      "state": {}
     },
     "36fd085e0c554632adf9baacb2d43a0d": {
      "model_module": "@jupyter-widgets/controls",
      "model_module_version": "1.4.0",
      "model_name": "DescriptionStyleModel",
      "state": {
       "description_width": ""
      }
     },
     "37373ac53d654488a44e497a8b02d306": {
      "model_module": "@jupyter-widgets/base",
      "model_module_version": "1.1.0",
      "model_name": "LayoutModel",
      "state": {}
     },
     "3760e697b8d04f27a9999c83ece364f4": {
      "model_module": "@jupyter-widgets/base",
      "model_module_version": "1.1.0",
      "model_name": "LayoutModel",
      "state": {}
     },
     "377abcd656b64b4686c8690de6732e9f": {
      "model_module": "@jupyter-widgets/controls",
      "model_module_version": "1.4.0",
      "model_name": "ButtonModel",
      "state": {
       "description": "Next",
       "layout": "IPY_MODEL_2f58f59f3fd440ec832e9aa9ef269136",
       "style": "IPY_MODEL_22bcb79871884680aa14f1250bcfa9db"
      }
     },
     "3796619f82ee4f9287677044f688ba15": {
      "model_module": "@jupyter-widgets/controls",
      "model_module_version": "1.4.0",
      "model_name": "HTMLModel",
      "state": {
       "layout": "IPY_MODEL_594f092b8f304546b40a8875f1f007fb",
       "style": "IPY_MODEL_5e338b4912ea4441b41840f1f017d8b5",
       "value": "Qubits in state <img src=\"http://latex.codecogs.com/svg.latex?\\vert1\\rangle\" border=\"0\"/> decay down to <img src=\"http://latex.codecogs.com/svg.latex?\\vert0\\rangle\" border=\"0\"/> before measurement. The decay times for both qubits are equal."
      }
     },
     "379bb79b7e694e47a8cbd652c8f7bafb": {
      "model_module": "@jupyter-widgets/controls",
      "model_module_version": "1.4.0",
      "model_name": "HBoxModel",
      "state": {
       "children": [
        "IPY_MODEL_eceba7edaade40798e24c56f6bff9d0e",
        "IPY_MODEL_d8ca4b736d2844a79dcdeb03c2aea0b8",
        "IPY_MODEL_3f131c4492c84187a18c74e13ef1e641",
        "IPY_MODEL_1e503de2af0248558edde1c77469e5a4",
        "IPY_MODEL_c74f8c37564e4c9bb54076ec0896b52f",
        "IPY_MODEL_499ff32b001642958fc1b2bda588b24a"
       ],
       "layout": "IPY_MODEL_a1b5ac7d372648318bf83bdef26abae6"
      }
     },
     "37c8102f97f14ea08e63d7dd5fef1015": {
      "model_module": "@jupyter-widgets/base",
      "model_module_version": "1.1.0",
      "model_name": "LayoutModel",
      "state": {}
     },
     "37f862027ef04c6cb3b361dde5f9309b": {
      "model_module": "@jupyter-widgets/controls",
      "model_module_version": "1.4.0",
      "model_name": "DescriptionStyleModel",
      "state": {
       "description_width": ""
      }
     },
     "382ef58819244920ac41d3a38002ed4a": {
      "model_module": "@jupyter-widgets/base",
      "model_module_version": "1.1.0",
      "model_name": "LayoutModel",
      "state": {}
     },
     "38464b535aaa40fd90e9c244147ed27b": {
      "model_module": "@jupyter-widgets/controls",
      "model_module_version": "1.4.0",
      "model_name": "HTMLModel",
      "state": {
       "layout": "IPY_MODEL_605950dd3a5e4498b2128babae8588d0",
       "style": "IPY_MODEL_4c4317075d7a415bb6b7e65acfbb954c",
       "value": "Both 2 & 3 are possible"
      }
     },
     "384a8e8d46b54a5c90ef9ead8a671357": {
      "model_module": "@jupyter-widgets/base",
      "model_module_version": "1.1.0",
      "model_name": "LayoutModel",
      "state": {
       "margin": "20px",
       "visibility": "visible"
      }
     },
     "3852906df1ef4be5aaebd8d73778b6c1": {
      "model_module": "@jupyter-widgets/base",
      "model_module_version": "1.1.0",
      "model_name": "LayoutModel",
      "state": {
       "visibility": "visible"
      }
     },
     "3856c566ed6941f4bf3f93b23bb70737": {
      "model_module": "@jupyter-widgets/controls",
      "model_module_version": "1.4.0",
      "model_name": "DescriptionStyleModel",
      "state": {
       "description_width": ""
      }
     },
     "3861c6e05ee94b15a145d689a0898874": {
      "model_module": "@jupyter-widgets/controls",
      "model_module_version": "1.4.0",
      "model_name": "ButtonModel",
      "state": {
       "description": "2",
       "layout": "IPY_MODEL_c86547cacd2c49638d1152db690c51b6",
       "style": "IPY_MODEL_2bcb770f41684fafbcfe08b0c50fbfd3"
      }
     },
     "387cb840f947422b8e04242800899222": {
      "model_module": "@jupyter-widgets/base",
      "model_module_version": "1.1.0",
      "model_name": "LayoutModel",
      "state": {}
     },
     "38841b326bf1419eb5a339ee3aecedaa": {
      "model_module": "@jupyter-widgets/controls",
      "model_module_version": "1.4.0",
      "model_name": "HTMLModel",
      "state": {
       "layout": "IPY_MODEL_73dfb33b71494ac7aa4c12ab746bf417",
       "style": "IPY_MODEL_688422c6fe904d6484637ed378831d3e",
       "value": "<b>4</b>)&nbsp;&nbsp;"
      }
     },
     "38905c65799a42b5a19e3dc7ffd975ef": {
      "model_module": "@jupyter-widgets/controls",
      "model_module_version": "1.4.0",
      "model_name": "ButtonModel",
      "state": {
       "description": "2",
       "layout": "IPY_MODEL_bcf6097f9d2b48c4ad45538404f64220",
       "style": "IPY_MODEL_41fd3640fc7e4eaaaf22e17847c36cd3"
      }
     },
     "389dc36f827c4b6c813f0f0654154309": {
      "model_module": "@jupyter-widgets/base",
      "model_module_version": "1.1.0",
      "model_name": "LayoutModel",
      "state": {}
     },
     "38d8a6838fe5447092e9a56ca65ce3ea": {
      "model_module": "@jupyter-widgets/controls",
      "model_module_version": "1.4.0",
      "model_name": "VBoxModel",
      "state": {
       "children": [
        "IPY_MODEL_edb890d5aafe47feb893686da9bd6342",
        "IPY_MODEL_88fd717f0d1447b48b453fbfed60d6c0"
       ],
       "layout": "IPY_MODEL_58f20bbc4cbc477f8eede63f90c06c78"
      }
     },
     "3918f91f747f4e29bd58ded4f0765384": {
      "model_module": "@jupyter-widgets/controls",
      "model_module_version": "1.4.0",
      "model_name": "HTMLModel",
      "state": {
       "layout": "IPY_MODEL_d25d4fe47e734630bccf4aff5a11a87b",
       "style": "IPY_MODEL_320a0e6fc8e448fa8a67d4328561b5ff",
       "value": "<b>2</b>)&nbsp;&nbsp;"
      }
     },
     "3928dedfa7cd45ef8b2e62163f782729": {
      "model_module": "@jupyter-widgets/controls",
      "model_module_version": "1.4.0",
      "model_name": "ButtonModel",
      "state": {
       "description": "2",
       "layout": "IPY_MODEL_06d1e2e60bc443d5884ecc4b6e50fb87",
       "style": "IPY_MODEL_5f44d8dce2224dac8806c2b36891b6a6"
      }
     },
     "393b6ddc340a4121a6b8c6d9422218ce": {
      "model_module": "@jupyter-widgets/base",
      "model_module_version": "1.1.0",
      "model_name": "LayoutModel",
      "state": {
       "visibility": "visible"
      }
     },
     "39424348aebf43c1bd82da70386c48b7": {
      "model_module": "@jupyter-widgets/base",
      "model_module_version": "1.1.0",
      "model_name": "LayoutModel",
      "state": {}
     },
     "39584d320acf4a339b1b4e03e91662e0": {
      "model_module": "@jupyter-widgets/controls",
      "model_module_version": "1.4.0",
      "model_name": "DescriptionStyleModel",
      "state": {
       "description_width": ""
      }
     },
     "397647493f324570ba37edaedb1ee165": {
      "model_module": "@jupyter-widgets/base",
      "model_module_version": "1.1.0",
      "model_name": "LayoutModel",
      "state": {}
     },
     "3977ee8d7e1341299c752cc0a2cd1dfd": {
      "model_module": "@jupyter-widgets/base",
      "model_module_version": "1.1.0",
      "model_name": "LayoutModel",
      "state": {}
     },
     "3989a277846a4eef9cc5805604e9e94b": {
      "model_module": "@jupyter-widgets/controls",
      "model_module_version": "1.4.0",
      "model_name": "ButtonStyleModel",
      "state": {}
     },
     "39be9560b25441f78e96f800ad357d1f": {
      "model_module": "@jupyter-widgets/base",
      "model_module_version": "1.1.0",
      "model_name": "LayoutModel",
      "state": {}
     },
     "3a46cb12d8194aa1811afd504e393a59": {
      "model_module": "@jupyter-widgets/controls",
      "model_module_version": "1.4.0",
      "model_name": "HTMLModel",
      "state": {
       "layout": "IPY_MODEL_06121eeb24954aadae30155af00f812b",
       "style": "IPY_MODEL_0e5d5f28fa834dcc9cfa8abf7533f294",
       "value": "<img src=\"qiskitintro_images/1.png\">"
      }
     },
     "3a512a79c906427db0aff87757f40fc2": {
      "model_module": "@jupyter-widgets/controls",
      "model_module_version": "1.4.0",
      "model_name": "DescriptionStyleModel",
      "state": {
       "description_width": ""
      }
     },
     "3a74e8dfdc134729bcc020293ad7afd4": {
      "model_module": "@jupyter-widgets/controls",
      "model_module_version": "1.4.0",
      "model_name": "HTMLModel",
      "state": {
       "layout": "IPY_MODEL_3d03798127b74bc3b8a0cde46c728483",
       "style": "IPY_MODEL_a96d9fdd262b4e68b66004932a997195",
       "value": "Both 2 & 3 are possible"
      }
     },
     "3a7ce6d3fbd04b3a8bb3a3e1f6633c3d": {
      "model_module": "@jupyter-widgets/controls",
      "model_module_version": "1.4.0",
      "model_name": "DescriptionStyleModel",
      "state": {
       "description_width": ""
      }
     },
     "3a8f516316bd4d86a8a4199f005f8c32": {
      "model_module": "@jupyter-widgets/controls",
      "model_module_version": "1.4.0",
      "model_name": "HTMLModel",
      "state": {
       "layout": "IPY_MODEL_c5a8da1d17e64b7e98043af2879db6f1",
       "style": "IPY_MODEL_16736b707c8b4396b68bbfa7880fdcbb"
      }
     },
     "3aae242e08de4cc190566c38902295b0": {
      "model_module": "@jupyter-widgets/controls",
      "model_module_version": "1.4.0",
      "model_name": "ButtonModel",
      "state": {
       "description": "5",
       "layout": "IPY_MODEL_0ae9f34a44e64edbbd5758752f748d15",
       "style": "IPY_MODEL_69321dc3770648e78ea8e7d6060162aa"
      }
     },
     "3adbbb3128224c9192a896f051756129": {
      "model_module": "@jupyter-widgets/controls",
      "model_module_version": "1.4.0",
      "model_name": "ButtonStyleModel",
      "state": {}
     },
     "3ae545c46b254ef7ab4071f0f078bccd": {
      "model_module": "@jupyter-widgets/base",
      "model_module_version": "1.1.0",
      "model_name": "LayoutModel",
      "state": {}
     },
     "3af9827265bd433299c5a30b05641f94": {
      "model_module": "@jupyter-widgets/base",
      "model_module_version": "1.1.0",
      "model_name": "LayoutModel",
      "state": {}
     },
     "3b17ce57a03041d0aa2a5765e347e723": {
      "model_module": "@jupyter-widgets/controls",
      "model_module_version": "1.4.0",
      "model_name": "DescriptionStyleModel",
      "state": {
       "description_width": ""
      }
     },
     "3b217fd6f7eb4986815046443c7e6b98": {
      "model_module": "@jupyter-widgets/base",
      "model_module_version": "1.1.0",
      "model_name": "LayoutModel",
      "state": {}
     },
     "3b2ad60dd85f4fdd888496cb143db12a": {
      "model_module": "@jupyter-widgets/controls",
      "model_module_version": "1.4.0",
      "model_name": "VBoxModel",
      "state": {
       "children": [
        "IPY_MODEL_b7c8dedbaeef41798b37f7e0033e8953",
        "IPY_MODEL_8c34be613a304b01b6d74141cf7fc8ba",
        "IPY_MODEL_d34002fcb37446dc9ca292d873c2dfc8",
        "IPY_MODEL_f0edc4bbda374ea48379bc07ec068905",
        "IPY_MODEL_f886c05263b349519a77bb419d71cdf7",
        "IPY_MODEL_bbbc5d3e1668416891aa37ca8d093377",
        "IPY_MODEL_3ff6375d7df144e09c3860db6d3a3397",
        "IPY_MODEL_e4bf2aca3565424fb5fba1e9fc33a971",
        "IPY_MODEL_68b9af6bd4084d4b90fdfcb637f05302"
       ],
       "layout": "IPY_MODEL_34a2b49e59544d34a385fe9c5eabaa8e"
      }
     },
     "3b65b39c32f3438aa7429bf0ca7848e9": {
      "model_module": "@jupyter-widgets/controls",
      "model_module_version": "1.4.0",
      "model_name": "HTMLModel",
      "state": {
       "layout": "IPY_MODEL_8cc426fe76d3411293041856d26d00f5",
       "style": "IPY_MODEL_486994a4c7154dd3a16d8f84cd40f4f3",
       "value": "<b>5</b>)&nbsp;&nbsp;"
      }
     },
     "3b8b91357fa24a1b80a69210320271f3": {
      "model_module": "@jupyter-widgets/controls",
      "model_module_version": "1.4.0",
      "model_name": "DescriptionStyleModel",
      "state": {
       "description_width": ""
      }
     },
     "3b9c4ed7394446f590f08a6c7e9ab344": {
      "model_module": "@jupyter-widgets/controls",
      "model_module_version": "1.4.0",
      "model_name": "ButtonStyleModel",
      "state": {}
     },
     "3b9df45bfde543b48e5ef840f1c26484": {
      "model_module": "@jupyter-widgets/base",
      "model_module_version": "1.1.0",
      "model_name": "LayoutModel",
      "state": {}
     },
     "3bbb505200374c74832dceea57ea3b1f": {
      "model_module": "@jupyter-widgets/base",
      "model_module_version": "1.1.0",
      "model_name": "LayoutModel",
      "state": {}
     },
     "3bcdcd36912d4111b41c7e2182635a12": {
      "model_module": "@jupyter-widgets/controls",
      "model_module_version": "1.4.0",
      "model_name": "DescriptionStyleModel",
      "state": {
       "description_width": ""
      }
     },
     "3be24f2245cf47d0a43ba0c0c1f94b38": {
      "model_module": "@jupyter-widgets/controls",
      "model_module_version": "1.4.0",
      "model_name": "DescriptionStyleModel",
      "state": {
       "description_width": ""
      }
     },
     "3bf33cc3ecf440b58f8fc1286dc98e81": {
      "model_module": "@jupyter-widgets/controls",
      "model_module_version": "1.4.0",
      "model_name": "HTMLModel",
      "state": {
       "layout": "IPY_MODEL_4f910008d90a40debad4f1fa76041179",
       "style": "IPY_MODEL_771a8a5c7cf247468263171b15168a83",
       "value": "<b>3</b>)&nbsp;&nbsp;"
      }
     },
     "3c42d72369524f7ebe05fdfd831f95d8": {
      "model_module": "@jupyter-widgets/controls",
      "model_module_version": "1.4.0",
      "model_name": "DescriptionStyleModel",
      "state": {
       "description_width": ""
      }
     },
     "3c44c11cce8e480bb3474432fd758c7d": {
      "model_module": "@jupyter-widgets/controls",
      "model_module_version": "1.4.0",
      "model_name": "ButtonStyleModel",
      "state": {}
     },
     "3c6f14380ce641f0bf824609927cf04f": {
      "model_module": "@jupyter-widgets/base",
      "model_module_version": "1.1.0",
      "model_name": "LayoutModel",
      "state": {}
     },
     "3d03798127b74bc3b8a0cde46c728483": {
      "model_module": "@jupyter-widgets/base",
      "model_module_version": "1.1.0",
      "model_name": "LayoutModel",
      "state": {}
     },
     "3d4c9427988b45909b3162c4afb03c8f": {
      "model_module": "@jupyter-widgets/controls",
      "model_module_version": "1.4.0",
      "model_name": "HBoxModel",
      "state": {
       "children": [
        "IPY_MODEL_bf0ab62302c548f7b1f203ac96a1d23a",
        "IPY_MODEL_d3e340fccb1c45e3a10787ff2fb1663a"
       ],
       "layout": "IPY_MODEL_bb4976f539fa4908b8095bc6e8b0362d"
      }
     },
     "3d5b6dc3b1aa45b2a2f16d4c036b354b": {
      "model_module": "@jupyter-widgets/controls",
      "model_module_version": "1.4.0",
      "model_name": "HBoxModel",
      "state": {
       "children": [
        "IPY_MODEL_f3cd885d552240a0864c1993b0089e59",
        "IPY_MODEL_f815a98a1b60494f96344847b4a8ac9f"
       ],
       "layout": "IPY_MODEL_edf8fb312bd74cd39c09487f131d691b"
      }
     },
     "3d800cb6db6b41d8b44aa34f422c5004": {
      "model_module": "@jupyter-widgets/controls",
      "model_module_version": "1.4.0",
      "model_name": "HTMLModel",
      "state": {
       "layout": "IPY_MODEL_f730cce9dfda4b189c8058d0278cfece",
       "style": "IPY_MODEL_4da979b7fe2546e0bf58aecbd56a0911",
       "value": "<b>4</b>)&nbsp;&nbsp;"
      }
     },
     "3db56a22e1b74aedb4dfaea0cb1ca140": {
      "model_module": "@jupyter-widgets/controls",
      "model_module_version": "1.4.0",
      "model_name": "HBoxModel",
      "state": {
       "children": [
        "IPY_MODEL_6f722e33b9cf4533a4a6cc688d3aa5cb",
        "IPY_MODEL_ba2061773365496bbe3609a2c6b8a3df"
       ],
       "layout": "IPY_MODEL_5e73ac110c9f4933a5e18ca84bb8ed99"
      }
     },
     "3df4e46f9ea14af7b42d7b1ec478e849": {
      "model_module": "@jupyter-widgets/controls",
      "model_module_version": "1.4.0",
      "model_name": "DescriptionStyleModel",
      "state": {
       "description_width": ""
      }
     },
     "3e12d26890c04bf7aaffeafffbf55149": {
      "model_module": "@jupyter-widgets/base",
      "model_module_version": "1.1.0",
      "model_name": "LayoutModel",
      "state": {
       "visibility": "visible"
      }
     },
     "3e39246d3188459c963c5429fdaa0076": {
      "model_module": "@jupyter-widgets/controls",
      "model_module_version": "1.4.0",
      "model_name": "DescriptionStyleModel",
      "state": {
       "description_width": ""
      }
     },
     "3e449c620e4c4b9faf463db7d665b3c3": {
      "model_module": "@jupyter-widgets/controls",
      "model_module_version": "1.4.0",
      "model_name": "ButtonStyleModel",
      "state": {}
     },
     "3e4cc130165645c9b780806916ba4a43": {
      "model_module": "@jupyter-widgets/base",
      "model_module_version": "1.1.0",
      "model_name": "LayoutModel",
      "state": {}
     },
     "3e67e8592b974255b555cf62f48a9d88": {
      "model_module": "@jupyter-widgets/base",
      "model_module_version": "1.1.0",
      "model_name": "LayoutModel",
      "state": {
       "visibility": "visible"
      }
     },
     "3e9d8b07d4df4c0fb13d302d048c5966": {
      "model_module": "@jupyter-widgets/controls",
      "model_module_version": "1.4.0",
      "model_name": "ButtonStyleModel",
      "state": {}
     },
     "3ea58aa91f4d410891fd9892fb02cd86": {
      "model_module": "@jupyter-widgets/controls",
      "model_module_version": "1.4.0",
      "model_name": "DescriptionStyleModel",
      "state": {
       "description_width": ""
      }
     },
     "3eac56cedc544556897b4960a4c79c1c": {
      "model_module": "@jupyter-widgets/controls",
      "model_module_version": "1.4.0",
      "model_name": "DescriptionStyleModel",
      "state": {
       "description_width": ""
      }
     },
     "3ec2f223ebec4fff865fb21610067dcd": {
      "model_module": "@jupyter-widgets/controls",
      "model_module_version": "1.4.0",
      "model_name": "HTMLModel",
      "state": {
       "layout": "IPY_MODEL_99b5b47b7b40424b995f1962f3ee7362",
       "style": "IPY_MODEL_72de181a7a584382803a003fd17204f8",
       "value": "All of the above"
      }
     },
     "3f0825baca264f6b8814978cdeb9c9fa": {
      "model_module": "@jupyter-widgets/base",
      "model_module_version": "1.1.0",
      "model_name": "LayoutModel",
      "state": {
       "visibility": "hidden"
      }
     },
     "3f0abb0a6de94cf5ab5d920536547dae": {
      "model_module": "@jupyter-widgets/controls",
      "model_module_version": "1.4.0",
      "model_name": "ButtonStyleModel",
      "state": {}
     },
     "3f131c4492c84187a18c74e13ef1e641": {
      "model_module": "@jupyter-widgets/controls",
      "model_module_version": "1.4.0",
      "model_name": "ButtonModel",
      "state": {
       "description": "2",
       "layout": "IPY_MODEL_b2624bcf275a4c90a91ef0e26166aa5e",
       "style": "IPY_MODEL_9008541869624fcbbaba773c33dd8778"
      }
     },
     "3f523f4b58e747198b63f4d809ebde40": {
      "model_module": "@jupyter-widgets/controls",
      "model_module_version": "1.4.0",
      "model_name": "ButtonStyleModel",
      "state": {}
     },
     "3f6a17be70e843b1ae2a3f0f59718a70": {
      "model_module": "@jupyter-widgets/base",
      "model_module_version": "1.1.0",
      "model_name": "LayoutModel",
      "state": {}
     },
     "3fb0c9b45ec64fcc82a4096ffa15386e": {
      "model_module": "@jupyter-widgets/controls",
      "model_module_version": "1.4.0",
      "model_name": "ButtonStyleModel",
      "state": {}
     },
     "3fc0648ef138407f91b4dce5e161497c": {
      "model_module": "@jupyter-widgets/controls",
      "model_module_version": "1.4.0",
      "model_name": "DescriptionStyleModel",
      "state": {
       "description_width": ""
      }
     },
     "3fdc8d3731ba4d8cba41d4df07caf95d": {
      "model_module": "@jupyter-widgets/controls",
      "model_module_version": "1.4.0",
      "model_name": "ButtonModel",
      "state": {
       "description": "2",
       "layout": "IPY_MODEL_cbeae918799b48f3b90245ead1fbc9ca",
       "style": "IPY_MODEL_d5862cf63a7d4c7cbc852b378095f91b"
      }
     },
     "3fed0f37907b447695c6bf6905ef4b3d": {
      "model_module": "@jupyter-widgets/base",
      "model_module_version": "1.1.0",
      "model_name": "LayoutModel",
      "state": {}
     },
     "3ff6375d7df144e09c3860db6d3a3397": {
      "model_module": "@jupyter-widgets/controls",
      "model_module_version": "1.4.0",
      "model_name": "HBoxModel",
      "state": {
       "children": [
        "IPY_MODEL_e02782bb94654a3599df570908c5c1b1",
        "IPY_MODEL_70df3eeca10940bb84a85bd9d08fbd1f"
       ],
       "layout": "IPY_MODEL_ec65d44a6fc64963ba4565f164011213"
      }
     },
     "401f31dffe6643feaaad7e5a666dc9dd": {
      "model_module": "@jupyter-widgets/controls",
      "model_module_version": "1.4.0",
      "model_name": "ButtonModel",
      "state": {
       "description": "Previous",
       "disabled": true,
       "layout": "IPY_MODEL_5ea4418ac3e94dc1bbf13ca06f8ac71b",
       "style": "IPY_MODEL_bac85c06dd4b402991992b5682d26e58"
      }
     },
     "404956448727478281ca1b34ff299313": {
      "model_module": "@jupyter-widgets/base",
      "model_module_version": "1.1.0",
      "model_name": "LayoutModel",
      "state": {}
     },
     "4062e631e85340cda4b9f28692cae84c": {
      "model_module": "@jupyter-widgets/base",
      "model_module_version": "1.1.0",
      "model_name": "LayoutModel",
      "state": {}
     },
     "4083350e35044ab08878d9605bce5e13": {
      "model_module": "@jupyter-widgets/controls",
      "model_module_version": "1.4.0",
      "model_name": "ButtonStyleModel",
      "state": {}
     },
     "40a8251e2dcc48a58904414c714cf9be": {
      "model_module": "@jupyter-widgets/base",
      "model_module_version": "1.1.0",
      "model_name": "LayoutModel",
      "state": {}
     },
     "40bb3134ce2d427b9082f9f66eaae1d6": {
      "model_module": "@jupyter-widgets/controls",
      "model_module_version": "1.4.0",
      "model_name": "ButtonModel",
      "state": {
       "description": "3",
       "layout": "IPY_MODEL_357707b290e74276952032c8e46fce3b",
       "style": "IPY_MODEL_ade1615c6dac46fba3621a5045dcf72a"
      }
     },
     "40c72d4f8b6f4e76bc2db44bf0bad50f": {
      "model_module": "@jupyter-widgets/base",
      "model_module_version": "1.1.0",
      "model_name": "LayoutModel",
      "state": {}
     },
     "40da26be197e415e85242a10284d810b": {
      "model_module": "@jupyter-widgets/controls",
      "model_module_version": "1.4.0",
      "model_name": "HBoxModel",
      "state": {
       "children": [
        "IPY_MODEL_4fb97a20f9994860a09b335ecafd5b50",
        "IPY_MODEL_6af48efd8ace43d99a337c4d7bf5b73d"
       ],
       "layout": "IPY_MODEL_6dba7b5e9e48474ba64ca398bcaf9d34"
      }
     },
     "40fe1bacfbfd4445ba022792c6bbaccd": {
      "model_module": "@jupyter-widgets/controls",
      "model_module_version": "1.4.0",
      "model_name": "DescriptionStyleModel",
      "state": {
       "description_width": ""
      }
     },
     "412b6495760047e89f38296267262a59": {
      "model_module": "@jupyter-widgets/controls",
      "model_module_version": "1.4.0",
      "model_name": "HTMLModel",
      "state": {
       "layout": "IPY_MODEL_2d8b73ac586c4b05997fea4b275277ac",
       "style": "IPY_MODEL_a118cdda61424469b0761b20c1aea316",
       "value": "<h1>\n       <h4>What is Qiskit Aqua?</h4> \n</h1>"
      }
     },
     "414329792c424074a5cf4d55dabe400a": {
      "model_module": "@jupyter-widgets/base",
      "model_module_version": "1.1.0",
      "model_name": "LayoutModel",
      "state": {}
     },
     "416747ee29354801bc50a5e91c25b48a": {
      "model_module": "@jupyter-widgets/controls",
      "model_module_version": "1.4.0",
      "model_name": "HTMLModel",
      "state": {
       "layout": "IPY_MODEL_fc6ac92870c04340bf1a777e041dac34",
       "style": "IPY_MODEL_a92bd918704b4adf899da4ed7512cc59"
      }
     },
     "416f7a7176e843879aeb392e8d35298d": {
      "model_module": "@jupyter-widgets/controls",
      "model_module_version": "1.4.0",
      "model_name": "ButtonStyleModel",
      "state": {}
     },
     "41755fa9b1204d3db9f6f9432a064a8f": {
      "model_module": "@jupyter-widgets/base",
      "model_module_version": "1.1.0",
      "model_name": "LayoutModel",
      "state": {
       "visibility": "visible"
      }
     },
     "418736e8f1b84b8a9e2d516f0476a14c": {
      "model_module": "@jupyter-widgets/controls",
      "model_module_version": "1.4.0",
      "model_name": "HTMLModel",
      "state": {
       "layout": "IPY_MODEL_2563c144ac4448ea9e403ff0589d9b13",
       "style": "IPY_MODEL_72f60c804ee24b96a529b62f5963c71e",
       "value": "<img src=\"questions/qiskitintro_images/3.png\">"
      }
     },
     "41b20b4d6a3a4fcd8318e0cce93cff79": {
      "model_module": "@jupyter-widgets/controls",
      "model_module_version": "1.4.0",
      "model_name": "ButtonModel",
      "state": {
       "description": "Next",
       "layout": "IPY_MODEL_257d3ac0e83c4f9dac8de5b73a501e5b",
       "style": "IPY_MODEL_eadb950039b144ffa650c6f87295295e"
      }
     },
     "41bbd3b6fe814fadb9e9292d9102a8de": {
      "model_module": "@jupyter-widgets/controls",
      "model_module_version": "1.4.0",
      "model_name": "HTMLModel",
      "state": {
       "layout": "IPY_MODEL_c1018e0483d24b24810e8e3a58b9071d",
       "style": "IPY_MODEL_40fe1bacfbfd4445ba022792c6bbaccd",
       "value": "None of the above"
      }
     },
     "41f6381586a74820802494f260045b59": {
      "model_module": "@jupyter-widgets/controls",
      "model_module_version": "1.4.0",
      "model_name": "HTMLModel",
      "state": {
       "layout": "IPY_MODEL_3760e697b8d04f27a9999c83ece364f4",
       "style": "IPY_MODEL_7de202f3364346029afe76fe1b727d6d",
       "value": "<b>1</b>)&nbsp;&nbsp;"
      }
     },
     "41fd3640fc7e4eaaaf22e17847c36cd3": {
      "model_module": "@jupyter-widgets/controls",
      "model_module_version": "1.4.0",
      "model_name": "ButtonStyleModel",
      "state": {}
     },
     "4213a8a39c4d4e5fa1b3fcf15b913adb": {
      "model_module": "@jupyter-widgets/controls",
      "model_module_version": "1.4.0",
      "model_name": "DescriptionStyleModel",
      "state": {
       "description_width": ""
      }
     },
     "4223f1de16df408e9bcfbdfedbc1adea": {
      "model_module": "@jupyter-widgets/controls",
      "model_module_version": "1.4.0",
      "model_name": "DescriptionStyleModel",
      "state": {
       "description_width": ""
      }
     },
     "422aed8654c74b0da0f2e05b5d6536dc": {
      "model_module": "@jupyter-widgets/controls",
      "model_module_version": "1.4.0",
      "model_name": "ButtonStyleModel",
      "state": {}
     },
     "426bdeb39afa4b7597f65c1e5d245940": {
      "model_module": "@jupyter-widgets/base",
      "model_module_version": "1.1.0",
      "model_name": "LayoutModel",
      "state": {
       "visibility": "hidden"
      }
     },
     "428206e7ca874d43a3cc06604da29bdb": {
      "model_module": "@jupyter-widgets/controls",
      "model_module_version": "1.4.0",
      "model_name": "DescriptionStyleModel",
      "state": {
       "description_width": ""
      }
     },
     "428efdc6ab88470d87f6266a11557122": {
      "model_module": "@jupyter-widgets/controls",
      "model_module_version": "1.4.0",
      "model_name": "HTMLModel",
      "state": {
       "layout": "IPY_MODEL_235e7a77c1204db3a9f840bfdd931373",
       "style": "IPY_MODEL_dc5f7967aac5468791cf911dac0af98f"
      }
     },
     "42ae78d70eda49fd8ad576f795d2d0b8": {
      "model_module": "@jupyter-widgets/controls",
      "model_module_version": "1.4.0",
      "model_name": "HTMLModel",
      "state": {
       "layout": "IPY_MODEL_adaa4f58e6b847ddb438638562b7ab11",
       "style": "IPY_MODEL_ca8634cf04b34defa5475f5f63d83469",
       "value": "<b>2</b>)&nbsp;&nbsp;"
      }
     },
     "42c8df14774445f08b94ed14de9743a8": {
      "model_module": "@jupyter-widgets/base",
      "model_module_version": "1.1.0",
      "model_name": "LayoutModel",
      "state": {
       "visibility": "visible"
      }
     },
     "42ec689601d3424fa8aff4a29a23655f": {
      "model_module": "@jupyter-widgets/base",
      "model_module_version": "1.1.0",
      "model_name": "LayoutModel",
      "state": {
       "visibility": "visible"
      }
     },
     "42f0dd84d3a943ff921fbe6a7298a3c7": {
      "model_module": "@jupyter-widgets/controls",
      "model_module_version": "1.4.0",
      "model_name": "ButtonModel",
      "state": {
       "description": "1",
       "layout": "IPY_MODEL_a5678bb9e67640629153b8f3b433ceba",
       "style": "IPY_MODEL_3989a277846a4eef9cc5805604e9e94b"
      }
     },
     "432006224e5d4134bb0c1092d424ff6b": {
      "model_module": "@jupyter-widgets/controls",
      "model_module_version": "1.4.0",
      "model_name": "HTMLModel",
      "state": {
       "layout": "IPY_MODEL_ebb7d347738946658d303a6edc0e4390",
       "style": "IPY_MODEL_ddd0dda0ccd940f59a8d0e8302e5c6c3",
       "value": "<h1>\n       <h4>How many gates are in the quantum circuit that results from transpiling the following quantum circuit \n       using only the pass <pre>BasicSwapMapper?</pre> <br/>\n       \n       Assume the following coupling map: <br/><br/>\n       <pre>\n[[0, 1], [1, 2], [2, 3], [3, 4]]\n       </pre></h4>\n       <pre>\nqr = QuantumRegister(5, 'q') \ntpl_circuit = QuantumCircuit(qr)\ntpl_circuit.h(qr[3])\ntpl_circuit.cx(qr[0], qr[4])\ntpl_circuit.cx(qr[3], qr[0])\n       </pre>\n       </h1>"
      }
     },
     "434ac32e17194aa4b1403b7d40759608": {
      "model_module": "@jupyter-widgets/controls",
      "model_module_version": "1.4.0",
      "model_name": "DescriptionStyleModel",
      "state": {
       "description_width": ""
      }
     },
     "436dd81974104fc1851aecb151f60c80": {
      "model_module": "@jupyter-widgets/controls",
      "model_module_version": "1.4.0",
      "model_name": "HTMLModel",
      "state": {
       "layout": "IPY_MODEL_db7316e19db94abfa6f876b0348eb481",
       "style": "IPY_MODEL_eb2ca580da7c43349decea717779271b",
       "value": "<b>3</b>)&nbsp;&nbsp;"
      }
     },
     "43dc64d5cccb481b9244f2784dc86106": {
      "model_module": "@jupyter-widgets/controls",
      "model_module_version": "1.4.0",
      "model_name": "ButtonModel",
      "state": {
       "description": "2",
       "layout": "IPY_MODEL_e3c7887e973d42ee87d697ba7dbea233",
       "style": "IPY_MODEL_64dcda5fd49d40ec9fbe636a5ea14895"
      }
     },
     "4409d1b34c6b4bf2bbd02d2f588a1f77": {
      "model_module": "@jupyter-widgets/base",
      "model_module_version": "1.1.0",
      "model_name": "LayoutModel",
      "state": {
       "margin": "20px",
       "visibility": "visible"
      }
     },
     "44542b30c860413fb1b1d5cf7823a7ae": {
      "model_module": "@jupyter-widgets/controls",
      "model_module_version": "1.4.0",
      "model_name": "DescriptionStyleModel",
      "state": {
       "description_width": ""
      }
     },
     "446b2406d7a548179bc3b480a589f4d6": {
      "model_module": "@jupyter-widgets/base",
      "model_module_version": "1.1.0",
      "model_name": "LayoutModel",
      "state": {}
     },
     "446dd982036b486eaa237499585a5903": {
      "model_module": "@jupyter-widgets/controls",
      "model_module_version": "1.4.0",
      "model_name": "ButtonStyleModel",
      "state": {}
     },
     "447eedc250204fdbaa7fafe8dbd52a5e": {
      "model_module": "@jupyter-widgets/controls",
      "model_module_version": "1.4.0",
      "model_name": "HTMLModel",
      "state": {
       "layout": "IPY_MODEL_b3f8d6f45ea24b6ab4f19c3ed676a503",
       "style": "IPY_MODEL_0cdefdeac8414ca98f372c261106c65d",
       "value": "<h1>\n       <h4>Which of the following could be the result of the following <samp>Aer</samp> simulation?<br/><br/></h4> \n<pre>\nqr = QuantumRegister(3, 'q')\ncr = ClassicalRegister(3, 'c')\ncirc = QuantumCircuit(qr, cr)\n\ncirc.h(qr[0])\ncirc.h(qr[1])\ncirc.cx(qr[0], qr[1])\ncirc.cx(qr[0], qr[2])\ncirc.measure(qr, cr)\n\nsimulator = Aer.get_backend('qasm_simulator')\n\nresult = execute(circ, simulator).result()\ncounts = result.get_counts(circ)\nplot_histogram(counts)\n\n</pre>\n       </h1>"
      }
     },
     "44803fd67fe04e4184d46af802b07891": {
      "model_module": "@jupyter-widgets/controls",
      "model_module_version": "1.4.0",
      "model_name": "ButtonModel",
      "state": {
       "description": "Previous",
       "disabled": true,
       "layout": "IPY_MODEL_dec65498e3604846964642407a4d22f8",
       "style": "IPY_MODEL_ebcb93adaa8b42ba85b4448e4e524317"
      }
     },
     "44b1ee02646d40379f5342bfb415c1f9": {
      "model_module": "@jupyter-widgets/controls",
      "model_module_version": "1.4.0",
      "model_name": "ButtonModel",
      "state": {
       "description": "1",
       "layout": "IPY_MODEL_2a1820e6120d4a38b342279e3c33e472",
       "style": "IPY_MODEL_d97d79efaf9c41f0b9c5efa4c6490658"
      }
     },
     "44e9840cd317447cbc2db85d8aa40e7a": {
      "model_module": "@jupyter-widgets/controls",
      "model_module_version": "1.4.0",
      "model_name": "ButtonModel",
      "state": {
       "description": "3",
       "layout": "IPY_MODEL_8b6a32fe7d14433fa2ff5bd65dada3c8",
       "style": "IPY_MODEL_d41618a7b5a74d42871fc649ed936ba3"
      }
     },
     "44fcd1d23f2540498e7e5478e1697d15": {
      "model_module": "@jupyter-widgets/controls",
      "model_module_version": "1.4.0",
      "model_name": "VBoxModel",
      "state": {
       "children": [
        "IPY_MODEL_b502bc154a1f4a9a9945da31795525ed",
        "IPY_MODEL_32a0568ae5af4abbb69dd9e616c6e080"
       ],
       "layout": "IPY_MODEL_e34a3c5362d74d18b61d026beb099e0c"
      }
     },
     "4502e05039ed40c09d30cdc5432e3d93": {
      "model_module": "@jupyter-widgets/controls",
      "model_module_version": "1.4.0",
      "model_name": "DescriptionStyleModel",
      "state": {
       "description_width": ""
      }
     },
     "4506bf19c3134d8da9f6e167131d367a": {
      "model_module": "@jupyter-widgets/controls",
      "model_module_version": "1.4.0",
      "model_name": "DescriptionStyleModel",
      "state": {
       "description_width": ""
      }
     },
     "45261f0ee0924541ae9fcb6218048ec1": {
      "model_module": "@jupyter-widgets/controls",
      "model_module_version": "1.4.0",
      "model_name": "HTMLModel",
      "state": {
       "layout": "IPY_MODEL_5595a2f8e9fe4bac8aa694fbe06b0bba",
       "style": "IPY_MODEL_355da5e33fb5488084fb2c15d6c3bb25",
       "value": "<b>3</b>)&nbsp;&nbsp;"
      }
     },
     "4548bb5b1f16453facb19cab2a21d93c": {
      "model_module": "@jupyter-widgets/controls",
      "model_module_version": "1.4.0",
      "model_name": "ButtonStyleModel",
      "state": {}
     },
     "454fa7214f78469ebd246510937915b2": {
      "model_module": "@jupyter-widgets/controls",
      "model_module_version": "1.4.0",
      "model_name": "HTMLModel",
      "state": {
       "layout": "IPY_MODEL_78ef5596e62848db8ff74f8ca2ea514d",
       "style": "IPY_MODEL_a5d6466f22be425bbe0f2ea1a0565881"
      }
     },
     "456701e3d82d46bdbe3165313c846840": {
      "model_module": "@jupyter-widgets/base",
      "model_module_version": "1.1.0",
      "model_name": "LayoutModel",
      "state": {}
     },
     "45bc7c43c9d44b9fb1acf8eec657b4a5": {
      "model_module": "@jupyter-widgets/controls",
      "model_module_version": "1.4.0",
      "model_name": "HTMLModel",
      "state": {
       "layout": "IPY_MODEL_764573a7462a47688bbc86c1156027a2",
       "style": "IPY_MODEL_7eed6def10ce4a2ab9f70964c9ab7402",
       "value": "<br/><br clear=\"all\"/><b>Respond</b>: "
      }
     },
     "45c5fde87c7a4f509e79abd2dec16c61": {
      "model_module": "@jupyter-widgets/controls",
      "model_module_version": "1.4.0",
      "model_name": "HTMLModel",
      "state": {
       "layout": "IPY_MODEL_74e5e5e99e30481189cd8a344199fae9",
       "style": "IPY_MODEL_5d67bb4173da4d10b42a83ec795a78b2",
       "value": "<b>4</b>)&nbsp;&nbsp;"
      }
     },
     "45cdb846642d4881bdb4395ea9f70b37": {
      "model_module": "@jupyter-widgets/controls",
      "model_module_version": "1.4.0",
      "model_name": "DescriptionStyleModel",
      "state": {
       "description_width": ""
      }
     },
     "462ebcfd00ac40c5b8afb10c96c83b23": {
      "model_module": "@jupyter-widgets/controls",
      "model_module_version": "1.4.0",
      "model_name": "HBoxModel",
      "state": {
       "children": [
        "IPY_MODEL_b42e8e54696046649d12876355c5800d",
        "IPY_MODEL_6ab4498764f74ebdad1174178b893c7c",
        "IPY_MODEL_3102486dd9324d4d8cf63a5cc479d140"
       ],
       "layout": "IPY_MODEL_9b12c2a3c4fc43c184a58678acb7b442"
      }
     },
     "46304291c03a4a15912bf6765411a32f": {
      "model_module": "@jupyter-widgets/base",
      "model_module_version": "1.1.0",
      "model_name": "LayoutModel",
      "state": {}
     },
     "463b080b4daa4fa3b3bdc617261cd7f1": {
      "model_module": "@jupyter-widgets/base",
      "model_module_version": "1.1.0",
      "model_name": "LayoutModel",
      "state": {}
     },
     "46598fecdc8548aeaec6db31daee6fb2": {
      "model_module": "@jupyter-widgets/base",
      "model_module_version": "1.1.0",
      "model_name": "LayoutModel",
      "state": {}
     },
     "46836c19b192422c980bb9b93f8adf25": {
      "model_module": "@jupyter-widgets/base",
      "model_module_version": "1.1.0",
      "model_name": "LayoutModel",
      "state": {
       "margin": "20px",
       "visibility": "visible"
      }
     },
     "46855e6fb8aa43f9aacfb8e48f9cd731": {
      "model_module": "@jupyter-widgets/controls",
      "model_module_version": "1.4.0",
      "model_name": "HTMLModel",
      "state": {
       "layout": "IPY_MODEL_5744726970764b19a801f33472ed6b7e",
       "style": "IPY_MODEL_0f679ca029574363b6fcaabd0df7c02f",
       "value": "<b>5</b>)&nbsp;&nbsp;"
      }
     },
     "469bc493a650410a804b1dab8072e4c7": {
      "model_module": "@jupyter-widgets/base",
      "model_module_version": "1.1.0",
      "model_name": "LayoutModel",
      "state": {}
     },
     "469ff0bb9dce450788ef2440a27c5286": {
      "model_module": "@jupyter-widgets/base",
      "model_module_version": "1.1.0",
      "model_name": "LayoutModel",
      "state": {
       "visibility": "hidden"
      }
     },
     "46b114e3b6f24423bec184137b4144d5": {
      "model_module": "@jupyter-widgets/controls",
      "model_module_version": "1.4.0",
      "model_name": "HBoxModel",
      "state": {
       "children": [
        "IPY_MODEL_47410fffd6184e208c7ed3bca265531e",
        "IPY_MODEL_c9c4ec0632b24ef6a05455bedfb244b1",
        "IPY_MODEL_3928dedfa7cd45ef8b2e62163f782729",
        "IPY_MODEL_78c3b48da73e4865bcbd456bcf4f20ca",
        "IPY_MODEL_22140960ce0e4690b8f46f5614bf118d",
        "IPY_MODEL_044e9d6e8682409fa967ae428df64c1e"
       ],
       "layout": "IPY_MODEL_17a3486c81a348d297bf6c27892b17e7"
      }
     },
     "46ddac94988d4e6c81b00eb7eed8e62d": {
      "model_module": "@jupyter-widgets/controls",
      "model_module_version": "1.4.0",
      "model_name": "ButtonModel",
      "state": {
       "description": "Previous",
       "disabled": true,
       "layout": "IPY_MODEL_397647493f324570ba37edaedb1ee165",
       "style": "IPY_MODEL_5dba79134c194a7c9ceb3682f2e9d27b"
      }
     },
     "46fbb504e38143d1824c7d6fb663a3f2": {
      "model_module": "@jupyter-widgets/controls",
      "model_module_version": "1.4.0",
      "model_name": "HBoxModel",
      "state": {
       "children": [
        "IPY_MODEL_34d69f36bd0d47e0a26ac6ad95360805",
        "IPY_MODEL_7007f1231ffd4994983be2c15dda6bef"
       ],
       "layout": "IPY_MODEL_df0a133a2d54428fadf90dcedf731004"
      }
     },
     "47243f4092d94f6987ce5badc5633af9": {
      "model_module": "@jupyter-widgets/controls",
      "model_module_version": "1.4.0",
      "model_name": "HBoxModel",
      "state": {
       "children": [
        "IPY_MODEL_94a957ca86d44128969259449115401c",
        "IPY_MODEL_fa9ad4b714404f2fb6baf9a024a9418b"
       ],
       "layout": "IPY_MODEL_741f379be5984432958867d6da5d0ed3"
      }
     },
     "472f458c8cd64bdea286639d05e175b8": {
      "model_module": "@jupyter-widgets/base",
      "model_module_version": "1.1.0",
      "model_name": "LayoutModel",
      "state": {
       "visibility": "visible"
      }
     },
     "4736002763d4481b899fc4ccf61d3c85": {
      "model_module": "@jupyter-widgets/controls",
      "model_module_version": "1.4.0",
      "model_name": "ButtonStyleModel",
      "state": {}
     },
     "47387fd4946248f885a5fe11718ed57f": {
      "model_module": "@jupyter-widgets/controls",
      "model_module_version": "1.4.0",
      "model_name": "DescriptionStyleModel",
      "state": {
       "description_width": ""
      }
     },
     "47410fffd6184e208c7ed3bca265531e": {
      "model_module": "@jupyter-widgets/controls",
      "model_module_version": "1.4.0",
      "model_name": "HTMLModel",
      "state": {
       "layout": "IPY_MODEL_bcf0eea3a2ea4c6d820eb19604ec3bef",
       "style": "IPY_MODEL_a6fc9c955f454b2bb06f1a34c1d12771",
       "value": "<br/><br clear=\"all\"/><b>Respond</b>: "
      }
     },
     "47452d0b1202461a8e22612f0bc5e6e4": {
      "model_module": "@jupyter-widgets/controls",
      "model_module_version": "1.4.0",
      "model_name": "HTMLModel",
      "state": {
       "layout": "IPY_MODEL_49818fc047664f209a3310471febf91c",
       "style": "IPY_MODEL_2949241599cc4e41907919059c17f8c4",
       "value": "None of the above"
      }
     },
     "475ebb87e2024578b2dce4b317980ef1": {
      "model_module": "@jupyter-widgets/controls",
      "model_module_version": "1.4.0",
      "model_name": "HBoxModel",
      "state": {
       "children": [
        "IPY_MODEL_eb1fe9d14d6c4067a024ceeec2144185",
        "IPY_MODEL_fb640dd7605c4ce3a7aa931e2bba8cdc"
       ],
       "layout": "IPY_MODEL_f689ef94f16347a39db92aa1cb57be12"
      }
     },
     "475ec83b980f4a9db640aa45b91c0d6a": {
      "model_module": "@jupyter-widgets/controls",
      "model_module_version": "1.4.0",
      "model_name": "DescriptionStyleModel",
      "state": {
       "description_width": ""
      }
     },
     "476520d8e39c419bb372024d959a7855": {
      "model_module": "@jupyter-widgets/base",
      "model_module_version": "1.1.0",
      "model_name": "LayoutModel",
      "state": {
       "visibility": "visible"
      }
     },
     "47723083ecd543bba98381106437c41c": {
      "model_module": "@jupyter-widgets/base",
      "model_module_version": "1.1.0",
      "model_name": "LayoutModel",
      "state": {}
     },
     "4783856c211f4588a6a2b0f39f3be5f8": {
      "model_module": "@jupyter-widgets/controls",
      "model_module_version": "1.4.0",
      "model_name": "HTMLModel",
      "state": {
       "layout": "IPY_MODEL_1cc5491641ec4de8a2837b4523a5aec6",
       "style": "IPY_MODEL_1c4849b61e924895ab6ae14180bf1779",
       "value": "<b>3</b>)&nbsp;&nbsp;"
      }
     },
     "479ce057d7c240498e2e4bf71dec132b": {
      "model_module": "@jupyter-widgets/base",
      "model_module_version": "1.1.0",
      "model_name": "LayoutModel",
      "state": {}
     },
     "47cf3c2750864e109c15908e4497c931": {
      "model_module": "@jupyter-widgets/controls",
      "model_module_version": "1.4.0",
      "model_name": "HBoxModel",
      "state": {
       "children": [
        "IPY_MODEL_f266340b3e4c461d8293d88e63274459",
        "IPY_MODEL_8a8f01f654f2491392d2a59bb3d0e96b"
       ],
       "layout": "IPY_MODEL_f6b11d4c4bf7470c9318db09c7a74881"
      }
     },
     "47f67b112f464457a09915dec3a2e66d": {
      "model_module": "@jupyter-widgets/base",
      "model_module_version": "1.1.0",
      "model_name": "LayoutModel",
      "state": {}
     },
     "48009ff42bbf4dbfa528ca0c386f9ab8": {
      "model_module": "@jupyter-widgets/base",
      "model_module_version": "1.1.0",
      "model_name": "LayoutModel",
      "state": {
       "visibility": "visible"
      }
     },
     "4804acb00c6341b0ac6e39a2070d72ef": {
      "model_module": "@jupyter-widgets/controls",
      "model_module_version": "1.4.0",
      "model_name": "HBoxModel",
      "state": {
       "children": [
        "IPY_MODEL_9fa5cacdc8c847a5b96ad930df88b10e",
        "IPY_MODEL_3796619f82ee4f9287677044f688ba15"
       ],
       "layout": "IPY_MODEL_6500ccf65da44b6b9640cf450f6d2398"
      }
     },
     "480aa25dce9742a4ad4e1a2256ebb3e4": {
      "model_module": "@jupyter-widgets/base",
      "model_module_version": "1.1.0",
      "model_name": "LayoutModel",
      "state": {}
     },
     "482a9552a67b4811abe10401bcd9f02d": {
      "model_module": "@jupyter-widgets/base",
      "model_module_version": "1.1.0",
      "model_name": "LayoutModel",
      "state": {}
     },
     "4832b6713aea499aa21ed175244fdcdc": {
      "model_module": "@jupyter-widgets/base",
      "model_module_version": "1.1.0",
      "model_name": "LayoutModel",
      "state": {
       "margin": "20px",
       "visibility": "visible"
      }
     },
     "48386984bac145cc83273accc79de5a1": {
      "model_module": "@jupyter-widgets/controls",
      "model_module_version": "1.4.0",
      "model_name": "HTMLModel",
      "state": {
       "layout": "IPY_MODEL_ea9d811615474629b87bd6a83c84b7ea",
       "style": "IPY_MODEL_d35b4322d3094899b89e96870dd65e79",
       "value": "<b>3</b>)&nbsp;&nbsp;"
      }
     },
     "483de70959c34fd39d18f115ffd4fd68": {
      "model_module": "@jupyter-widgets/controls",
      "model_module_version": "1.4.0",
      "model_name": "ButtonStyleModel",
      "state": {}
     },
     "48426fb797324131a7b50f3ede14a6cd": {
      "model_module": "@jupyter-widgets/controls",
      "model_module_version": "1.4.0",
      "model_name": "ButtonStyleModel",
      "state": {}
     },
     "485715a83ef5477c93e8f233f018bbd2": {
      "model_module": "@jupyter-widgets/controls",
      "model_module_version": "1.4.0",
      "model_name": "HBoxModel",
      "state": {
       "children": [
        "IPY_MODEL_42ae78d70eda49fd8ad576f795d2d0b8",
        "IPY_MODEL_7e709dcfb1d6421d8a16fb50d7aadfbb"
       ],
       "layout": "IPY_MODEL_c1bb1b789347420fbcefd5041ade7425"
      }
     },
     "486854044b734a9d9e44c5f8f02a8b3c": {
      "model_module": "@jupyter-widgets/base",
      "model_module_version": "1.1.0",
      "model_name": "LayoutModel",
      "state": {}
     },
     "486994a4c7154dd3a16d8f84cd40f4f3": {
      "model_module": "@jupyter-widgets/controls",
      "model_module_version": "1.4.0",
      "model_name": "DescriptionStyleModel",
      "state": {
       "description_width": ""
      }
     },
     "48960c16d91a4a0fae6e0dae65fbae9a": {
      "model_module": "@jupyter-widgets/controls",
      "model_module_version": "1.4.0",
      "model_name": "HTMLModel",
      "state": {
       "layout": "IPY_MODEL_d589961a3eaf455c8b978468ed7058ab",
       "style": "IPY_MODEL_f2f0100c751b457cadb95ce745b0d550",
       "value": "<b>4</b>)&nbsp;&nbsp;"
      }
     },
     "48c08e4df98147269e662d815631cec2": {
      "model_module": "@jupyter-widgets/controls",
      "model_module_version": "1.4.0",
      "model_name": "HBoxModel",
      "state": {
       "children": [
        "IPY_MODEL_9ebcc2e82d5a4a70a725f49ae16a902d",
        "IPY_MODEL_f5a2e3ab32874d4594c75641f7f01c41"
       ],
       "layout": "IPY_MODEL_48009ff42bbf4dbfa528ca0c386f9ab8"
      }
     },
     "491d0260beae452c8f41effc6b992974": {
      "model_module": "@jupyter-widgets/base",
      "model_module_version": "1.1.0",
      "model_name": "LayoutModel",
      "state": {
       "margin": "20px",
       "visibility": "visible"
      }
     },
     "49246c9cc876461eb72e122ca9809876": {
      "model_module": "@jupyter-widgets/controls",
      "model_module_version": "1.4.0",
      "model_name": "DescriptionStyleModel",
      "state": {
       "description_width": ""
      }
     },
     "492b7b5445d0402b998224c63c470d19": {
      "model_module": "@jupyter-widgets/controls",
      "model_module_version": "1.4.0",
      "model_name": "ButtonModel",
      "state": {
       "description": "3",
       "layout": "IPY_MODEL_8648ff62d75942e69efe1d839a5f5037",
       "style": "IPY_MODEL_adf0a4636e8c404e8bbcd9fee3b8d635"
      }
     },
     "49330753f1a34b0782117bc2f2a9e62c": {
      "model_module": "@jupyter-widgets/base",
      "model_module_version": "1.1.0",
      "model_name": "LayoutModel",
      "state": {}
     },
     "49391f84a6374a598ab04bf7763da3e0": {
      "model_module": "@jupyter-widgets/controls",
      "model_module_version": "1.4.0",
      "model_name": "ButtonModel",
      "state": {
       "description": "1",
       "layout": "IPY_MODEL_bae753c9bf964fbeb578ae38b5eff863",
       "style": "IPY_MODEL_b9eda3ae0f404825ba9e1ff16abfcdc4"
      }
     },
     "4940fab802c144aba16f715dbb8bba62": {
      "model_module": "@jupyter-widgets/base",
      "model_module_version": "1.1.0",
      "model_name": "LayoutModel",
      "state": {}
     },
     "495cf671625f4aada686f4daf6898f68": {
      "model_module": "@jupyter-widgets/controls",
      "model_module_version": "1.4.0",
      "model_name": "HTMLModel",
      "state": {
       "layout": "IPY_MODEL_529d78c961ff4030992ceb3a8bc71083",
       "style": "IPY_MODEL_c59f364b7943452f883603c0b2a20a45",
       "value": "Qubits in state <img src=\"http://latex.codecogs.com/svg.latex?\\vert0\\rangle\" border=\"0\"/> decay down to <img src=\"http://latex.codecogs.com/svg.latex?\\vert1\\rangle\" border=\"0\"/> before measurement. The decay time for <samp>qr[0]</samp> is longer than that for <samp>qr[1]</samp>."
      }
     },
     "497a45ea82c1435bbb506ccdcd693b34": {
      "model_module": "@jupyter-widgets/controls",
      "model_module_version": "1.4.0",
      "model_name": "HTMLModel",
      "state": {
       "layout": "IPY_MODEL_fd84298b8d2e48abbf577d57cce8ba29",
       "style": "IPY_MODEL_8c5c1d557dca448386c697437fb31770",
       "value": "<b>1</b>)&nbsp;&nbsp;"
      }
     },
     "4981065f0db449ffbe387e587737e24e": {
      "model_module": "@jupyter-widgets/base",
      "model_module_version": "1.1.0",
      "model_name": "LayoutModel",
      "state": {}
     },
     "49818fc047664f209a3310471febf91c": {
      "model_module": "@jupyter-widgets/base",
      "model_module_version": "1.1.0",
      "model_name": "LayoutModel",
      "state": {}
     },
     "499ff32b001642958fc1b2bda588b24a": {
      "model_module": "@jupyter-widgets/controls",
      "model_module_version": "1.4.0",
      "model_name": "ButtonModel",
      "state": {
       "description": "5",
       "layout": "IPY_MODEL_c8e76fb4f24f493c8065ec7d0542c763",
       "style": "IPY_MODEL_89232f3060064d969a42870fab850513"
      }
     },
     "49afa9f319c04988894b0571a225e945": {
      "model_module": "@jupyter-widgets/controls",
      "model_module_version": "1.4.0",
      "model_name": "HTMLModel",
      "state": {
       "layout": "IPY_MODEL_db3ae53c4f5d45e88ae599b49e3ac614",
       "style": "IPY_MODEL_9e0dfc3159b545f5b0203fc9142bcbe4"
      }
     },
     "49b83d1afcdc45308a0e6f039d18cc59": {
      "model_module": "@jupyter-widgets/controls",
      "model_module_version": "1.4.0",
      "model_name": "DescriptionStyleModel",
      "state": {
       "description_width": ""
      }
     },
     "49bd8416feb64bedb0abef69b556c124": {
      "model_module": "@jupyter-widgets/base",
      "model_module_version": "1.1.0",
      "model_name": "LayoutModel",
      "state": {}
     },
     "49d3959aaa8b423e9f9a39d0dacd45aa": {
      "model_module": "@jupyter-widgets/base",
      "model_module_version": "1.1.0",
      "model_name": "LayoutModel",
      "state": {}
     },
     "49f45ec34bb34f10a64fccfceeea560d": {
      "model_module": "@jupyter-widgets/controls",
      "model_module_version": "1.4.0",
      "model_name": "HBoxModel",
      "state": {
       "children": [
        "IPY_MODEL_a53f21fc90c147e2b143fdedf03f5511",
        "IPY_MODEL_5500c21d16804fda95c8f85b327e0cac"
       ],
       "layout": "IPY_MODEL_6cda9d6e841e4243b417cdf18b12292f"
      }
     },
     "49f9dcb73bc8442a853762e418ea6f83": {
      "model_module": "@jupyter-widgets/base",
      "model_module_version": "1.1.0",
      "model_name": "LayoutModel",
      "state": {
       "margin": "20px",
       "visibility": "visible"
      }
     },
     "4a21f73e3eae4d5b8c9a578523118e39": {
      "model_module": "@jupyter-widgets/base",
      "model_module_version": "1.1.0",
      "model_name": "LayoutModel",
      "state": {}
     },
     "4a22fcee2ec149bb8f5850ef38397c4f": {
      "model_module": "@jupyter-widgets/controls",
      "model_module_version": "1.4.0",
      "model_name": "HTMLModel",
      "state": {
       "layout": "IPY_MODEL_2b9c1676980548e3a0f6e8131ea70d50",
       "style": "IPY_MODEL_1cb1a030832343e38a096332e188d648",
       "value": "<p><b>Question ID</b>: 1</p>"
      }
     },
     "4a4d1330731649d188b8417c07ceeb76": {
      "model_module": "@jupyter-widgets/controls",
      "model_module_version": "1.4.0",
      "model_name": "DescriptionStyleModel",
      "state": {
       "description_width": ""
      }
     },
     "4a7040f9221149a8a14a043a7aa2a3cf": {
      "model_module": "@jupyter-widgets/base",
      "model_module_version": "1.1.0",
      "model_name": "LayoutModel",
      "state": {
       "visibility": "visible"
      }
     },
     "4a76f32bd35b4574b420bbf5f74a0380": {
      "model_module": "@jupyter-widgets/base",
      "model_module_version": "1.1.0",
      "model_name": "LayoutModel",
      "state": {}
     },
     "4a78ca3e27bd4f3bab357a908582b30b": {
      "model_module": "@jupyter-widgets/controls",
      "model_module_version": "1.4.0",
      "model_name": "DescriptionStyleModel",
      "state": {
       "description_width": ""
      }
     },
     "4a7bd54d15c64219bc528f557439ed50": {
      "model_module": "@jupyter-widgets/base",
      "model_module_version": "1.1.0",
      "model_name": "LayoutModel",
      "state": {
       "visibility": "hidden"
      }
     },
     "4a81d0355ee542c7b4a5d5fc5873a85a": {
      "model_module": "@jupyter-widgets/controls",
      "model_module_version": "1.4.0",
      "model_name": "ButtonModel",
      "state": {
       "description": "5",
       "layout": "IPY_MODEL_9085209c768b4354823e2ec4c6f68ff7",
       "style": "IPY_MODEL_f5c59065dfe14cfbbb241d42bf9f719a"
      }
     },
     "4a877e48a63d4f2db4bfe8fcaea34954": {
      "model_module": "@jupyter-widgets/base",
      "model_module_version": "1.1.0",
      "model_name": "LayoutModel",
      "state": {
       "visibility": "hidden"
      }
     },
     "4aa1839be9f44829ab8698f21b6ec5fa": {
      "model_module": "@jupyter-widgets/controls",
      "model_module_version": "1.4.0",
      "model_name": "ButtonModel",
      "state": {
       "description": "Next",
       "layout": "IPY_MODEL_94fa5f2e895c46ea863b59e55f43fc05",
       "style": "IPY_MODEL_d5254736944b4cb8be844e994a71e4d9"
      }
     },
     "4aa54ba0e18a42d59db4c5780571f0b4": {
      "model_module": "@jupyter-widgets/base",
      "model_module_version": "1.1.0",
      "model_name": "LayoutModel",
      "state": {
       "visibility": "visible"
      }
     },
     "4ada8063412145f6a9cb749d7ebbdc7d": {
      "model_module": "@jupyter-widgets/controls",
      "model_module_version": "1.4.0",
      "model_name": "ButtonStyleModel",
      "state": {}
     },
     "4af3fe8b41c745bf9e93da16be51ea83": {
      "model_module": "@jupyter-widgets/controls",
      "model_module_version": "1.4.0",
      "model_name": "DescriptionStyleModel",
      "state": {
       "description_width": ""
      }
     },
     "4b3f53ae0b934ea89865a09a8585e271": {
      "model_module": "@jupyter-widgets/controls",
      "model_module_version": "1.4.0",
      "model_name": "ButtonStyleModel",
      "state": {}
     },
     "4ba0ed290a854f5c8a5cdd72c24b6e01": {
      "model_module": "@jupyter-widgets/controls",
      "model_module_version": "1.4.0",
      "model_name": "ButtonStyleModel",
      "state": {}
     },
     "4bd58294b9c341ceab9a9281ca50bdae": {
      "model_module": "@jupyter-widgets/base",
      "model_module_version": "1.1.0",
      "model_name": "LayoutModel",
      "state": {
       "margin": "20px",
       "visibility": "visible"
      }
     },
     "4bdbf3e719af4d41b3f0ba5d38e6804d": {
      "model_module": "@jupyter-widgets/base",
      "model_module_version": "1.1.0",
      "model_name": "LayoutModel",
      "state": {}
     },
     "4bdec27f30ff442d94697fa7a9a34047": {
      "model_module": "@jupyter-widgets/base",
      "model_module_version": "1.1.0",
      "model_name": "LayoutModel",
      "state": {}
     },
     "4c10004cf8fe4494b3eca563e94c8fbb": {
      "model_module": "@jupyter-widgets/output",
      "model_module_version": "1.0.0",
      "model_name": "OutputModel",
      "state": {
       "layout": "IPY_MODEL_9c152640293d42729f7a5b27e112869b"
      }
     },
     "4c1376b079bb48cf8616d5ef44a27ce7": {
      "model_module": "@jupyter-widgets/controls",
      "model_module_version": "1.4.0",
      "model_name": "HTMLModel",
      "state": {
       "layout": "IPY_MODEL_404956448727478281ca1b34ff299313",
       "style": "IPY_MODEL_df254dd8d7ab4312b8afa43de959695c",
       "value": "<img src=\"questions/aer1_images/1_w1.png\">"
      }
     },
     "4c38734291b14465b02e727749b92d48": {
      "model_module": "@jupyter-widgets/base",
      "model_module_version": "1.1.0",
      "model_name": "LayoutModel",
      "state": {
       "visibility": "visible"
      }
     },
     "4c3ca69e4caa41d4b39dc9d228caafe9": {
      "model_module": "@jupyter-widgets/controls",
      "model_module_version": "1.4.0",
      "model_name": "DescriptionStyleModel",
      "state": {
       "description_width": ""
      }
     },
     "4c3e694a1c35498dbf94e5399a7b5e00": {
      "model_module": "@jupyter-widgets/base",
      "model_module_version": "1.1.0",
      "model_name": "LayoutModel",
      "state": {}
     },
     "4c4317075d7a415bb6b7e65acfbb954c": {
      "model_module": "@jupyter-widgets/controls",
      "model_module_version": "1.4.0",
      "model_name": "DescriptionStyleModel",
      "state": {
       "description_width": ""
      }
     },
     "4cc40c67779042cc96cf6779e7e7afab": {
      "model_module": "@jupyter-widgets/controls",
      "model_module_version": "1.4.0",
      "model_name": "ButtonModel",
      "state": {
       "description": "Next",
       "layout": "IPY_MODEL_565b705c77164412b0b0e4fad8d4e049",
       "style": "IPY_MODEL_3f0abb0a6de94cf5ab5d920536547dae"
      }
     },
     "4d11bfb5f4a9449da4806b3403c41ce7": {
      "model_module": "@jupyter-widgets/base",
      "model_module_version": "1.1.0",
      "model_name": "LayoutModel",
      "state": {}
     },
     "4d2a40bd5e31441eb986678d7a4ae0f2": {
      "model_module": "@jupyter-widgets/base",
      "model_module_version": "1.1.0",
      "model_name": "LayoutModel",
      "state": {}
     },
     "4d510f99341743b9bff8b3c7f65a0683": {
      "model_module": "@jupyter-widgets/base",
      "model_module_version": "1.1.0",
      "model_name": "LayoutModel",
      "state": {}
     },
     "4d53e4106f69424383e4f3185c433689": {
      "model_module": "@jupyter-widgets/controls",
      "model_module_version": "1.4.0",
      "model_name": "HBoxModel",
      "state": {
       "children": [
        "IPY_MODEL_b1b539f76a05478ca2cdab9234551887",
        "IPY_MODEL_6a6d89eba25447d4a633c5fc1e8dbfcc"
       ],
       "layout": "IPY_MODEL_dc1d43820b21469a8bb712ea87f05040"
      }
     },
     "4d66ccf807dd46b2aa43d70e9d6191b5": {
      "model_module": "@jupyter-widgets/base",
      "model_module_version": "1.1.0",
      "model_name": "LayoutModel",
      "state": {}
     },
     "4d79a54eec4a48e6a5b8a57ee3275b75": {
      "model_module": "@jupyter-widgets/base",
      "model_module_version": "1.1.0",
      "model_name": "LayoutModel",
      "state": {
       "visibility": "visible"
      }
     },
     "4da979b7fe2546e0bf58aecbd56a0911": {
      "model_module": "@jupyter-widgets/controls",
      "model_module_version": "1.4.0",
      "model_name": "DescriptionStyleModel",
      "state": {
       "description_width": ""
      }
     },
     "4deccfcbc258492db91cd5ed758884f8": {
      "model_module": "@jupyter-widgets/controls",
      "model_module_version": "1.4.0",
      "model_name": "HTMLModel",
      "state": {
       "layout": "IPY_MODEL_34375b3aacec411f8dbccc29a354bd1c",
       "style": "IPY_MODEL_7508dc1a502f4d70b4e6947785fb9582",
       "value": "Qubits in state <img src=\"http://latex.codecogs.com/svg.latex?\\vert1\\rangle\" border=\"0\"/> decay down to <img src=\"http://latex.codecogs.com/svg.latex?\\vert0\\rangle\" border=\"0\"/> before measurement. The decay time for <samp>qr[0]</samp> is longer than that for <samp>qr[1]</samp>."
      }
     },
     "4e01f40c99da4798b43ec85eae89acde": {
      "model_module": "@jupyter-widgets/controls",
      "model_module_version": "1.4.0",
      "model_name": "DescriptionStyleModel",
      "state": {
       "description_width": ""
      }
     },
     "4e48aca73b9d4d2db781004a9434d2e1": {
      "model_module": "@jupyter-widgets/base",
      "model_module_version": "1.1.0",
      "model_name": "LayoutModel",
      "state": {
       "visibility": "visible"
      }
     },
     "4e4d5816a2f84dcbb71e78a4389bacf6": {
      "model_module": "@jupyter-widgets/controls",
      "model_module_version": "1.4.0",
      "model_name": "ButtonStyleModel",
      "state": {}
     },
     "4e83d6a5d83c4aee97a38fabf792a89c": {
      "model_module": "@jupyter-widgets/base",
      "model_module_version": "1.1.0",
      "model_name": "LayoutModel",
      "state": {}
     },
     "4ed50c3de04e4c968347281ffef1af1f": {
      "model_module": "@jupyter-widgets/base",
      "model_module_version": "1.1.0",
      "model_name": "LayoutModel",
      "state": {
       "visibility": "hidden"
      }
     },
     "4edddcf72cf042b7b498287155cb213b": {
      "model_module": "@jupyter-widgets/base",
      "model_module_version": "1.1.0",
      "model_name": "LayoutModel",
      "state": {}
     },
     "4edeaced544d4115b69e869416f14539": {
      "model_module": "@jupyter-widgets/controls",
      "model_module_version": "1.4.0",
      "model_name": "HTMLModel",
      "state": {
       "layout": "IPY_MODEL_3f0825baca264f6b8814978cdeb9c9fa",
       "style": "IPY_MODEL_ae6157b90b8d464bb7517db0836216e0"
      }
     },
     "4eed78ee29c1424b836987fe6a2886b7": {
      "model_module": "@jupyter-widgets/base",
      "model_module_version": "1.1.0",
      "model_name": "LayoutModel",
      "state": {
       "visibility": "visible"
      }
     },
     "4f249a0f13fa4be3957f902ed618c11a": {
      "model_module": "@jupyter-widgets/controls",
      "model_module_version": "1.4.0",
      "model_name": "ButtonModel",
      "state": {
       "description": "2",
       "layout": "IPY_MODEL_f707377bfdc14281ae52812e1745c324",
       "style": "IPY_MODEL_1334bd6b40244575a9ce2d9cfb91308e"
      }
     },
     "4f78b99a1c814e99a0e8c04c2859a180": {
      "model_module": "@jupyter-widgets/base",
      "model_module_version": "1.1.0",
      "model_name": "LayoutModel",
      "state": {}
     },
     "4f910008d90a40debad4f1fa76041179": {
      "model_module": "@jupyter-widgets/base",
      "model_module_version": "1.1.0",
      "model_name": "LayoutModel",
      "state": {}
     },
     "4fb97a20f9994860a09b335ecafd5b50": {
      "model_module": "@jupyter-widgets/controls",
      "model_module_version": "1.4.0",
      "model_name": "VBoxModel",
      "state": {
       "children": [
        "IPY_MODEL_0b5f893bb5bb4719bad5e89e6e693e77",
        "IPY_MODEL_e0f02c903e314e01940d9d44f708da16",
        "IPY_MODEL_01503d48513e415bb13817e1a91d97d0",
        "IPY_MODEL_202077af465040c594caba0c25bd344a",
        "IPY_MODEL_7e15922a866e4785870183b2407e3f53",
        "IPY_MODEL_fe336c67f91b4d33be48defce72e8cb8",
        "IPY_MODEL_59865b4cc27c4a0e95d6b8255975b158",
        "IPY_MODEL_b0544752b3804fc989a091f6db2ab4f3",
        "IPY_MODEL_15c0ef5da1844ad9a031f239e6ec6bc1"
       ],
       "layout": "IPY_MODEL_aec1150bcdf046b8948d63b9cf151900"
      }
     },
     "4fcda354664d4c3191282473079923b1": {
      "model_module": "@jupyter-widgets/base",
      "model_module_version": "1.1.0",
      "model_name": "LayoutModel",
      "state": {}
     },
     "50156d152b4e4e74a0924139e67d2ddd": {
      "model_module": "@jupyter-widgets/base",
      "model_module_version": "1.1.0",
      "model_name": "LayoutModel",
      "state": {}
     },
     "50204514710b45bb8f12d3dc7ba98648": {
      "model_module": "@jupyter-widgets/controls",
      "model_module_version": "1.4.0",
      "model_name": "HTMLModel",
      "state": {
       "layout": "IPY_MODEL_1ca8ce30269048ccb689e8a539a683da",
       "style": "IPY_MODEL_4a4d1330731649d188b8417c07ceeb76",
       "value": "<b>1</b>)&nbsp;&nbsp;"
      }
     },
     "503722dc716d4c2ba30801217178ed89": {
      "model_module": "@jupyter-widgets/controls",
      "model_module_version": "1.4.0",
      "model_name": "DescriptionStyleModel",
      "state": {
       "description_width": ""
      }
     },
     "507f76a023504aa0937f80ef68983d5a": {
      "model_module": "@jupyter-widgets/base",
      "model_module_version": "1.1.0",
      "model_name": "LayoutModel",
      "state": {}
     },
     "508e0ae3467c4ac984fd21746a2e6779": {
      "model_module": "@jupyter-widgets/controls",
      "model_module_version": "1.4.0",
      "model_name": "HTMLModel",
      "state": {
       "layout": "IPY_MODEL_eb5f0802ab27402fba2fb1544ae86830",
       "style": "IPY_MODEL_4af3fe8b41c745bf9e93da16be51ea83",
       "value": "<br/><br clear=\"all\"/><b>Respond</b>: "
      }
     },
     "5129cc7cf5a14a0c9f3914fa1ca4f179": {
      "model_module": "@jupyter-widgets/controls",
      "model_module_version": "1.4.0",
      "model_name": "HBoxModel",
      "state": {
       "children": [
        "IPY_MODEL_d1d1308c87764a1dbd58f11933d7c75e",
        "IPY_MODEL_6520433d09e748ccb2cc4da3d91aa017"
       ],
       "layout": "IPY_MODEL_4d79a54eec4a48e6a5b8a57ee3275b75"
      }
     },
     "513b4db4654e4d13867fa04986dec7cc": {
      "model_module": "@jupyter-widgets/controls",
      "model_module_version": "1.4.0",
      "model_name": "VBoxModel",
      "state": {
       "children": [
        "IPY_MODEL_24dc9d63c3974e9d9361231096753a34",
        "IPY_MODEL_416747ee29354801bc50a5e91c25b48a"
       ],
       "layout": "IPY_MODEL_ee1c8d5ef3ca4af881ebec865480b0b9"
      }
     },
     "513f77f95fcc47d7ab3a4d0be6210e0b": {
      "model_module": "@jupyter-widgets/base",
      "model_module_version": "1.1.0",
      "model_name": "LayoutModel",
      "state": {}
     },
     "515978d9fb734711b452f11fbe7415d7": {
      "model_module": "@jupyter-widgets/controls",
      "model_module_version": "1.4.0",
      "model_name": "ButtonStyleModel",
      "state": {}
     },
     "51619db9a8004c0a85dd698a794029ca": {
      "model_module": "@jupyter-widgets/base",
      "model_module_version": "1.1.0",
      "model_name": "LayoutModel",
      "state": {}
     },
     "5181c03b03dc4731b68b8e98210c3611": {
      "model_module": "@jupyter-widgets/base",
      "model_module_version": "1.1.0",
      "model_name": "LayoutModel",
      "state": {}
     },
     "51a072dd03fb402ab766b8a987655106": {
      "model_module": "@jupyter-widgets/base",
      "model_module_version": "1.1.0",
      "model_name": "LayoutModel",
      "state": {
       "visibility": "hidden"
      }
     },
     "51d9b4e7d9214ad1bb1ce098b97bc778": {
      "model_module": "@jupyter-widgets/base",
      "model_module_version": "1.1.0",
      "model_name": "LayoutModel",
      "state": {}
     },
     "52030a66e4474931978d9703ecb8ce51": {
      "model_module": "@jupyter-widgets/controls",
      "model_module_version": "1.4.0",
      "model_name": "ButtonStyleModel",
      "state": {}
     },
     "5239ea4893364eadbb2e9ffb490ec9a2": {
      "model_module": "@jupyter-widgets/base",
      "model_module_version": "1.1.0",
      "model_name": "LayoutModel",
      "state": {}
     },
     "526ea491da6b4338af04308572259581": {
      "model_module": "@jupyter-widgets/controls",
      "model_module_version": "1.4.0",
      "model_name": "HTMLModel",
      "state": {
       "layout": "IPY_MODEL_2522ca22182e4cfda03c6622c45832d7",
       "style": "IPY_MODEL_d54b67716b364794badeba50c49efaf2",
       "value": "<br/><br clear=\"all\"/><b>Respond</b>: "
      }
     },
     "5283d49452164ba78fc1bd0f51373fef": {
      "model_module": "@jupyter-widgets/base",
      "model_module_version": "1.1.0",
      "model_name": "LayoutModel",
      "state": {}
     },
     "528e31adb31749cca7215bd0478ec29e": {
      "model_module": "@jupyter-widgets/controls",
      "model_module_version": "1.4.0",
      "model_name": "HBoxModel",
      "state": {
       "children": [
        "IPY_MODEL_6d4d18dfa004415c9bfe85b294e0f3c5",
        "IPY_MODEL_418736e8f1b84b8a9e2d516f0476a14c"
       ],
       "layout": "IPY_MODEL_e6d8ad98978f4950b2b5ca23621708e5"
      }
     },
     "529d78c961ff4030992ceb3a8bc71083": {
      "model_module": "@jupyter-widgets/base",
      "model_module_version": "1.1.0",
      "model_name": "LayoutModel",
      "state": {}
     },
     "52b610d86cdc4c7fb9599ca9af561756": {
      "model_module": "@jupyter-widgets/controls",
      "model_module_version": "1.4.0",
      "model_name": "ButtonStyleModel",
      "state": {}
     },
     "52bb739c935a47a389bb535d713fd6c8": {
      "model_module": "@jupyter-widgets/controls",
      "model_module_version": "1.4.0",
      "model_name": "DescriptionStyleModel",
      "state": {
       "description_width": ""
      }
     },
     "52c209b2bb414de0bdbbfacc3784bd98": {
      "model_module": "@jupyter-widgets/controls",
      "model_module_version": "1.4.0",
      "model_name": "ButtonModel",
      "state": {
       "description": "Previous",
       "disabled": true,
       "layout": "IPY_MODEL_c3db9b6c89cf45dca9d64bcc9acafc5c",
       "style": "IPY_MODEL_c47e1db0c77c4251987ebcb197b44222"
      }
     },
     "52dba6ce7166467fa78fb4a5e8732bd1": {
      "model_module": "@jupyter-widgets/controls",
      "model_module_version": "1.4.0",
      "model_name": "HBoxModel",
      "state": {
       "children": [
        "IPY_MODEL_a3aab1c89374405eb347c316b703a7c9",
        "IPY_MODEL_978594e35d7740f28e3e980fa0a7444f"
       ],
       "layout": "IPY_MODEL_e606b98331b04f659dca21b79054d979"
      }
     },
     "52ee4340bf4b434782470be8c80f33d3": {
      "model_module": "@jupyter-widgets/controls",
      "model_module_version": "1.4.0",
      "model_name": "ButtonStyleModel",
      "state": {}
     },
     "52f864c6853a47e8b6f62859a422ff7f": {
      "model_module": "@jupyter-widgets/base",
      "model_module_version": "1.1.0",
      "model_name": "LayoutModel",
      "state": {}
     },
     "530f6f138b744c3aba377e0bb6bf688f": {
      "model_module": "@jupyter-widgets/controls",
      "model_module_version": "1.4.0",
      "model_name": "VBoxModel",
      "state": {
       "children": [
        "IPY_MODEL_696b38003693494cbf2ff01df64aca19",
        "IPY_MODEL_7a8f21a6f1a54768b2ce7e2184edaca9"
       ],
       "layout": "IPY_MODEL_292ec7c686904f62bb15f6b4794bdbed"
      }
     },
     "53388cb4a69d4451990389957d4ad5a8": {
      "model_module": "@jupyter-widgets/base",
      "model_module_version": "1.1.0",
      "model_name": "LayoutModel",
      "state": {
       "margin": "20px",
       "visibility": "visible"
      }
     },
     "534b019c9e9d45b6a0492dbae04872e0": {
      "model_module": "@jupyter-widgets/base",
      "model_module_version": "1.1.0",
      "model_name": "LayoutModel",
      "state": {}
     },
     "535306f135f747cb89e978831f2dc91a": {
      "model_module": "@jupyter-widgets/base",
      "model_module_version": "1.1.0",
      "model_name": "LayoutModel",
      "state": {}
     },
     "53551551ab7545ef93a34c5d6e3e0154": {
      "model_module": "@jupyter-widgets/controls",
      "model_module_version": "1.4.0",
      "model_name": "HTMLModel",
      "state": {
       "layout": "IPY_MODEL_18873b57efa1445898eebcfd37442a33",
       "style": "IPY_MODEL_980864204f40415f995246cace91cd4e"
      }
     },
     "5356704dd3f64e98a53d06f7856eedc3": {
      "model_module": "@jupyter-widgets/base",
      "model_module_version": "1.1.0",
      "model_name": "LayoutModel",
      "state": {
       "visibility": "visible"
      }
     },
     "53a609fa6f4743d78016eae603a6c2c4": {
      "model_module": "@jupyter-widgets/controls",
      "model_module_version": "1.4.0",
      "model_name": "ButtonStyleModel",
      "state": {}
     },
     "53b324eee0604d349eccedb4518b0702": {
      "model_module": "@jupyter-widgets/base",
      "model_module_version": "1.1.0",
      "model_name": "LayoutModel",
      "state": {}
     },
     "53c510a55dc84338924e9b1f0615e732": {
      "model_module": "@jupyter-widgets/controls",
      "model_module_version": "1.4.0",
      "model_name": "ButtonModel",
      "state": {
       "description": "Previous",
       "disabled": true,
       "layout": "IPY_MODEL_7cab845abf5c4903a0d0358cd2126a9e",
       "style": "IPY_MODEL_e0c2848c4c0240f29d82a40bec5225f3"
      }
     },
     "5420b4821c9f4ccc8dfa70c854adefce": {
      "model_module": "@jupyter-widgets/base",
      "model_module_version": "1.1.0",
      "model_name": "LayoutModel",
      "state": {}
     },
     "54220b344efd41f69b883b30a9b273b2": {
      "model_module": "@jupyter-widgets/controls",
      "model_module_version": "1.4.0",
      "model_name": "HTMLModel",
      "state": {
       "layout": "IPY_MODEL_50156d152b4e4e74a0924139e67d2ddd",
       "style": "IPY_MODEL_facbd524adf44bd596be9a6980345d14",
       "value": "<b>5</b>)&nbsp;&nbsp;"
      }
     },
     "547d04249e16431197d46c70f9ae2932": {
      "model_module": "@jupyter-widgets/controls",
      "model_module_version": "1.4.0",
      "model_name": "HTMLModel",
      "state": {
       "layout": "IPY_MODEL_a180fe25ea134b9b948f2e6431ddaac2",
       "style": "IPY_MODEL_3a512a79c906427db0aff87757f40fc2",
       "value": "<b>2</b>)&nbsp;&nbsp;"
      }
     },
     "54b3ffcdbcd144a1b92721c60b14ce3d": {
      "model_module": "@jupyter-widgets/controls",
      "model_module_version": "1.4.0",
      "model_name": "HBoxModel",
      "state": {
       "children": [
        "IPY_MODEL_9220b06c5801430383137526e73fee31",
        "IPY_MODEL_9ff535d67fbd477fa956f121e593f69c",
        "IPY_MODEL_d1920f4ca3ae44f8b0516f78ed455c43"
       ],
       "layout": "IPY_MODEL_47723083ecd543bba98381106437c41c"
      }
     },
     "54e69652daa848bd9b773d72cb961b4d": {
      "model_module": "@jupyter-widgets/controls",
      "model_module_version": "1.4.0",
      "model_name": "HBoxModel",
      "state": {
       "children": [
        "IPY_MODEL_b6b5af4718184b40af4e2e12d8218737",
        "IPY_MODEL_a92aaad1c7694178bfec21b8470a7e41"
       ],
       "layout": "IPY_MODEL_e44c02ddb7fa41e1b209914fcd7c0ad0"
      }
     },
     "54fdc886105d4ef89705be18ebbf7c9a": {
      "model_module": "@jupyter-widgets/base",
      "model_module_version": "1.1.0",
      "model_name": "LayoutModel",
      "state": {}
     },
     "5500c21d16804fda95c8f85b327e0cac": {
      "model_module": "@jupyter-widgets/controls",
      "model_module_version": "1.4.0",
      "model_name": "HTMLModel",
      "state": {
       "layout": "IPY_MODEL_e8b583cd570745649302f8d0090a64b0",
       "style": "IPY_MODEL_e219ace7b2ec4df1b60eb53ff6ae95b3",
       "value": "A library of utilities and components for building algorithms and applications"
      }
     },
     "55464fbf70234e6fb0ac9a8a0d203382": {
      "model_module": "@jupyter-widgets/controls",
      "model_module_version": "1.4.0",
      "model_name": "HTMLModel",
      "state": {
       "layout": "IPY_MODEL_b8c6fe8a71664b31a552c591792e6673",
       "style": "IPY_MODEL_b86ad53f418c4f07bac2cbab5629b504",
       "value": "<b>3</b>)&nbsp;&nbsp;"
      }
     },
     "554e5edefaec454fbdf0966d42b2c13b": {
      "model_module": "@jupyter-widgets/base",
      "model_module_version": "1.1.0",
      "model_name": "LayoutModel",
      "state": {}
     },
     "5574e5efe76043d694b08db6d443e778": {
      "model_module": "@jupyter-widgets/controls",
      "model_module_version": "1.4.0",
      "model_name": "DescriptionStyleModel",
      "state": {
       "description_width": ""
      }
     },
     "55952413460e44179518b8645cb0c07b": {
      "model_module": "@jupyter-widgets/base",
      "model_module_version": "1.1.0",
      "model_name": "LayoutModel",
      "state": {
       "visibility": "hidden"
      }
     },
     "5595a2f8e9fe4bac8aa694fbe06b0bba": {
      "model_module": "@jupyter-widgets/base",
      "model_module_version": "1.1.0",
      "model_name": "LayoutModel",
      "state": {}
     },
     "55af7622e29c4b098fa23826688b07ea": {
      "model_module": "@jupyter-widgets/base",
      "model_module_version": "1.1.0",
      "model_name": "LayoutModel",
      "state": {}
     },
     "55af981708eb415b8c1bb32536c6bf89": {
      "model_module": "@jupyter-widgets/base",
      "model_module_version": "1.1.0",
      "model_name": "LayoutModel",
      "state": {}
     },
     "55d71529fa48460da31bf2316bdf7351": {
      "model_module": "@jupyter-widgets/base",
      "model_module_version": "1.1.0",
      "model_name": "LayoutModel",
      "state": {}
     },
     "55dce1d8d1ff4374bf63d45b781553f5": {
      "model_module": "@jupyter-widgets/controls",
      "model_module_version": "1.4.0",
      "model_name": "ButtonStyleModel",
      "state": {}
     },
     "56393f13db8e48649cf5910b4498089e": {
      "model_module": "@jupyter-widgets/controls",
      "model_module_version": "1.4.0",
      "model_name": "DescriptionStyleModel",
      "state": {
       "description_width": ""
      }
     },
     "564cb62fb05e40b7906f9ecc0c0ec6c5": {
      "model_module": "@jupyter-widgets/controls",
      "model_module_version": "1.4.0",
      "model_name": "HTMLModel",
      "state": {
       "layout": "IPY_MODEL_9be91ab5de5a49fb97adb5748c0a5e63",
       "style": "IPY_MODEL_b15239d19c6b410ea3db038fa2c7c5a0"
      }
     },
     "565b705c77164412b0b0e4fad8d4e049": {
      "model_module": "@jupyter-widgets/base",
      "model_module_version": "1.1.0",
      "model_name": "LayoutModel",
      "state": {}
     },
     "566161e9efb44eb984c43c778aec4c97": {
      "model_module": "@jupyter-widgets/base",
      "model_module_version": "1.1.0",
      "model_name": "LayoutModel",
      "state": {}
     },
     "566d33f8664f4b61bb2ee25a213aae64": {
      "model_module": "@jupyter-widgets/base",
      "model_module_version": "1.1.0",
      "model_name": "LayoutModel",
      "state": {}
     },
     "56a9f5699cee4e40a5ac7f1a3254cdae": {
      "model_module": "@jupyter-widgets/controls",
      "model_module_version": "1.4.0",
      "model_name": "ButtonStyleModel",
      "state": {}
     },
     "56b81571fe0d4ed7877ebfc70f18df82": {
      "model_module": "@jupyter-widgets/base",
      "model_module_version": "1.1.0",
      "model_name": "LayoutModel",
      "state": {}
     },
     "56f35c64de694a48996557610f9a3cce": {
      "model_module": "@jupyter-widgets/base",
      "model_module_version": "1.1.0",
      "model_name": "LayoutModel",
      "state": {
       "visibility": "visible"
      }
     },
     "5744726970764b19a801f33472ed6b7e": {
      "model_module": "@jupyter-widgets/base",
      "model_module_version": "1.1.0",
      "model_name": "LayoutModel",
      "state": {}
     },
     "57856ca9f4a0490ab66e3df11e606fab": {
      "model_module": "@jupyter-widgets/controls",
      "model_module_version": "1.4.0",
      "model_name": "HTMLModel",
      "state": {
       "layout": "IPY_MODEL_a15e9eb99ae54edb8e57d4d9f0a6b524",
       "style": "IPY_MODEL_3b8b91357fa24a1b80a69210320271f3",
       "value": "<h1>\n       <h4>Which of the following circuits implements an <samp>OR</samp> gate?</h4>\n       <h5>Recall that an <samp>OR</samp> gate outputs 0 when both inputs are 0, and outputs 1 otherwise.<br /><br /></h5>\n       </h1>"
      }
     },
     "579bbd73cfd342c49dd8aa5d7e212093": {
      "model_module": "@jupyter-widgets/controls",
      "model_module_version": "1.4.0",
      "model_name": "ButtonModel",
      "state": {
       "description": "Previous",
       "disabled": true,
       "layout": "IPY_MODEL_acfa25c9664a48f6bb29206bb3fc395c",
       "style": "IPY_MODEL_58d9ea7972d34d4c85b35dde1d0d3101"
      }
     },
     "57c320eb4e7c4162bcb79d156ef09f23": {
      "model_module": "@jupyter-widgets/controls",
      "model_module_version": "1.4.0",
      "model_name": "DescriptionStyleModel",
      "state": {
       "description_width": ""
      }
     },
     "57cfa51e99fa4d0bb2b756616a25d970": {
      "model_module": "@jupyter-widgets/base",
      "model_module_version": "1.1.0",
      "model_name": "LayoutModel",
      "state": {
       "visibility": "visible"
      }
     },
     "57cff4cd47434b92ab63da91f2c05845": {
      "model_module": "@jupyter-widgets/controls",
      "model_module_version": "1.4.0",
      "model_name": "ButtonStyleModel",
      "state": {}
     },
     "57d8ab58d6d14419863d7febd1f8db7d": {
      "model_module": "@jupyter-widgets/controls",
      "model_module_version": "1.4.0",
      "model_name": "DescriptionStyleModel",
      "state": {
       "description_width": ""
      }
     },
     "57fede1965034018ad2ab59d162c61bb": {
      "model_module": "@jupyter-widgets/controls",
      "model_module_version": "1.4.0",
      "model_name": "ButtonModel",
      "state": {
       "description": "5",
       "layout": "IPY_MODEL_4409d1b34c6b4bf2bbd02d2f588a1f77",
       "style": "IPY_MODEL_140e5c56586f47bb8f9d95c206cb8dab"
      }
     },
     "5854244e42c747fe8bda043a6f43a0a9": {
      "model_module": "@jupyter-widgets/controls",
      "model_module_version": "1.4.0",
      "model_name": "HTMLModel",
      "state": {
       "layout": "IPY_MODEL_09482148de334cb99870ca1a73d88e62",
       "style": "IPY_MODEL_bea8e65b30744036b80865255e204e22",
       "value": "<b>1</b>)&nbsp;&nbsp;"
      }
     },
     "5886f5897d824919b0e441a7b947ce1b": {
      "model_module": "@jupyter-widgets/controls",
      "model_module_version": "1.4.0",
      "model_name": "HTMLModel",
      "state": {
       "layout": "IPY_MODEL_456701e3d82d46bdbe3165313c846840",
       "style": "IPY_MODEL_5e6463bf73cd46498bba54311ccdfefe",
       "value": "<b>5</b>)&nbsp;&nbsp;"
      }
     },
     "58ad452185eb4200bdf645c11538cb2f": {
      "model_module": "@jupyter-widgets/controls",
      "model_module_version": "1.4.0",
      "model_name": "HBoxModel",
      "state": {
       "children": [
        "IPY_MODEL_78df3cef52ae4dcfb5add7ab5b99befe",
        "IPY_MODEL_ce348a92fa5148a5953bb0a37e3d2555"
       ],
       "layout": "IPY_MODEL_414329792c424074a5cf4d55dabe400a"
      }
     },
     "58d9ea7972d34d4c85b35dde1d0d3101": {
      "model_module": "@jupyter-widgets/controls",
      "model_module_version": "1.4.0",
      "model_name": "ButtonStyleModel",
      "state": {}
     },
     "58e37b27c9c34adfa9430c9cd099447b": {
      "model_module": "@jupyter-widgets/controls",
      "model_module_version": "1.4.0",
      "model_name": "DescriptionStyleModel",
      "state": {
       "description_width": ""
      }
     },
     "58e78e3f6dd04d6a832b021829fd4bcd": {
      "model_module": "@jupyter-widgets/base",
      "model_module_version": "1.1.0",
      "model_name": "LayoutModel",
      "state": {}
     },
     "58f20bbc4cbc477f8eede63f90c06c78": {
      "model_module": "@jupyter-widgets/base",
      "model_module_version": "1.1.0",
      "model_name": "LayoutModel",
      "state": {}
     },
     "58ff6a8594fb4af5ad011e07f5832383": {
      "model_module": "@jupyter-widgets/controls",
      "model_module_version": "1.4.0",
      "model_name": "HBoxModel",
      "state": {
       "children": [
        "IPY_MODEL_e5ef07cbede94c7f9bd0a19c8b01951d",
        "IPY_MODEL_6ab5d4db620349d6b6d71065b0b3ce06"
       ],
       "layout": "IPY_MODEL_ef1ce7f4592742ad943d532bd685cc5a"
      }
     },
     "590c5f22788241d8ba6c673f2b98d30f": {
      "model_module": "@jupyter-widgets/base",
      "model_module_version": "1.1.0",
      "model_name": "LayoutModel",
      "state": {}
     },
     "594f092b8f304546b40a8875f1f007fb": {
      "model_module": "@jupyter-widgets/base",
      "model_module_version": "1.1.0",
      "model_name": "LayoutModel",
      "state": {}
     },
     "59865b4cc27c4a0e95d6b8255975b158": {
      "model_module": "@jupyter-widgets/controls",
      "model_module_version": "1.4.0",
      "model_name": "HBoxModel",
      "state": {
       "children": [
        "IPY_MODEL_c53b12dc92964ad78e5ff85c63aae8ba",
        "IPY_MODEL_e5fea0c62ed0456b8e70d52fa6134684"
       ],
       "layout": "IPY_MODEL_092779fdf94142dda5d2410c38fd439a"
      }
     },
     "598e18dec5dd45a494643e956567946f": {
      "model_module": "@jupyter-widgets/controls",
      "model_module_version": "1.4.0",
      "model_name": "HTMLModel",
      "state": {
       "layout": "IPY_MODEL_9c4b6c3f35e74c88bd2bbd3409ae24b9",
       "style": "IPY_MODEL_d8fae6b076aa4a5f80516701b66dfb25",
       "value": "<p><b>Question ID</b>: 1</p>"
      }
     },
     "59acc2fd96d24480b34748df67f0eb54": {
      "model_module": "@jupyter-widgets/base",
      "model_module_version": "1.1.0",
      "model_name": "LayoutModel",
      "state": {}
     },
     "59dbab318eec49899d685c8d19fddad3": {
      "model_module": "@jupyter-widgets/controls",
      "model_module_version": "1.4.0",
      "model_name": "DescriptionStyleModel",
      "state": {
       "description_width": ""
      }
     },
     "5a0866b235d749dca763ef4517ea7486": {
      "model_module": "@jupyter-widgets/base",
      "model_module_version": "1.1.0",
      "model_name": "LayoutModel",
      "state": {
       "visibility": "visible"
      }
     },
     "5a0c2197092548bda9e36e5e8a1e4ad6": {
      "model_module": "@jupyter-widgets/controls",
      "model_module_version": "1.4.0",
      "model_name": "HTMLModel",
      "state": {
       "layout": "IPY_MODEL_96dbee58089a4d2c9a0544b83e73f9ae",
       "style": "IPY_MODEL_0ca7f15a9a4c4768872987f7398fa15a",
       "value": "<img src=\"http://latex.codecogs.com/svg.latex?\\vert0\\rangle\" border=\"0\"/>"
      }
     },
     "5a310cc649ca404db6b76f81dc0bb276": {
      "model_module": "@jupyter-widgets/controls",
      "model_module_version": "1.4.0",
      "model_name": "HTMLModel",
      "state": {
       "layout": "IPY_MODEL_4bdec27f30ff442d94697fa7a9a34047",
       "style": "IPY_MODEL_c0081c9844bd47dd8ea6532ed6adcc4e",
       "value": "<b>4</b>)&nbsp;&nbsp;"
      }
     },
     "5a436f47fa1645c1899ce9f8b9eaa899": {
      "model_module": "@jupyter-widgets/controls",
      "model_module_version": "1.4.0",
      "model_name": "ButtonStyleModel",
      "state": {}
     },
     "5aceea6cbe4645cf9c20ef9efffdb04a": {
      "model_module": "@jupyter-widgets/controls",
      "model_module_version": "1.4.0",
      "model_name": "ButtonModel",
      "state": {
       "description": "4",
       "layout": "IPY_MODEL_887ea1ff60b54ebea1146c95011eae13",
       "style": "IPY_MODEL_dea6e6514f5d4bb59c7aa64bcd5264d7"
      }
     },
     "5acf3279d2cb4629b4fa2cb5c60f415c": {
      "model_module": "@jupyter-widgets/base",
      "model_module_version": "1.1.0",
      "model_name": "LayoutModel",
      "state": {}
     },
     "5ad8b6f833ac4e2f86ff23d516815ad4": {
      "model_module": "@jupyter-widgets/controls",
      "model_module_version": "1.4.0",
      "model_name": "DescriptionStyleModel",
      "state": {
       "description_width": ""
      }
     },
     "5b4a454851aa4af4ae739bd58b68c87c": {
      "model_module": "@jupyter-widgets/controls",
      "model_module_version": "1.4.0",
      "model_name": "ButtonStyleModel",
      "state": {}
     },
     "5b7c424eb7c2433ba2b17ac308086a33": {
      "model_module": "@jupyter-widgets/controls",
      "model_module_version": "1.4.0",
      "model_name": "ButtonModel",
      "state": {
       "description": "1",
       "layout": "IPY_MODEL_61d0a20b4f234f98bace4df272d9b105",
       "style": "IPY_MODEL_73782318cc2243d2a9aed82112a8690e"
      }
     },
     "5b8769e725a74527a51222053a3995b9": {
      "model_module": "@jupyter-widgets/controls",
      "model_module_version": "1.4.0",
      "model_name": "VBoxModel",
      "state": {
       "children": [
        "IPY_MODEL_2134d9051a7f4ef48d3aca8877e86e83",
        "IPY_MODEL_f2ae09d8e349415e8e22fe9bae5b769b",
        "IPY_MODEL_84d1069c33304e4aae1b8d5f6d50585b",
        "IPY_MODEL_ac007969b9684abe932deeb94b24ffbf",
        "IPY_MODEL_e9b1a19c6a2442259d9569fba3499241",
        "IPY_MODEL_2ff163c18c774f1ba13c20a1f83546dc",
        "IPY_MODEL_aae399eec73d44249358eb9d089ddb90",
        "IPY_MODEL_379bb79b7e694e47a8cbd652c8f7bafb",
        "IPY_MODEL_462ebcfd00ac40c5b8afb10c96c83b23"
       ],
       "layout": "IPY_MODEL_18a8821a83d048b79d20bc98114c9a75"
      }
     },
     "5b944327f4bb45c0aad0b5a3d04f99b1": {
      "model_module": "@jupyter-widgets/controls",
      "model_module_version": "1.4.0",
      "model_name": "HBoxModel",
      "state": {
       "children": [
        "IPY_MODEL_b0c5f55a64b94545af51bda719092870",
        "IPY_MODEL_903fc372d80043f89db98c11c861ab2e",
        "IPY_MODEL_8275f327ed6e4c1aa1004cd8ba51b949"
       ],
       "layout": "IPY_MODEL_389dc36f827c4b6c813f0f0654154309"
      }
     },
     "5bb55694598c460b8e3c07aa3b80bf3f": {
      "model_module": "@jupyter-widgets/controls",
      "model_module_version": "1.4.0",
      "model_name": "ButtonModel",
      "state": {
       "description": "4",
       "layout": "IPY_MODEL_b278a7b3a86443ed9374add377f376f7",
       "style": "IPY_MODEL_fa86e06b18e34873ac36e94e6dd20f43"
      }
     },
     "5bbd525ba1ac4d678335406a36c09957": {
      "model_module": "@jupyter-widgets/base",
      "model_module_version": "1.1.0",
      "model_name": "LayoutModel",
      "state": {}
     },
     "5bc71103d2c64f619029f792246f6bd1": {
      "model_module": "@jupyter-widgets/base",
      "model_module_version": "1.1.0",
      "model_name": "LayoutModel",
      "state": {
       "visibility": "visible"
      }
     },
     "5bda241028e7406fb8670f67ab96a444": {
      "model_module": "@jupyter-widgets/base",
      "model_module_version": "1.1.0",
      "model_name": "LayoutModel",
      "state": {}
     },
     "5c131f3e6bda431a82cdb6fb5cb14ec5": {
      "model_module": "@jupyter-widgets/base",
      "model_module_version": "1.1.0",
      "model_name": "LayoutModel",
      "state": {
       "margin": "20px",
       "visibility": "visible"
      }
     },
     "5c2fc2bd46894f1dbc3589efe27365e3": {
      "model_module": "@jupyter-widgets/controls",
      "model_module_version": "1.4.0",
      "model_name": "HTMLModel",
      "state": {
       "layout": "IPY_MODEL_2cd0b62c3c9b430fab4e618bf002051c",
       "style": "IPY_MODEL_0617eeee311f4940ba633aeb03785f71",
       "value": "<b>4</b>)&nbsp;&nbsp;"
      }
     },
     "5c373fa29a8e45739fa441a8c3cecf35": {
      "model_module": "@jupyter-widgets/base",
      "model_module_version": "1.1.0",
      "model_name": "LayoutModel",
      "state": {
       "margin": "20px",
       "visibility": "visible"
      }
     },
     "5c52019d68784cd1abc5d1902af9be21": {
      "model_module": "@jupyter-widgets/controls",
      "model_module_version": "1.4.0",
      "model_name": "ButtonStyleModel",
      "state": {}
     },
     "5c75efc2f4d342e8975f4fb5aa53b18f": {
      "model_module": "@jupyter-widgets/controls",
      "model_module_version": "1.4.0",
      "model_name": "VBoxModel",
      "state": {
       "children": [
        "IPY_MODEL_f3c0aa6208214ad88fbc3c2c41abd224",
        "IPY_MODEL_49afa9f319c04988894b0571a225e945"
       ],
       "layout": "IPY_MODEL_c237319e0fd24e0992b586cd45febdac"
      }
     },
     "5ca92aa3242c48008df5f82462b655e8": {
      "model_module": "@jupyter-widgets/base",
      "model_module_version": "1.1.0",
      "model_name": "LayoutModel",
      "state": {}
     },
     "5cd9a3af233e426fb8ee54cb82b25424": {
      "model_module": "@jupyter-widgets/controls",
      "model_module_version": "1.4.0",
      "model_name": "HBoxModel",
      "state": {
       "children": [
        "IPY_MODEL_5dac561e3f8340bb9a7e760241305b95",
        "IPY_MODEL_e3789730eb3749fb9aff1bc6aae5e41d"
       ],
       "layout": "IPY_MODEL_22346d3c682446e592f275c7b1e72d46"
      }
     },
     "5cef8bebcb2a427d9aa300581cbf7da7": {
      "model_module": "@jupyter-widgets/base",
      "model_module_version": "1.1.0",
      "model_name": "LayoutModel",
      "state": {}
     },
     "5cf93cf3e41c44a596ae6903f62936d0": {
      "model_module": "@jupyter-widgets/controls",
      "model_module_version": "1.4.0",
      "model_name": "HTMLModel",
      "state": {
       "layout": "IPY_MODEL_c0195fabdc624aa9ba37215edcea0543",
       "style": "IPY_MODEL_65f7a3603c3c4016b271697b1194205b",
       "value": "9"
      }
     },
     "5d10b3a382f040a7bed507ff2b407f41": {
      "model_module": "@jupyter-widgets/controls",
      "model_module_version": "1.4.0",
      "model_name": "DescriptionStyleModel",
      "state": {
       "description_width": ""
      }
     },
     "5d52bb4d0bc24474a62ad3d5db906b60": {
      "model_module": "@jupyter-widgets/controls",
      "model_module_version": "1.4.0",
      "model_name": "HTMLModel",
      "state": {
       "layout": "IPY_MODEL_cc5276dfeff4453c8b920a6c5fd74f03",
       "style": "IPY_MODEL_de43df5263f24af8888efa820a2ca3a8",
       "value": "\n        <pre>\nqc2 = QuantumCircuit(3,1)\nif a=='1':\n    qc2.x(0)\nif b=='1':\n    qc2.x(1)\nqc2.cx(0,2)\nqc2.cx(1,2)\nqc2.x(2)\nqc2.measure(2,0)\n\nqc2.draw()\n</pre>\n        "
      }
     },
     "5d67bb4173da4d10b42a83ec795a78b2": {
      "model_module": "@jupyter-widgets/controls",
      "model_module_version": "1.4.0",
      "model_name": "DescriptionStyleModel",
      "state": {
       "description_width": ""
      }
     },
     "5d75118b9063470586db84b54cc99b7b": {
      "model_module": "@jupyter-widgets/base",
      "model_module_version": "1.1.0",
      "model_name": "LayoutModel",
      "state": {
       "visibility": "visible"
      }
     },
     "5d75e92e90da4c9e85a39f0d7bb87971": {
      "model_module": "@jupyter-widgets/controls",
      "model_module_version": "1.4.0",
      "model_name": "HBoxModel",
      "state": {
       "children": [
        "IPY_MODEL_526ea491da6b4338af04308572259581",
        "IPY_MODEL_f487a7cc6b944475803b91ea9a765e86",
        "IPY_MODEL_107b8e8715b74563aee29dbd0ab31854",
        "IPY_MODEL_b8a716e05b974a3ab3ca145195739f8b",
        "IPY_MODEL_f3cc19226e5a43eab008ae15ea7655e3",
        "IPY_MODEL_a686eb13d99c4750aa4b2d0ee16a906a"
       ],
       "layout": "IPY_MODEL_81c18673fc6542ca8e6db85b36076fa6"
      }
     },
     "5dac561e3f8340bb9a7e760241305b95": {
      "model_module": "@jupyter-widgets/controls",
      "model_module_version": "1.4.0",
      "model_name": "HTMLModel",
      "state": {
       "layout": "IPY_MODEL_32e67a90b31f404382b488e2762e311a",
       "style": "IPY_MODEL_0262c026ae4c48d3b59ded80c398af25",
       "value": "<b>5</b>)&nbsp;&nbsp;"
      }
     },
     "5db50ae3431544b9a912d1b9eaceb00f": {
      "model_module": "@jupyter-widgets/base",
      "model_module_version": "1.1.0",
      "model_name": "LayoutModel",
      "state": {}
     },
     "5dba79134c194a7c9ceb3682f2e9d27b": {
      "model_module": "@jupyter-widgets/controls",
      "model_module_version": "1.4.0",
      "model_name": "ButtonStyleModel",
      "state": {}
     },
     "5de5019855db4c3c8a8b451e48f5e615": {
      "model_module": "@jupyter-widgets/controls",
      "model_module_version": "1.4.0",
      "model_name": "HTMLModel",
      "state": {
       "layout": "IPY_MODEL_82a5205488334ee9b622e93182128be9",
       "style": "IPY_MODEL_b2bd3e527cb0454a92bf8eb8bea925bc",
       "value": "<img src=\"http://latex.codecogs.com/svg.latex?\\vert0\\rangle\" border=\"0\"/>"
      }
     },
     "5dea4420733c4b46be4707ccab8a32b5": {
      "model_module": "@jupyter-widgets/base",
      "model_module_version": "1.1.0",
      "model_name": "LayoutModel",
      "state": {}
     },
     "5deeec15f83744f1bd29dc49a9a39ea7": {
      "model_module": "@jupyter-widgets/base",
      "model_module_version": "1.1.0",
      "model_name": "LayoutModel",
      "state": {
       "margin": "20px",
       "visibility": "visible"
      }
     },
     "5e338b4912ea4441b41840f1f017d8b5": {
      "model_module": "@jupyter-widgets/controls",
      "model_module_version": "1.4.0",
      "model_name": "DescriptionStyleModel",
      "state": {
       "description_width": ""
      }
     },
     "5e50bb0266a94cefb629670cb6a6e334": {
      "model_module": "@jupyter-widgets/controls",
      "model_module_version": "1.4.0",
      "model_name": "ButtonModel",
      "state": {
       "description": "Previous",
       "disabled": true,
       "layout": "IPY_MODEL_93fbb40875554edf956244886940f4fd",
       "style": "IPY_MODEL_cc4575b8c87b4bf3b09b888640f9b564"
      }
     },
     "5e6463bf73cd46498bba54311ccdfefe": {
      "model_module": "@jupyter-widgets/controls",
      "model_module_version": "1.4.0",
      "model_name": "DescriptionStyleModel",
      "state": {
       "description_width": ""
      }
     },
     "5e73ac110c9f4933a5e18ca84bb8ed99": {
      "model_module": "@jupyter-widgets/base",
      "model_module_version": "1.1.0",
      "model_name": "LayoutModel",
      "state": {}
     },
     "5e88b4af84904704ab9f7e54a2bda1a2": {
      "model_module": "@jupyter-widgets/base",
      "model_module_version": "1.1.0",
      "model_name": "LayoutModel",
      "state": {
       "visibility": "visible"
      }
     },
     "5e8ddf6d41b7420b97d1b15df0a68ad1": {
      "model_module": "@jupyter-widgets/controls",
      "model_module_version": "1.4.0",
      "model_name": "HBoxModel",
      "state": {
       "children": [
        "IPY_MODEL_a549d39f6a3f4952ac6a318734453750",
        "IPY_MODEL_7ba7f20f329741cf989ee8b31b02bbe4"
       ],
       "layout": "IPY_MODEL_a5f54f05416a4b83b7a3003b655969ee"
      }
     },
     "5e9bf2d4be2b4a449b6e33834f8a2545": {
      "model_module": "@jupyter-widgets/controls",
      "model_module_version": "1.4.0",
      "model_name": "ButtonStyleModel",
      "state": {}
     },
     "5ea4418ac3e94dc1bbf13ca06f8ac71b": {
      "model_module": "@jupyter-widgets/base",
      "model_module_version": "1.1.0",
      "model_name": "LayoutModel",
      "state": {}
     },
     "5eac8d4e71924eeaa24df463a1a1edd5": {
      "model_module": "@jupyter-widgets/base",
      "model_module_version": "1.1.0",
      "model_name": "LayoutModel",
      "state": {
       "visibility": "visible"
      }
     },
     "5efa4d6fc2a7495b85718c5e6325bccb": {
      "model_module": "@jupyter-widgets/base",
      "model_module_version": "1.1.0",
      "model_name": "LayoutModel",
      "state": {}
     },
     "5f44d8dce2224dac8806c2b36891b6a6": {
      "model_module": "@jupyter-widgets/controls",
      "model_module_version": "1.4.0",
      "model_name": "ButtonStyleModel",
      "state": {}
     },
     "5f77fc7119824ead896c81cde26dfb3f": {
      "model_module": "@jupyter-widgets/base",
      "model_module_version": "1.1.0",
      "model_name": "LayoutModel",
      "state": {
       "visibility": "visible"
      }
     },
     "5fa8965e13a942bbbd0732b327f0aa88": {
      "model_module": "@jupyter-widgets/controls",
      "model_module_version": "1.4.0",
      "model_name": "VBoxModel",
      "state": {
       "children": [
        "IPY_MODEL_e7bc9163785345b28d1ca983f3e798a5",
        "IPY_MODEL_0485d71897ec4068b1a31ae959fe6f32"
       ],
       "layout": "IPY_MODEL_6ac2d899978f40d4a9a6520ff87fad11"
      }
     },
     "5fd6d39c5fa9420cb352d148a5eb5a19": {
      "model_module": "@jupyter-widgets/base",
      "model_module_version": "1.1.0",
      "model_name": "LayoutModel",
      "state": {}
     },
     "5fe986732f7c4c0aa9366f0fa865f1f6": {
      "model_module": "@jupyter-widgets/base",
      "model_module_version": "1.1.0",
      "model_name": "LayoutModel",
      "state": {}
     },
     "5fef03131a914934b24d035550ea5b29": {
      "model_module": "@jupyter-widgets/base",
      "model_module_version": "1.1.0",
      "model_name": "LayoutModel",
      "state": {}
     },
     "6006cc67feb3451eb45e523007402e07": {
      "model_module": "@jupyter-widgets/controls",
      "model_module_version": "1.4.0",
      "model_name": "DescriptionStyleModel",
      "state": {
       "description_width": ""
      }
     },
     "60157d1e4cb4479ea861555a0d94167c": {
      "model_module": "@jupyter-widgets/controls",
      "model_module_version": "1.4.0",
      "model_name": "DescriptionStyleModel",
      "state": {
       "description_width": ""
      }
     },
     "6019451f659547669b8b714370241c2d": {
      "model_module": "@jupyter-widgets/controls",
      "model_module_version": "1.4.0",
      "model_name": "ButtonModel",
      "state": {
       "description": "4",
       "layout": "IPY_MODEL_c0327c31f4ed4f119e5203ef6a229bfc",
       "style": "IPY_MODEL_23112115a803447199f5beabf8021ce1"
      }
     },
     "602a8240ee8544048719b0007eb6aa6a": {
      "model_module": "@jupyter-widgets/controls",
      "model_module_version": "1.4.0",
      "model_name": "VBoxModel",
      "state": {
       "children": [
        "IPY_MODEL_3db56a22e1b74aedb4dfaea0cb1ca140",
        "IPY_MODEL_b76bc1bccc9747c6a2ebd4ae3573504b"
       ],
       "layout": "IPY_MODEL_2ecf9616cf2043eda8741cf27775384c"
      }
     },
     "60311fa8a45143faa7a460556668943e": {
      "model_module": "@jupyter-widgets/controls",
      "model_module_version": "1.4.0",
      "model_name": "HTMLModel",
      "state": {
       "layout": "IPY_MODEL_e9fa60f4ce934ba88be93e9ef0052ab7",
       "style": "IPY_MODEL_dec23ce543834ed2b733013cdbd978b9",
       "value": "<b>2</b>)&nbsp;&nbsp;"
      }
     },
     "6050982e0625480eaf910a01ba253220": {
      "model_module": "@jupyter-widgets/controls",
      "model_module_version": "1.4.0",
      "model_name": "HBoxModel",
      "state": {
       "children": [
        "IPY_MODEL_06e4f387dc3147158f5d57dec55b5cd9",
        "IPY_MODEL_81e0bb579d0e46428e1b9a04e8e7fd47",
        "IPY_MODEL_b63d2650ec2f4264ad8616f610773fbd",
        "IPY_MODEL_7225ee4178934db5b43f664de18d6984",
        "IPY_MODEL_0543fffe081c474c82b74ed6629a17c6",
        "IPY_MODEL_ceeec805fe4148b7b58f06ca63d66c55"
       ],
       "layout": "IPY_MODEL_65d118ace634461bba50ea79fa97cf64"
      }
     },
     "605950dd3a5e4498b2128babae8588d0": {
      "model_module": "@jupyter-widgets/base",
      "model_module_version": "1.1.0",
      "model_name": "LayoutModel",
      "state": {}
     },
     "60a03f2563904cbb8383c62c504e1239": {
      "model_module": "@jupyter-widgets/controls",
      "model_module_version": "1.4.0",
      "model_name": "ButtonStyleModel",
      "state": {}
     },
     "60ae9b70829c4de69b62c90d0625f778": {
      "model_module": "@jupyter-widgets/controls",
      "model_module_version": "1.4.0",
      "model_name": "DescriptionStyleModel",
      "state": {
       "description_width": ""
      }
     },
     "60c31244c1f048d5ab38e6533c7d7483": {
      "model_module": "@jupyter-widgets/base",
      "model_module_version": "1.1.0",
      "model_name": "LayoutModel",
      "state": {
       "visibility": "hidden"
      }
     },
     "60d26c31c3064eb790c40aa2184d3320": {
      "model_module": "@jupyter-widgets/base",
      "model_module_version": "1.1.0",
      "model_name": "LayoutModel",
      "state": {}
     },
     "60dd8c77fd8f420182d1033dab4cc81e": {
      "model_module": "@jupyter-widgets/controls",
      "model_module_version": "1.4.0",
      "model_name": "HBoxModel",
      "state": {
       "children": [
        "IPY_MODEL_3d800cb6db6b41d8b44aa34f422c5004",
        "IPY_MODEL_da9a4c2fc87b4427862145344ca2106d"
       ],
       "layout": "IPY_MODEL_2759c062b7014454ba30444aca05bb51"
      }
     },
     "6131a384b2184d9c8a21503466e7ed52": {
      "model_module": "@jupyter-widgets/base",
      "model_module_version": "1.1.0",
      "model_name": "LayoutModel",
      "state": {
       "visibility": "visible"
      }
     },
     "61639d22db98412dae5ac9d40f1301d1": {
      "model_module": "@jupyter-widgets/base",
      "model_module_version": "1.1.0",
      "model_name": "LayoutModel",
      "state": {
       "visibility": "visible"
      }
     },
     "616bd2a6f99347abb146d42dd1910efd": {
      "model_module": "@jupyter-widgets/controls",
      "model_module_version": "1.4.0",
      "model_name": "DescriptionStyleModel",
      "state": {
       "description_width": ""
      }
     },
     "61a41dabeedf403093507d37e065f052": {
      "model_module": "@jupyter-widgets/controls",
      "model_module_version": "1.4.0",
      "model_name": "DescriptionStyleModel",
      "state": {
       "description_width": ""
      }
     },
     "61a510955bba4d8680ea5d8bf688579d": {
      "model_module": "@jupyter-widgets/controls",
      "model_module_version": "1.4.0",
      "model_name": "HTMLModel",
      "state": {
       "layout": "IPY_MODEL_9e7889c5c623412d856a88b74060f8f5",
       "style": "IPY_MODEL_b97f53bd27f24287afb7573299c07fa7",
       "value": "<b>2</b>)&nbsp;&nbsp;"
      }
     },
     "61a738e4dc3d477caecb0cbe9d5d42ff": {
      "model_module": "@jupyter-widgets/base",
      "model_module_version": "1.1.0",
      "model_name": "LayoutModel",
      "state": {
       "visibility": "visible"
      }
     },
     "61d0a20b4f234f98bace4df272d9b105": {
      "model_module": "@jupyter-widgets/base",
      "model_module_version": "1.1.0",
      "model_name": "LayoutModel",
      "state": {
       "margin": "20px",
       "visibility": "visible"
      }
     },
     "621796735ea64970ab7f13662d74a068": {
      "model_module": "@jupyter-widgets/controls",
      "model_module_version": "1.4.0",
      "model_name": "HTMLModel",
      "state": {
       "layout": "IPY_MODEL_7ee140bf42b64cc294a1ec8975ccd752",
       "style": "IPY_MODEL_698e9a6da3bf41a5927272abec552911",
       "value": "12"
      }
     },
     "622918c4b241465f953a3f87a47560cf": {
      "model_module": "@jupyter-widgets/controls",
      "model_module_version": "1.4.0",
      "model_name": "DescriptionStyleModel",
      "state": {
       "description_width": ""
      }
     },
     "6246be4a5a344645994ddb4631828e66": {
      "model_module": "@jupyter-widgets/controls",
      "model_module_version": "1.4.0",
      "model_name": "HTMLModel",
      "state": {
       "layout": "IPY_MODEL_d3b5b31bfcd943aea369d3f4d1829e3f",
       "style": "IPY_MODEL_45cdb846642d4881bdb4395ea9f70b37",
       "value": "<b>2</b>)&nbsp;&nbsp;"
      }
     },
     "62cdf4133dbb495d8ec0a932a61501bb": {
      "model_module": "@jupyter-widgets/controls",
      "model_module_version": "1.4.0",
      "model_name": "DescriptionStyleModel",
      "state": {
       "description_width": ""
      }
     },
     "62eed2353fc543939e26773693b55d30": {
      "model_module": "@jupyter-widgets/controls",
      "model_module_version": "1.4.0",
      "model_name": "HBoxModel",
      "state": {
       "children": [
        "IPY_MODEL_282c2d9207514914a392d0cfd5a99697",
        "IPY_MODEL_8a399227dc8e4f23a6cd2d462534b90c",
        "IPY_MODEL_f28e59e5f2e5436a86c34f78f2f01aa0"
       ],
       "layout": "IPY_MODEL_7f5e4244d75844039c645c90ba41e5dd"
      }
     },
     "6305c763331748189cd189b9fa189e3e": {
      "model_module": "@jupyter-widgets/base",
      "model_module_version": "1.1.0",
      "model_name": "LayoutModel",
      "state": {}
     },
     "6313e6f2d8af47b091d9a21050480459": {
      "model_module": "@jupyter-widgets/controls",
      "model_module_version": "1.4.0",
      "model_name": "ButtonModel",
      "state": {
       "description": "4",
       "layout": "IPY_MODEL_46836c19b192422c980bb9b93f8adf25",
       "style": "IPY_MODEL_b3c86c3807bf4002a962d90af0e3cac4"
      }
     },
     "631ae6a5b73b4abbb5a00cbafa95cd2c": {
      "model_module": "@jupyter-widgets/base",
      "model_module_version": "1.1.0",
      "model_name": "LayoutModel",
      "state": {}
     },
     "635001448e24492a884f76ca99540d1e": {
      "model_module": "@jupyter-widgets/base",
      "model_module_version": "1.1.0",
      "model_name": "LayoutModel",
      "state": {
       "margin": "20px",
       "visibility": "visible"
      }
     },
     "63c8553ff0c74cbe98bb4ecb51796ebc": {
      "model_module": "@jupyter-widgets/base",
      "model_module_version": "1.1.0",
      "model_name": "LayoutModel",
      "state": {
       "margin": "20px",
       "visibility": "visible"
      }
     },
     "63cd8c4bc1c34a8eab0ad7aea9004180": {
      "model_module": "@jupyter-widgets/controls",
      "model_module_version": "1.4.0",
      "model_name": "HBoxModel",
      "state": {
       "children": [
        "IPY_MODEL_fadb7d7afa9c420487b1f1682d9a4bdc",
        "IPY_MODEL_0e8cee3331e340db8abafa9797369ed9",
        "IPY_MODEL_a69aacf582aa4450afe92f034b2ca402",
        "IPY_MODEL_40bb3134ce2d427b9082f9f66eaae1d6",
        "IPY_MODEL_f66d50f4f2b7404c9c58040887a1d668",
        "IPY_MODEL_9ad264d26c7e4762999f78202c664564"
       ],
       "layout": "IPY_MODEL_40a8251e2dcc48a58904414c714cf9be"
      }
     },
     "63e343d394b3453db549888b3d72cb3d": {
      "model_module": "@jupyter-widgets/controls",
      "model_module_version": "1.4.0",
      "model_name": "HTMLModel",
      "state": {
       "layout": "IPY_MODEL_15e538fcf1834af6bd2e0708f552df97",
       "style": "IPY_MODEL_d2f4fc0c6f3e4bc992f74f8b012d537a",
       "value": "<br/><br clear=\"all\"/><b>Respond</b>: "
      }
     },
     "63ebf5f44d81425b869b5e578f4150ef": {
      "model_module": "@jupyter-widgets/controls",
      "model_module_version": "1.4.0",
      "model_name": "HTMLModel",
      "state": {
       "layout": "IPY_MODEL_a27c68e3b21f4c6dbc1094e8f2a7689d",
       "style": "IPY_MODEL_fde41d94813d4d6e9eebe5e75c935266",
       "value": "<b>2</b>)&nbsp;&nbsp;"
      }
     },
     "63fe8096bc104e69801b28a91863bbe0": {
      "model_module": "@jupyter-widgets/base",
      "model_module_version": "1.1.0",
      "model_name": "LayoutModel",
      "state": {}
     },
     "64002732eb014a5795e2dd00f9013150": {
      "model_module": "@jupyter-widgets/base",
      "model_module_version": "1.1.0",
      "model_name": "LayoutModel",
      "state": {
       "visibility": "visible"
      }
     },
     "641474cca5514cbfbb77ff67f45dfcc9": {
      "model_module": "@jupyter-widgets/base",
      "model_module_version": "1.1.0",
      "model_name": "LayoutModel",
      "state": {
       "visibility": "hidden"
      }
     },
     "6429f3b3ec7d496ba764f4e2d23a9b01": {
      "model_module": "@jupyter-widgets/controls",
      "model_module_version": "1.4.0",
      "model_name": "DescriptionStyleModel",
      "state": {
       "description_width": ""
      }
     },
     "646fb6082a4f4b4388fdb93be65f1cf2": {
      "model_module": "@jupyter-widgets/base",
      "model_module_version": "1.1.0",
      "model_name": "LayoutModel",
      "state": {
       "visibility": "visible"
      }
     },
     "64a7b0eb03294db6999e5fab1a4f8007": {
      "model_module": "@jupyter-widgets/base",
      "model_module_version": "1.1.0",
      "model_name": "LayoutModel",
      "state": {}
     },
     "64a884ab393b473a9b584b243042e00e": {
      "model_module": "@jupyter-widgets/controls",
      "model_module_version": "1.4.0",
      "model_name": "DescriptionStyleModel",
      "state": {
       "description_width": ""
      }
     },
     "64dcda5fd49d40ec9fbe636a5ea14895": {
      "model_module": "@jupyter-widgets/controls",
      "model_module_version": "1.4.0",
      "model_name": "ButtonStyleModel",
      "state": {}
     },
     "64dcda928355493d9630c1bf15c5850d": {
      "model_module": "@jupyter-widgets/controls",
      "model_module_version": "1.4.0",
      "model_name": "DescriptionStyleModel",
      "state": {
       "description_width": ""
      }
     },
     "64f779c185ea4a7c9641f3fc6ab55917": {
      "model_module": "@jupyter-widgets/controls",
      "model_module_version": "1.4.0",
      "model_name": "DescriptionStyleModel",
      "state": {
       "description_width": ""
      }
     },
     "6500ccf65da44b6b9640cf450f6d2398": {
      "model_module": "@jupyter-widgets/base",
      "model_module_version": "1.1.0",
      "model_name": "LayoutModel",
      "state": {
       "visibility": "visible"
      }
     },
     "6520433d09e748ccb2cc4da3d91aa017": {
      "model_module": "@jupyter-widgets/controls",
      "model_module_version": "1.4.0",
      "model_name": "HTMLModel",
      "state": {
       "layout": "IPY_MODEL_9991718997c44e4bb51653b86bbc96b4",
       "style": "IPY_MODEL_c6a2aea5abdf4d89aa245409ef5c5e18",
       "value": "A library of quantum algorithms"
      }
     },
     "65575a66b9a24d0d9deed4da33a628b2": {
      "model_module": "@jupyter-widgets/base",
      "model_module_version": "1.1.0",
      "model_name": "LayoutModel",
      "state": {}
     },
     "657887f5eaf64da4b88f18fc17ed05b5": {
      "model_module": "@jupyter-widgets/controls",
      "model_module_version": "1.4.0",
      "model_name": "ButtonStyleModel",
      "state": {}
     },
     "65d118ace634461bba50ea79fa97cf64": {
      "model_module": "@jupyter-widgets/base",
      "model_module_version": "1.1.0",
      "model_name": "LayoutModel",
      "state": {}
     },
     "65da7f815dfa4770b45602efab18f5f2": {
      "model_module": "@jupyter-widgets/controls",
      "model_module_version": "1.4.0",
      "model_name": "ButtonStyleModel",
      "state": {}
     },
     "65f2b8dbe88a4617bd78061e606373a6": {
      "model_module": "@jupyter-widgets/controls",
      "model_module_version": "1.4.0",
      "model_name": "HBoxModel",
      "state": {
       "children": [
        "IPY_MODEL_48386984bac145cc83273accc79de5a1",
        "IPY_MODEL_4deccfcbc258492db91cd5ed758884f8"
       ],
       "layout": "IPY_MODEL_bee96093d39e465dbf00d3a21b1489e1"
      }
     },
     "65f7a3603c3c4016b271697b1194205b": {
      "model_module": "@jupyter-widgets/controls",
      "model_module_version": "1.4.0",
      "model_name": "DescriptionStyleModel",
      "state": {
       "description_width": ""
      }
     },
     "660d6f0c1cfc4b6b976d99ade668b06f": {
      "model_module": "@jupyter-widgets/base",
      "model_module_version": "1.1.0",
      "model_name": "LayoutModel",
      "state": {}
     },
     "662433b90765473d9e8e61414af5a1b3": {
      "model_module": "@jupyter-widgets/controls",
      "model_module_version": "1.4.0",
      "model_name": "ButtonModel",
      "state": {
       "description": "5",
       "layout": "IPY_MODEL_1cdd8fb82ef24f80bdd779d261318f02",
       "style": "IPY_MODEL_8d76cedec8ce435793ba9a1d1114177d"
      }
     },
     "663d4fef59614ead90b1aa12ac91424a": {
      "model_module": "@jupyter-widgets/base",
      "model_module_version": "1.1.0",
      "model_name": "LayoutModel",
      "state": {}
     },
     "663f06ee11d148f78534155d298fe149": {
      "model_module": "@jupyter-widgets/controls",
      "model_module_version": "1.4.0",
      "model_name": "DescriptionStyleModel",
      "state": {
       "description_width": ""
      }
     },
     "6662f2a244c043ffaedbedf2c329095f": {
      "model_module": "@jupyter-widgets/base",
      "model_module_version": "1.1.0",
      "model_name": "LayoutModel",
      "state": {}
     },
     "666cc9674b8e4113b694cfcf9f971a0a": {
      "model_module": "@jupyter-widgets/controls",
      "model_module_version": "1.4.0",
      "model_name": "DescriptionStyleModel",
      "state": {
       "description_width": ""
      }
     },
     "6682f24773834f5194f00e9e445142c5": {
      "model_module": "@jupyter-widgets/controls",
      "model_module_version": "1.4.0",
      "model_name": "DescriptionStyleModel",
      "state": {
       "description_width": ""
      }
     },
     "66981b4ef06b4675a66590ebbb39f7b3": {
      "model_module": "@jupyter-widgets/controls",
      "model_module_version": "1.4.0",
      "model_name": "HBoxModel",
      "state": {
       "children": [
        "IPY_MODEL_14bb2e28c039478b835a54fb3124f2ea",
        "IPY_MODEL_170170580cc24deeba732023ffa7af3f"
       ],
       "layout": "IPY_MODEL_227d0a5ce0244ecaa75b67245e263082"
      }
     },
     "66b81ac0edf245e8b5ac449133c04b2b": {
      "model_module": "@jupyter-widgets/base",
      "model_module_version": "1.1.0",
      "model_name": "LayoutModel",
      "state": {}
     },
     "66f748807b1a4f599c5356cf2a9a6ed8": {
      "model_module": "@jupyter-widgets/base",
      "model_module_version": "1.1.0",
      "model_name": "LayoutModel",
      "state": {}
     },
     "670e2e4bca744612befbd34926523a50": {
      "model_module": "@jupyter-widgets/controls",
      "model_module_version": "1.4.0",
      "model_name": "ButtonModel",
      "state": {
       "description": "4",
       "layout": "IPY_MODEL_feed68c61643494da93877d1889dcf24",
       "style": "IPY_MODEL_d32f383953b94ebe925eedefde2a6780"
      }
     },
     "673b0ecd826f41198df1ef649ad8d064": {
      "model_module": "@jupyter-widgets/controls",
      "model_module_version": "1.4.0",
      "model_name": "HTMLModel",
      "state": {
       "layout": "IPY_MODEL_58e78e3f6dd04d6a832b021829fd4bcd",
       "style": "IPY_MODEL_8bf412c6d34647d292b0a19cae5274d0",
       "value": "<img src=\"questions/qiskitintro_images/1.png\">"
      }
     },
     "674c1f5c9b4b45a183f1db88fd6b145e": {
      "model_module": "@jupyter-widgets/base",
      "model_module_version": "1.1.0",
      "model_name": "LayoutModel",
      "state": {
       "margin": "20px",
       "visibility": "visible"
      }
     },
     "674dea27f2a74ced833ae517d33273e3": {
      "model_module": "@jupyter-widgets/base",
      "model_module_version": "1.1.0",
      "model_name": "LayoutModel",
      "state": {}
     },
     "675a5eb69863475da4fac1a41cf23762": {
      "model_module": "@jupyter-widgets/base",
      "model_module_version": "1.1.0",
      "model_name": "LayoutModel",
      "state": {}
     },
     "67fea2932bf6482780a96485f534f8bc": {
      "model_module": "@jupyter-widgets/base",
      "model_module_version": "1.1.0",
      "model_name": "LayoutModel",
      "state": {}
     },
     "6806c1e5d59440e9898882b7c1356f93": {
      "model_module": "@jupyter-widgets/controls",
      "model_module_version": "1.4.0",
      "model_name": "HTMLModel",
      "state": {
       "layout": "IPY_MODEL_46304291c03a4a15912bf6765411a32f",
       "style": "IPY_MODEL_2a42a12ffb8643c7a71d50ab0c650352",
       "value": "<img src=\"aer1_images/1_w3.png\">"
      }
     },
     "680ad10a61e94087a44dfeb876f24dca": {
      "model_module": "@jupyter-widgets/base",
      "model_module_version": "1.1.0",
      "model_name": "LayoutModel",
      "state": {}
     },
     "685ce2290b5b49a2a254e15c1fc98a10": {
      "model_module": "@jupyter-widgets/base",
      "model_module_version": "1.1.0",
      "model_name": "LayoutModel",
      "state": {}
     },
     "687b60703d4c47558b53ee6dfcc64c25": {
      "model_module": "@jupyter-widgets/controls",
      "model_module_version": "1.4.0",
      "model_name": "VBoxModel",
      "state": {
       "children": [
        "IPY_MODEL_2bce1903eac04b4cafb6c0fce4b447af",
        "IPY_MODEL_36b6155f2b6f48629bbc8fb34f945beb"
       ],
       "layout": "IPY_MODEL_eae1d62612604d9ea1665bb968218dbd"
      }
     },
     "688422c6fe904d6484637ed378831d3e": {
      "model_module": "@jupyter-widgets/controls",
      "model_module_version": "1.4.0",
      "model_name": "DescriptionStyleModel",
      "state": {
       "description_width": ""
      }
     },
     "6888f4641a0746aaaa08627b470e6aa3": {
      "model_module": "@jupyter-widgets/base",
      "model_module_version": "1.1.0",
      "model_name": "LayoutModel",
      "state": {}
     },
     "68ab189c89634ddf9d246af3f53dc80f": {
      "model_module": "@jupyter-widgets/base",
      "model_module_version": "1.1.0",
      "model_name": "LayoutModel",
      "state": {
       "visibility": "visible"
      }
     },
     "68b9af6bd4084d4b90fdfcb637f05302": {
      "model_module": "@jupyter-widgets/controls",
      "model_module_version": "1.4.0",
      "model_name": "HBoxModel",
      "state": {
       "children": [
        "IPY_MODEL_ce2c896241d246ee8406855a844db906",
        "IPY_MODEL_b83b265205714b9792a0f6f952201ff5",
        "IPY_MODEL_07534120b46540e48588ced278a1183f"
       ],
       "layout": "IPY_MODEL_80fa0b4339894d689726300ff408c12f"
      }
     },
     "68c8904dcf644746ac3f411fae48d68c": {
      "model_module": "@jupyter-widgets/controls",
      "model_module_version": "1.4.0",
      "model_name": "HTMLModel",
      "state": {
       "layout": "IPY_MODEL_238b0d19310c4781af6a7492f5a87da5",
       "style": "IPY_MODEL_01f8abc37a9743cdbdaa964bf1ddc63f",
       "value": "<br/><br clear=\"all\"/><b>Respond</b>: "
      }
     },
     "68cc85259887469896e69d99d0abda39": {
      "model_module": "@jupyter-widgets/base",
      "model_module_version": "1.1.0",
      "model_name": "LayoutModel",
      "state": {}
     },
     "68fd4f4981314dd79077e4ea3d3ae94e": {
      "model_module": "@jupyter-widgets/base",
      "model_module_version": "1.1.0",
      "model_name": "LayoutModel",
      "state": {}
     },
     "6902697d9394405db03f9a3bb10b6e28": {
      "model_module": "@jupyter-widgets/controls",
      "model_module_version": "1.4.0",
      "model_name": "ButtonModel",
      "state": {
       "description": "Results",
       "layout": "IPY_MODEL_c8cafe30eb2c4a99bf1f2d8e59ee6c76",
       "style": "IPY_MODEL_93122fa2eb914d24a78341c5de25532f"
      }
     },
     "6905f993502f4bbdbf5df8b11a0b7e9c": {
      "model_module": "@jupyter-widgets/controls",
      "model_module_version": "1.4.0",
      "model_name": "DescriptionStyleModel",
      "state": {
       "description_width": ""
      }
     },
     "692ae0c3bb0b46acaa98eb79c4ce606a": {
      "model_module": "@jupyter-widgets/controls",
      "model_module_version": "1.4.0",
      "model_name": "ButtonStyleModel",
      "state": {}
     },
     "69321dc3770648e78ea8e7d6060162aa": {
      "model_module": "@jupyter-widgets/controls",
      "model_module_version": "1.4.0",
      "model_name": "ButtonStyleModel",
      "state": {}
     },
     "696b38003693494cbf2ff01df64aca19": {
      "model_module": "@jupyter-widgets/controls",
      "model_module_version": "1.4.0",
      "model_name": "HBoxModel",
      "state": {
       "children": [
        "IPY_MODEL_aeeb3917947642c0b87fa73add84c973",
        "IPY_MODEL_cb3dcd500c1a4d6ab19dfa611876a25b"
       ],
       "layout": "IPY_MODEL_907e7fbfd8b64d37b98703955a32131d"
      }
     },
     "698e9a6da3bf41a5927272abec552911": {
      "model_module": "@jupyter-widgets/controls",
      "model_module_version": "1.4.0",
      "model_name": "DescriptionStyleModel",
      "state": {
       "description_width": ""
      }
     },
     "699241948d044403b9820b924aa7a8a9": {
      "model_module": "@jupyter-widgets/base",
      "model_module_version": "1.1.0",
      "model_name": "LayoutModel",
      "state": {}
     },
     "69bbc173300f44a99bf769c3f96b5a0f": {
      "model_module": "@jupyter-widgets/controls",
      "model_module_version": "1.4.0",
      "model_name": "VBoxModel",
      "state": {
       "children": [
        "IPY_MODEL_c479f89677004031820371728667a312",
        "IPY_MODEL_11517142279f44d09a070b5d204a96e8"
       ],
       "layout": "IPY_MODEL_3fed0f37907b447695c6bf6905ef4b3d"
      }
     },
     "69eb00d6c8794e809a182d4644b5bf3a": {
      "model_module": "@jupyter-widgets/controls",
      "model_module_version": "1.4.0",
      "model_name": "ButtonModel",
      "state": {
       "description": "Results",
       "layout": "IPY_MODEL_469ff0bb9dce450788ef2440a27c5286",
       "style": "IPY_MODEL_ae56e2f6a56f4470b6bd288abec6a4a7"
      }
     },
     "6a0000bb153f4ca490a9d57b28c65dda": {
      "model_module": "@jupyter-widgets/controls",
      "model_module_version": "1.4.0",
      "model_name": "DescriptionStyleModel",
      "state": {
       "description_width": ""
      }
     },
     "6a48d5fc583f41dbbd737de52fc469ac": {
      "model_module": "@jupyter-widgets/controls",
      "model_module_version": "1.4.0",
      "model_name": "HTMLModel",
      "state": {
       "layout": "IPY_MODEL_74df1cf852b64aa8bb7906639def8864",
       "style": "IPY_MODEL_f11fb6f95c134897b53f0e29e13d712a",
       "value": "<img src=\"http://latex.codecogs.com/svg.latex?\\vert0\\rangle\" border=\"0\"/>"
      }
     },
     "6a54d0b6be564df298d7b10dcccb4cc5": {
      "model_module": "@jupyter-widgets/controls",
      "model_module_version": "1.4.0",
      "model_name": "DescriptionStyleModel",
      "state": {
       "description_width": ""
      }
     },
     "6a6d89eba25447d4a633c5fc1e8dbfcc": {
      "model_module": "@jupyter-widgets/controls",
      "model_module_version": "1.4.0",
      "model_name": "VBoxModel",
      "state": {
       "children": [
        "IPY_MODEL_99d4d1f75cbd4d14bcbcfad1c71af82d",
        "IPY_MODEL_d6b606cc7341424d95138922ad7d3734"
       ],
       "layout": "IPY_MODEL_3af9827265bd433299c5a30b05641f94"
      }
     },
     "6ab4498764f74ebdad1174178b893c7c": {
      "model_module": "@jupyter-widgets/controls",
      "model_module_version": "1.4.0",
      "model_name": "ButtonModel",
      "state": {
       "description": "Results",
       "layout": "IPY_MODEL_ab86b4c5278d47609606451b68f2ca44",
       "style": "IPY_MODEL_d7284fc74b8c421f8791c2428c066387"
      }
     },
     "6ab5d4db620349d6b6d71065b0b3ce06": {
      "model_module": "@jupyter-widgets/controls",
      "model_module_version": "1.4.0",
      "model_name": "HTMLModel",
      "state": {
       "layout": "IPY_MODEL_6cebd40e34f44eaaa5031d62f8b8c9d4",
       "style": "IPY_MODEL_0f8dc0333104430baa4157d19d51fbc8",
       "value": "<img src=\"http://latex.codecogs.com/svg.latex?\\frac{\\vert0\\rangle-\\vert1\\rangle}{\\sqrt{2}}\" border=\"0\"/>"
      }
     },
     "6abea88d22a5455fa972d243ac7cf8b1": {
      "model_module": "@jupyter-widgets/controls",
      "model_module_version": "1.4.0",
      "model_name": "ButtonModel",
      "state": {
       "description": "5",
       "layout": "IPY_MODEL_5c373fa29a8e45739fa441a8c3cecf35",
       "style": "IPY_MODEL_94fa19928b9b4103a64dfac9a3c0e705"
      }
     },
     "6ac2d899978f40d4a9a6520ff87fad11": {
      "model_module": "@jupyter-widgets/base",
      "model_module_version": "1.1.0",
      "model_name": "LayoutModel",
      "state": {}
     },
     "6aeb832226a4470f8143daabd8d7f4af": {
      "model_module": "@jupyter-widgets/controls",
      "model_module_version": "1.4.0",
      "model_name": "ButtonModel",
      "state": {
       "description": "4",
       "layout": "IPY_MODEL_1f481c878617436192d22910000bcb7c",
       "style": "IPY_MODEL_e643d8f198fd49c3a766882c076b078d"
      }
     },
     "6af48efd8ace43d99a337c4d7bf5b73d": {
      "model_module": "@jupyter-widgets/controls",
      "model_module_version": "1.4.0",
      "model_name": "VBoxModel",
      "state": {
       "children": [
        "IPY_MODEL_ef8dc9f57f8a43cfa0b903a85115e898",
        "IPY_MODEL_ea19b48371bf44a580f208d0698a7e5f"
       ],
       "layout": "IPY_MODEL_ad7883a073134ddeb34de4b29cfdf355"
      }
     },
     "6afbaf0b6bfb47379729bcedd410dd87": {
      "model_module": "@jupyter-widgets/controls",
      "model_module_version": "1.4.0",
      "model_name": "DescriptionStyleModel",
      "state": {
       "description_width": ""
      }
     },
     "6b0add6021cd4a7a8d8624a9d6375264": {
      "model_module": "@jupyter-widgets/base",
      "model_module_version": "1.1.0",
      "model_name": "LayoutModel",
      "state": {
       "visibility": "hidden"
      }
     },
     "6b19ded4a1184fecba85346e4fcee813": {
      "model_module": "@jupyter-widgets/base",
      "model_module_version": "1.1.0",
      "model_name": "LayoutModel",
      "state": {}
     },
     "6b2c3661e5274cf6b2ba3686d7c125db": {
      "model_module": "@jupyter-widgets/controls",
      "model_module_version": "1.4.0",
      "model_name": "HTMLModel",
      "state": {
       "layout": "IPY_MODEL_fa215e8636cd46f09a60e32cb7beffe1",
       "style": "IPY_MODEL_6b697e820f7f4c6fa2f4525e0f7a18d0",
       "value": "<b>2</b>)&nbsp;&nbsp;"
      }
     },
     "6b697e820f7f4c6fa2f4525e0f7a18d0": {
      "model_module": "@jupyter-widgets/controls",
      "model_module_version": "1.4.0",
      "model_name": "DescriptionStyleModel",
      "state": {
       "description_width": ""
      }
     },
     "6b8b24d2ab594452bc094e43eafa0ffe": {
      "model_module": "@jupyter-widgets/output",
      "model_module_version": "1.0.0",
      "model_name": "OutputModel",
      "state": {
       "layout": "IPY_MODEL_e11e7bbff6224aa4b3e3bb6591c6d5bc"
      }
     },
     "6b917c5500b34b0aa9689c4d532f5e89": {
      "model_module": "@jupyter-widgets/controls",
      "model_module_version": "1.4.0",
      "model_name": "HBoxModel",
      "state": {
       "children": [
        "IPY_MODEL_db283009302e43cea1457dd33b1777a5",
        "IPY_MODEL_1f8ea43f32bd42538284b461fc651d07"
       ],
       "layout": "IPY_MODEL_2fe3a28309484925a5fcf51c93ff9075"
      }
     },
     "6bc6e18992524b05b03f0bd4e5ca9a0c": {
      "model_module": "@jupyter-widgets/controls",
      "model_module_version": "1.4.0",
      "model_name": "HBoxModel",
      "state": {
       "children": [
        "IPY_MODEL_63e343d394b3453db549888b3d72cb3d",
        "IPY_MODEL_ef0473987b794ad2ab45d280d4a0a7bf",
        "IPY_MODEL_6c642023e4924016a5d845e28edb0878",
        "IPY_MODEL_b2d27439b51f4623a084a51ebdf989b3",
        "IPY_MODEL_3066d07ce28842fab7515679931fd875",
        "IPY_MODEL_3aae242e08de4cc190566c38902295b0"
       ],
       "layout": "IPY_MODEL_239d2526474d402fb88b3e7f72a195ad"
      }
     },
     "6bf3fc35e32b4f08ba7c0115a934dd43": {
      "model_module": "@jupyter-widgets/controls",
      "model_module_version": "1.4.0",
      "model_name": "HTMLModel",
      "state": {
       "layout": "IPY_MODEL_74c7124e51be4afe958ef7bd03f89d84",
       "style": "IPY_MODEL_37f862027ef04c6cb3b361dde5f9309b",
       "value": "<b>1</b>)&nbsp;&nbsp;"
      }
     },
     "6bfd4bbeaf3747db8ed3944b8413e75f": {
      "model_module": "@jupyter-widgets/controls",
      "model_module_version": "1.4.0",
      "model_name": "ButtonStyleModel",
      "state": {}
     },
     "6c1f8b609a20417d9387e6140179da31": {
      "model_module": "@jupyter-widgets/controls",
      "model_module_version": "1.4.0",
      "model_name": "HTMLModel",
      "state": {
       "layout": "IPY_MODEL_a964498b4f0945dd822e875dc4297d81",
       "style": "IPY_MODEL_e7a26680527f4498afecb74f331676ab",
       "value": "Qubits in state <img src=\"http://latex.codecogs.com/svg.latex?\\vert1\\rangle\" border=\"0\"/> decay down to <img src=\"http://latex.codecogs.com/svg.latex?\\vert0\\rangle\" border=\"0\"/> before measurement. The decay time for <samp>qr[0]</samp> is shorter than that for <samp>qr[1]</samp>."
      }
     },
     "6c5cbb74cf1a4155b73b23fb35b9a53d": {
      "model_module": "@jupyter-widgets/controls",
      "model_module_version": "1.4.0",
      "model_name": "ButtonStyleModel",
      "state": {}
     },
     "6c642023e4924016a5d845e28edb0878": {
      "model_module": "@jupyter-widgets/controls",
      "model_module_version": "1.4.0",
      "model_name": "ButtonModel",
      "state": {
       "description": "2",
       "layout": "IPY_MODEL_a26db3721ae3450eb10df2a3a476cbb0",
       "style": "IPY_MODEL_53a609fa6f4743d78016eae603a6c2c4"
      }
     },
     "6c84eb4ccd96457a8e8b90af140900bc": {
      "model_module": "@jupyter-widgets/base",
      "model_module_version": "1.1.0",
      "model_name": "LayoutModel",
      "state": {}
     },
     "6c9a1fd421da4b70960fbe67ce254b31": {
      "model_module": "@jupyter-widgets/controls",
      "model_module_version": "1.4.0",
      "model_name": "HTMLModel",
      "state": {
       "layout": "IPY_MODEL_54fdc886105d4ef89705be18ebbf7c9a",
       "style": "IPY_MODEL_dee9fed2b17e4d5d84299e284529841f",
       "value": "<img src=\"http://latex.codecogs.com/svg.latex?\\frac{\\vert0\\rangle-\\vert1\\rangle}{\\sqrt{2}}\" border=\"0\"/>"
      }
     },
     "6cabe39b263743a9bd1fd42f00d135b4": {
      "model_module": "@jupyter-widgets/controls",
      "model_module_version": "1.4.0",
      "model_name": "HBoxModel",
      "state": {
       "children": [
        "IPY_MODEL_814b345ed4414729aa0515b00fda69c9",
        "IPY_MODEL_c705b5310de84819b594cc2e848329b0",
        "IPY_MODEL_e84eb72f92d645a9aa58012bed1c05f3"
       ],
       "layout": "IPY_MODEL_fd257f356a774290a527cf0e3af52b10"
      }
     },
     "6cbe06456f8a4bc1b9e69e7650885b73": {
      "model_module": "@jupyter-widgets/base",
      "model_module_version": "1.1.0",
      "model_name": "LayoutModel",
      "state": {}
     },
     "6cda9d6e841e4243b417cdf18b12292f": {
      "model_module": "@jupyter-widgets/base",
      "model_module_version": "1.1.0",
      "model_name": "LayoutModel",
      "state": {
       "visibility": "visible"
      }
     },
     "6cebd40e34f44eaaa5031d62f8b8c9d4": {
      "model_module": "@jupyter-widgets/base",
      "model_module_version": "1.1.0",
      "model_name": "LayoutModel",
      "state": {}
     },
     "6cecfaaf328740798508834067f286d8": {
      "model_module": "@jupyter-widgets/controls",
      "model_module_version": "1.4.0",
      "model_name": "ButtonModel",
      "state": {
       "description": "2",
       "layout": "IPY_MODEL_71c304631f954bff8025b30ab4910d3b",
       "style": "IPY_MODEL_6bfd4bbeaf3747db8ed3944b8413e75f"
      }
     },
     "6cfc77f8424447f1aa1087bc168d69e0": {
      "model_module": "@jupyter-widgets/controls",
      "model_module_version": "1.4.0",
      "model_name": "HTMLModel",
      "state": {
       "layout": "IPY_MODEL_74f8415a8ca2492db4c714ef4dbf139b",
       "style": "IPY_MODEL_bebf9c2da4624dc8a4810e1b7f72f43a",
       "value": "<b>2</b>)&nbsp;&nbsp;"
      }
     },
     "6d0ea5318dee4d92a57f15ca57e4baa3": {
      "model_module": "@jupyter-widgets/controls",
      "model_module_version": "1.4.0",
      "model_name": "HTMLModel",
      "state": {
       "layout": "IPY_MODEL_d5af36bd9552426c9c599e46e2bb7586",
       "style": "IPY_MODEL_a99bbc71b8114c57b0f133d3f190b989",
       "value": "<b>2</b>)&nbsp;&nbsp;"
      }
     },
     "6d269cbb999442b890a95218e13035eb": {
      "model_module": "@jupyter-widgets/base",
      "model_module_version": "1.1.0",
      "model_name": "LayoutModel",
      "state": {
       "visibility": "visible"
      }
     },
     "6d404174209149bcb72b9a5a22c25852": {
      "model_module": "@jupyter-widgets/controls",
      "model_module_version": "1.4.0",
      "model_name": "ButtonStyleModel",
      "state": {}
     },
     "6d4d18dfa004415c9bfe85b294e0f3c5": {
      "model_module": "@jupyter-widgets/controls",
      "model_module_version": "1.4.0",
      "model_name": "HTMLModel",
      "state": {
       "layout": "IPY_MODEL_37373ac53d654488a44e497a8b02d306",
       "style": "IPY_MODEL_c2e74377292541c58e9eb85414ee08d4",
       "value": "<b>3</b>)&nbsp;&nbsp;"
      }
     },
     "6d4d63311848428fbe8d8a6b34e6b3a6": {
      "model_module": "@jupyter-widgets/base",
      "model_module_version": "1.1.0",
      "model_name": "LayoutModel",
      "state": {}
     },
     "6d6a865dbe8d4b0cae326b546eb755bf": {
      "model_module": "@jupyter-widgets/controls",
      "model_module_version": "1.4.0",
      "model_name": "ButtonModel",
      "state": {
       "description": "Results",
       "layout": "IPY_MODEL_879481a80a8149b6bf3d9da9fc215dc5",
       "style": "IPY_MODEL_9ed57a0bec104e93bf302b6729580f62"
      }
     },
     "6d86828c84c54a728841d350f9fca3dc": {
      "model_module": "@jupyter-widgets/controls",
      "model_module_version": "1.4.0",
      "model_name": "HTMLModel",
      "state": {
       "layout": "IPY_MODEL_ff05165595774941b9891c95f8ca1ce6",
       "style": "IPY_MODEL_fef3e144992d49b094e6fc814ed8c22a",
       "value": "\n        <pre>\nqc2 = QuantumCircuit(3,1)\nif a=='1':\n    qc2.x(0)\nif b=='1':\n    qc2.x(1)\nqc2.cx(0,2)\nqc2.cx(1,2)\nqc2.x(2)\nqc2.measure(2,0)\n\nqc2.draw()\n</pre>\n        "
      }
     },
     "6da0ff66188e4c05b34256cc14707536": {
      "model_module": "@jupyter-widgets/controls",
      "model_module_version": "1.4.0",
      "model_name": "HTMLModel",
      "state": {
       "layout": "IPY_MODEL_e96225b8bdd74a178e2279c22589bcd1",
       "style": "IPY_MODEL_4a78ca3e27bd4f3bab357a908582b30b",
       "value": "<img src=\"questions/aer1_images/1_w4.png\">"
      }
     },
     "6dad0d82434841999d006de74073a130": {
      "model_module": "@jupyter-widgets/controls",
      "model_module_version": "1.4.0",
      "model_name": "HTMLModel",
      "state": {
       "layout": "IPY_MODEL_70313e78e91c4cf4b14b743b075afff2",
       "style": "IPY_MODEL_b7f5a24280ee46a8af24b951568f0d19"
      }
     },
     "6db9287eac5443869ad7e6529ad53bec": {
      "model_module": "@jupyter-widgets/controls",
      "model_module_version": "1.4.0",
      "model_name": "HTMLModel",
      "state": {
       "layout": "IPY_MODEL_854ed811bfbb448eade94393bd1f2ca3",
       "style": "IPY_MODEL_e51bd045663b492aaf7ea4c89e14efa0",
       "value": "<h1>\n       <h4>What is Qiskit Aqua?</h4> \n</h1>"
      }
     },
     "6db9fa712bb1466485a7529e2680f0c6": {
      "model_module": "@jupyter-widgets/controls",
      "model_module_version": "1.4.0",
      "model_name": "DescriptionStyleModel",
      "state": {
       "description_width": ""
      }
     },
     "6dba7b5e9e48474ba64ca398bcaf9d34": {
      "model_module": "@jupyter-widgets/base",
      "model_module_version": "1.1.0",
      "model_name": "LayoutModel",
      "state": {}
     },
     "6dc5c30120e44b69814833b42cd4a59e": {
      "model_module": "@jupyter-widgets/output",
      "model_module_version": "1.0.0",
      "model_name": "OutputModel",
      "state": {
       "layout": "IPY_MODEL_ea7dcee9e51d4ee5a5aa5d1358a227f9"
      }
     },
     "6de5c83dc88946f99a66efb2adf76497": {
      "model_module": "@jupyter-widgets/controls",
      "model_module_version": "1.4.0",
      "model_name": "ButtonStyleModel",
      "state": {}
     },
     "6e2733ecf26e4d0c922d84ebf4d48859": {
      "model_module": "@jupyter-widgets/base",
      "model_module_version": "1.1.0",
      "model_name": "LayoutModel",
      "state": {
       "margin": "20px",
       "visibility": "visible"
      }
     },
     "6e3b6a363f004b6cb0e077e2fd3e9d3b": {
      "model_module": "@jupyter-widgets/controls",
      "model_module_version": "1.4.0",
      "model_name": "ButtonModel",
      "state": {
       "description": "Next",
       "layout": "IPY_MODEL_b7579d4fb2984ac7a35a33d1c717e03d",
       "style": "IPY_MODEL_d01183c4ca5b4a7fb75ba46c5a480e7d"
      }
     },
     "6e9db6e929d04b2d9b5384bc89d828e0": {
      "model_module": "@jupyter-widgets/controls",
      "model_module_version": "1.4.0",
      "model_name": "DescriptionStyleModel",
      "state": {
       "description_width": ""
      }
     },
     "6eb4d142fff54d51af3f947c2a503780": {
      "model_module": "@jupyter-widgets/controls",
      "model_module_version": "1.4.0",
      "model_name": "DescriptionStyleModel",
      "state": {
       "description_width": ""
      }
     },
     "6ec202fcc7884f5785a58b64df0a0d6e": {
      "model_module": "@jupyter-widgets/controls",
      "model_module_version": "1.4.0",
      "model_name": "HTMLModel",
      "state": {
       "layout": "IPY_MODEL_ee457d74581f4f26a0c7bfee8e94d28d",
       "style": "IPY_MODEL_a12638b91c90428886c1a07a171195c3",
       "value": "Qubits in state <img src=\"http://latex.codecogs.com/svg.latex?\\vert0\\rangle\" border=\"0\"/> decay down to <img src=\"http://latex.codecogs.com/svg.latex?\\vert1\\rangle\" border=\"0\"/> before measurement. The decay time for <samp>qr[0]</samp> is shorter than that for <samp>qr[1]</samp>."
      }
     },
     "6ecddf38e45944e39e9b6ab26824b873": {
      "model_module": "@jupyter-widgets/controls",
      "model_module_version": "1.4.0",
      "model_name": "HBoxModel",
      "state": {
       "children": [
        "IPY_MODEL_2719b84d9d2a42709e6a609bacc6bda9",
        "IPY_MODEL_d5fddbbf7e3043e3a02ec0b7309c22e2"
       ],
       "layout": "IPY_MODEL_41755fa9b1204d3db9f6f9432a064a8f"
      }
     },
     "6ed6c41b2eaf443c9f9a8ac522437192": {
      "model_module": "@jupyter-widgets/controls",
      "model_module_version": "1.4.0",
      "model_name": "HTMLModel",
      "state": {
       "layout": "IPY_MODEL_d371877e018e4ad3bc4444394033a824",
       "style": "IPY_MODEL_f7c1d0809daf4763a50ad10fc9e15675"
      }
     },
     "6f21e672d9b64bcf86ccf67dca9e5089": {
      "model_module": "@jupyter-widgets/base",
      "model_module_version": "1.1.0",
      "model_name": "LayoutModel",
      "state": {}
     },
     "6f722e33b9cf4533a4a6cc688d3aa5cb": {
      "model_module": "@jupyter-widgets/controls",
      "model_module_version": "1.4.0",
      "model_name": "VBoxModel",
      "state": {
       "children": [
        "IPY_MODEL_eca7d0e61f394434ba402829218d964c",
        "IPY_MODEL_e15dc2f908384a65af1f6d43a13748ff",
        "IPY_MODEL_1551492ac9e64c18ac39bdf664cbfb89",
        "IPY_MODEL_a3983025f6ec4a6fb2e4f3c1f4816e71",
        "IPY_MODEL_88f96ea04f0747c8ae1af57c37a849f7",
        "IPY_MODEL_60dd8c77fd8f420182d1033dab4cc81e",
        "IPY_MODEL_ad3716f3e335466db5d5840f7e542fb8",
        "IPY_MODEL_5d75e92e90da4c9e85a39f0d7bb87971",
        "IPY_MODEL_0be0e3e27f7d47b5b4b84b8b0ffaaa9d"
       ],
       "layout": "IPY_MODEL_7c4d0535d1554ed988be099f0ff66cb0"
      }
     },
     "6f89c7d7bae74d2eb7a74fc3ac5a7366": {
      "model_module": "@jupyter-widgets/controls",
      "model_module_version": "1.4.0",
      "model_name": "DescriptionStyleModel",
      "state": {
       "description_width": ""
      }
     },
     "6f9139a6a9b843df859c75f19e6aa6a5": {
      "model_module": "@jupyter-widgets/base",
      "model_module_version": "1.1.0",
      "model_name": "LayoutModel",
      "state": {}
     },
     "6f96dbefe484442696366ca086902338": {
      "model_module": "@jupyter-widgets/controls",
      "model_module_version": "1.4.0",
      "model_name": "DescriptionStyleModel",
      "state": {
       "description_width": ""
      }
     },
     "6fbf585a7aa549219c6c5a16796db9ee": {
      "model_module": "@jupyter-widgets/controls",
      "model_module_version": "1.4.0",
      "model_name": "DescriptionStyleModel",
      "state": {
       "description_width": ""
      }
     },
     "6fc05bc8fbe4428d8b3a94f3e8ea26c3": {
      "model_module": "@jupyter-widgets/base",
      "model_module_version": "1.1.0",
      "model_name": "LayoutModel",
      "state": {
       "margin": "20px",
       "visibility": "visible"
      }
     },
     "7007f1231ffd4994983be2c15dda6bef": {
      "model_module": "@jupyter-widgets/controls",
      "model_module_version": "1.4.0",
      "model_name": "HTMLModel",
      "state": {
       "layout": "IPY_MODEL_a0a8d2a1fa2b47998ea4fb79f7ca81ee",
       "style": "IPY_MODEL_64f779c185ea4a7c9641f3fc6ab55917",
       "value": "\n        <pre>\nqc1 = QuantumCircuit(3,1)\nif a=='1':\n    q1.x(0)\nif b=='1':\n    qc1.x(1)\nqc1.x(0)\nqc1.x(1)\nqc1.ccx(0,1,2)\nqc1.x(2)\nqc1.measure(2,0)\n\nqc1.draw()\n        </pre>\n        "
      }
     },
     "7008fee75497450a9d799057697795e7": {
      "model_module": "@jupyter-widgets/base",
      "model_module_version": "1.1.0",
      "model_name": "LayoutModel",
      "state": {
       "visibility": "hidden"
      }
     },
     "701fa1d99f234fb582f31167e5519f12": {
      "model_module": "@jupyter-widgets/base",
      "model_module_version": "1.1.0",
      "model_name": "LayoutModel",
      "state": {}
     },
     "70279ce181364fd78659c82d7d8dcda2": {
      "model_module": "@jupyter-widgets/controls",
      "model_module_version": "1.4.0",
      "model_name": "DescriptionStyleModel",
      "state": {
       "description_width": ""
      }
     },
     "70313e78e91c4cf4b14b743b075afff2": {
      "model_module": "@jupyter-widgets/base",
      "model_module_version": "1.1.0",
      "model_name": "LayoutModel",
      "state": {
       "visibility": "hidden"
      }
     },
     "7058b68e3c1040a4aaba514e28d32ff1": {
      "model_module": "@jupyter-widgets/controls",
      "model_module_version": "1.4.0",
      "model_name": "ButtonStyleModel",
      "state": {}
     },
     "707219e8fb034e6aa668624ec7b146d6": {
      "model_module": "@jupyter-widgets/base",
      "model_module_version": "1.1.0",
      "model_name": "LayoutModel",
      "state": {}
     },
     "70b92385c99d4737ab9fd0f7ca1d4c4f": {
      "model_module": "@jupyter-widgets/base",
      "model_module_version": "1.1.0",
      "model_name": "LayoutModel",
      "state": {}
     },
     "70df3eeca10940bb84a85bd9d08fbd1f": {
      "model_module": "@jupyter-widgets/controls",
      "model_module_version": "1.4.0",
      "model_name": "HTMLModel",
      "state": {
       "layout": "IPY_MODEL_5283d49452164ba78fc1bd0f51373fef",
       "style": "IPY_MODEL_663f06ee11d148f78534155d298fe149",
       "value": "None of the above"
      }
     },
     "70faadeed77d4198b749bd2fe4a3f67f": {
      "model_module": "@jupyter-widgets/controls",
      "model_module_version": "1.4.0",
      "model_name": "HBoxModel",
      "state": {
       "children": [
        "IPY_MODEL_c1d13a5b7693493f86d3a6f68d1de876",
        "IPY_MODEL_49391f84a6374a598ab04bf7763da3e0",
        "IPY_MODEL_22a724ee3cca4f30abdb80d6d2ccc1e1",
        "IPY_MODEL_14db0177a70248758612c92b0ee7f669",
        "IPY_MODEL_6aeb832226a4470f8143daabd8d7f4af",
        "IPY_MODEL_00ff7b6742a840f8bf84c28be6900081"
       ],
       "layout": "IPY_MODEL_d2ca9801add74de3b8755d15a2aacf11"
      }
     },
     "71c304631f954bff8025b30ab4910d3b": {
      "model_module": "@jupyter-widgets/base",
      "model_module_version": "1.1.0",
      "model_name": "LayoutModel",
      "state": {
       "margin": "20px",
       "visibility": "visible"
      }
     },
     "71df737646f04cf7a1d22908ce5880fe": {
      "model_module": "@jupyter-widgets/base",
      "model_module_version": "1.1.0",
      "model_name": "LayoutModel",
      "state": {}
     },
     "71ebb118e9104c9bbf455794f11e2efc": {
      "model_module": "@jupyter-widgets/controls",
      "model_module_version": "1.4.0",
      "model_name": "DescriptionStyleModel",
      "state": {
       "description_width": ""
      }
     },
     "7223bae651c148dd817ee554dafedf69": {
      "model_module": "@jupyter-widgets/controls",
      "model_module_version": "1.4.0",
      "model_name": "DescriptionStyleModel",
      "state": {
       "description_width": ""
      }
     },
     "7225ee4178934db5b43f664de18d6984": {
      "model_module": "@jupyter-widgets/controls",
      "model_module_version": "1.4.0",
      "model_name": "ButtonModel",
      "state": {
       "description": "3",
       "layout": "IPY_MODEL_904873a4571f416a8397676cfe0f0023",
       "style": "IPY_MODEL_1ab5734bd6c64dabafb5202431071973"
      }
     },
     "7260041f21234c089914d6a058bc94c9": {
      "model_module": "@jupyter-widgets/controls",
      "model_module_version": "1.4.0",
      "model_name": "DescriptionStyleModel",
      "state": {
       "description_width": ""
      }
     },
     "7266dd97893c4727bba185ea33a53896": {
      "model_module": "@jupyter-widgets/base",
      "model_module_version": "1.1.0",
      "model_name": "LayoutModel",
      "state": {}
     },
     "72914fb84ee94a71bfd4f4f74ea49d4c": {
      "model_module": "@jupyter-widgets/controls",
      "model_module_version": "1.4.0",
      "model_name": "ButtonStyleModel",
      "state": {}
     },
     "72954d81174a44f7910b1b9e6cb02ec4": {
      "model_module": "@jupyter-widgets/controls",
      "model_module_version": "1.4.0",
      "model_name": "VBoxModel",
      "state": {
       "children": [
        "IPY_MODEL_4a22fcee2ec149bb8f5850ef38397c4f",
        "IPY_MODEL_2fd2a0f1077f42eaa2dc4d2529b1bca2",
        "IPY_MODEL_1d7254af63cd4738a2771e8129bbf157",
        "IPY_MODEL_3120b076f714479a8f8b9c0bc2d3b484",
        "IPY_MODEL_cb10ec75f37e4efebdfbaded6b40ea3c",
        "IPY_MODEL_a2984dc4d2ea42c8bcff966f97644311",
        "IPY_MODEL_b50a0cd31692489e8b76957ab3d010ba",
        "IPY_MODEL_e28a901762394b5881ef54d4b71c6d3e",
        "IPY_MODEL_755a9a94d2ed490c8d61237654413c19"
       ],
       "layout": "IPY_MODEL_785bfe1e93de4329b8d8505dd71b8a7f"
      }
     },
     "72d271ed679a48989c083d8b7f70affb": {
      "model_module": "@jupyter-widgets/controls",
      "model_module_version": "1.4.0",
      "model_name": "DescriptionStyleModel",
      "state": {
       "description_width": ""
      }
     },
     "72de181a7a584382803a003fd17204f8": {
      "model_module": "@jupyter-widgets/controls",
      "model_module_version": "1.4.0",
      "model_name": "DescriptionStyleModel",
      "state": {
       "description_width": ""
      }
     },
     "72f60c804ee24b96a529b62f5963c71e": {
      "model_module": "@jupyter-widgets/controls",
      "model_module_version": "1.4.0",
      "model_name": "DescriptionStyleModel",
      "state": {
       "description_width": ""
      }
     },
     "7301a1f4ca5c4683a94723c60c5d3ce7": {
      "model_module": "@jupyter-widgets/controls",
      "model_module_version": "1.4.0",
      "model_name": "VBoxModel",
      "state": {
       "children": [
        "IPY_MODEL_31e5e779f95a4782a4138c8504da5b0e",
        "IPY_MODEL_bfcaf4ccd8f947e4b18dc4cc157760c1"
       ],
       "layout": "IPY_MODEL_db32f59e91f54f07b226ef23ae287f09"
      }
     },
     "730bd1d631f94868bf6738753c19168b": {
      "model_module": "@jupyter-widgets/controls",
      "model_module_version": "1.4.0",
      "model_name": "HTMLModel",
      "state": {
       "layout": "IPY_MODEL_6f9139a6a9b843df859c75f19e6aa6a5",
       "style": "IPY_MODEL_9501728923234c98a2f14d940cada0c5"
      }
     },
     "7322b4fd62d147b3b21b6b660b5b7c65": {
      "model_module": "@jupyter-widgets/base",
      "model_module_version": "1.1.0",
      "model_name": "LayoutModel",
      "state": {}
     },
     "7322ee89f0d045d1ba828ea04836e695": {
      "model_module": "@jupyter-widgets/controls",
      "model_module_version": "1.4.0",
      "model_name": "ButtonStyleModel",
      "state": {}
     },
     "734f25ff42ab4d4a8203cd7e1e200c87": {
      "model_module": "@jupyter-widgets/controls",
      "model_module_version": "1.4.0",
      "model_name": "DescriptionStyleModel",
      "state": {
       "description_width": ""
      }
     },
     "73782318cc2243d2a9aed82112a8690e": {
      "model_module": "@jupyter-widgets/controls",
      "model_module_version": "1.4.0",
      "model_name": "ButtonStyleModel",
      "state": {}
     },
     "739f59df9f024497b8440724cd0e2923": {
      "model_module": "@jupyter-widgets/base",
      "model_module_version": "1.1.0",
      "model_name": "LayoutModel",
      "state": {
       "visibility": "visible"
      }
     },
     "73d3d17dc8984b0b8f092050d367d693": {
      "model_module": "@jupyter-widgets/controls",
      "model_module_version": "1.4.0",
      "model_name": "HTMLModel",
      "state": {
       "layout": "IPY_MODEL_513f77f95fcc47d7ab3a4d0be6210e0b",
       "style": "IPY_MODEL_64dcda928355493d9630c1bf15c5850d",
       "value": "<h1>\n       <h4>How many gates are in the quantum circuit that results from transpiling the following quantum circuit \n       using only the pass <pre>BasicSwapMapper?</pre> <br/>\n       \n       Assume the following coupling map: <br/><br/>\n       <pre>\n[[0, 1], [1, 2], [2, 3], [3, 4]]\n       </pre></h4>\n       <pre>\nqr = QuantumRegister(5, 'q') \ntpl_circuit = QuantumCircuit(qr)\ntpl_circuit.h(qr[3])\ntpl_circuit.cx(qr[0], qr[4])\ntpl_circuit.cx(qr[3], qr[0])\n       </pre>\n       </h1>"
      }
     },
     "73dfb33b71494ac7aa4c12ab746bf417": {
      "model_module": "@jupyter-widgets/base",
      "model_module_version": "1.1.0",
      "model_name": "LayoutModel",
      "state": {}
     },
     "7411924d19cd4ad7b20740aeda2ea25f": {
      "model_module": "@jupyter-widgets/controls",
      "model_module_version": "1.4.0",
      "model_name": "DescriptionStyleModel",
      "state": {
       "description_width": ""
      }
     },
     "741f379be5984432958867d6da5d0ed3": {
      "model_module": "@jupyter-widgets/base",
      "model_module_version": "1.1.0",
      "model_name": "LayoutModel",
      "state": {
       "visibility": "visible"
      }
     },
     "7423f4d08b6e4e40836cd0315e5d808c": {
      "model_module": "@jupyter-widgets/controls",
      "model_module_version": "1.4.0",
      "model_name": "DescriptionStyleModel",
      "state": {
       "description_width": ""
      }
     },
     "746518bdc5d743539be5b8d43a099e32": {
      "model_module": "@jupyter-widgets/controls",
      "model_module_version": "1.4.0",
      "model_name": "HTMLModel",
      "state": {
       "layout": "IPY_MODEL_e5e0bc831f504f6db9d3e31a0e5cb6e5",
       "style": "IPY_MODEL_9d518b7c2607413eb2c0187859916ce4",
       "value": "None of the above"
      }
     },
     "746e5a41a69344d7aa18ca663b1a43ee": {
      "model_module": "@jupyter-widgets/base",
      "model_module_version": "1.1.0",
      "model_name": "LayoutModel",
      "state": {}
     },
     "748bca0be7ba4977ac673cefad898408": {
      "model_module": "@jupyter-widgets/controls",
      "model_module_version": "1.4.0",
      "model_name": "HBoxModel",
      "state": {
       "children": [
        "IPY_MODEL_ed73061273694acda334e634c36798ee",
        "IPY_MODEL_bf29c216a5fe45188f132ba2ecc28957"
       ],
       "layout": "IPY_MODEL_9f85ddcbd9974010b4761a4c3771c69b"
      }
     },
     "74c7124e51be4afe958ef7bd03f89d84": {
      "model_module": "@jupyter-widgets/base",
      "model_module_version": "1.1.0",
      "model_name": "LayoutModel",
      "state": {}
     },
     "74de82dcb4d34e2db1cae94aa1b3542c": {
      "model_module": "@jupyter-widgets/base",
      "model_module_version": "1.1.0",
      "model_name": "LayoutModel",
      "state": {}
     },
     "74df1cf852b64aa8bb7906639def8864": {
      "model_module": "@jupyter-widgets/base",
      "model_module_version": "1.1.0",
      "model_name": "LayoutModel",
      "state": {}
     },
     "74e5e5e99e30481189cd8a344199fae9": {
      "model_module": "@jupyter-widgets/base",
      "model_module_version": "1.1.0",
      "model_name": "LayoutModel",
      "state": {}
     },
     "74ebc2a242dd451aa71b5c9bf65b40c4": {
      "model_module": "@jupyter-widgets/base",
      "model_module_version": "1.1.0",
      "model_name": "LayoutModel",
      "state": {}
     },
     "74ed826243794e46964efcf5f0895940": {
      "model_module": "@jupyter-widgets/base",
      "model_module_version": "1.1.0",
      "model_name": "LayoutModel",
      "state": {}
     },
     "74f8415a8ca2492db4c714ef4dbf139b": {
      "model_module": "@jupyter-widgets/base",
      "model_module_version": "1.1.0",
      "model_name": "LayoutModel",
      "state": {}
     },
     "7508dc1a502f4d70b4e6947785fb9582": {
      "model_module": "@jupyter-widgets/controls",
      "model_module_version": "1.4.0",
      "model_name": "DescriptionStyleModel",
      "state": {
       "description_width": ""
      }
     },
     "7514c2fbb3524a7098b879ced42b0fbd": {
      "model_module": "@jupyter-widgets/base",
      "model_module_version": "1.1.0",
      "model_name": "LayoutModel",
      "state": {}
     },
     "755a9a94d2ed490c8d61237654413c19": {
      "model_module": "@jupyter-widgets/controls",
      "model_module_version": "1.4.0",
      "model_name": "HBoxModel",
      "state": {
       "children": [
        "IPY_MODEL_52c209b2bb414de0bdbbfacc3784bd98",
        "IPY_MODEL_6902697d9394405db03f9a3bb10b6e28",
        "IPY_MODEL_bef3eb6c618c481184c94ef7af3f6e08"
       ],
       "layout": "IPY_MODEL_631ae6a5b73b4abbb5a00cbafa95cd2c"
      }
     },
     "755dd17ef3c04bc9a544b1bbd360c58d": {
      "model_module": "@jupyter-widgets/base",
      "model_module_version": "1.1.0",
      "model_name": "LayoutModel",
      "state": {
       "visibility": "visible"
      }
     },
     "75d5e663c508453288725f6362ec6a61": {
      "model_module": "@jupyter-widgets/controls",
      "model_module_version": "1.4.0",
      "model_name": "ButtonModel",
      "state": {
       "description": "Results",
       "layout": "IPY_MODEL_c715a28eb9c64d568bece7aaaa2dd112",
       "style": "IPY_MODEL_76be342b27bc4dbf92ad4574c46763c3"
      }
     },
     "75e7588be9bd4f2faf3fbdbbed6f033e": {
      "model_module": "@jupyter-widgets/controls",
      "model_module_version": "1.4.0",
      "model_name": "DescriptionStyleModel",
      "state": {
       "description_width": ""
      }
     },
     "75f78112cb58455dbcadd11b60e5e0f5": {
      "model_module": "@jupyter-widgets/base",
      "model_module_version": "1.1.0",
      "model_name": "LayoutModel",
      "state": {}
     },
     "763fd5b089974a8c92d4c33b9bef4b16": {
      "model_module": "@jupyter-widgets/base",
      "model_module_version": "1.1.0",
      "model_name": "LayoutModel",
      "state": {}
     },
     "764573a7462a47688bbc86c1156027a2": {
      "model_module": "@jupyter-widgets/base",
      "model_module_version": "1.1.0",
      "model_name": "LayoutModel",
      "state": {}
     },
     "765b605b268a4f8bb749b25ce3568bb1": {
      "model_module": "@jupyter-widgets/controls",
      "model_module_version": "1.4.0",
      "model_name": "HBoxModel",
      "state": {
       "children": [
        "IPY_MODEL_44803fd67fe04e4184d46af802b07891",
        "IPY_MODEL_75d5e663c508453288725f6362ec6a61",
        "IPY_MODEL_c7a7479b5b2e4ce0864bbdcb7f194954"
       ],
       "layout": "IPY_MODEL_6c84eb4ccd96457a8e8b90af140900bc"
      }
     },
     "7661e1f2ec8547e8ae456814d6a68040": {
      "model_module": "@jupyter-widgets/base",
      "model_module_version": "1.1.0",
      "model_name": "LayoutModel",
      "state": {}
     },
     "76773a91ab134337835c44f078bbd92d": {
      "model_module": "@jupyter-widgets/controls",
      "model_module_version": "1.4.0",
      "model_name": "HTMLModel",
      "state": {
       "layout": "IPY_MODEL_4062e631e85340cda4b9f28692cae84c",
       "style": "IPY_MODEL_622918c4b241465f953a3f87a47560cf",
       "value": "Qubits in state <img src=\"http://latex.codecogs.com/svg.latex?\\vert1\\rangle\" border=\"0\"/> decay down to <img src=\"http://latex.codecogs.com/svg.latex?\\vert0\\rangle\" border=\"0\"/> before measurement. The decay time for <samp>qr[0]</samp> is longer than that for <samp>qr[1]</samp>."
      }
     },
     "768cc22a9ca141eca3ad8149d382139b": {
      "model_module": "@jupyter-widgets/controls",
      "model_module_version": "1.4.0",
      "model_name": "HTMLModel",
      "state": {
       "layout": "IPY_MODEL_fee3f64efb514051ab49973b6e78c4d0",
       "style": "IPY_MODEL_b4fc470990574d7c8c06ae076100b3dd",
       "value": "<b>4</b>)&nbsp;&nbsp;"
      }
     },
     "769dccf1a22f491f8b948b3fc23d0fa5": {
      "model_module": "@jupyter-widgets/controls",
      "model_module_version": "1.4.0",
      "model_name": "VBoxModel",
      "state": {
       "children": [
        "IPY_MODEL_85acda5e1c4349d6a4c9d8ba5eef628d",
        "IPY_MODEL_ac1363973113415a88255337daf9cfab"
       ],
       "layout": "IPY_MODEL_8259559c6eee459589669c4f521808c1"
      }
     },
     "76b7730ff1ea455886e876025d66ab02": {
      "model_module": "@jupyter-widgets/controls",
      "model_module_version": "1.4.0",
      "model_name": "HBoxModel",
      "state": {
       "children": [
        "IPY_MODEL_19fcc709082842ef830b94f622499816",
        "IPY_MODEL_c0211734e1fe406787cdf50ad49415a3"
       ],
       "layout": "IPY_MODEL_f567cf2695b94e30917382d0a497410c"
      }
     },
     "76b8535d859d4af9af28cc03b6fd977f": {
      "model_module": "@jupyter-widgets/controls",
      "model_module_version": "1.4.0",
      "model_name": "HTMLModel",
      "state": {
       "layout": "IPY_MODEL_3383d3a37da7484abe2bd7fc960e4976",
       "style": "IPY_MODEL_60ae9b70829c4de69b62c90d0625f778",
       "value": "\n        <pre>\nqc2 = QuantumCircuit(3,1)\nif a=='1':\n    qc2.x(0)\nif b=='1':\n    qc2.x(1)\nqc2.cx(0,2)\nqc2.cx(1,2)\nqc2.x(2)\nqc2.measure(2,0)\n\nqc2.draw()\n</pre>\n        "
      }
     },
     "76be342b27bc4dbf92ad4574c46763c3": {
      "model_module": "@jupyter-widgets/controls",
      "model_module_version": "1.4.0",
      "model_name": "ButtonStyleModel",
      "state": {}
     },
     "76c6ea12651145c9a6eb2ae874246b02": {
      "model_module": "@jupyter-widgets/base",
      "model_module_version": "1.1.0",
      "model_name": "LayoutModel",
      "state": {
       "visibility": "visible"
      }
     },
     "76e3a6dbb06346bcb4b699822fc1a26c": {
      "model_module": "@jupyter-widgets/controls",
      "model_module_version": "1.4.0",
      "model_name": "DescriptionStyleModel",
      "state": {
       "description_width": ""
      }
     },
     "76f9e00aced3468c9b88430bd944f93a": {
      "model_module": "@jupyter-widgets/output",
      "model_module_version": "1.0.0",
      "model_name": "OutputModel",
      "state": {
       "layout": "IPY_MODEL_175687e418ac448d9e2c8c787789da60"
      }
     },
     "771a8a5c7cf247468263171b15168a83": {
      "model_module": "@jupyter-widgets/controls",
      "model_module_version": "1.4.0",
      "model_name": "DescriptionStyleModel",
      "state": {
       "description_width": ""
      }
     },
     "772ceca390974639b8011c44221d840e": {
      "model_module": "@jupyter-widgets/controls",
      "model_module_version": "1.4.0",
      "model_name": "HTMLModel",
      "state": {
       "layout": "IPY_MODEL_9db573a07fa1497eac1c149e599e6307",
       "style": "IPY_MODEL_b57ebe95d8a447d193ab37814644df66"
      }
     },
     "77452137e9744b38b7ae4565f4c5e479": {
      "model_module": "@jupyter-widgets/base",
      "model_module_version": "1.1.0",
      "model_name": "LayoutModel",
      "state": {}
     },
     "775aeb1cac774870a1f6ad17de72a4b4": {
      "model_module": "@jupyter-widgets/base",
      "model_module_version": "1.1.0",
      "model_name": "LayoutModel",
      "state": {}
     },
     "776d1796b4914897882cf80662700adf": {
      "model_module": "@jupyter-widgets/controls",
      "model_module_version": "1.4.0",
      "model_name": "HTMLModel",
      "state": {
       "layout": "IPY_MODEL_cde05fb83c9f4b5699210f114af4cc7b",
       "style": "IPY_MODEL_d568d3f71ea64917be9bfca873c79ac8"
      }
     },
     "776e65e146374aeab70f2bc96b77ee98": {
      "model_module": "@jupyter-widgets/controls",
      "model_module_version": "1.4.0",
      "model_name": "ButtonModel",
      "state": {
       "description": "Results",
       "layout": "IPY_MODEL_04ca2ccf75684afb82ee027ceec17c5d",
       "style": "IPY_MODEL_8ba64a0ab62c4e039b6a862edba98c9e"
      }
     },
     "779289e743324f65a2cdaf429eb7eb94": {
      "model_module": "@jupyter-widgets/base",
      "model_module_version": "1.1.0",
      "model_name": "LayoutModel",
      "state": {}
     },
     "7809e15cd29b4a2ab29c86b13e723284": {
      "model_module": "@jupyter-widgets/base",
      "model_module_version": "1.1.0",
      "model_name": "LayoutModel",
      "state": {}
     },
     "781b9e53a33b453dbb368cefc9db6dba": {
      "model_module": "@jupyter-widgets/controls",
      "model_module_version": "1.4.0",
      "model_name": "DescriptionStyleModel",
      "state": {
       "description_width": ""
      }
     },
     "785bfe1e93de4329b8d8505dd71b8a7f": {
      "model_module": "@jupyter-widgets/base",
      "model_module_version": "1.1.0",
      "model_name": "LayoutModel",
      "state": {}
     },
     "78802b8af2bc4a57ba895ec32b9f5bd1": {
      "model_module": "@jupyter-widgets/controls",
      "model_module_version": "1.4.0",
      "model_name": "ButtonStyleModel",
      "state": {}
     },
     "78944426598e44e189de79e9759ebf64": {
      "model_module": "@jupyter-widgets/base",
      "model_module_version": "1.1.0",
      "model_name": "LayoutModel",
      "state": {}
     },
     "78bdd1fcc837412d9a663494c6f2e58d": {
      "model_module": "@jupyter-widgets/controls",
      "model_module_version": "1.4.0",
      "model_name": "DescriptionStyleModel",
      "state": {
       "description_width": ""
      }
     },
     "78c3b48da73e4865bcbd456bcf4f20ca": {
      "model_module": "@jupyter-widgets/controls",
      "model_module_version": "1.4.0",
      "model_name": "ButtonModel",
      "state": {
       "description": "3",
       "layout": "IPY_MODEL_07ad2a8eb6f64bbbbc6bc8ac587d89a8",
       "style": "IPY_MODEL_c7af9dd2847e4163bd329ba4c9ef8fff"
      }
     },
     "78cddfac73e64ce19a216f58fa1771e3": {
      "model_module": "@jupyter-widgets/controls",
      "model_module_version": "1.4.0",
      "model_name": "HTMLModel",
      "state": {
       "layout": "IPY_MODEL_a576e54aaffc4e058526adb0278435c9",
       "style": "IPY_MODEL_b38e932e626e4ef69fd216c14b801e5e",
       "value": "<p><b>Question ID</b>: 1</p>"
      }
     },
     "78df3cef52ae4dcfb5add7ab5b99befe": {
      "model_module": "@jupyter-widgets/controls",
      "model_module_version": "1.4.0",
      "model_name": "VBoxModel",
      "state": {
       "children": [
        "IPY_MODEL_c63344a693914e85a6b4dd1cc290ea92",
        "IPY_MODEL_447eedc250204fdbaa7fafe8dbd52a5e",
        "IPY_MODEL_fd08cf4232434497b7e35cf6eb66dca5",
        "IPY_MODEL_e58b69566d464997bbf455f7a25ebe4f",
        "IPY_MODEL_012e8fd921a8435a82f4df40804528d8",
        "IPY_MODEL_d2fb77327f54446ab6347f61e772c438",
        "IPY_MODEL_d4c0522475674179a4257fe0c3b9a6b2",
        "IPY_MODEL_70faadeed77d4198b749bd2fe4a3f67f",
        "IPY_MODEL_0e1d54669d8d4df3a09c8971f97c8597"
       ],
       "layout": "IPY_MODEL_701fa1d99f234fb582f31167e5519f12"
      }
     },
     "78e9f28f99ac47668486c6fb9b8df805": {
      "model_module": "@jupyter-widgets/controls",
      "model_module_version": "1.4.0",
      "model_name": "ButtonStyleModel",
      "state": {}
     },
     "78edf09faf7f42dea12199e16f0ac2d5": {
      "model_module": "@jupyter-widgets/base",
      "model_module_version": "1.1.0",
      "model_name": "LayoutModel",
      "state": {
       "visibility": "visible"
      }
     },
     "78ee77136f2644c0b9b9c28652791477": {
      "model_module": "@jupyter-widgets/controls",
      "model_module_version": "1.4.0",
      "model_name": "DescriptionStyleModel",
      "state": {
       "description_width": ""
      }
     },
     "78ef5596e62848db8ff74f8ca2ea514d": {
      "model_module": "@jupyter-widgets/base",
      "model_module_version": "1.1.0",
      "model_name": "LayoutModel",
      "state": {
       "visibility": "hidden"
      }
     },
     "79068e887682400dabc25cd265c8b6c1": {
      "model_module": "@jupyter-widgets/controls",
      "model_module_version": "1.4.0",
      "model_name": "ButtonStyleModel",
      "state": {}
     },
     "791711db4a4541c7bdf403015fc82808": {
      "model_module": "@jupyter-widgets/base",
      "model_module_version": "1.1.0",
      "model_name": "LayoutModel",
      "state": {}
     },
     "79c699f7dd8a4daebe1b0acb4c9e4b69": {
      "model_module": "@jupyter-widgets/controls",
      "model_module_version": "1.4.0",
      "model_name": "HTMLModel",
      "state": {
       "layout": "IPY_MODEL_f42700dda43e4126880201a24c1f6ba6",
       "style": "IPY_MODEL_a746b992941f4a36b97e338e60062eda",
       "value": "<b>5</b>)&nbsp;&nbsp;"
      }
     },
     "7a114ab98dcc4e7e8b8741bee4875e05": {
      "model_module": "@jupyter-widgets/controls",
      "model_module_version": "1.4.0",
      "model_name": "ButtonStyleModel",
      "state": {}
     },
     "7a4633ad6dba4c529e389d99f9220e31": {
      "model_module": "@jupyter-widgets/base",
      "model_module_version": "1.1.0",
      "model_name": "LayoutModel",
      "state": {}
     },
     "7a4f6a7f1e7c4eacb527a819b40d08b4": {
      "model_module": "@jupyter-widgets/controls",
      "model_module_version": "1.4.0",
      "model_name": "DescriptionStyleModel",
      "state": {
       "description_width": ""
      }
     },
     "7a6b3ed32c284f9b9209f545d3f2bd93": {
      "model_module": "@jupyter-widgets/controls",
      "model_module_version": "1.4.0",
      "model_name": "HBoxModel",
      "state": {
       "children": [
        "IPY_MODEL_68c8904dcf644746ac3f411fae48d68c",
        "IPY_MODEL_01f02749ec774ef385258ebea42d6284",
        "IPY_MODEL_3fdc8d3731ba4d8cba41d4df07caf95d",
        "IPY_MODEL_f655852fffcb42d88fc4419e19d1cee1",
        "IPY_MODEL_fd0f71208dee44b188326366900b0659",
        "IPY_MODEL_57fede1965034018ad2ab59d162c61bb"
       ],
       "layout": "IPY_MODEL_6305c763331748189cd189b9fa189e3e"
      }
     },
     "7a8f21a6f1a54768b2ce7e2184edaca9": {
      "model_module": "@jupyter-widgets/output",
      "model_module_version": "1.0.0",
      "model_name": "OutputModel",
      "state": {
       "layout": "IPY_MODEL_e92d30523df3457a9d644a9a2a6798b5"
      }
     },
     "7ab59e177f35454a9e217065b40d1f43": {
      "model_module": "@jupyter-widgets/base",
      "model_module_version": "1.1.0",
      "model_name": "LayoutModel",
      "state": {
       "margin": "20px",
       "visibility": "visible"
      }
     },
     "7ac60f3c3d8249318b896484b9c97863": {
      "model_module": "@jupyter-widgets/base",
      "model_module_version": "1.1.0",
      "model_name": "LayoutModel",
      "state": {}
     },
     "7b0886a37efe4ed38da1635f1e809768": {
      "model_module": "@jupyter-widgets/controls",
      "model_module_version": "1.4.0",
      "model_name": "HBoxModel",
      "state": {
       "children": [
        "IPY_MODEL_bb7e7adf99de49b7aa33e6f0b4e33796",
        "IPY_MODEL_90d72436f2924ce68ad12c401970ac69"
       ],
       "layout": "IPY_MODEL_c908d4563e644b27a50cb610967590d5"
      }
     },
     "7b0a2c699c934867ac2ef2c804737b94": {
      "model_module": "@jupyter-widgets/controls",
      "model_module_version": "1.4.0",
      "model_name": "DescriptionStyleModel",
      "state": {
       "description_width": ""
      }
     },
     "7b28beac796342819f4cb81ae6e4e4a2": {
      "model_module": "@jupyter-widgets/controls",
      "model_module_version": "1.4.0",
      "model_name": "DescriptionStyleModel",
      "state": {
       "description_width": ""
      }
     },
     "7b9d0993b44c4f95b4ee56a45cea4a26": {
      "model_module": "@jupyter-widgets/controls",
      "model_module_version": "1.4.0",
      "model_name": "HTMLModel",
      "state": {
       "layout": "IPY_MODEL_874050119c1e4b4a90a9a8460358705a",
       "style": "IPY_MODEL_6f89c7d7bae74d2eb7a74fc3ac5a7366",
       "value": "<b>1</b>)&nbsp;&nbsp;"
      }
     },
     "7ba7f20f329741cf989ee8b31b02bbe4": {
      "model_module": "@jupyter-widgets/controls",
      "model_module_version": "1.4.0",
      "model_name": "HTMLModel",
      "state": {
       "layout": "IPY_MODEL_486854044b734a9d9e44c5f8f02a8b3c",
       "style": "IPY_MODEL_11bf6e8e8059441ebb5eca55e16e96b9",
       "value": "<img src=\"questions/aer1_images/1_w1.png\">"
      }
     },
     "7bc2612e05c1480093d09e3926e2a1ca": {
      "model_module": "@jupyter-widgets/controls",
      "model_module_version": "1.4.0",
      "model_name": "ButtonModel",
      "state": {
       "description": "Results",
       "layout": "IPY_MODEL_9a748e3d25fa4cee8fc2bcedb9df14af",
       "style": "IPY_MODEL_692ae0c3bb0b46acaa98eb79c4ce606a"
      }
     },
     "7c4d0535d1554ed988be099f0ff66cb0": {
      "model_module": "@jupyter-widgets/base",
      "model_module_version": "1.1.0",
      "model_name": "LayoutModel",
      "state": {}
     },
     "7c7dc4eebc284c1c9dec1a21f154a765": {
      "model_module": "@jupyter-widgets/controls",
      "model_module_version": "1.4.0",
      "model_name": "ButtonStyleModel",
      "state": {}
     },
     "7ca36ab7c5784134881d8e842aacaad2": {
      "model_module": "@jupyter-widgets/output",
      "model_module_version": "1.0.0",
      "model_name": "OutputModel",
      "state": {
       "layout": "IPY_MODEL_aa86927321bb4c9899b75296beab72ef"
      }
     },
     "7cab845abf5c4903a0d0358cd2126a9e": {
      "model_module": "@jupyter-widgets/base",
      "model_module_version": "1.1.0",
      "model_name": "LayoutModel",
      "state": {}
     },
     "7d404de907ba4aa69aca66701e095252": {
      "model_module": "@jupyter-widgets/base",
      "model_module_version": "1.1.0",
      "model_name": "LayoutModel",
      "state": {}
     },
     "7d40e60efd2f4c96821ab95d3320db34": {
      "model_module": "@jupyter-widgets/base",
      "model_module_version": "1.1.0",
      "model_name": "LayoutModel",
      "state": {}
     },
     "7d4ff2ec577f4e7e89452e4e09607e56": {
      "model_module": "@jupyter-widgets/base",
      "model_module_version": "1.1.0",
      "model_name": "LayoutModel",
      "state": {
       "margin": "20px",
       "visibility": "visible"
      }
     },
     "7d69bb7bd6de41adb7aa030da95afaa6": {
      "model_module": "@jupyter-widgets/controls",
      "model_module_version": "1.4.0",
      "model_name": "VBoxModel",
      "state": {
       "children": [
        "IPY_MODEL_22c07463d2714b2a811181e3081e0dca",
        "IPY_MODEL_d312448f9faa43b2a773b8736047df9c"
       ],
       "layout": "IPY_MODEL_7d404de907ba4aa69aca66701e095252"
      }
     },
     "7da70649df8a4fb7a06f371bc2ba4b65": {
      "model_module": "@jupyter-widgets/base",
      "model_module_version": "1.1.0",
      "model_name": "LayoutModel",
      "state": {
       "margin": "20px",
       "visibility": "visible"
      }
     },
     "7de202f3364346029afe76fe1b727d6d": {
      "model_module": "@jupyter-widgets/controls",
      "model_module_version": "1.4.0",
      "model_name": "DescriptionStyleModel",
      "state": {
       "description_width": ""
      }
     },
     "7e082bab4bd64d7fb9b8cfdde8cf987d": {
      "model_module": "@jupyter-widgets/controls",
      "model_module_version": "1.4.0",
      "model_name": "HTMLModel",
      "state": {
       "layout": "IPY_MODEL_2921cb0465be419d9c221d72c202fd54",
       "style": "IPY_MODEL_6eb4d142fff54d51af3f947c2a503780",
       "value": "None of the above"
      }
     },
     "7e15922a866e4785870183b2407e3f53": {
      "model_module": "@jupyter-widgets/controls",
      "model_module_version": "1.4.0",
      "model_name": "HBoxModel",
      "state": {
       "children": [
        "IPY_MODEL_9844687a1c9f4cac85b1969bea6106b3",
        "IPY_MODEL_621796735ea64970ab7f13662d74a068"
       ],
       "layout": "IPY_MODEL_b2ae59a72ff7483d9b800904838484cb"
      }
     },
     "7e5b34a4951d4a06b8ae0fe0567268b2": {
      "model_module": "@jupyter-widgets/controls",
      "model_module_version": "1.4.0",
      "model_name": "HTMLModel",
      "state": {
       "layout": "IPY_MODEL_5cef8bebcb2a427d9aa300581cbf7da7",
       "style": "IPY_MODEL_ae6646505a37429c8ff06084bbff3f37",
       "value": "15"
      }
     },
     "7e709dcfb1d6421d8a16fb50d7aadfbb": {
      "model_module": "@jupyter-widgets/controls",
      "model_module_version": "1.4.0",
      "model_name": "HTMLModel",
      "state": {
       "layout": "IPY_MODEL_1ec8414fd5d0418ab9956b36f0bbf847",
       "style": "IPY_MODEL_1f295cc6e9054d3396177f885507247e",
       "value": "<img src=\"questions/aer1_images/1_w2.png\">"
      }
     },
     "7e7fd15965cf4581adc76d2168154afc": {
      "model_module": "@jupyter-widgets/controls",
      "model_module_version": "1.4.0",
      "model_name": "HBoxModel",
      "state": {
       "children": [
        "IPY_MODEL_a0915472b7514ea5bab2f247a698278f",
        "IPY_MODEL_5cf93cf3e41c44a596ae6903f62936d0"
       ],
       "layout": "IPY_MODEL_fbe6250e7eef4aa6b368b888ce5bffa2"
      }
     },
     "7ec6918ee4384e5ca75faa134dd9c6bd": {
      "model_module": "@jupyter-widgets/controls",
      "model_module_version": "1.4.0",
      "model_name": "HTMLModel",
      "state": {
       "layout": "IPY_MODEL_b80a6aae484a41a89756848e65ddf304",
       "style": "IPY_MODEL_d0fa63a2a4af4289a77316f184b0ec15",
       "value": "<p><b>Question ID</b>: 1</p>"
      }
     },
     "7ed1d3c318ea48a08477461e6e5db925": {
      "model_module": "@jupyter-widgets/controls",
      "model_module_version": "1.4.0",
      "model_name": "HTMLModel",
      "state": {
       "layout": "IPY_MODEL_20764b34e7c149d3b4cffae933f038ce",
       "style": "IPY_MODEL_6a54d0b6be564df298d7b10dcccb4cc5",
       "value": "<b>1</b>)&nbsp;&nbsp;"
      }
     },
     "7ee140bf42b64cc294a1ec8975ccd752": {
      "model_module": "@jupyter-widgets/base",
      "model_module_version": "1.1.0",
      "model_name": "LayoutModel",
      "state": {}
     },
     "7eed6def10ce4a2ab9f70964c9ab7402": {
      "model_module": "@jupyter-widgets/controls",
      "model_module_version": "1.4.0",
      "model_name": "DescriptionStyleModel",
      "state": {
       "description_width": ""
      }
     },
     "7ef4c2b505b5449c85203e5fca982dbc": {
      "model_module": "@jupyter-widgets/controls",
      "model_module_version": "1.4.0",
      "model_name": "VBoxModel",
      "state": {
       "children": [
        "IPY_MODEL_c3b57482e7b6464d9f333c9f3b250715",
        "IPY_MODEL_6dad0d82434841999d006de74073a130"
       ],
       "layout": "IPY_MODEL_ebbca613402440a0857037369f0b14c3"
      }
     },
     "7efc32b63266470aaa5ac34c73fcf843": {
      "model_module": "@jupyter-widgets/controls",
      "model_module_version": "1.4.0",
      "model_name": "ButtonModel",
      "state": {
       "description": "2",
       "layout": "IPY_MODEL_8967a16735f5479e90cb1a575c961d9b",
       "style": "IPY_MODEL_57cff4cd47434b92ab63da91f2c05845"
      }
     },
     "7f33d2a856fa426ba1c06eaeaa1afc28": {
      "model_module": "@jupyter-widgets/controls",
      "model_module_version": "1.4.0",
      "model_name": "DescriptionStyleModel",
      "state": {
       "description_width": ""
      }
     },
     "7f44bf0ebcd0405791a4df0baea52b4f": {
      "model_module": "@jupyter-widgets/controls",
      "model_module_version": "1.4.0",
      "model_name": "ButtonStyleModel",
      "state": {}
     },
     "7f56b4814c3e4e14b6d9f01c3a656bf5": {
      "model_module": "@jupyter-widgets/base",
      "model_module_version": "1.1.0",
      "model_name": "LayoutModel",
      "state": {}
     },
     "7f5e4244d75844039c645c90ba41e5dd": {
      "model_module": "@jupyter-widgets/base",
      "model_module_version": "1.1.0",
      "model_name": "LayoutModel",
      "state": {}
     },
     "7ffdd10d49bb45eeb0ce5693161cb99e": {
      "model_module": "@jupyter-widgets/controls",
      "model_module_version": "1.4.0",
      "model_name": "VBoxModel",
      "state": {
       "children": [
        "IPY_MODEL_e47f100851154114a33a8d56606bd06c",
        "IPY_MODEL_4c10004cf8fe4494b3eca563e94c8fbb"
       ],
       "layout": "IPY_MODEL_08ebc2f18dbb4986be33991bf1950d87"
      }
     },
     "80299c13ed144ab09ea838dd71ae98ff": {
      "model_module": "@jupyter-widgets/controls",
      "model_module_version": "1.4.0",
      "model_name": "HTMLModel",
      "state": {
       "layout": "IPY_MODEL_5420b4821c9f4ccc8dfa70c854adefce",
       "style": "IPY_MODEL_efc33ad791354ce7825e2058b3d3acb6"
      }
     },
     "802e1d36e4c34e319c5f83fd1b4da01c": {
      "model_module": "@jupyter-widgets/controls",
      "model_module_version": "1.4.0",
      "model_name": "HBoxModel",
      "state": {
       "children": [
        "IPY_MODEL_50204514710b45bb8f12d3dc7ba98648",
        "IPY_MODEL_6a48d5fc583f41dbbd737de52fc469ac"
       ],
       "layout": "IPY_MODEL_5f77fc7119824ead896c81cde26dfb3f"
      }
     },
     "8044b10988fe4e80a34c0b7d036a032f": {
      "model_module": "@jupyter-widgets/controls",
      "model_module_version": "1.4.0",
      "model_name": "HBoxModel",
      "state": {
       "children": [
        "IPY_MODEL_cef9cb983ae1489cabf539b1d4d0f6ec",
        "IPY_MODEL_31bf9aad88d04071a8785401479be8fd"
       ],
       "layout": "IPY_MODEL_42c8df14774445f08b94ed14de9743a8"
      }
     },
     "804b797a89cf4b088e76fcb4322cd0a2": {
      "model_module": "@jupyter-widgets/controls",
      "model_module_version": "1.4.0",
      "model_name": "VBoxModel",
      "state": {
       "children": [
        "IPY_MODEL_3d4c9427988b45909b3162c4afb03c8f",
        "IPY_MODEL_d44ab43cb22d488cb63894be1e223953"
       ],
       "layout": "IPY_MODEL_7661e1f2ec8547e8ae456814d6a68040"
      }
     },
     "80b56a9d80904264a70aae8905f12506": {
      "model_module": "@jupyter-widgets/base",
      "model_module_version": "1.1.0",
      "model_name": "LayoutModel",
      "state": {
       "visibility": "hidden"
      }
     },
     "80b6eb4e36784c149df30740ad474813": {
      "model_module": "@jupyter-widgets/controls",
      "model_module_version": "1.4.0",
      "model_name": "HBoxModel",
      "state": {
       "children": [
        "IPY_MODEL_2ed712b9800d496eb71df96714508154",
        "IPY_MODEL_6d86828c84c54a728841d350f9fca3dc"
       ],
       "layout": "IPY_MODEL_863620534d5348cda7e4caf7af14d54a"
      }
     },
     "80ec8c90dc304869b18bde9612f68210": {
      "model_module": "@jupyter-widgets/controls",
      "model_module_version": "1.4.0",
      "model_name": "ButtonModel",
      "state": {
       "description": "Next",
       "layout": "IPY_MODEL_ccdfe1c1b0634a5389e73298163f26a7",
       "style": "IPY_MODEL_05347aae051c451ab5268868e972cc37"
      }
     },
     "80ee15751d6b428ebf12930e590f1412": {
      "model_module": "@jupyter-widgets/controls",
      "model_module_version": "1.4.0",
      "model_name": "HTMLModel",
      "state": {
       "layout": "IPY_MODEL_a5a3d8386fea4f85afc2e4fb08c35824",
       "style": "IPY_MODEL_97d78dac6da443c4b5c027306c249d7e",
       "value": "<img src=\"questions/aer1_images/1_w4.png\">"
      }
     },
     "80f4df7c36e0467080f8a2c5bcd23f9e": {
      "model_module": "@jupyter-widgets/controls",
      "model_module_version": "1.4.0",
      "model_name": "HTMLModel",
      "state": {
       "layout": "IPY_MODEL_3f6a17be70e843b1ae2a3f0f59718a70",
       "style": "IPY_MODEL_4e01f40c99da4798b43ec85eae89acde",
       "value": "<br/><br clear=\"all\"/><b>Respond</b>: "
      }
     },
     "80f82c0ebe3a4bf9be0b18d2a400f52e": {
      "model_module": "@jupyter-widgets/base",
      "model_module_version": "1.1.0",
      "model_name": "LayoutModel",
      "state": {}
     },
     "80fa0b4339894d689726300ff408c12f": {
      "model_module": "@jupyter-widgets/base",
      "model_module_version": "1.1.0",
      "model_name": "LayoutModel",
      "state": {}
     },
     "810641230f5c4f22a53b55303b818b7f": {
      "model_module": "@jupyter-widgets/controls",
      "model_module_version": "1.4.0",
      "model_name": "DescriptionStyleModel",
      "state": {
       "description_width": ""
      }
     },
     "814b345ed4414729aa0515b00fda69c9": {
      "model_module": "@jupyter-widgets/controls",
      "model_module_version": "1.4.0",
      "model_name": "ButtonModel",
      "state": {
       "description": "Previous",
       "disabled": true,
       "layout": "IPY_MODEL_f5524fe9e19a4d86894ccb3adba40829",
       "style": "IPY_MODEL_96c3faa1f15a4326a3871092cffd14c3"
      }
     },
     "8184cd2d6f8b4701b075c577e83debb9": {
      "model_module": "@jupyter-widgets/base",
      "model_module_version": "1.1.0",
      "model_name": "LayoutModel",
      "state": {}
     },
     "81c15079d29c4f00be3eab5d9b2a4746": {
      "model_module": "@jupyter-widgets/controls",
      "model_module_version": "1.4.0",
      "model_name": "DescriptionStyleModel",
      "state": {
       "description_width": ""
      }
     },
     "81c159aad7104700a6fcbcc4300a5671": {
      "model_module": "@jupyter-widgets/base",
      "model_module_version": "1.1.0",
      "model_name": "LayoutModel",
      "state": {}
     },
     "81c18673fc6542ca8e6db85b36076fa6": {
      "model_module": "@jupyter-widgets/base",
      "model_module_version": "1.1.0",
      "model_name": "LayoutModel",
      "state": {}
     },
     "81e0bb579d0e46428e1b9a04e8e7fd47": {
      "model_module": "@jupyter-widgets/controls",
      "model_module_version": "1.4.0",
      "model_name": "ButtonModel",
      "state": {
       "description": "1",
       "layout": "IPY_MODEL_28f70979169f4962b7972c4de571ba7c",
       "style": "IPY_MODEL_7a114ab98dcc4e7e8b8741bee4875e05"
      }
     },
     "822cfb6f34bd450e907e6eb25b20c7c9": {
      "model_module": "@jupyter-widgets/controls",
      "model_module_version": "1.4.0",
      "model_name": "ButtonStyleModel",
      "state": {}
     },
     "8259559c6eee459589669c4f521808c1": {
      "model_module": "@jupyter-widgets/base",
      "model_module_version": "1.1.0",
      "model_name": "LayoutModel",
      "state": {}
     },
     "826358f63f9746218eeab12426a75363": {
      "model_module": "@jupyter-widgets/controls",
      "model_module_version": "1.4.0",
      "model_name": "HTMLModel",
      "state": {
       "layout": "IPY_MODEL_94d469e751d1485da89abf0c38539dae",
       "style": "IPY_MODEL_c91def531d9146eea6ac64751639411f",
       "value": "A library of quantum algorithms"
      }
     },
     "826c2f3523854ed183ced0067678e581": {
      "model_module": "@jupyter-widgets/controls",
      "model_module_version": "1.4.0",
      "model_name": "ButtonStyleModel",
      "state": {}
     },
     "8275f327ed6e4c1aa1004cd8ba51b949": {
      "model_module": "@jupyter-widgets/controls",
      "model_module_version": "1.4.0",
      "model_name": "ButtonModel",
      "state": {
       "description": "Next",
       "layout": "IPY_MODEL_6cbe06456f8a4bc1b9e69e7650885b73",
       "style": "IPY_MODEL_826c2f3523854ed183ced0067678e581"
      }
     },
     "8276c042200643518cc18c75b0d2aa59": {
      "model_module": "@jupyter-widgets/base",
      "model_module_version": "1.1.0",
      "model_name": "LayoutModel",
      "state": {}
     },
     "82a5205488334ee9b622e93182128be9": {
      "model_module": "@jupyter-widgets/base",
      "model_module_version": "1.1.0",
      "model_name": "LayoutModel",
      "state": {}
     },
     "82cc21d0d1784259b88d4bf2a590d3ab": {
      "model_module": "@jupyter-widgets/controls",
      "model_module_version": "1.4.0",
      "model_name": "ButtonStyleModel",
      "state": {}
     },
     "82cf3e1db3324010a3a21a054358210c": {
      "model_module": "@jupyter-widgets/output",
      "model_module_version": "1.0.0",
      "model_name": "OutputModel",
      "state": {
       "layout": "IPY_MODEL_15a95ba39d5549429cfc7e606ab713a7"
      }
     },
     "82e690873133448a8a15827adc598946": {
      "model_module": "@jupyter-widgets/controls",
      "model_module_version": "1.4.0",
      "model_name": "HBoxModel",
      "state": {
       "children": [
        "IPY_MODEL_45bc7c43c9d44b9fb1acf8eec657b4a5",
        "IPY_MODEL_44b1ee02646d40379f5342bfb415c1f9",
        "IPY_MODEL_cd12ef4f8e5246109488012d0fafe370",
        "IPY_MODEL_44e9840cd317447cbc2db85d8aa40e7a",
        "IPY_MODEL_5bb55694598c460b8e3c07aa3b80bf3f",
        "IPY_MODEL_d2e4127ca44c45d1a0721a1632d5607b"
       ],
       "layout": "IPY_MODEL_12b5d1463f284f90857b0b3e01135355"
      }
     },
     "82e723f1f02e4287829726a8c090a092": {
      "model_module": "@jupyter-widgets/base",
      "model_module_version": "1.1.0",
      "model_name": "LayoutModel",
      "state": {
       "visibility": "hidden"
      }
     },
     "8327f487f76941a88a5a9acd719ba1df": {
      "model_module": "@jupyter-widgets/controls",
      "model_module_version": "1.4.0",
      "model_name": "HBoxModel",
      "state": {
       "children": [
        "IPY_MODEL_bd91a723dac9465183bfa52553c59987",
        "IPY_MODEL_ea01e478482043b29cf9fb68e0f43943"
       ],
       "layout": "IPY_MODEL_5e88b4af84904704ab9f7e54a2bda1a2"
      }
     },
     "83345fc6bf1048a5b3ae8e998e582777": {
      "model_module": "@jupyter-widgets/base",
      "model_module_version": "1.1.0",
      "model_name": "LayoutModel",
      "state": {}
     },
     "834293fa4a3f4ec9a316e9148d5d458d": {
      "model_module": "@jupyter-widgets/base",
      "model_module_version": "1.1.0",
      "model_name": "LayoutModel",
      "state": {
       "margin": "20px",
       "visibility": "visible"
      }
     },
     "8358abb14c934b64a2844c2437a3598a": {
      "model_module": "@jupyter-widgets/controls",
      "model_module_version": "1.4.0",
      "model_name": "DescriptionStyleModel",
      "state": {
       "description_width": ""
      }
     },
     "8367a35ba6cf43669a3f88cb4053bbe8": {
      "model_module": "@jupyter-widgets/controls",
      "model_module_version": "1.4.0",
      "model_name": "HBoxModel",
      "state": {
       "children": [
        "IPY_MODEL_2abc28aeb6cb480a9f26956c86df1ebd",
        "IPY_MODEL_7e5b34a4951d4a06b8ae0fe0567268b2"
       ],
       "layout": "IPY_MODEL_2748d3472b5943468b128e1dd08fb92f"
      }
     },
     "839a336274bf4ada883c08663511d1c2": {
      "model_module": "@jupyter-widgets/controls",
      "model_module_version": "1.4.0",
      "model_name": "ButtonModel",
      "state": {
       "description": "4",
       "layout": "IPY_MODEL_e9ccb940428e48ce8eca3cb5040db7b3",
       "style": "IPY_MODEL_c15342603b604e6fb975db7f57ec26ad"
      }
     },
     "83a9dbea893145c0aa230cff48aa16c2": {
      "model_module": "@jupyter-widgets/controls",
      "model_module_version": "1.4.0",
      "model_name": "VBoxModel",
      "state": {
       "children": [
        "IPY_MODEL_be7cafc0a8e7447689fc41f1fa0df024",
        "IPY_MODEL_c4b7f8d64ca442aaaa9646054053f90b",
        "IPY_MODEL_9dbbca82d0fb47ffb3e7755be157e3de",
        "IPY_MODEL_80b6eb4e36784c149df30740ad474813",
        "IPY_MODEL_6ecddf38e45944e39e9b6ab26824b873",
        "IPY_MODEL_8044b10988fe4e80a34c0b7d036a032f",
        "IPY_MODEL_54e69652daa848bd9b773d72cb961b4d",
        "IPY_MODEL_6050982e0625480eaf910a01ba253220",
        "IPY_MODEL_5b944327f4bb45c0aad0b5a3d04f99b1"
       ],
       "layout": "IPY_MODEL_96debe71566e4258bed393c0c82a0bc3"
      }
     },
     "83c7ce8ce0f34466a7a2dac4ec2ad814": {
      "model_module": "@jupyter-widgets/base",
      "model_module_version": "1.1.0",
      "model_name": "LayoutModel",
      "state": {
       "visibility": "hidden"
      }
     },
     "83cc45df230243609ff17531398809b2": {
      "model_module": "@jupyter-widgets/controls",
      "model_module_version": "1.4.0",
      "model_name": "ButtonStyleModel",
      "state": {}
     },
     "84025b4abf1c42db916cd9830539afb0": {
      "model_module": "@jupyter-widgets/base",
      "model_module_version": "1.1.0",
      "model_name": "LayoutModel",
      "state": {}
     },
     "84174211e1724f1c8e6528695f652f29": {
      "model_module": "@jupyter-widgets/controls",
      "model_module_version": "1.4.0",
      "model_name": "HTMLModel",
      "state": {
       "layout": "IPY_MODEL_018cdd5194884de3b9cb25023f45300c",
       "style": "IPY_MODEL_1d518fb811464341aabeaf27718ee8d4",
       "value": "<b>5</b>)&nbsp;&nbsp;"
      }
     },
     "843075ee57c14875b10437e368699041": {
      "model_module": "@jupyter-widgets/base",
      "model_module_version": "1.1.0",
      "model_name": "LayoutModel",
      "state": {
       "visibility": "visible"
      }
     },
     "846a601c8e664983a6de38014f60c5f7": {
      "model_module": "@jupyter-widgets/controls",
      "model_module_version": "1.4.0",
      "model_name": "VBoxModel",
      "state": {
       "children": [
        "IPY_MODEL_58ad452185eb4200bdf645c11538cb2f",
        "IPY_MODEL_86b4d419a9454434baa164fa5591026d"
       ],
       "layout": "IPY_MODEL_042a0b6d9d8e4111b8e074eabb1136d1"
      }
     },
     "849a1ef0b1c6430e84e5c4b1bbc1b7da": {
      "model_module": "@jupyter-widgets/controls",
      "model_module_version": "1.4.0",
      "model_name": "DescriptionStyleModel",
      "state": {
       "description_width": ""
      }
     },
     "84ab04d2d30347df9d65b7263774e56f": {
      "model_module": "@jupyter-widgets/controls",
      "model_module_version": "1.4.0",
      "model_name": "HTMLModel",
      "state": {
       "layout": "IPY_MODEL_5db50ae3431544b9a912d1b9eaceb00f",
       "style": "IPY_MODEL_fa77e122b65f46f485d413aa1cc86277",
       "value": "<b>1</b>)&nbsp;&nbsp;"
      }
     },
     "84d1069c33304e4aae1b8d5f6d50585b": {
      "model_module": "@jupyter-widgets/controls",
      "model_module_version": "1.4.0",
      "model_name": "HBoxModel",
      "state": {
       "children": [
        "IPY_MODEL_0989759b1cee4c09ab7aa4a07ad4b08f",
        "IPY_MODEL_3a46cb12d8194aa1811afd504e393a59"
       ],
       "layout": "IPY_MODEL_28c1d0194907464fb5ec077a65aede49"
      }
     },
     "8511f6734f1340ccad1ad35e8e8f61a7": {
      "model_module": "@jupyter-widgets/base",
      "model_module_version": "1.1.0",
      "model_name": "LayoutModel",
      "state": {
       "margin": "20px",
       "visibility": "visible"
      }
     },
     "851acc2fc3b0467a967df9d09f833080": {
      "model_module": "@jupyter-widgets/base",
      "model_module_version": "1.1.0",
      "model_name": "LayoutModel",
      "state": {
       "visibility": "visible"
      }
     },
     "853b0c3689d6481a89ccfb84317e9ebb": {
      "model_module": "@jupyter-widgets/controls",
      "model_module_version": "1.4.0",
      "model_name": "ButtonModel",
      "state": {
       "description": "2",
       "layout": "IPY_MODEL_cd28342509774ff2ad117577b3bda477",
       "style": "IPY_MODEL_b7aba7f58e1f46568f3570b322f6a244"
      }
     },
     "854ed811bfbb448eade94393bd1f2ca3": {
      "model_module": "@jupyter-widgets/base",
      "model_module_version": "1.1.0",
      "model_name": "LayoutModel",
      "state": {}
     },
     "8555387e58e247f09c8531bf08e9e0bd": {
      "model_module": "@jupyter-widgets/controls",
      "model_module_version": "1.4.0",
      "model_name": "DescriptionStyleModel",
      "state": {
       "description_width": ""
      }
     },
     "857eac7b098b45a497141e021a0a16b1": {
      "model_module": "@jupyter-widgets/controls",
      "model_module_version": "1.4.0",
      "model_name": "HBoxModel",
      "state": {
       "children": [
        "IPY_MODEL_4783856c211f4588a6a2b0f39f3be5f8",
        "IPY_MODEL_ace9a222d714422d94e0afb173ca2537"
       ],
       "layout": "IPY_MODEL_2c2d0f3718d949248bad0be185e5e167"
      }
     },
     "85acda5e1c4349d6a4c9d8ba5eef628d": {
      "model_module": "@jupyter-widgets/controls",
      "model_module_version": "1.4.0",
      "model_name": "HTMLModel",
      "state": {
       "layout": "IPY_MODEL_78944426598e44e189de79e9759ebf64",
       "style": "IPY_MODEL_b13aad1118dc4ebba05ff12e6c373d06"
      }
     },
     "85b47529ef3243feb1d1e2924ed84968": {
      "model_module": "@jupyter-widgets/controls",
      "model_module_version": "1.4.0",
      "model_name": "DescriptionStyleModel",
      "state": {
       "description_width": ""
      }
     },
     "85bbe816f42642a7be3b07e8bda15a39": {
      "model_module": "@jupyter-widgets/controls",
      "model_module_version": "1.4.0",
      "model_name": "DescriptionStyleModel",
      "state": {
       "description_width": ""
      }
     },
     "85df614ab38b42a3a67d89d294509b8c": {
      "model_module": "@jupyter-widgets/controls",
      "model_module_version": "1.4.0",
      "model_name": "DescriptionStyleModel",
      "state": {
       "description_width": ""
      }
     },
     "85e5b9f3f4284460a09388ee07179054": {
      "model_module": "@jupyter-widgets/controls",
      "model_module_version": "1.4.0",
      "model_name": "HTMLModel",
      "state": {
       "layout": "IPY_MODEL_6888f4641a0746aaaa08627b470e6aa3",
       "style": "IPY_MODEL_21c717c35d304b22b7d05dc52653c661",
       "value": "<p><b>Question ID</b>: 1</p>"
      }
     },
     "8615789cce91431d91bfc7839255d717": {
      "model_module": "@jupyter-widgets/base",
      "model_module_version": "1.1.0",
      "model_name": "LayoutModel",
      "state": {}
     },
     "863147bca0ef4751a41f0525d27a5ac4": {
      "model_module": "@jupyter-widgets/controls",
      "model_module_version": "1.4.0",
      "model_name": "DescriptionStyleModel",
      "state": {
       "description_width": ""
      }
     },
     "8635f106e54949f3b09d0ccc0a077475": {
      "model_module": "@jupyter-widgets/controls",
      "model_module_version": "1.4.0",
      "model_name": "ButtonStyleModel",
      "state": {}
     },
     "863620534d5348cda7e4caf7af14d54a": {
      "model_module": "@jupyter-widgets/base",
      "model_module_version": "1.1.0",
      "model_name": "LayoutModel",
      "state": {
       "visibility": "visible"
      }
     },
     "8648ff62d75942e69efe1d839a5f5037": {
      "model_module": "@jupyter-widgets/base",
      "model_module_version": "1.1.0",
      "model_name": "LayoutModel",
      "state": {
       "margin": "20px",
       "visibility": "visible"
      }
     },
     "86839f3d8d88498a950fd6470ec42f88": {
      "model_module": "@jupyter-widgets/controls",
      "model_module_version": "1.4.0",
      "model_name": "DescriptionStyleModel",
      "state": {
       "description_width": ""
      }
     },
     "86b4d419a9454434baa164fa5591026d": {
      "model_module": "@jupyter-widgets/output",
      "model_module_version": "1.0.0",
      "model_name": "OutputModel",
      "state": {
       "layout": "IPY_MODEL_81c159aad7104700a6fcbcc4300a5671"
      }
     },
     "86f9ea7c00f54cd6965a1a728405a4a2": {
      "model_module": "@jupyter-widgets/controls",
      "model_module_version": "1.4.0",
      "model_name": "HTMLModel",
      "state": {
       "layout": "IPY_MODEL_0183cc7a9b624056b7fdea83e970447a",
       "style": "IPY_MODEL_faa1cd693c2742409ab9383c3e2c4265",
       "value": "6"
      }
     },
     "8705572a2cf447c0a0327d17f5616846": {
      "model_module": "@jupyter-widgets/controls",
      "model_module_version": "1.4.0",
      "model_name": "HTMLModel",
      "state": {
       "layout": "IPY_MODEL_fc252f99c10d4d1db0505f0a01a0990f",
       "style": "IPY_MODEL_27049d1e707d4d81a47c49cd48a1494d",
       "value": "<b>2</b>)&nbsp;&nbsp;"
      }
     },
     "874050119c1e4b4a90a9a8460358705a": {
      "model_module": "@jupyter-widgets/base",
      "model_module_version": "1.1.0",
      "model_name": "LayoutModel",
      "state": {}
     },
     "878eef13cfc74bae856b1a15f8fc5a88": {
      "model_module": "@jupyter-widgets/controls",
      "model_module_version": "1.4.0",
      "model_name": "HTMLModel",
      "state": {
       "layout": "IPY_MODEL_39424348aebf43c1bd82da70386c48b7",
       "style": "IPY_MODEL_cea4a7d50c7a4524a31455aff526d9f6",
       "value": "None of the above"
      }
     },
     "879481a80a8149b6bf3d9da9fc215dc5": {
      "model_module": "@jupyter-widgets/base",
      "model_module_version": "1.1.0",
      "model_name": "LayoutModel",
      "state": {
       "visibility": "hidden"
      }
     },
     "87ba03e96ed5458a98640f8f0ab98a82": {
      "model_module": "@jupyter-widgets/controls",
      "model_module_version": "1.4.0",
      "model_name": "ButtonStyleModel",
      "state": {}
     },
     "87c79c62e75442429806a8a54d6b98e8": {
      "model_module": "@jupyter-widgets/controls",
      "model_module_version": "1.4.0",
      "model_name": "DescriptionStyleModel",
      "state": {
       "description_width": ""
      }
     },
     "87d9cb1b87214f88a0d08b38fcc42d42": {
      "model_module": "@jupyter-widgets/controls",
      "model_module_version": "1.4.0",
      "model_name": "ButtonModel",
      "state": {
       "description": "1",
       "layout": "IPY_MODEL_b937202d5ff842d582abd6cfe4479bb3",
       "style": "IPY_MODEL_48426fb797324131a7b50f3ede14a6cd"
      }
     },
     "87ddea3541d74a84a9e8ea4b00d9d3e4": {
      "model_module": "@jupyter-widgets/controls",
      "model_module_version": "1.4.0",
      "model_name": "HTMLModel",
      "state": {
       "layout": "IPY_MODEL_3b9df45bfde543b48e5ef840f1c26484",
       "style": "IPY_MODEL_fc00bc52d3394405b67d1b09bd91422b",
       "value": "<b>2</b>)&nbsp;&nbsp;"
      }
     },
     "883489e8a0bc4c91b68dce8f44e6c6ad": {
      "model_module": "@jupyter-widgets/controls",
      "model_module_version": "1.4.0",
      "model_name": "HTMLModel",
      "state": {
       "layout": "IPY_MODEL_1fe12a1658514ca79b24de04c2a836eb",
       "style": "IPY_MODEL_fd81211eff6045149693f77f564415b4"
      }
     },
     "8841067f67cf428d853c7ea001c08f24": {
      "model_module": "@jupyter-widgets/controls",
      "model_module_version": "1.4.0",
      "model_name": "ButtonStyleModel",
      "state": {}
     },
     "887ea1ff60b54ebea1146c95011eae13": {
      "model_module": "@jupyter-widgets/base",
      "model_module_version": "1.1.0",
      "model_name": "LayoutModel",
      "state": {
       "margin": "20px",
       "visibility": "visible"
      }
     },
     "888481c82424444cb7cb9a2a99008a74": {
      "model_module": "@jupyter-widgets/controls",
      "model_module_version": "1.4.0",
      "model_name": "HTMLModel",
      "state": {
       "layout": "IPY_MODEL_52f864c6853a47e8b6f62859a422ff7f",
       "style": "IPY_MODEL_be0145fc982d42fbbcefbce8e857cf51",
       "value": "Qubits in state <img src=\"http://latex.codecogs.com/svg.latex?\\vert1\\rangle\" border=\"0\"/> decay down to <img src=\"http://latex.codecogs.com/svg.latex?\\vert0\\rangle\" border=\"0\"/> before measurement. The decay time for <samp>qr[0]</samp> is shorter than that for <samp>qr[1]</samp>."
      }
     },
     "88907969635e4d58ab56624a7f0cdd3a": {
      "model_module": "@jupyter-widgets/controls",
      "model_module_version": "1.4.0",
      "model_name": "ButtonStyleModel",
      "state": {}
     },
     "88ae4b10f7ae45a8a338156b61abe5bb": {
      "model_module": "@jupyter-widgets/controls",
      "model_module_version": "1.4.0",
      "model_name": "DescriptionStyleModel",
      "state": {
       "description_width": ""
      }
     },
     "88b4d3a06ec843c5b6f87bdc57cc25c2": {
      "model_module": "@jupyter-widgets/controls",
      "model_module_version": "1.4.0",
      "model_name": "ButtonModel",
      "state": {
       "description": "4",
       "layout": "IPY_MODEL_9b9c35629b124f318ccdb852e2de438f",
       "style": "IPY_MODEL_d35a7ea4c88749a7b44d2e7db5b0866b"
      }
     },
     "88f5182f12564a74aa4b111c67f82b56": {
      "model_module": "@jupyter-widgets/controls",
      "model_module_version": "1.4.0",
      "model_name": "DescriptionStyleModel",
      "state": {
       "description_width": ""
      }
     },
     "88f96ea04f0747c8ae1af57c37a849f7": {
      "model_module": "@jupyter-widgets/controls",
      "model_module_version": "1.4.0",
      "model_name": "HBoxModel",
      "state": {
       "children": [
        "IPY_MODEL_3bf33cc3ecf440b58f8fc1286dc98e81",
        "IPY_MODEL_ebb6ed82d5c14a36bf854d663ec209cb"
       ],
       "layout": "IPY_MODEL_5a0866b235d749dca763ef4517ea7486"
      }
     },
     "88fd717f0d1447b48b453fbfed60d6c0": {
      "model_module": "@jupyter-widgets/controls",
      "model_module_version": "1.4.0",
      "model_name": "HTMLModel",
      "state": {
       "layout": "IPY_MODEL_cc01dab87f224670829e9056c5aeae68",
       "style": "IPY_MODEL_04058247ee1b4c458315a7fbf8ce42cf"
      }
     },
     "8905fe127e2441498f9316ba4d7c7b9e": {
      "model_module": "@jupyter-widgets/base",
      "model_module_version": "1.1.0",
      "model_name": "LayoutModel",
      "state": {}
     },
     "89232f3060064d969a42870fab850513": {
      "model_module": "@jupyter-widgets/controls",
      "model_module_version": "1.4.0",
      "model_name": "ButtonStyleModel",
      "state": {}
     },
     "893c2d49fe144d11a9e12dac80f54d3d": {
      "model_module": "@jupyter-widgets/controls",
      "model_module_version": "1.4.0",
      "model_name": "ButtonStyleModel",
      "state": {}
     },
     "8949fd860b014ea0bf011370148aeb5b": {
      "model_module": "@jupyter-widgets/base",
      "model_module_version": "1.1.0",
      "model_name": "LayoutModel",
      "state": {
       "visibility": "visible"
      }
     },
     "895035ad6cd14c5889eea8b98df94394": {
      "model_module": "@jupyter-widgets/controls",
      "model_module_version": "1.4.0",
      "model_name": "HTMLModel",
      "state": {
       "layout": "IPY_MODEL_eac2c269433a4179bb9594f56b9576c0",
       "style": "IPY_MODEL_956ea6375ba44d149701ca441cf38b97",
       "value": "<br/><br clear=\"all\"/><b>Respond</b>: "
      }
     },
     "8967a16735f5479e90cb1a575c961d9b": {
      "model_module": "@jupyter-widgets/base",
      "model_module_version": "1.1.0",
      "model_name": "LayoutModel",
      "state": {
       "margin": "20px",
       "visibility": "visible"
      }
     },
     "89b4eb1d356e422b931987b25bbf9ba2": {
      "model_module": "@jupyter-widgets/base",
      "model_module_version": "1.1.0",
      "model_name": "LayoutModel",
      "state": {}
     },
     "8a38670cdba54037aed501d6dcfecf35": {
      "model_module": "@jupyter-widgets/base",
      "model_module_version": "1.1.0",
      "model_name": "LayoutModel",
      "state": {
       "visibility": "hidden"
      }
     },
     "8a399227dc8e4f23a6cd2d462534b90c": {
      "model_module": "@jupyter-widgets/controls",
      "model_module_version": "1.4.0",
      "model_name": "ButtonModel",
      "state": {
       "description": "Results",
       "layout": "IPY_MODEL_09413bea68f640aba0a1a1df55d39b6c",
       "style": "IPY_MODEL_dc977d33a5c740a4b8b28c8a01f33a89"
      }
     },
     "8a8f01f654f2491392d2a59bb3d0e96b": {
      "model_module": "@jupyter-widgets/controls",
      "model_module_version": "1.4.0",
      "model_name": "VBoxModel",
      "state": {
       "children": [
        "IPY_MODEL_027dbcb1e7a7446f9f8e6bc8ea2363c1",
        "IPY_MODEL_6ed6c41b2eaf443c9f9a8ac522437192"
       ],
       "layout": "IPY_MODEL_4d510f99341743b9bff8b3c7f65a0683"
      }
     },
     "8a9d1ddae1e74927ab701ff6faf346e6": {
      "model_module": "@jupyter-widgets/base",
      "model_module_version": "1.1.0",
      "model_name": "LayoutModel",
      "state": {
       "margin": "20px",
       "visibility": "visible"
      }
     },
     "8af59d28e37d492d867dc92ff7e02595": {
      "model_module": "@jupyter-widgets/base",
      "model_module_version": "1.1.0",
      "model_name": "LayoutModel",
      "state": {}
     },
     "8b01e3010c9b4bbe8387a72c07018a98": {
      "model_module": "@jupyter-widgets/base",
      "model_module_version": "1.1.0",
      "model_name": "LayoutModel",
      "state": {}
     },
     "8b02565e3e634106b87b70ef38da9e74": {
      "model_module": "@jupyter-widgets/controls",
      "model_module_version": "1.4.0",
      "model_name": "ButtonStyleModel",
      "state": {}
     },
     "8b4a4afa203942b98bb02d749a90802b": {
      "model_module": "@jupyter-widgets/controls",
      "model_module_version": "1.4.0",
      "model_name": "DescriptionStyleModel",
      "state": {
       "description_width": ""
      }
     },
     "8b6a32fe7d14433fa2ff5bd65dada3c8": {
      "model_module": "@jupyter-widgets/base",
      "model_module_version": "1.1.0",
      "model_name": "LayoutModel",
      "state": {
       "margin": "20px",
       "visibility": "visible"
      }
     },
     "8b9825de1c144b65aadb82363e90f240": {
      "model_module": "@jupyter-widgets/controls",
      "model_module_version": "1.4.0",
      "model_name": "VBoxModel",
      "state": {
       "children": [
        "IPY_MODEL_ed1c0bacfc1547cf8c381ff282f47483",
        "IPY_MODEL_6dc5c30120e44b69814833b42cd4a59e"
       ],
       "layout": "IPY_MODEL_4fcda354664d4c3191282473079923b1"
      }
     },
     "8b9d4298c7644df39cc9ff87588c9ecd": {
      "model_module": "@jupyter-widgets/controls",
      "model_module_version": "1.4.0",
      "model_name": "HTMLModel",
      "state": {
       "layout": "IPY_MODEL_fec54ac78f0c41b6a475d8fd21a85248",
       "style": "IPY_MODEL_d50546d7e26f47ef9c24f05442087c67",
       "value": "<h1>\n       <h4>What is Qiskit Aqua?</h4> \n</h1>"
      }
     },
     "8ba64a0ab62c4e039b6a862edba98c9e": {
      "model_module": "@jupyter-widgets/controls",
      "model_module_version": "1.4.0",
      "model_name": "ButtonStyleModel",
      "state": {}
     },
     "8bc41293406b47ab9abe0be4b697efd7": {
      "model_module": "@jupyter-widgets/controls",
      "model_module_version": "1.4.0",
      "model_name": "ButtonModel",
      "state": {
       "description": "1",
       "layout": "IPY_MODEL_0eda970bdb984629a776c1e9b547fc42",
       "style": "IPY_MODEL_515978d9fb734711b452f11fbe7415d7"
      }
     },
     "8bcd0ec73580470c8a568fc911b23146": {
      "model_module": "@jupyter-widgets/controls",
      "model_module_version": "1.4.0",
      "model_name": "DescriptionStyleModel",
      "state": {
       "description_width": ""
      }
     },
     "8bdeba7a4e314aa3a7a9d8e2e3f40da9": {
      "model_module": "@jupyter-widgets/controls",
      "model_module_version": "1.4.0",
      "model_name": "DescriptionStyleModel",
      "state": {
       "description_width": ""
      }
     },
     "8bf412c6d34647d292b0a19cae5274d0": {
      "model_module": "@jupyter-widgets/controls",
      "model_module_version": "1.4.0",
      "model_name": "DescriptionStyleModel",
      "state": {
       "description_width": ""
      }
     },
     "8c07582f553c4594b87e0a2144030469": {
      "model_module": "@jupyter-widgets/controls",
      "model_module_version": "1.4.0",
      "model_name": "HTMLModel",
      "state": {
       "layout": "IPY_MODEL_d2b8477447f14d569c2e5ab6a9b8b03b",
       "style": "IPY_MODEL_7260041f21234c089914d6a058bc94c9",
       "value": "<b>1</b>)&nbsp;&nbsp;"
      }
     },
     "8c34be613a304b01b6d74141cf7fc8ba": {
      "model_module": "@jupyter-widgets/controls",
      "model_module_version": "1.4.0",
      "model_name": "HTMLModel",
      "state": {
       "layout": "IPY_MODEL_ffa061a02a804a0081f345c7978d591b",
       "style": "IPY_MODEL_4502e05039ed40c09d30cdc5432e3d93",
       "value": "<h1><h4>What is the output of the following circuit?<br/><br/><h4> <img align=\"middle\" src=\"hx0.png\" width=300px><br/></h1>"
      }
     },
     "8c5c1d557dca448386c697437fb31770": {
      "model_module": "@jupyter-widgets/controls",
      "model_module_version": "1.4.0",
      "model_name": "DescriptionStyleModel",
      "state": {
       "description_width": ""
      }
     },
     "8c88738d306149c8be44514147483d8f": {
      "model_module": "@jupyter-widgets/base",
      "model_module_version": "1.1.0",
      "model_name": "LayoutModel",
      "state": {
       "visibility": "visible"
      }
     },
     "8c9a0428a4dd47fc9f79dddf77723c14": {
      "model_module": "@jupyter-widgets/controls",
      "model_module_version": "1.4.0",
      "model_name": "HTMLModel",
      "state": {
       "layout": "IPY_MODEL_9ed92d5c49064638975d6290d8fa96d8",
       "style": "IPY_MODEL_7b0a2c699c934867ac2ef2c804737b94",
       "value": "None of the above"
      }
     },
     "8cbadbde9cb44b8cb6c1ced66a758c72": {
      "model_module": "@jupyter-widgets/controls",
      "model_module_version": "1.4.0",
      "model_name": "HTMLModel",
      "state": {
       "layout": "IPY_MODEL_5bda241028e7406fb8670f67ab96a444",
       "style": "IPY_MODEL_5ad8b6f833ac4e2f86ff23d516815ad4",
       "value": "<b>4</b>)&nbsp;&nbsp;"
      }
     },
     "8cc426fe76d3411293041856d26d00f5": {
      "model_module": "@jupyter-widgets/base",
      "model_module_version": "1.1.0",
      "model_name": "LayoutModel",
      "state": {}
     },
     "8ccf3ce66845485680478e7e17c64d1a": {
      "model_module": "@jupyter-widgets/output",
      "model_module_version": "1.0.0",
      "model_name": "OutputModel",
      "state": {
       "layout": "IPY_MODEL_b6e1fe6ba39845c481503f5d656473c4"
      }
     },
     "8cf3d6d16ed04b6a93cf35857ac48d11": {
      "model_module": "@jupyter-widgets/controls",
      "model_module_version": "1.4.0",
      "model_name": "ButtonModel",
      "state": {
       "description": "5",
       "layout": "IPY_MODEL_aa1cacd7703c48cb8acf761edeac1eb2",
       "style": "IPY_MODEL_a36eb94d4e0e407f8d72ff160e730dd6"
      }
     },
     "8d11c0a542d2420d9a2f0a6de22fd83a": {
      "model_module": "@jupyter-widgets/base",
      "model_module_version": "1.1.0",
      "model_name": "LayoutModel",
      "state": {}
     },
     "8d377a995e894464bc63c46d8c0c0d86": {
      "model_module": "@jupyter-widgets/base",
      "model_module_version": "1.1.0",
      "model_name": "LayoutModel",
      "state": {
       "margin": "20px",
       "visibility": "visible"
      }
     },
     "8d409faa9fe444b199e38887dc4736a2": {
      "model_module": "@jupyter-widgets/base",
      "model_module_version": "1.1.0",
      "model_name": "LayoutModel",
      "state": {}
     },
     "8d4e86e0b788439b9812ba9f2e53ab63": {
      "model_module": "@jupyter-widgets/base",
      "model_module_version": "1.1.0",
      "model_name": "LayoutModel",
      "state": {}
     },
     "8d5435c319844eba838e1b18e6e46df1": {
      "model_module": "@jupyter-widgets/controls",
      "model_module_version": "1.4.0",
      "model_name": "HTMLModel",
      "state": {
       "layout": "IPY_MODEL_13b1ab32fd5d41eab589e14272a22f3a",
       "style": "IPY_MODEL_3c42d72369524f7ebe05fdfd831f95d8",
       "value": "<img src=\"questions/aer1_images/1_w3.png\">"
      }
     },
     "8d76cedec8ce435793ba9a1d1114177d": {
      "model_module": "@jupyter-widgets/controls",
      "model_module_version": "1.4.0",
      "model_name": "ButtonStyleModel",
      "state": {}
     },
     "8d7d752fc1c341fcb5b7ff642b470b1e": {
      "model_module": "@jupyter-widgets/controls",
      "model_module_version": "1.4.0",
      "model_name": "HBoxModel",
      "state": {
       "children": [
        "IPY_MODEL_ce585d53947f4d03b3256d83427a1e7d",
        "IPY_MODEL_d0219ecb41434934a6b4cafb73327883"
       ],
       "layout": "IPY_MODEL_4d2a40bd5e31441eb986678d7a4ae0f2"
      }
     },
     "8d93296066b040d9a61c3b4e393cf499": {
      "model_module": "@jupyter-widgets/controls",
      "model_module_version": "1.4.0",
      "model_name": "ButtonStyleModel",
      "state": {}
     },
     "8dde502369964f82898c952b77fe5d37": {
      "model_module": "@jupyter-widgets/controls",
      "model_module_version": "1.4.0",
      "model_name": "HBoxModel",
      "state": {
       "children": [
        "IPY_MODEL_e1f71a0d004241cd8d6afff69e4d6c1a",
        "IPY_MODEL_673b0ecd826f41198df1ef649ad8d064"
       ],
       "layout": "IPY_MODEL_56f35c64de694a48996557610f9a3cce"
      }
     },
     "8e081490c78b4942a13f90134390e600": {
      "model_module": "@jupyter-widgets/controls",
      "model_module_version": "1.4.0",
      "model_name": "ButtonModel",
      "state": {
       "description": "Previous",
       "disabled": true,
       "layout": "IPY_MODEL_cdab22533d2a4337906df5b0e9f82101",
       "style": "IPY_MODEL_a832f4595ddb46eba357d012c2f9b905"
      }
     },
     "8e494bf83f1d40f3b005e8233ca8af17": {
      "model_module": "@jupyter-widgets/base",
      "model_module_version": "1.1.0",
      "model_name": "LayoutModel",
      "state": {}
     },
     "8e50fd62798e4282a041f714a9c7ed55": {
      "model_module": "@jupyter-widgets/controls",
      "model_module_version": "1.4.0",
      "model_name": "ButtonStyleModel",
      "state": {}
     },
     "8e64f1f20a2a490d85a2e2df653c49d0": {
      "model_module": "@jupyter-widgets/base",
      "model_module_version": "1.1.0",
      "model_name": "LayoutModel",
      "state": {}
     },
     "8eae12bbe5c7442ab411b77446e2030e": {
      "model_module": "@jupyter-widgets/controls",
      "model_module_version": "1.4.0",
      "model_name": "DescriptionStyleModel",
      "state": {
       "description_width": ""
      }
     },
     "8eb12eaf2c624cfca2b5aa45e81046e9": {
      "model_module": "@jupyter-widgets/controls",
      "model_module_version": "1.4.0",
      "model_name": "HTMLModel",
      "state": {
       "layout": "IPY_MODEL_63fe8096bc104e69801b28a91863bbe0",
       "style": "IPY_MODEL_f27e49a32ffe4941a184cb98765a40e0",
       "value": "<b>5</b>)&nbsp;&nbsp;"
      }
     },
     "8edbae6c22d14219abc4b3608976730c": {
      "model_module": "@jupyter-widgets/controls",
      "model_module_version": "1.4.0",
      "model_name": "ButtonModel",
      "state": {
       "description": "Next",
       "disabled": true,
       "layout": "IPY_MODEL_c8dcf91cb7cd487b85ea809b21d25b88",
       "style": "IPY_MODEL_99f00203a3664b4baf189e6ab1928ccc"
      }
     },
     "8eefa0150d6a482bb7562f5f563b850e": {
      "model_module": "@jupyter-widgets/controls",
      "model_module_version": "1.4.0",
      "model_name": "DescriptionStyleModel",
      "state": {
       "description_width": ""
      }
     },
     "8f1a5ba2333e43e7a2541504fd42d64f": {
      "model_module": "@jupyter-widgets/base",
      "model_module_version": "1.1.0",
      "model_name": "LayoutModel",
      "state": {}
     },
     "8f2286e892114b6191454d70eab38d3b": {
      "model_module": "@jupyter-widgets/controls",
      "model_module_version": "1.4.0",
      "model_name": "VBoxModel",
      "state": {
       "children": [
        "IPY_MODEL_53551551ab7545ef93a34c5d6e3e0154",
        "IPY_MODEL_23c8b18f1a0f46ac9bf3bc7d9bdca731"
       ],
       "layout": "IPY_MODEL_a9d6897e4545486dae9fc55bda97fd64"
      }
     },
     "8f2327192ec949d2aacf243093abb22e": {
      "model_module": "@jupyter-widgets/controls",
      "model_module_version": "1.4.0",
      "model_name": "DescriptionStyleModel",
      "state": {
       "description_width": ""
      }
     },
     "8f3c4b123e5147a5bf730be589056ff8": {
      "model_module": "@jupyter-widgets/controls",
      "model_module_version": "1.4.0",
      "model_name": "DescriptionStyleModel",
      "state": {
       "description_width": ""
      }
     },
     "8ffe63e982bf4db89a0f68365dad566c": {
      "model_module": "@jupyter-widgets/base",
      "model_module_version": "1.1.0",
      "model_name": "LayoutModel",
      "state": {
       "margin": "20px",
       "visibility": "visible"
      }
     },
     "9008541869624fcbbaba773c33dd8778": {
      "model_module": "@jupyter-widgets/controls",
      "model_module_version": "1.4.0",
      "model_name": "ButtonStyleModel",
      "state": {}
     },
     "903fc372d80043f89db98c11c861ab2e": {
      "model_module": "@jupyter-widgets/controls",
      "model_module_version": "1.4.0",
      "model_name": "ButtonModel",
      "state": {
       "description": "Results",
       "layout": "IPY_MODEL_9902a2d9559b485db06ce72d23e23a60",
       "style": "IPY_MODEL_a2a45b5e365b47378845095d590bd196"
      }
     },
     "904873a4571f416a8397676cfe0f0023": {
      "model_module": "@jupyter-widgets/base",
      "model_module_version": "1.1.0",
      "model_name": "LayoutModel",
      "state": {
       "margin": "20px",
       "visibility": "visible"
      }
     },
     "90616d09be9d43739a3844942729cfb3": {
      "model_module": "@jupyter-widgets/base",
      "model_module_version": "1.1.0",
      "model_name": "LayoutModel",
      "state": {
       "margin": "20px",
       "visibility": "visible"
      }
     },
     "907e7fbfd8b64d37b98703955a32131d": {
      "model_module": "@jupyter-widgets/base",
      "model_module_version": "1.1.0",
      "model_name": "LayoutModel",
      "state": {}
     },
     "9085209c768b4354823e2ec4c6f68ff7": {
      "model_module": "@jupyter-widgets/base",
      "model_module_version": "1.1.0",
      "model_name": "LayoutModel",
      "state": {
       "margin": "20px",
       "visibility": "visible"
      }
     },
     "90924a68ffb04f4e86d9e034c08d3115": {
      "model_module": "@jupyter-widgets/controls",
      "model_module_version": "1.4.0",
      "model_name": "HTMLModel",
      "state": {
       "layout": "IPY_MODEL_afe1dbe22f344746a3cd88960e1b6d12",
       "style": "IPY_MODEL_a60740b0f63f49e2b5136dfea511c0d3",
       "value": "<p><b>Question ID</b>: 1</p>"
      }
     },
     "90bd7afa2507415bb0b6e1d875edf6e5": {
      "model_module": "@jupyter-widgets/base",
      "model_module_version": "1.1.0",
      "model_name": "LayoutModel",
      "state": {}
     },
     "90d72436f2924ce68ad12c401970ac69": {
      "model_module": "@jupyter-widgets/controls",
      "model_module_version": "1.4.0",
      "model_name": "HTMLModel",
      "state": {
       "layout": "IPY_MODEL_c9b114be3d4649ec848c6c53b0a320ec",
       "style": "IPY_MODEL_ec053983175e449aa3f47399a15c67b0",
       "value": "<img src=\"questions/qiskitintro_images/4.png\">"
      }
     },
     "90ff24003de641e9a3f85bfc3e22c1e4": {
      "model_module": "@jupyter-widgets/controls",
      "model_module_version": "1.4.0",
      "model_name": "HBoxModel",
      "state": {
       "children": [
        "IPY_MODEL_b2e1040b5a0c433c9ec25af6d79bbcb7",
        "IPY_MODEL_92484593e87e477db3c253f39c63d33b",
        "IPY_MODEL_4cc40c67779042cc96cf6779e7e7afab"
       ],
       "layout": "IPY_MODEL_0df257a74d27415da9fe57d3602544f3"
      }
     },
     "917a2494ee544ed6b10cb74ed1b7dd0a": {
      "model_module": "@jupyter-widgets/controls",
      "model_module_version": "1.4.0",
      "model_name": "HBoxModel",
      "state": {
       "children": [
        "IPY_MODEL_2d9776c4435b464694b52d8a1b022457",
        "IPY_MODEL_5c75efc2f4d342e8975f4fb5aa53b18f"
       ],
       "layout": "IPY_MODEL_0af17fadd1d94f96a779bc80785d2108"
      }
     },
     "9220b06c5801430383137526e73fee31": {
      "model_module": "@jupyter-widgets/controls",
      "model_module_version": "1.4.0",
      "model_name": "ButtonModel",
      "state": {
       "description": "Previous",
       "disabled": true,
       "layout": "IPY_MODEL_b67b082baf36446b9cd7fe9bab8dc207",
       "style": "IPY_MODEL_3e9d8b07d4df4c0fb13d302d048c5966"
      }
     },
     "9233a139b275415382248d463a00ff14": {
      "model_module": "@jupyter-widgets/controls",
      "model_module_version": "1.4.0",
      "model_name": "HBoxModel",
      "state": {
       "children": [
        "IPY_MODEL_c9dbd4207cc94193b938716622460887",
        "IPY_MODEL_0672acf870814e61901bf5c50af4051f"
       ],
       "layout": "IPY_MODEL_8d11c0a542d2420d9a2f0a6de22fd83a"
      }
     },
     "92484593e87e477db3c253f39c63d33b": {
      "model_module": "@jupyter-widgets/controls",
      "model_module_version": "1.4.0",
      "model_name": "ButtonModel",
      "state": {
       "description": "Results",
       "layout": "IPY_MODEL_14c64b2ddb5d485db36ae6923303a519",
       "style": "IPY_MODEL_8841067f67cf428d853c7ea001c08f24"
      }
     },
     "924d2f3a21d645ea89f0c27d4bbe0740": {
      "model_module": "@jupyter-widgets/base",
      "model_module_version": "1.1.0",
      "model_name": "LayoutModel",
      "state": {
       "visibility": "hidden"
      }
     },
     "9266a89218624fb6b4635184c376c9f0": {
      "model_module": "@jupyter-widgets/controls",
      "model_module_version": "1.4.0",
      "model_name": "ButtonModel",
      "state": {
       "description": "Next",
       "disabled": true,
       "layout": "IPY_MODEL_a2b4322e95d7444596d0b917cdc170d4",
       "style": "IPY_MODEL_72914fb84ee94a71bfd4f4f74ea49d4c"
      }
     },
     "928ed63bc57b4b3098cb3460500a54d2": {
      "model_module": "@jupyter-widgets/controls",
      "model_module_version": "1.4.0",
      "model_name": "DescriptionStyleModel",
      "state": {
       "description_width": ""
      }
     },
     "929158add5d44daf8e0ae73941e41c02": {
      "model_module": "@jupyter-widgets/controls",
      "model_module_version": "1.4.0",
      "model_name": "DescriptionStyleModel",
      "state": {
       "description_width": ""
      }
     },
     "92a4632cd4c048c2a268cf99c35f5c7d": {
      "model_module": "@jupyter-widgets/controls",
      "model_module_version": "1.4.0",
      "model_name": "HTMLModel",
      "state": {
       "layout": "IPY_MODEL_013af81417c4473697ae87c5e0e22946",
       "style": "IPY_MODEL_85bbe816f42642a7be3b07e8bda15a39",
       "value": "None of the above"
      }
     },
     "92ee569da74d40ccb99a4cfeeadad2fa": {
      "model_module": "@jupyter-widgets/controls",
      "model_module_version": "1.4.0",
      "model_name": "ButtonStyleModel",
      "state": {}
     },
     "93122fa2eb914d24a78341c5de25532f": {
      "model_module": "@jupyter-widgets/controls",
      "model_module_version": "1.4.0",
      "model_name": "ButtonStyleModel",
      "state": {}
     },
     "93355ac7254d4e5895731ebee37c06fc": {
      "model_module": "@jupyter-widgets/controls",
      "model_module_version": "1.4.0",
      "model_name": "HTMLModel",
      "state": {
       "layout": "IPY_MODEL_70b92385c99d4737ab9fd0f7ca1d4c4f",
       "style": "IPY_MODEL_b0ee1cfc541042038c06912fe4ad886c",
       "value": "<img src=\"questions/qiskitintro_images/3.png\">"
      }
     },
     "9367c559e5a54b7f86f6a01992a7a483": {
      "model_module": "@jupyter-widgets/base",
      "model_module_version": "1.1.0",
      "model_name": "LayoutModel",
      "state": {
       "visibility": "visible"
      }
     },
     "937e04b51f434ddc94a5d6e0fdaf75a6": {
      "model_module": "@jupyter-widgets/controls",
      "model_module_version": "1.4.0",
      "model_name": "DescriptionStyleModel",
      "state": {
       "description_width": ""
      }
     },
     "938ae3e2c41d4e89b176f625c351c8fe": {
      "model_module": "@jupyter-widgets/controls",
      "model_module_version": "1.4.0",
      "model_name": "HBoxModel",
      "state": {
       "children": [
        "IPY_MODEL_31f04cabc39c4944b62f03d8ad5b521d",
        "IPY_MODEL_6806c1e5d59440e9898882b7c1356f93"
       ],
       "layout": "IPY_MODEL_6d269cbb999442b890a95218e13035eb"
      }
     },
     "939eed59720f4c97b2ac0ad2158c8698": {
      "model_module": "@jupyter-widgets/controls",
      "model_module_version": "1.4.0",
      "model_name": "HTMLModel",
      "state": {
       "layout": "IPY_MODEL_f162ba2dcedd419c89314638c2f7b441",
       "style": "IPY_MODEL_c3d9fa31be7043f0a8fbe2fd395ca297",
       "value": "Qubits in state <img src=\"http://latex.codecogs.com/svg.latex?\\vert0\\rangle\" border=\"0\"/> decay down to <img src=\"http://latex.codecogs.com/svg.latex?\\vert1\\rangle\" border=\"0\"/> before measurement. The decay time for <samp>qr[0]</samp> is longer than that for <samp>qr[1]</samp>."
      }
     },
     "93b769e165204fe0a4fbc8e25b0205ac": {
      "model_module": "@jupyter-widgets/controls",
      "model_module_version": "1.4.0",
      "model_name": "VBoxModel",
      "state": {
       "children": [
        "IPY_MODEL_d6f906f52a294e208b094d5075ffb894",
        "IPY_MODEL_af2223cff95840169630f4a28ee8ec5c"
       ],
       "layout": "IPY_MODEL_ad0ab6288a1549008eb3539543b9c73b"
      }
     },
     "93cc794eed9c40da8bd9b759fa3f2f1b": {
      "model_module": "@jupyter-widgets/controls",
      "model_module_version": "1.4.0",
      "model_name": "ButtonStyleModel",
      "state": {}
     },
     "93da83d6b02643b0a4d75af2dce1f7ff": {
      "model_module": "@jupyter-widgets/base",
      "model_module_version": "1.1.0",
      "model_name": "LayoutModel",
      "state": {}
     },
     "93fbb40875554edf956244886940f4fd": {
      "model_module": "@jupyter-widgets/base",
      "model_module_version": "1.1.0",
      "model_name": "LayoutModel",
      "state": {}
     },
     "94662fe1de4b4864b52481c79da429cc": {
      "model_module": "@jupyter-widgets/controls",
      "model_module_version": "1.4.0",
      "model_name": "DescriptionStyleModel",
      "state": {
       "description_width": ""
      }
     },
     "946cf605c6c04cce9ebbc36a379ad85c": {
      "model_module": "@jupyter-widgets/base",
      "model_module_version": "1.1.0",
      "model_name": "LayoutModel",
      "state": {}
     },
     "94a957ca86d44128969259449115401c": {
      "model_module": "@jupyter-widgets/controls",
      "model_module_version": "1.4.0",
      "model_name": "HTMLModel",
      "state": {
       "layout": "IPY_MODEL_5dea4420733c4b46be4707ccab8a32b5",
       "style": "IPY_MODEL_475ec83b980f4a9db640aa45b91c0d6a",
       "value": "<b>4</b>)&nbsp;&nbsp;"
      }
     },
     "94b4243402bc434fb2d890341444e714": {
      "model_module": "@jupyter-widgets/controls",
      "model_module_version": "1.4.0",
      "model_name": "DescriptionStyleModel",
      "state": {
       "description_width": ""
      }
     },
     "94d469e751d1485da89abf0c38539dae": {
      "model_module": "@jupyter-widgets/base",
      "model_module_version": "1.1.0",
      "model_name": "LayoutModel",
      "state": {}
     },
     "94e5bdc174e0413dbd80d71d36afe81c": {
      "model_module": "@jupyter-widgets/controls",
      "model_module_version": "1.4.0",
      "model_name": "HBoxModel",
      "state": {
       "children": [
        "IPY_MODEL_a760c8ff501b487fa27c68f5fa6a6e74",
        "IPY_MODEL_306d82854d8d44ef924792f14e0cc9ed"
       ],
       "layout": "IPY_MODEL_d608449d01cf46e69fd0075824735d5f"
      }
     },
     "94f99d8dcb824d24a94f728cbaf5f9c9": {
      "model_module": "@jupyter-widgets/base",
      "model_module_version": "1.1.0",
      "model_name": "LayoutModel",
      "state": {
       "visibility": "visible"
      }
     },
     "94fa19928b9b4103a64dfac9a3c0e705": {
      "model_module": "@jupyter-widgets/controls",
      "model_module_version": "1.4.0",
      "model_name": "ButtonStyleModel",
      "state": {}
     },
     "94fa5f2e895c46ea863b59e55f43fc05": {
      "model_module": "@jupyter-widgets/base",
      "model_module_version": "1.1.0",
      "model_name": "LayoutModel",
      "state": {}
     },
     "9501728923234c98a2f14d940cada0c5": {
      "model_module": "@jupyter-widgets/controls",
      "model_module_version": "1.4.0",
      "model_name": "DescriptionStyleModel",
      "state": {
       "description_width": ""
      }
     },
     "9534b64182e04734b99be24737868bec": {
      "model_module": "@jupyter-widgets/controls",
      "model_module_version": "1.4.0",
      "model_name": "ButtonStyleModel",
      "state": {}
     },
     "955a30408abd41e2b418c9b2482914e0": {
      "model_module": "@jupyter-widgets/base",
      "model_module_version": "1.1.0",
      "model_name": "LayoutModel",
      "state": {}
     },
     "9569dbff961a49bd9d43067426237d08": {
      "model_module": "@jupyter-widgets/base",
      "model_module_version": "1.1.0",
      "model_name": "LayoutModel",
      "state": {
       "margin": "20px",
       "visibility": "visible"
      }
     },
     "956ea6375ba44d149701ca441cf38b97": {
      "model_module": "@jupyter-widgets/controls",
      "model_module_version": "1.4.0",
      "model_name": "DescriptionStyleModel",
      "state": {
       "description_width": ""
      }
     },
     "95a664ff413b413997ff370c523608cb": {
      "model_module": "@jupyter-widgets/controls",
      "model_module_version": "1.4.0",
      "model_name": "VBoxModel",
      "state": {
       "children": [
        "IPY_MODEL_3a8f516316bd4d86a8a4199f005f8c32",
        "IPY_MODEL_1f07d0e89f0e4823ac144800042009d3"
       ],
       "layout": "IPY_MODEL_eedc5294ff704428b212864c1b6c1267"
      }
     },
     "95a8d6e5fa304c1fab830fc8e1ac74c3": {
      "model_module": "@jupyter-widgets/base",
      "model_module_version": "1.1.0",
      "model_name": "LayoutModel",
      "state": {}
     },
     "95cfe09bce1746478fd6961b721f1553": {
      "model_module": "@jupyter-widgets/controls",
      "model_module_version": "1.4.0",
      "model_name": "DescriptionStyleModel",
      "state": {
       "description_width": ""
      }
     },
     "95fb627f82cb4aef97bf0e459fca21ff": {
      "model_module": "@jupyter-widgets/controls",
      "model_module_version": "1.4.0",
      "model_name": "VBoxModel",
      "state": {
       "children": [
        "IPY_MODEL_f933405aa2924dd790220ec7161b2660",
        "IPY_MODEL_187f23ae96b247a8b228e75901cc1aa2",
        "IPY_MODEL_c4b2dfd6d335439da3bb3a7acfa24a2f",
        "IPY_MODEL_76b7730ff1ea455886e876025d66ab02",
        "IPY_MODEL_0543f873d5664d3493db70c2a13b73ca",
        "IPY_MODEL_748bca0be7ba4977ac673cefad898408",
        "IPY_MODEL_6b917c5500b34b0aa9689c4d532f5e89",
        "IPY_MODEL_ee01d3f3a917435892c6c36180da4a9e",
        "IPY_MODEL_1f966cd2a75242ec97d88c4c6d054896"
       ],
       "layout": "IPY_MODEL_9707da95183c40dd8f7f0bf812c9a52b"
      }
     },
     "960ed5a460be49468b6868f383f088f7": {
      "model_module": "@jupyter-widgets/output",
      "model_module_version": "1.0.0",
      "model_name": "OutputModel",
      "state": {
       "layout": "IPY_MODEL_699241948d044403b9820b924aa7a8a9"
      }
     },
     "9622343b597143e68acdbd2face144a4": {
      "model_module": "@jupyter-widgets/base",
      "model_module_version": "1.1.0",
      "model_name": "LayoutModel",
      "state": {
       "visibility": "hidden"
      }
     },
     "9660f76b8308473788509f91f9420b55": {
      "model_module": "@jupyter-widgets/base",
      "model_module_version": "1.1.0",
      "model_name": "LayoutModel",
      "state": {
       "margin": "20px",
       "visibility": "visible"
      }
     },
     "967731cb7d13456d96db4696b36d63ad": {
      "model_module": "@jupyter-widgets/controls",
      "model_module_version": "1.4.0",
      "model_name": "HTMLModel",
      "state": {
       "layout": "IPY_MODEL_ff6f4986dd8c4e83a634e83d64327142",
       "style": "IPY_MODEL_57d8ab58d6d14419863d7febd1f8db7d",
       "value": "<b>2</b>)&nbsp;&nbsp;"
      }
     },
     "967cd46d0ce14b36bd61e1f201e93a02": {
      "model_module": "@jupyter-widgets/controls",
      "model_module_version": "1.4.0",
      "model_name": "HTMLModel",
      "state": {
       "layout": "IPY_MODEL_36e5907556e04c62a6c909fe26412556",
       "style": "IPY_MODEL_94662fe1de4b4864b52481c79da429cc",
       "value": "All of the above"
      }
     },
     "96c3faa1f15a4326a3871092cffd14c3": {
      "model_module": "@jupyter-widgets/controls",
      "model_module_version": "1.4.0",
      "model_name": "ButtonStyleModel",
      "state": {}
     },
     "96dbee58089a4d2c9a0544b83e73f9ae": {
      "model_module": "@jupyter-widgets/base",
      "model_module_version": "1.1.0",
      "model_name": "LayoutModel",
      "state": {}
     },
     "96debe71566e4258bed393c0c82a0bc3": {
      "model_module": "@jupyter-widgets/base",
      "model_module_version": "1.1.0",
      "model_name": "LayoutModel",
      "state": {}
     },
     "9707da95183c40dd8f7f0bf812c9a52b": {
      "model_module": "@jupyter-widgets/base",
      "model_module_version": "1.1.0",
      "model_name": "LayoutModel",
      "state": {}
     },
     "971787ae1edb476ea0c9bf38db12808a": {
      "model_module": "@jupyter-widgets/controls",
      "model_module_version": "1.4.0",
      "model_name": "ButtonModel",
      "state": {
       "description": "Results",
       "layout": "IPY_MODEL_83c7ce8ce0f34466a7a2dac4ec2ad814",
       "style": "IPY_MODEL_1d2990ec9025413697fc5a894c636e7b"
      }
     },
     "978594e35d7740f28e3e980fa0a7444f": {
      "model_module": "@jupyter-widgets/controls",
      "model_module_version": "1.4.0",
      "model_name": "HTMLModel",
      "state": {
       "layout": "IPY_MODEL_be250fae67324f24a30dd47a97b7ce92",
       "style": "IPY_MODEL_3856c566ed6941f4bf3f93b23bb70737",
       "value": "12"
      }
     },
     "97c29d2619864101b88eb4f718a5b417": {
      "model_module": "@jupyter-widgets/controls",
      "model_module_version": "1.4.0",
      "model_name": "DescriptionStyleModel",
      "state": {
       "description_width": ""
      }
     },
     "97d78dac6da443c4b5c027306c249d7e": {
      "model_module": "@jupyter-widgets/controls",
      "model_module_version": "1.4.0",
      "model_name": "DescriptionStyleModel",
      "state": {
       "description_width": ""
      }
     },
     "97f29d96bcb84bd386335fb438b19ebe": {
      "model_module": "@jupyter-widgets/controls",
      "model_module_version": "1.4.0",
      "model_name": "HBoxModel",
      "state": {
       "children": [
        "IPY_MODEL_d8ae400b60014e93b5326929fc6635b8",
        "IPY_MODEL_8bc41293406b47ab9abe0be4b697efd7",
        "IPY_MODEL_6cecfaaf328740798508834067f286d8",
        "IPY_MODEL_08dc842f880b40d9ab357827a77462dc",
        "IPY_MODEL_839a336274bf4ada883c08663511d1c2",
        "IPY_MODEL_ae3a55f9ce2743468bfcd34b5343efcd"
       ],
       "layout": "IPY_MODEL_dad05d85dc484b8fa90deaae89acc6f9"
      }
     },
     "97f2cd6a0185434ca35bf904dcffd2bc": {
      "model_module": "@jupyter-widgets/controls",
      "model_module_version": "1.4.0",
      "model_name": "ButtonStyleModel",
      "state": {}
     },
     "9802e5ec52914acbb9a0e3c0d7130092": {
      "model_module": "@jupyter-widgets/controls",
      "model_module_version": "1.4.0",
      "model_name": "ButtonStyleModel",
      "state": {}
     },
     "980864204f40415f995246cace91cd4e": {
      "model_module": "@jupyter-widgets/controls",
      "model_module_version": "1.4.0",
      "model_name": "DescriptionStyleModel",
      "state": {
       "description_width": ""
      }
     },
     "9844687a1c9f4cac85b1969bea6106b3": {
      "model_module": "@jupyter-widgets/controls",
      "model_module_version": "1.4.0",
      "model_name": "HTMLModel",
      "state": {
       "layout": "IPY_MODEL_a93c61d82efe446c85937182f118d59d",
       "style": "IPY_MODEL_3be24f2245cf47d0a43ba0c0c1f94b38",
       "value": "<b>3</b>)&nbsp;&nbsp;"
      }
     },
     "9864c215972c45d4b1e02766adf7919d": {
      "model_module": "@jupyter-widgets/controls",
      "model_module_version": "1.4.0",
      "model_name": "ButtonStyleModel",
      "state": {}
     },
     "9902a2d9559b485db06ce72d23e23a60": {
      "model_module": "@jupyter-widgets/base",
      "model_module_version": "1.1.0",
      "model_name": "LayoutModel",
      "state": {
       "visibility": "hidden"
      }
     },
     "990a747b500f4d77980fc9719dc561bc": {
      "model_module": "@jupyter-widgets/controls",
      "model_module_version": "1.4.0",
      "model_name": "DescriptionStyleModel",
      "state": {
       "description_width": ""
      }
     },
     "993fd16e390b4eb7b17ebd31aa3fc0cb": {
      "model_module": "@jupyter-widgets/base",
      "model_module_version": "1.1.0",
      "model_name": "LayoutModel",
      "state": {}
     },
     "9962d7e9b7eb4cd1bf666f29abc96af8": {
      "model_module": "@jupyter-widgets/controls",
      "model_module_version": "1.4.0",
      "model_name": "DescriptionStyleModel",
      "state": {
       "description_width": ""
      }
     },
     "9975e712fe9a433c82feac821c177c41": {
      "model_module": "@jupyter-widgets/controls",
      "model_module_version": "1.4.0",
      "model_name": "HTMLModel",
      "state": {
       "layout": "IPY_MODEL_fa5a2bcf216c4040a43ad08d296c5782",
       "style": "IPY_MODEL_f915513d726e410aa91a678b5ac74000",
       "value": "<img src=\"http://latex.codecogs.com/svg.latex?\\frac{\\vert0\\rangle+\\vert1\\rangle}{\\sqrt{2}}\" border=\"0\"/>"
      }
     },
     "9985db50b7ac4e73b67e604219f816f8": {
      "model_module": "@jupyter-widgets/base",
      "model_module_version": "1.1.0",
      "model_name": "LayoutModel",
      "state": {}
     },
     "9991718997c44e4bb51653b86bbc96b4": {
      "model_module": "@jupyter-widgets/base",
      "model_module_version": "1.1.0",
      "model_name": "LayoutModel",
      "state": {}
     },
     "99b5b47b7b40424b995f1962f3ee7362": {
      "model_module": "@jupyter-widgets/base",
      "model_module_version": "1.1.0",
      "model_name": "LayoutModel",
      "state": {}
     },
     "99c1dfce07554ed8adbc0f9572ce3c82": {
      "model_module": "@jupyter-widgets/controls",
      "model_module_version": "1.4.0",
      "model_name": "DescriptionStyleModel",
      "state": {
       "description_width": ""
      }
     },
     "99d4d1f75cbd4d14bcbcfad1c71af82d": {
      "model_module": "@jupyter-widgets/controls",
      "model_module_version": "1.4.0",
      "model_name": "HTMLModel",
      "state": {
       "layout": "IPY_MODEL_19941b6fbd0148a2bfbee601e5a26802",
       "style": "IPY_MODEL_d4cd7eddfe5c4e7b8bf587f1d641dffa"
      }
     },
     "99f00203a3664b4baf189e6ab1928ccc": {
      "model_module": "@jupyter-widgets/controls",
      "model_module_version": "1.4.0",
      "model_name": "ButtonStyleModel",
      "state": {}
     },
     "99f551d0aeed4fb3a67527096f6b7569": {
      "model_module": "@jupyter-widgets/controls",
      "model_module_version": "1.4.0",
      "model_name": "ButtonStyleModel",
      "state": {}
     },
     "9a3aab4bd2a842d185ab36b2a04ad892": {
      "model_module": "@jupyter-widgets/controls",
      "model_module_version": "1.4.0",
      "model_name": "DescriptionStyleModel",
      "state": {
       "description_width": ""
      }
     },
     "9a61a86f93804c0f8b290fee12fb8554": {
      "model_module": "@jupyter-widgets/controls",
      "model_module_version": "1.4.0",
      "model_name": "HBoxModel",
      "state": {
       "children": [
        "IPY_MODEL_ce3bb45b8af44537b5d24ced7ebb97d3",
        "IPY_MODEL_0633938dfc454887a893069db7ca8ca4"
       ],
       "layout": "IPY_MODEL_3e67e8592b974255b555cf62f48a9d88"
      }
     },
     "9a6ff3eb7882493c8ae6721d1ad7c734": {
      "model_module": "@jupyter-widgets/controls",
      "model_module_version": "1.4.0",
      "model_name": "HTMLModel",
      "state": {
       "layout": "IPY_MODEL_d01d5bdbd0c34fee9f6e7c31c557480b",
       "style": "IPY_MODEL_cb809f84d8b048bcab7c899460d8c606",
       "value": "<b>4</b>)&nbsp;&nbsp;"
      }
     },
     "9a748e3d25fa4cee8fc2bcedb9df14af": {
      "model_module": "@jupyter-widgets/base",
      "model_module_version": "1.1.0",
      "model_name": "LayoutModel",
      "state": {
       "visibility": "hidden"
      }
     },
     "9ab9e04828ba4451b78388914b957b7a": {
      "model_module": "@jupyter-widgets/controls",
      "model_module_version": "1.4.0",
      "model_name": "VBoxModel",
      "state": {
       "children": [
        "IPY_MODEL_ff6d5d0b454746fd82dcd9c663693543",
        "IPY_MODEL_fd77ce87a2c340a5b333303807d8795e"
       ],
       "layout": "IPY_MODEL_66f748807b1a4f599c5356cf2a9a6ed8"
      }
     },
     "9ad264d26c7e4762999f78202c664564": {
      "model_module": "@jupyter-widgets/controls",
      "model_module_version": "1.4.0",
      "model_name": "ButtonModel",
      "state": {
       "description": "5",
       "layout": "IPY_MODEL_f69c40238cb44bb7a504f984b891c6c7",
       "style": "IPY_MODEL_6d404174209149bcb72b9a5a22c25852"
      }
     },
     "9b12c2a3c4fc43c184a58678acb7b442": {
      "model_module": "@jupyter-widgets/base",
      "model_module_version": "1.1.0",
      "model_name": "LayoutModel",
      "state": {}
     },
     "9b6678b42895412fb46cad7bcbbe4c10": {
      "model_module": "@jupyter-widgets/controls",
      "model_module_version": "1.4.0",
      "model_name": "DescriptionStyleModel",
      "state": {
       "description_width": ""
      }
     },
     "9b9c35629b124f318ccdb852e2de438f": {
      "model_module": "@jupyter-widgets/base",
      "model_module_version": "1.1.0",
      "model_name": "LayoutModel",
      "state": {
       "margin": "20px",
       "visibility": "visible"
      }
     },
     "9bc9c28771204cec8ccd2ef9cd9f4dc8": {
      "model_module": "@jupyter-widgets/controls",
      "model_module_version": "1.4.0",
      "model_name": "ButtonModel",
      "state": {
       "description": "4",
       "layout": "IPY_MODEL_2c0057eeafd14a1ca73f5afd5b4dfaa5",
       "style": "IPY_MODEL_e24bc291d99644dba9fffc5acf9e4ca0"
      }
     },
     "9bce288927a74d508d1713d1d043680b": {
      "model_module": "@jupyter-widgets/base",
      "model_module_version": "1.1.0",
      "model_name": "LayoutModel",
      "state": {}
     },
     "9be91ab5de5a49fb97adb5748c0a5e63": {
      "model_module": "@jupyter-widgets/base",
      "model_module_version": "1.1.0",
      "model_name": "LayoutModel",
      "state": {
       "visibility": "hidden"
      }
     },
     "9befe082e2a648f3b1d0785350762d74": {
      "model_module": "@jupyter-widgets/base",
      "model_module_version": "1.1.0",
      "model_name": "LayoutModel",
      "state": {
       "margin": "20px",
       "visibility": "visible"
      }
     },
     "9bfefd32b06d4778a9e8fed387a3a431": {
      "model_module": "@jupyter-widgets/controls",
      "model_module_version": "1.4.0",
      "model_name": "HTMLModel",
      "state": {
       "layout": "IPY_MODEL_49330753f1a34b0782117bc2f2a9e62c",
       "style": "IPY_MODEL_ddbb646593d04e4aa75159e1aa02cc1f",
       "value": "<img src=\"http://latex.codecogs.com/svg.latex?\\frac{\\vert0\\rangle-\\vert1\\rangle}{\\sqrt{2}}\" border=\"0\"/>"
      }
     },
     "9c152640293d42729f7a5b27e112869b": {
      "model_module": "@jupyter-widgets/base",
      "model_module_version": "1.1.0",
      "model_name": "LayoutModel",
      "state": {}
     },
     "9c2229aeeabe49d3a28873521fc517b6": {
      "model_module": "@jupyter-widgets/controls",
      "model_module_version": "1.4.0",
      "model_name": "HBoxModel",
      "state": {
       "children": [
        "IPY_MODEL_579bbd73cfd342c49dd8aa5d7e212093",
        "IPY_MODEL_69eb00d6c8794e809a182d4644b5bf3a",
        "IPY_MODEL_9266a89218624fb6b4635184c376c9f0"
       ],
       "layout": "IPY_MODEL_264b0f62bc814245970e8a8f70344a7f"
      }
     },
     "9c3b385606bb4e4e804b0914d910ef6b": {
      "model_module": "@jupyter-widgets/controls",
      "model_module_version": "1.4.0",
      "model_name": "DescriptionStyleModel",
      "state": {
       "description_width": ""
      }
     },
     "9c451a27067f4557a75b82fa707bd893": {
      "model_module": "@jupyter-widgets/controls",
      "model_module_version": "1.4.0",
      "model_name": "DescriptionStyleModel",
      "state": {
       "description_width": ""
      }
     },
     "9c45cace1ebe42ffbe92fc325cd4fda2": {
      "model_module": "@jupyter-widgets/controls",
      "model_module_version": "1.4.0",
      "model_name": "HBoxModel",
      "state": {
       "children": [
        "IPY_MODEL_f6823c26af084f0bb41e375db228bc9f",
        "IPY_MODEL_2f96deaa5e1a482fa391642c959514cb",
        "IPY_MODEL_ffb64431207548e08500c8f179103499",
        "IPY_MODEL_0e2021e7b3ca459184c10427a525bc41",
        "IPY_MODEL_d8715ced003843ef8f0b9de84ee6acfd",
        "IPY_MODEL_cf17b919992947379c3d2b13f696a982"
       ],
       "layout": "IPY_MODEL_0dfc182945bc479fac45b6cd46227c5c"
      }
     },
     "9c4b6c3f35e74c88bd2bbd3409ae24b9": {
      "model_module": "@jupyter-widgets/base",
      "model_module_version": "1.1.0",
      "model_name": "LayoutModel",
      "state": {}
     },
     "9c7ddda0f948423f847f5d8a61d62db9": {
      "model_module": "@jupyter-widgets/base",
      "model_module_version": "1.1.0",
      "model_name": "LayoutModel",
      "state": {}
     },
     "9c842d3222e74811bdae9448ed32d5e7": {
      "model_module": "@jupyter-widgets/controls",
      "model_module_version": "1.4.0",
      "model_name": "ButtonStyleModel",
      "state": {}
     },
     "9d226a0713524d17bc3a50c24131ae4b": {
      "model_module": "@jupyter-widgets/controls",
      "model_module_version": "1.4.0",
      "model_name": "ButtonStyleModel",
      "state": {}
     },
     "9d25d8b92fa043889f979400990ee0da": {
      "model_module": "@jupyter-widgets/controls",
      "model_module_version": "1.4.0",
      "model_name": "HTMLModel",
      "state": {
       "layout": "IPY_MODEL_446b2406d7a548179bc3b480a589f4d6",
       "style": "IPY_MODEL_f67d21be35ea42949b22fb3d96627dee",
       "value": "<h1>\n       <h4>Understanding the calibration matrix<br/><br/></h4>\n<img src=\"questions/ignis_images/calib.png\"> \n<h5>The image above shows the calibration matrix for two qubits. What kind of noise caused this?</h5>\n<h5>Remember that a short decay time means more of the noise can be expected to have happened.</h5>\n       </h1>"
      }
     },
     "9d41a27ca8864af7b37f4877b7dd32ad": {
      "model_module": "@jupyter-widgets/base",
      "model_module_version": "1.1.0",
      "model_name": "LayoutModel",
      "state": {}
     },
     "9d518b7c2607413eb2c0187859916ce4": {
      "model_module": "@jupyter-widgets/controls",
      "model_module_version": "1.4.0",
      "model_name": "DescriptionStyleModel",
      "state": {
       "description_width": ""
      }
     },
     "9db1c39b3532409c94c019a5d6e9f291": {
      "model_module": "@jupyter-widgets/controls",
      "model_module_version": "1.4.0",
      "model_name": "DescriptionStyleModel",
      "state": {
       "description_width": ""
      }
     },
     "9db573a07fa1497eac1c149e599e6307": {
      "model_module": "@jupyter-widgets/base",
      "model_module_version": "1.1.0",
      "model_name": "LayoutModel",
      "state": {}
     },
     "9dbbca82d0fb47ffb3e7755be157e3de": {
      "model_module": "@jupyter-widgets/controls",
      "model_module_version": "1.4.0",
      "model_name": "HBoxModel",
      "state": {
       "children": [
        "IPY_MODEL_7b9d0993b44c4f95b4ee56a45cea4a26",
        "IPY_MODEL_1b5f4993595049299b320b3acddae798"
       ],
       "layout": "IPY_MODEL_5356704dd3f64e98a53d06f7856eedc3"
      }
     },
     "9ddd5e16a94a424289d7f90535d0855f": {
      "model_module": "@jupyter-widgets/controls",
      "model_module_version": "1.4.0",
      "model_name": "DescriptionStyleModel",
      "state": {
       "description_width": ""
      }
     },
     "9e0dfc3159b545f5b0203fc9142bcbe4": {
      "model_module": "@jupyter-widgets/controls",
      "model_module_version": "1.4.0",
      "model_name": "DescriptionStyleModel",
      "state": {
       "description_width": ""
      }
     },
     "9e6a9dee348f49d791ece8d8dbbe66c1": {
      "model_module": "@jupyter-widgets/controls",
      "model_module_version": "1.4.0",
      "model_name": "HTMLModel",
      "state": {
       "layout": "IPY_MODEL_763fd5b089974a8c92d4c33b9bef4b16",
       "style": "IPY_MODEL_b59a585c333d443d970b96c1c6d56402",
       "value": "A library of quantum algorithms"
      }
     },
     "9e7889c5c623412d856a88b74060f8f5": {
      "model_module": "@jupyter-widgets/base",
      "model_module_version": "1.1.0",
      "model_name": "LayoutModel",
      "state": {}
     },
     "9e9a9c4bd5334da8929bb67cb75bba82": {
      "model_module": "@jupyter-widgets/base",
      "model_module_version": "1.1.0",
      "model_name": "LayoutModel",
      "state": {}
     },
     "9ebcc2e82d5a4a70a725f49ae16a902d": {
      "model_module": "@jupyter-widgets/controls",
      "model_module_version": "1.4.0",
      "model_name": "HTMLModel",
      "state": {
       "layout": "IPY_MODEL_d2711771fc0c4fbeb02bd6a48cec2371",
       "style": "IPY_MODEL_bc9350cfe92849ecba5b42d98abaf929",
       "value": "<b>1</b>)&nbsp;&nbsp;"
      }
     },
     "9ecf1548e18442468adab88e927b4e7e": {
      "model_module": "@jupyter-widgets/base",
      "model_module_version": "1.1.0",
      "model_name": "LayoutModel",
      "state": {
       "visibility": "hidden"
      }
     },
     "9ed57a0bec104e93bf302b6729580f62": {
      "model_module": "@jupyter-widgets/controls",
      "model_module_version": "1.4.0",
      "model_name": "ButtonStyleModel",
      "state": {}
     },
     "9ed92d5c49064638975d6290d8fa96d8": {
      "model_module": "@jupyter-widgets/base",
      "model_module_version": "1.1.0",
      "model_name": "LayoutModel",
      "state": {}
     },
     "9ef9498682a74c059a9c64b958ce6137": {
      "model_module": "@jupyter-widgets/controls",
      "model_module_version": "1.4.0",
      "model_name": "HTMLModel",
      "state": {
       "layout": "IPY_MODEL_51619db9a8004c0a85dd698a794029ca",
       "style": "IPY_MODEL_a2e35a25b37c43d6990e2950afbdeb04",
       "value": "<b>4</b>)&nbsp;&nbsp;"
      }
     },
     "9f00aeb5e61e43ab84a8fe602f14da14": {
      "model_module": "@jupyter-widgets/controls",
      "model_module_version": "1.4.0",
      "model_name": "ButtonStyleModel",
      "state": {}
     },
     "9f347114282147f4a7a0a74fe49c0c7f": {
      "model_module": "@jupyter-widgets/controls",
      "model_module_version": "1.4.0",
      "model_name": "HTMLModel",
      "state": {
       "layout": "IPY_MODEL_1ed378ec6023434ca878c5cb26587e09",
       "style": "IPY_MODEL_0b52a8b420114d44b23264400e736bfb",
       "value": "None of the above"
      }
     },
     "9f72c76514ee43c2a8df7c4ff3f68958": {
      "model_module": "@jupyter-widgets/base",
      "model_module_version": "1.1.0",
      "model_name": "LayoutModel",
      "state": {}
     },
     "9f76ff98361e4780af8a926f08227841": {
      "model_module": "@jupyter-widgets/base",
      "model_module_version": "1.1.0",
      "model_name": "LayoutModel",
      "state": {
       "visibility": "hidden"
      }
     },
     "9f85ddcbd9974010b4761a4c3771c69b": {
      "model_module": "@jupyter-widgets/base",
      "model_module_version": "1.1.0",
      "model_name": "LayoutModel",
      "state": {
       "visibility": "visible"
      }
     },
     "9fa5cacdc8c847a5b96ad930df88b10e": {
      "model_module": "@jupyter-widgets/controls",
      "model_module_version": "1.4.0",
      "model_name": "HTMLModel",
      "state": {
       "layout": "IPY_MODEL_0db6f92659d442e9bcafc89b5300aca6",
       "style": "IPY_MODEL_3ea58aa91f4d410891fd9892fb02cd86",
       "value": "<b>1</b>)&nbsp;&nbsp;"
      }
     },
     "9fe0157e75e14d64971cee96d2f35ef1": {
      "model_module": "@jupyter-widgets/base",
      "model_module_version": "1.1.0",
      "model_name": "LayoutModel",
      "state": {}
     },
     "9ff535d67fbd477fa956f121e593f69c": {
      "model_module": "@jupyter-widgets/controls",
      "model_module_version": "1.4.0",
      "model_name": "ButtonModel",
      "state": {
       "description": "Results",
       "layout": "IPY_MODEL_60c31244c1f048d5ab38e6533c7d7483",
       "style": "IPY_MODEL_8635f106e54949f3b09d0ccc0a077475"
      }
     },
     "a0265d61b7334fbab81056685def4905": {
      "model_module": "@jupyter-widgets/controls",
      "model_module_version": "1.4.0",
      "model_name": "ButtonModel",
      "state": {
       "description": "5",
       "layout": "IPY_MODEL_674c1f5c9b4b45a183f1db88fd6b145e",
       "style": "IPY_MODEL_f216c8087c0a49a08e02082b829c81c5"
      }
     },
     "a04871923d4a4a5999d8e80711bf18a5": {
      "model_module": "@jupyter-widgets/controls",
      "model_module_version": "1.4.0",
      "model_name": "ButtonStyleModel",
      "state": {}
     },
     "a05f5ef4344b45d29230c726fca51ad8": {
      "model_module": "@jupyter-widgets/base",
      "model_module_version": "1.1.0",
      "model_name": "LayoutModel",
      "state": {}
     },
     "a0915472b7514ea5bab2f247a698278f": {
      "model_module": "@jupyter-widgets/controls",
      "model_module_version": "1.4.0",
      "model_name": "HTMLModel",
      "state": {
       "layout": "IPY_MODEL_189da4e64d434d0cbd168d4904783dbc",
       "style": "IPY_MODEL_7f33d2a856fa426ba1c06eaeaa1afc28",
       "value": "<b>2</b>)&nbsp;&nbsp;"
      }
     },
     "a0a8d2a1fa2b47998ea4fb79f7ca81ee": {
      "model_module": "@jupyter-widgets/base",
      "model_module_version": "1.1.0",
      "model_name": "LayoutModel",
      "state": {}
     },
     "a0cbee462b9b4b81a3e0f3d385bcb2f6": {
      "model_module": "@jupyter-widgets/controls",
      "model_module_version": "1.4.0",
      "model_name": "DescriptionStyleModel",
      "state": {
       "description_width": ""
      }
     },
     "a0e1b2f109874328a1e3368a054dab11": {
      "model_module": "@jupyter-widgets/base",
      "model_module_version": "1.1.0",
      "model_name": "LayoutModel",
      "state": {
       "margin": "20px",
       "visibility": "visible"
      }
     },
     "a118cdda61424469b0761b20c1aea316": {
      "model_module": "@jupyter-widgets/controls",
      "model_module_version": "1.4.0",
      "model_name": "DescriptionStyleModel",
      "state": {
       "description_width": ""
      }
     },
     "a12638b91c90428886c1a07a171195c3": {
      "model_module": "@jupyter-widgets/controls",
      "model_module_version": "1.4.0",
      "model_name": "DescriptionStyleModel",
      "state": {
       "description_width": ""
      }
     },
     "a15e9eb99ae54edb8e57d4d9f0a6b524": {
      "model_module": "@jupyter-widgets/base",
      "model_module_version": "1.1.0",
      "model_name": "LayoutModel",
      "state": {}
     },
     "a17e866a7c9944d1aef4c8bdc0903d80": {
      "model_module": "@jupyter-widgets/base",
      "model_module_version": "1.1.0",
      "model_name": "LayoutModel",
      "state": {}
     },
     "a180fe25ea134b9b948f2e6431ddaac2": {
      "model_module": "@jupyter-widgets/base",
      "model_module_version": "1.1.0",
      "model_name": "LayoutModel",
      "state": {}
     },
     "a190095f6d84452ba0c82cbbce172892": {
      "model_module": "@jupyter-widgets/base",
      "model_module_version": "1.1.0",
      "model_name": "LayoutModel",
      "state": {}
     },
     "a1b5ac7d372648318bf83bdef26abae6": {
      "model_module": "@jupyter-widgets/base",
      "model_module_version": "1.1.0",
      "model_name": "LayoutModel",
      "state": {}
     },
     "a1cd83eb55274e33be12bbd4475a7282": {
      "model_module": "@jupyter-widgets/controls",
      "model_module_version": "1.4.0",
      "model_name": "DescriptionStyleModel",
      "state": {
       "description_width": ""
      }
     },
     "a245e5c4070c43c2ab0d516cca5e68de": {
      "model_module": "@jupyter-widgets/controls",
      "model_module_version": "1.4.0",
      "model_name": "ButtonStyleModel",
      "state": {}
     },
     "a26ca28a37c24e878772f301a8ac1f73": {
      "model_module": "@jupyter-widgets/controls",
      "model_module_version": "1.4.0",
      "model_name": "DescriptionStyleModel",
      "state": {
       "description_width": ""
      }
     },
     "a26db3721ae3450eb10df2a3a476cbb0": {
      "model_module": "@jupyter-widgets/base",
      "model_module_version": "1.1.0",
      "model_name": "LayoutModel",
      "state": {
       "margin": "20px",
       "visibility": "visible"
      }
     },
     "a27c68e3b21f4c6dbc1094e8f2a7689d": {
      "model_module": "@jupyter-widgets/base",
      "model_module_version": "1.1.0",
      "model_name": "LayoutModel",
      "state": {}
     },
     "a2984dc4d2ea42c8bcff966f97644311": {
      "model_module": "@jupyter-widgets/controls",
      "model_module_version": "1.4.0",
      "model_name": "HBoxModel",
      "state": {
       "children": [
        "IPY_MODEL_48960c16d91a4a0fae6e0dae65fbae9a",
        "IPY_MODEL_3a74e8dfdc134729bcc020293ad7afd4"
       ],
       "layout": "IPY_MODEL_b9a117a2638a48ceab42e7a0bd5ccd8e"
      }
     },
     "a2a45b5e365b47378845095d590bd196": {
      "model_module": "@jupyter-widgets/controls",
      "model_module_version": "1.4.0",
      "model_name": "ButtonStyleModel",
      "state": {}
     },
     "a2b41a98c50045aa9eb51994228333f5": {
      "model_module": "@jupyter-widgets/base",
      "model_module_version": "1.1.0",
      "model_name": "LayoutModel",
      "state": {}
     },
     "a2b4322e95d7444596d0b917cdc170d4": {
      "model_module": "@jupyter-widgets/base",
      "model_module_version": "1.1.0",
      "model_name": "LayoutModel",
      "state": {}
     },
     "a2e1fcf1f10d407b99944777fa9477c7": {
      "model_module": "@jupyter-widgets/base",
      "model_module_version": "1.1.0",
      "model_name": "LayoutModel",
      "state": {
       "visibility": "visible"
      }
     },
     "a2e35a25b37c43d6990e2950afbdeb04": {
      "model_module": "@jupyter-widgets/controls",
      "model_module_version": "1.4.0",
      "model_name": "DescriptionStyleModel",
      "state": {
       "description_width": ""
      }
     },
     "a356e8af755a4571a0714f18b4541b6c": {
      "model_module": "@jupyter-widgets/controls",
      "model_module_version": "1.4.0",
      "model_name": "HBoxModel",
      "state": {
       "children": [
        "IPY_MODEL_ebd76a2bb95b4f9982ddbf43ac262071",
        "IPY_MODEL_b4f11935c1cc49feab1bd93680771e9b"
       ],
       "layout": "IPY_MODEL_2257791f4ea94b879892c827ba933bfe"
      }
     },
     "a36eb94d4e0e407f8d72ff160e730dd6": {
      "model_module": "@jupyter-widgets/controls",
      "model_module_version": "1.4.0",
      "model_name": "ButtonStyleModel",
      "state": {}
     },
     "a3983025f6ec4a6fb2e4f3c1f4816e71": {
      "model_module": "@jupyter-widgets/controls",
      "model_module_version": "1.4.0",
      "model_name": "HBoxModel",
      "state": {
       "children": [
        "IPY_MODEL_e9d382888b4143cebbdcdfac78b4d70f",
        "IPY_MODEL_1d5772c54af240eca5741f7a089bdd42"
       ],
       "layout": "IPY_MODEL_4aa54ba0e18a42d59db4c5780571f0b4"
      }
     },
     "a3aab1c89374405eb347c316b703a7c9": {
      "model_module": "@jupyter-widgets/controls",
      "model_module_version": "1.4.0",
      "model_name": "HTMLModel",
      "state": {
       "layout": "IPY_MODEL_13f70bc1ea4b4e7baa1f0021d17cc86e",
       "style": "IPY_MODEL_863147bca0ef4751a41f0525d27a5ac4",
       "value": "<b>3</b>)&nbsp;&nbsp;"
      }
     },
     "a3d03d62e06a4c89b379600972257e79": {
      "model_module": "@jupyter-widgets/base",
      "model_module_version": "1.1.0",
      "model_name": "LayoutModel",
      "state": {
       "margin": "20px",
       "visibility": "visible"
      }
     },
     "a3df66a3c6db4a41b200ee2165f7883c": {
      "model_module": "@jupyter-widgets/controls",
      "model_module_version": "1.4.0",
      "model_name": "HTMLModel",
      "state": {
       "layout": "IPY_MODEL_e9e7a27d19144c09bf08b8376cc7eb7f",
       "style": "IPY_MODEL_7b28beac796342819f4cb81ae6e4e4a2"
      }
     },
     "a42fdb42dd204388958d1b1f6fd830a2": {
      "model_module": "@jupyter-widgets/base",
      "model_module_version": "1.1.0",
      "model_name": "LayoutModel",
      "state": {
       "margin": "20px",
       "visibility": "visible"
      }
     },
     "a471d50bb0e1466494e12bdcd13078e6": {
      "model_module": "@jupyter-widgets/base",
      "model_module_version": "1.1.0",
      "model_name": "LayoutModel",
      "state": {}
     },
     "a47c0872550a43d1b3f35eafb442feb1": {
      "model_module": "@jupyter-widgets/controls",
      "model_module_version": "1.4.0",
      "model_name": "DescriptionStyleModel",
      "state": {
       "description_width": ""
      }
     },
     "a4a4bfccbe0f40c095d334443e2f00a2": {
      "model_module": "@jupyter-widgets/controls",
      "model_module_version": "1.4.0",
      "model_name": "HTMLModel",
      "state": {
       "layout": "IPY_MODEL_cf638fa887da4b8cbb545250b42b6afb",
       "style": "IPY_MODEL_c066936dffd344149b521f2f89aff09e",
       "value": "<p><b>Question ID</b>: 1</p>"
      }
     },
     "a4f1b189f7b9488ea5b13bea8a64b714": {
      "model_module": "@jupyter-widgets/controls",
      "model_module_version": "1.4.0",
      "model_name": "HBoxModel",
      "state": {
       "children": [
        "IPY_MODEL_5c2fc2bd46894f1dbc3589efe27365e3",
        "IPY_MODEL_cc09d3cd904b443fae921038bfc34acd"
       ],
       "layout": "IPY_MODEL_e8da104063b8478084ae89e3a80e5e7a"
      }
     },
     "a4f9200c39824e06a4a24a938ed018ea": {
      "model_module": "@jupyter-widgets/base",
      "model_module_version": "1.1.0",
      "model_name": "LayoutModel",
      "state": {
       "margin": "20px",
       "visibility": "visible"
      }
     },
     "a512f8af65a24ce381db3c35ad3eaa4d": {
      "model_module": "@jupyter-widgets/base",
      "model_module_version": "1.1.0",
      "model_name": "LayoutModel",
      "state": {}
     },
     "a52628a59724446598424d2f0178a101": {
      "model_module": "@jupyter-widgets/base",
      "model_module_version": "1.1.0",
      "model_name": "LayoutModel",
      "state": {}
     },
     "a53f21fc90c147e2b143fdedf03f5511": {
      "model_module": "@jupyter-widgets/controls",
      "model_module_version": "1.4.0",
      "model_name": "HTMLModel",
      "state": {
       "layout": "IPY_MODEL_dd64df830aeb416287da1d7d7e64e022",
       "style": "IPY_MODEL_e9dff4330cd640f79561ca15606cadc6",
       "value": "<b>3</b>)&nbsp;&nbsp;"
      }
     },
     "a549d39f6a3f4952ac6a318734453750": {
      "model_module": "@jupyter-widgets/controls",
      "model_module_version": "1.4.0",
      "model_name": "HTMLModel",
      "state": {
       "layout": "IPY_MODEL_ffc476852dad48b8ad495639e24c21d1",
       "style": "IPY_MODEL_f58199d844354f64ad7a5d6a5f4e1370",
       "value": "<b>1</b>)&nbsp;&nbsp;"
      }
     },
     "a566b1023b28472b989792ab362f81c2": {
      "model_module": "@jupyter-widgets/controls",
      "model_module_version": "1.4.0",
      "model_name": "HBoxModel",
      "state": {
       "children": [
        "IPY_MODEL_35174881d10a463f86fb72d0cdab779b",
        "IPY_MODEL_d8bd2af8bc594c04a071a4d65406e1de"
       ],
       "layout": "IPY_MODEL_aff4ffcfabc54c8780fc6b2628fcf6df"
      }
     },
     "a5678bb9e67640629153b8f3b433ceba": {
      "model_module": "@jupyter-widgets/base",
      "model_module_version": "1.1.0",
      "model_name": "LayoutModel",
      "state": {
       "margin": "20px",
       "visibility": "visible"
      }
     },
     "a576e54aaffc4e058526adb0278435c9": {
      "model_module": "@jupyter-widgets/base",
      "model_module_version": "1.1.0",
      "model_name": "LayoutModel",
      "state": {}
     },
     "a59054f3fb56450e8512d21931a900ce": {
      "model_module": "@jupyter-widgets/controls",
      "model_module_version": "1.4.0",
      "model_name": "DescriptionStyleModel",
      "state": {
       "description_width": ""
      }
     },
     "a5a3d8386fea4f85afc2e4fb08c35824": {
      "model_module": "@jupyter-widgets/base",
      "model_module_version": "1.1.0",
      "model_name": "LayoutModel",
      "state": {}
     },
     "a5ac8779ef9240cc95cb4553f304778e": {
      "model_module": "@jupyter-widgets/controls",
      "model_module_version": "1.4.0",
      "model_name": "ButtonStyleModel",
      "state": {}
     },
     "a5d6466f22be425bbe0f2ea1a0565881": {
      "model_module": "@jupyter-widgets/controls",
      "model_module_version": "1.4.0",
      "model_name": "DescriptionStyleModel",
      "state": {
       "description_width": ""
      }
     },
     "a5f54f05416a4b83b7a3003b655969ee": {
      "model_module": "@jupyter-widgets/base",
      "model_module_version": "1.1.0",
      "model_name": "LayoutModel",
      "state": {
       "visibility": "visible"
      }
     },
     "a60740b0f63f49e2b5136dfea511c0d3": {
      "model_module": "@jupyter-widgets/controls",
      "model_module_version": "1.4.0",
      "model_name": "DescriptionStyleModel",
      "state": {
       "description_width": ""
      }
     },
     "a62875e072f343f885cc3cf63f45e9b6": {
      "model_module": "@jupyter-widgets/base",
      "model_module_version": "1.1.0",
      "model_name": "LayoutModel",
      "state": {
       "visibility": "visible"
      }
     },
     "a64cae784dbe427ba48a4fe00c7a41bc": {
      "model_module": "@jupyter-widgets/controls",
      "model_module_version": "1.4.0",
      "model_name": "HTMLModel",
      "state": {
       "layout": "IPY_MODEL_e311c47fb9cf4f09b10ad6331a4e0172",
       "style": "IPY_MODEL_dca097914afc48e5926df876209a9368",
       "value": "<b>4</b>)&nbsp;&nbsp;"
      }
     },
     "a65ce514ef26445387bf74a7356fc2ca": {
      "model_module": "@jupyter-widgets/base",
      "model_module_version": "1.1.0",
      "model_name": "LayoutModel",
      "state": {}
     },
     "a675c0070bfe466e95e29bf551cf40cc": {
      "model_module": "@jupyter-widgets/controls",
      "model_module_version": "1.4.0",
      "model_name": "DescriptionStyleModel",
      "state": {
       "description_width": ""
      }
     },
     "a686eb13d99c4750aa4b2d0ee16a906a": {
      "model_module": "@jupyter-widgets/controls",
      "model_module_version": "1.4.0",
      "model_name": "ButtonModel",
      "state": {
       "description": "5",
       "layout": "IPY_MODEL_1acff384a65f4759a276e2a797ed4422",
       "style": "IPY_MODEL_3e449c620e4c4b9faf463db7d665b3c3"
      }
     },
     "a692e86f2ed84f7dab1f76b9ae6233fd": {
      "model_module": "@jupyter-widgets/base",
      "model_module_version": "1.1.0",
      "model_name": "LayoutModel",
      "state": {}
     },
     "a6983ccfbcb54bd4b4b7e0caf3f3802e": {
      "model_module": "@jupyter-widgets/base",
      "model_module_version": "1.1.0",
      "model_name": "LayoutModel",
      "state": {
       "margin": "20px",
       "visibility": "visible"
      }
     },
     "a69aacf582aa4450afe92f034b2ca402": {
      "model_module": "@jupyter-widgets/controls",
      "model_module_version": "1.4.0",
      "model_name": "ButtonModel",
      "state": {
       "description": "2",
       "layout": "IPY_MODEL_c470e5dc0da746d7ab5d5cd00b974f83",
       "style": "IPY_MODEL_ae2f7a25f05a4360a6073d9f4668e67e"
      }
     },
     "a6fc9c955f454b2bb06f1a34c1d12771": {
      "model_module": "@jupyter-widgets/controls",
      "model_module_version": "1.4.0",
      "model_name": "DescriptionStyleModel",
      "state": {
       "description_width": ""
      }
     },
     "a71ebff5da124de1837d6ab626c5ba2e": {
      "model_module": "@jupyter-widgets/controls",
      "model_module_version": "1.4.0",
      "model_name": "HTMLModel",
      "state": {
       "layout": "IPY_MODEL_2719259c6519408d89225cd570539f95",
       "style": "IPY_MODEL_03872209569d479a9c7636416cfb605e",
       "value": "<b>4</b>)&nbsp;&nbsp;"
      }
     },
     "a72198fa16364e00beb7a2ad229ac7c9": {
      "model_module": "@jupyter-widgets/base",
      "model_module_version": "1.1.0",
      "model_name": "LayoutModel",
      "state": {
       "visibility": "visible"
      }
     },
     "a746b992941f4a36b97e338e60062eda": {
      "model_module": "@jupyter-widgets/controls",
      "model_module_version": "1.4.0",
      "model_name": "DescriptionStyleModel",
      "state": {
       "description_width": ""
      }
     },
     "a760c8ff501b487fa27c68f5fa6a6e74": {
      "model_module": "@jupyter-widgets/controls",
      "model_module_version": "1.4.0",
      "model_name": "HTMLModel",
      "state": {
       "layout": "IPY_MODEL_660d6f0c1cfc4b6b976d99ade668b06f",
       "style": "IPY_MODEL_7423f4d08b6e4e40836cd0315e5d808c",
       "value": "<b>4</b>)&nbsp;&nbsp;"
      }
     },
     "a7c12df895b340f48623bd4e6ae98c90": {
      "model_module": "@jupyter-widgets/base",
      "model_module_version": "1.1.0",
      "model_name": "LayoutModel",
      "state": {
       "visibility": "visible"
      }
     },
     "a7ea23cfb792472c918558221e743b90": {
      "model_module": "@jupyter-widgets/controls",
      "model_module_version": "1.4.0",
      "model_name": "DescriptionStyleModel",
      "state": {
       "description_width": ""
      }
     },
     "a7ffdfc7dbdc464081a4ed21cbda91b5": {
      "model_module": "@jupyter-widgets/controls",
      "model_module_version": "1.4.0",
      "model_name": "HBoxModel",
      "state": {
       "children": [
        "IPY_MODEL_30e2bc2e770c42c09b149d076e75e94b",
        "IPY_MODEL_6c1f8b609a20417d9387e6140179da31"
       ],
       "layout": "IPY_MODEL_94f99d8dcb824d24a94f728cbaf5f9c9"
      }
     },
     "a8164d3cd1d04be18ea87a94ef8821e9": {
      "model_module": "@jupyter-widgets/controls",
      "model_module_version": "1.4.0",
      "model_name": "HTMLModel",
      "state": {
       "layout": "IPY_MODEL_4e83d6a5d83c4aee97a38fabf792a89c",
       "style": "IPY_MODEL_fc6c747c173443438409d6d677aff4b7",
       "value": "<br/><br clear=\"all\"/><b>Respond</b>: "
      }
     },
     "a832f4595ddb46eba357d012c2f9b905": {
      "model_module": "@jupyter-widgets/controls",
      "model_module_version": "1.4.0",
      "model_name": "ButtonStyleModel",
      "state": {}
     },
     "a835af5760b44547998f2d5f8bf7bed6": {
      "model_module": "@jupyter-widgets/base",
      "model_module_version": "1.1.0",
      "model_name": "LayoutModel",
      "state": {
       "margin": "20px",
       "visibility": "visible"
      }
     },
     "a83ae0aead624bbca3a842af4b2a24e6": {
      "model_module": "@jupyter-widgets/controls",
      "model_module_version": "1.4.0",
      "model_name": "DescriptionStyleModel",
      "state": {
       "description_width": ""
      }
     },
     "a880f2a281824fb594b788a9ac6fdd62": {
      "model_module": "@jupyter-widgets/base",
      "model_module_version": "1.1.0",
      "model_name": "LayoutModel",
      "state": {}
     },
     "a88bd0a27301459aa97af0caca49bc2f": {
      "model_module": "@jupyter-widgets/controls",
      "model_module_version": "1.4.0",
      "model_name": "ButtonStyleModel",
      "state": {}
     },
     "a8a345d27c5d49928e6603f7de86bddf": {
      "model_module": "@jupyter-widgets/controls",
      "model_module_version": "1.4.0",
      "model_name": "ButtonStyleModel",
      "state": {}
     },
     "a8eef3c284fa4066ada6ed429d7ae529": {
      "model_module": "@jupyter-widgets/controls",
      "model_module_version": "1.4.0",
      "model_name": "HBoxModel",
      "state": {
       "children": [
        "IPY_MODEL_25125c1240ac4b819cddd3a63ba77500",
        "IPY_MODEL_ed678b6a733746e18b865e4be8f45567"
       ],
       "layout": "IPY_MODEL_4c38734291b14465b02e727749b92d48"
      }
     },
     "a9035f0523b3419ab7bf00e8835051ed": {
      "model_module": "@jupyter-widgets/base",
      "model_module_version": "1.1.0",
      "model_name": "LayoutModel",
      "state": {
       "margin": "20px",
       "visibility": "visible"
      }
     },
     "a908f57596a443d7a7c81828d0f692d0": {
      "model_module": "@jupyter-widgets/controls",
      "model_module_version": "1.4.0",
      "model_name": "ButtonStyleModel",
      "state": {}
     },
     "a91293dfa6e64f2b84a2266fe8cd43c7": {
      "model_module": "@jupyter-widgets/base",
      "model_module_version": "1.1.0",
      "model_name": "LayoutModel",
      "state": {}
     },
     "a92aaad1c7694178bfec21b8470a7e41": {
      "model_module": "@jupyter-widgets/controls",
      "model_module_version": "1.4.0",
      "model_name": "HTMLModel",
      "state": {
       "layout": "IPY_MODEL_b15b8e5987414fd4bb475f736bdc4ed7",
       "style": "IPY_MODEL_e8a3ea931990455faa014e398fe8a5e1",
       "value": "None of the above"
      }
     },
     "a92bd918704b4adf899da4ed7512cc59": {
      "model_module": "@jupyter-widgets/controls",
      "model_module_version": "1.4.0",
      "model_name": "DescriptionStyleModel",
      "state": {
       "description_width": ""
      }
     },
     "a93c61d82efe446c85937182f118d59d": {
      "model_module": "@jupyter-widgets/base",
      "model_module_version": "1.1.0",
      "model_name": "LayoutModel",
      "state": {}
     },
     "a93d85f575054bed8a1e450f65c24660": {
      "model_module": "@jupyter-widgets/base",
      "model_module_version": "1.1.0",
      "model_name": "LayoutModel",
      "state": {}
     },
     "a964498b4f0945dd822e875dc4297d81": {
      "model_module": "@jupyter-widgets/base",
      "model_module_version": "1.1.0",
      "model_name": "LayoutModel",
      "state": {}
     },
     "a96d9fdd262b4e68b66004932a997195": {
      "model_module": "@jupyter-widgets/controls",
      "model_module_version": "1.4.0",
      "model_name": "DescriptionStyleModel",
      "state": {
       "description_width": ""
      }
     },
     "a9740ebd03f544768e0a87afc19758cf": {
      "model_module": "@jupyter-widgets/controls",
      "model_module_version": "1.4.0",
      "model_name": "ButtonModel",
      "state": {
       "description": "5",
       "layout": "IPY_MODEL_a4f9200c39824e06a4a24a938ed018ea",
       "style": "IPY_MODEL_b23b7ca7c9ca4c0d9198de5de74b92e8"
      }
     },
     "a99bbc71b8114c57b0f133d3f190b989": {
      "model_module": "@jupyter-widgets/controls",
      "model_module_version": "1.4.0",
      "model_name": "DescriptionStyleModel",
      "state": {
       "description_width": ""
      }
     },
     "a9d6897e4545486dae9fc55bda97fd64": {
      "model_module": "@jupyter-widgets/base",
      "model_module_version": "1.1.0",
      "model_name": "LayoutModel",
      "state": {}
     },
     "a9e40cc2d78945dba50747e909b6d25e": {
      "model_module": "@jupyter-widgets/base",
      "model_module_version": "1.1.0",
      "model_name": "LayoutModel",
      "state": {}
     },
     "aa1cacd7703c48cb8acf761edeac1eb2": {
      "model_module": "@jupyter-widgets/base",
      "model_module_version": "1.1.0",
      "model_name": "LayoutModel",
      "state": {
       "margin": "20px",
       "visibility": "visible"
      }
     },
     "aa834597905447ab84f1345c3c2ad843": {
      "model_module": "@jupyter-widgets/controls",
      "model_module_version": "1.4.0",
      "model_name": "HTMLModel",
      "state": {
       "layout": "IPY_MODEL_1e5b5e96ee3c498197ab9627f307711f",
       "style": "IPY_MODEL_0ddc011c98b34bcfbb42d1d3c4eab7be",
       "value": "<b>3</b>)&nbsp;&nbsp;"
      }
     },
     "aa86927321bb4c9899b75296beab72ef": {
      "model_module": "@jupyter-widgets/base",
      "model_module_version": "1.1.0",
      "model_name": "LayoutModel",
      "state": {}
     },
     "aa89b8f8f4714393b2938fcadbe7dc32": {
      "model_module": "@jupyter-widgets/controls",
      "model_module_version": "1.4.0",
      "model_name": "ButtonModel",
      "state": {
       "description": "4",
       "layout": "IPY_MODEL_bebf7b9b0c3c41b3b24b731126a487cf",
       "style": "IPY_MODEL_87ba03e96ed5458a98640f8f0ab98a82"
      }
     },
     "aadbbb16c73f4d75b01f18ec5ebce611": {
      "model_module": "@jupyter-widgets/controls",
      "model_module_version": "1.4.0",
      "model_name": "VBoxModel",
      "state": {
       "children": [
        "IPY_MODEL_17005190495f4113ac1cf81930de1f63",
        "IPY_MODEL_e0bee317ce174056bb89fc3d1a03dd13"
       ],
       "layout": "IPY_MODEL_64a7b0eb03294db6999e5fab1a4f8007"
      }
     },
     "aae399eec73d44249358eb9d089ddb90": {
      "model_module": "@jupyter-widgets/controls",
      "model_module_version": "1.4.0",
      "model_name": "HBoxModel",
      "state": {
       "children": [
        "IPY_MODEL_e9e69fe14d7142b9b5c2d7555556ff77",
        "IPY_MODEL_746518bdc5d743539be5b8d43a099e32"
       ],
       "layout": "IPY_MODEL_ab0c487cff544789b47d7b4814e03658"
      }
     },
     "ab0c487cff544789b47d7b4814e03658": {
      "model_module": "@jupyter-widgets/base",
      "model_module_version": "1.1.0",
      "model_name": "LayoutModel",
      "state": {
       "visibility": "visible"
      }
     },
     "ab0d965d2f10440eac94f4e50569709a": {
      "model_module": "@jupyter-widgets/controls",
      "model_module_version": "1.4.0",
      "model_name": "ButtonStyleModel",
      "state": {}
     },
     "ab1f8962412a4055b01a1223100ff30e": {
      "model_module": "@jupyter-widgets/base",
      "model_module_version": "1.1.0",
      "model_name": "LayoutModel",
      "state": {}
     },
     "ab7b6bc2892d4cfab55c9c11715d57c2": {
      "model_module": "@jupyter-widgets/controls",
      "model_module_version": "1.4.0",
      "model_name": "HTMLModel",
      "state": {
       "layout": "IPY_MODEL_0c62330b2dfe47c9b486c2a959cf3aa0",
       "style": "IPY_MODEL_3eac56cedc544556897b4960a4c79c1c",
       "value": "Choices B and C"
      }
     },
     "ab86b4c5278d47609606451b68f2ca44": {
      "model_module": "@jupyter-widgets/base",
      "model_module_version": "1.1.0",
      "model_name": "LayoutModel",
      "state": {
       "visibility": "hidden"
      }
     },
     "abc413ecf63e42ff897a368244160014": {
      "model_module": "@jupyter-widgets/controls",
      "model_module_version": "1.4.0",
      "model_name": "HTMLModel",
      "state": {
       "layout": "IPY_MODEL_b2cb5e73315e45a6b6751d65ec4c1606",
       "style": "IPY_MODEL_adb18c90c33a40cf92cd771c6ee486b2",
       "value": "<b>5</b>)&nbsp;&nbsp;"
      }
     },
     "ac007969b9684abe932deeb94b24ffbf": {
      "model_module": "@jupyter-widgets/controls",
      "model_module_version": "1.4.0",
      "model_name": "HBoxModel",
      "state": {
       "children": [
        "IPY_MODEL_c264bd5aec004a94b9c3ba0224077e92",
        "IPY_MODEL_fc09afe3a01545bf9c3c45e7a732b575"
       ],
       "layout": "IPY_MODEL_57cfa51e99fa4d0bb2b756616a25d970"
      }
     },
     "ac1363973113415a88255337daf9cfab": {
      "model_module": "@jupyter-widgets/controls",
      "model_module_version": "1.4.0",
      "model_name": "HTMLModel",
      "state": {
       "layout": "IPY_MODEL_8a38670cdba54037aed501d6dcfecf35",
       "style": "IPY_MODEL_52bb739c935a47a389bb535d713fd6c8"
      }
     },
     "ac8d4a3490684c1ba7fd7f29f577d88b": {
      "model_module": "@jupyter-widgets/controls",
      "model_module_version": "1.4.0",
      "model_name": "HTMLModel",
      "state": {
       "layout": "IPY_MODEL_8905fe127e2441498f9316ba4d7c7b9e",
       "style": "IPY_MODEL_95cfe09bce1746478fd6961b721f1553",
       "value": "<br/><br clear=\"all\"/><b>Respond</b>: "
      }
     },
     "acd2cc4ac15a4756b921e9753d938504": {
      "model_module": "@jupyter-widgets/controls",
      "model_module_version": "1.4.0",
      "model_name": "ButtonStyleModel",
      "state": {}
     },
     "ace9a222d714422d94e0afb173ca2537": {
      "model_module": "@jupyter-widgets/controls",
      "model_module_version": "1.4.0",
      "model_name": "HTMLModel",
      "state": {
       "layout": "IPY_MODEL_9f72c76514ee43c2a8df7c4ff3f68958",
       "style": "IPY_MODEL_a0cbee462b9b4b81a3e0f3d385bcb2f6",
       "value": "12"
      }
     },
     "acfa25c9664a48f6bb29206bb3fc395c": {
      "model_module": "@jupyter-widgets/base",
      "model_module_version": "1.1.0",
      "model_name": "LayoutModel",
      "state": {}
     },
     "ad078994aa1a4302a7898da3acd9c66a": {
      "model_module": "@jupyter-widgets/base",
      "model_module_version": "1.1.0",
      "model_name": "LayoutModel",
      "state": {}
     },
     "ad0ab6288a1549008eb3539543b9c73b": {
      "model_module": "@jupyter-widgets/base",
      "model_module_version": "1.1.0",
      "model_name": "LayoutModel",
      "state": {}
     },
     "ad36a629fae84d0f8935c92fc5b8d6a7": {
      "model_module": "@jupyter-widgets/base",
      "model_module_version": "1.1.0",
      "model_name": "LayoutModel",
      "state": {}
     },
     "ad3716f3e335466db5d5840f7e542fb8": {
      "model_module": "@jupyter-widgets/controls",
      "model_module_version": "1.4.0",
      "model_name": "HBoxModel",
      "state": {
       "children": [
        "IPY_MODEL_fcc91bfe2df7491eaee3590bba52b041",
        "IPY_MODEL_41bbd3b6fe814fadb9e9292d9102a8de"
       ],
       "layout": "IPY_MODEL_a7c12df895b340f48623bd4e6ae98c90"
      }
     },
     "ad7883a073134ddeb34de4b29cfdf355": {
      "model_module": "@jupyter-widgets/base",
      "model_module_version": "1.1.0",
      "model_name": "LayoutModel",
      "state": {}
     },
     "adaa4f58e6b847ddb438638562b7ab11": {
      "model_module": "@jupyter-widgets/base",
      "model_module_version": "1.1.0",
      "model_name": "LayoutModel",
      "state": {}
     },
     "adb18c90c33a40cf92cd771c6ee486b2": {
      "model_module": "@jupyter-widgets/controls",
      "model_module_version": "1.4.0",
      "model_name": "DescriptionStyleModel",
      "state": {
       "description_width": ""
      }
     },
     "adcbf2219ca34e1d988c03352dc51eab": {
      "model_module": "@jupyter-widgets/controls",
      "model_module_version": "1.4.0",
      "model_name": "HTMLModel",
      "state": {
       "layout": "IPY_MODEL_7a4633ad6dba4c529e389d99f9220e31",
       "style": "IPY_MODEL_3bcdcd36912d4111b41c7e2182635a12",
       "value": "A library defining quantum circuits and registers"
      }
     },
     "ade0d55ffc8b40848af71db1e87fdc82": {
      "model_module": "@jupyter-widgets/controls",
      "model_module_version": "1.4.0",
      "model_name": "ButtonStyleModel",
      "state": {}
     },
     "ade1615c6dac46fba3621a5045dcf72a": {
      "model_module": "@jupyter-widgets/controls",
      "model_module_version": "1.4.0",
      "model_name": "ButtonStyleModel",
      "state": {}
     },
     "adf0a4636e8c404e8bbcd9fee3b8d635": {
      "model_module": "@jupyter-widgets/controls",
      "model_module_version": "1.4.0",
      "model_name": "ButtonStyleModel",
      "state": {}
     },
     "ae2f7a25f05a4360a6073d9f4668e67e": {
      "model_module": "@jupyter-widgets/controls",
      "model_module_version": "1.4.0",
      "model_name": "ButtonStyleModel",
      "state": {}
     },
     "ae3a55f9ce2743468bfcd34b5343efcd": {
      "model_module": "@jupyter-widgets/controls",
      "model_module_version": "1.4.0",
      "model_name": "ButtonModel",
      "state": {
       "description": "5",
       "layout": "IPY_MODEL_b187272756fa48f5b56b46936bc46e48",
       "style": "IPY_MODEL_bb12a7ce3c594ba58ad5b8ac04c8f299"
      }
     },
     "ae56e2f6a56f4470b6bd288abec6a4a7": {
      "model_module": "@jupyter-widgets/controls",
      "model_module_version": "1.4.0",
      "model_name": "ButtonStyleModel",
      "state": {}
     },
     "ae6157b90b8d464bb7517db0836216e0": {
      "model_module": "@jupyter-widgets/controls",
      "model_module_version": "1.4.0",
      "model_name": "DescriptionStyleModel",
      "state": {
       "description_width": ""
      }
     },
     "ae6646505a37429c8ff06084bbff3f37": {
      "model_module": "@jupyter-widgets/controls",
      "model_module_version": "1.4.0",
      "model_name": "DescriptionStyleModel",
      "state": {
       "description_width": ""
      }
     },
     "aebe5102bade485eb3b1ecd99b8763b5": {
      "model_module": "@jupyter-widgets/base",
      "model_module_version": "1.1.0",
      "model_name": "LayoutModel",
      "state": {
       "margin": "20px",
       "visibility": "visible"
      }
     },
     "aec1150bcdf046b8948d63b9cf151900": {
      "model_module": "@jupyter-widgets/base",
      "model_module_version": "1.1.0",
      "model_name": "LayoutModel",
      "state": {}
     },
     "aeeb3917947642c0b87fa73add84c973": {
      "model_module": "@jupyter-widgets/controls",
      "model_module_version": "1.4.0",
      "model_name": "VBoxModel",
      "state": {
       "children": [
        "IPY_MODEL_7ec6918ee4384e5ca75faa134dd9c6bd",
        "IPY_MODEL_57856ca9f4a0490ab66e3df11e606fab",
        "IPY_MODEL_253e7bfd503c4ec5aa8faf820a5a8ef3",
        "IPY_MODEL_2ec082b6dbfb4725bd475c0d8c7a42ac",
        "IPY_MODEL_da84b45f1b7144ffa99565af0895d6ad",
        "IPY_MODEL_a4f1b189f7b9488ea5b13bea8a64b714",
        "IPY_MODEL_5cd9a3af233e426fb8ee54cb82b25424",
        "IPY_MODEL_63cd8c4bc1c34a8eab0ad7aea9004180",
        "IPY_MODEL_226af35ce5764708b312dbb90eda66de"
       ],
       "layout": "IPY_MODEL_75f78112cb58455dbcadd11b60e5e0f5"
      }
     },
     "af12f5fc8a0d414ca4b913b78d538add": {
      "model_module": "@jupyter-widgets/controls",
      "model_module_version": "1.4.0",
      "model_name": "HTMLModel",
      "state": {
       "layout": "IPY_MODEL_d1e937bc72f04eea91f4657e61ce2ffb",
       "style": "IPY_MODEL_8555387e58e247f09c8531bf08e9e0bd",
       "value": "<b>1</b>)&nbsp;&nbsp;"
      }
     },
     "af2223cff95840169630f4a28ee8ec5c": {
      "model_module": "@jupyter-widgets/output",
      "model_module_version": "1.0.0",
      "model_name": "OutputModel",
      "state": {
       "layout": "IPY_MODEL_2c0b76853c41478e8e8f505f080814f9"
      }
     },
     "af314c54aff54c48a249261492a0e5c9": {
      "model_module": "@jupyter-widgets/controls",
      "model_module_version": "1.4.0",
      "model_name": "ButtonModel",
      "state": {
       "description": "Results",
       "layout": "IPY_MODEL_82e723f1f02e4287829726a8c090a092",
       "style": "IPY_MODEL_f0746ca8aafe4964841cd1d4e06bd79d"
      }
     },
     "af3464825f8d4036bb6499e2cf977c44": {
      "model_module": "@jupyter-widgets/controls",
      "model_module_version": "1.4.0",
      "model_name": "HBoxModel",
      "state": {
       "children": [
        "IPY_MODEL_6bf3fc35e32b4f08ba7c0115a934dd43",
        "IPY_MODEL_ff3ae7c19f4449a8a2934322a2c3bd37"
       ],
       "layout": "IPY_MODEL_be05d78e657d4f138c9e5f1bde1d895f"
      }
     },
     "af64ded125e0461da8fe19b2fc666455": {
      "model_module": "@jupyter-widgets/controls",
      "model_module_version": "1.4.0",
      "model_name": "HTMLModel",
      "state": {
       "layout": "IPY_MODEL_cd04b93627224d3095dd1b9552b3a65d",
       "style": "IPY_MODEL_07623be6ab524cdca0e8285ac8c35b1b",
       "value": "<h1>\n       <h4>Understanding the calibration matrix<br/><br/></h4>\n<img src=\"questions/ignis_images/calib.png\"> \n<h5>The image above shows the calibration matrix for two qubits. What kind of noise caused this?</h5>\n<h5>Remember that a short decay time means more of the noise can be expected to have happened.</h5>\n       </h1>"
      }
     },
     "af66b391061b4bb6b3f0ea35dc71d690": {
      "model_module": "@jupyter-widgets/controls",
      "model_module_version": "1.4.0",
      "model_name": "DescriptionStyleModel",
      "state": {
       "description_width": ""
      }
     },
     "af9e1a8c744e4574b59219f5529ec0fe": {
      "model_module": "@jupyter-widgets/controls",
      "model_module_version": "1.4.0",
      "model_name": "HTMLModel",
      "state": {
       "layout": "IPY_MODEL_2279863f812c49138db289dfc09fd13f",
       "style": "IPY_MODEL_86839f3d8d88498a950fd6470ec42f88",
       "value": "9"
      }
     },
     "afd1cf83bd354428ada398e31fb596f8": {
      "model_module": "@jupyter-widgets/base",
      "model_module_version": "1.1.0",
      "model_name": "LayoutModel",
      "state": {}
     },
     "afdd742d486c417c8eae9a16987eab76": {
      "model_module": "@jupyter-widgets/controls",
      "model_module_version": "1.4.0",
      "model_name": "ButtonModel",
      "state": {
       "description": "3",
       "layout": "IPY_MODEL_5deeec15f83744f1bd29dc49a9a39ea7",
       "style": "IPY_MODEL_b28da90736a5477382c944f51cd28a45"
      }
     },
     "afe1dbe22f344746a3cd88960e1b6d12": {
      "model_module": "@jupyter-widgets/base",
      "model_module_version": "1.1.0",
      "model_name": "LayoutModel",
      "state": {}
     },
     "aff4ffcfabc54c8780fc6b2628fcf6df": {
      "model_module": "@jupyter-widgets/base",
      "model_module_version": "1.1.0",
      "model_name": "LayoutModel",
      "state": {
       "visibility": "visible"
      }
     },
     "b0279fbd19a34bf7a14336c9f02619f3": {
      "model_module": "@jupyter-widgets/base",
      "model_module_version": "1.1.0",
      "model_name": "LayoutModel",
      "state": {
       "visibility": "visible"
      }
     },
     "b0544752b3804fc989a091f6db2ab4f3": {
      "model_module": "@jupyter-widgets/controls",
      "model_module_version": "1.4.0",
      "model_name": "HBoxModel",
      "state": {
       "children": [
        "IPY_MODEL_0472d4c6cac040478ef67ead624e1ca0",
        "IPY_MODEL_2f97c876bda341beaada191be06280d7",
        "IPY_MODEL_e03855cda9db4c64904f3325d37ad5fe",
        "IPY_MODEL_28f4732a2f1b4403b026450ce2b5ac91",
        "IPY_MODEL_5aceea6cbe4645cf9c20ef9efffdb04a",
        "IPY_MODEL_8cf3d6d16ed04b6a93cf35857ac48d11"
       ],
       "layout": "IPY_MODEL_29c7fd2a15674d0b90dc874f7398e81a"
      }
     },
     "b063c6fef03140ee859a122564b9d958": {
      "model_module": "@jupyter-widgets/controls",
      "model_module_version": "1.4.0",
      "model_name": "HTMLModel",
      "state": {
       "layout": "IPY_MODEL_993fd16e390b4eb7b17ebd31aa3fc0cb",
       "style": "IPY_MODEL_df869d9dc2054c719666e156c794bde5",
       "value": "<img src=\"http://latex.codecogs.com/svg.latex?\\frac{\\vert0\\rangle+\\vert1\\rangle}{\\sqrt{2}}\" border=\"0\"/>"
      }
     },
     "b074a631d68d4238b5370fb1522c5ee4": {
      "model_module": "@jupyter-widgets/base",
      "model_module_version": "1.1.0",
      "model_name": "LayoutModel",
      "state": {}
     },
     "b086657078fb4e6595508c5f38e256fb": {
      "model_module": "@jupyter-widgets/base",
      "model_module_version": "1.1.0",
      "model_name": "LayoutModel",
      "state": {
       "margin": "20px",
       "visibility": "visible"
      }
     },
     "b0995bac6f14431686e0a27930dbc25b": {
      "model_module": "@jupyter-widgets/base",
      "model_module_version": "1.1.0",
      "model_name": "LayoutModel",
      "state": {}
     },
     "b0c5f55a64b94545af51bda719092870": {
      "model_module": "@jupyter-widgets/controls",
      "model_module_version": "1.4.0",
      "model_name": "ButtonModel",
      "state": {
       "description": "Previous",
       "disabled": true,
       "layout": "IPY_MODEL_707219e8fb034e6aa668624ec7b146d6",
       "style": "IPY_MODEL_6de5c83dc88946f99a66efb2adf76497"
      }
     },
     "b0dc4da0748a48b39b6ba77de3856138": {
      "model_module": "@jupyter-widgets/base",
      "model_module_version": "1.1.0",
      "model_name": "LayoutModel",
      "state": {}
     },
     "b0ee1cfc541042038c06912fe4ad886c": {
      "model_module": "@jupyter-widgets/controls",
      "model_module_version": "1.4.0",
      "model_name": "DescriptionStyleModel",
      "state": {
       "description_width": ""
      }
     },
     "b0f6226f15a344f7988371dab3f701ac": {
      "model_module": "@jupyter-widgets/base",
      "model_module_version": "1.1.0",
      "model_name": "LayoutModel",
      "state": {
       "margin": "20px",
       "visibility": "visible"
      }
     },
     "b0ffbc3251a144cb8109255d8e9b2b14": {
      "model_module": "@jupyter-widgets/controls",
      "model_module_version": "1.4.0",
      "model_name": "ButtonStyleModel",
      "state": {}
     },
     "b13aad1118dc4ebba05ff12e6c373d06": {
      "model_module": "@jupyter-widgets/controls",
      "model_module_version": "1.4.0",
      "model_name": "DescriptionStyleModel",
      "state": {
       "description_width": ""
      }
     },
     "b143866dd43e458a93ae8ae223ff74b6": {
      "model_module": "@jupyter-widgets/controls",
      "model_module_version": "1.4.0",
      "model_name": "VBoxModel",
      "state": {
       "children": [
        "IPY_MODEL_f23b962b067e4211b3b4240df14c583e",
        "IPY_MODEL_b1cd47e80c5d4cc6b9449704596b9ca9"
       ],
       "layout": "IPY_MODEL_a93d85f575054bed8a1e450f65c24660"
      }
     },
     "b15239d19c6b410ea3db038fa2c7c5a0": {
      "model_module": "@jupyter-widgets/controls",
      "model_module_version": "1.4.0",
      "model_name": "DescriptionStyleModel",
      "state": {
       "description_width": ""
      }
     },
     "b15b8e5987414fd4bb475f736bdc4ed7": {
      "model_module": "@jupyter-widgets/base",
      "model_module_version": "1.1.0",
      "model_name": "LayoutModel",
      "state": {}
     },
     "b187272756fa48f5b56b46936bc46e48": {
      "model_module": "@jupyter-widgets/base",
      "model_module_version": "1.1.0",
      "model_name": "LayoutModel",
      "state": {
       "margin": "20px",
       "visibility": "visible"
      }
     },
     "b18a75eb03f347fd864b824d43ec8d9d": {
      "model_module": "@jupyter-widgets/base",
      "model_module_version": "1.1.0",
      "model_name": "LayoutModel",
      "state": {}
     },
     "b1af13ecd77245a691d836ca40c540ce": {
      "model_module": "@jupyter-widgets/controls",
      "model_module_version": "1.4.0",
      "model_name": "ButtonStyleModel",
      "state": {}
     },
     "b1b539f76a05478ca2cdab9234551887": {
      "model_module": "@jupyter-widgets/controls",
      "model_module_version": "1.4.0",
      "model_name": "VBoxModel",
      "state": {
       "children": [
        "IPY_MODEL_1b81cc4f7cf545e7a8b1e4e84dcb571e",
        "IPY_MODEL_432006224e5d4134bb0c1092d424ff6b",
        "IPY_MODEL_66981b4ef06b4675a66590ebbb39f7b3",
        "IPY_MODEL_7e7fd15965cf4581adc76d2168154afc",
        "IPY_MODEL_52dba6ce7166467fa78fb4a5e8732bd1",
        "IPY_MODEL_8367a35ba6cf43669a3f88cb4053bbe8",
        "IPY_MODEL_c4c273c572b14dbe86a2dcb51003cfb4",
        "IPY_MODEL_05676c8b6b2c4507b51aa95794ec96b1",
        "IPY_MODEL_1a311cc66f094348baed273c25b09a1b"
       ],
       "layout": "IPY_MODEL_5181c03b03dc4731b68b8e98210c3611"
      }
     },
     "b1cd47e80c5d4cc6b9449704596b9ca9": {
      "model_module": "@jupyter-widgets/controls",
      "model_module_version": "1.4.0",
      "model_name": "HTMLModel",
      "state": {
       "layout": "IPY_MODEL_426bdeb39afa4b7597f65c1e5d245940",
       "style": "IPY_MODEL_ea99beccac0a494dae0b6cdd9e061c55"
      }
     },
     "b2286b0c553b46d795f2a9baa56c6544": {
      "model_module": "@jupyter-widgets/base",
      "model_module_version": "1.1.0",
      "model_name": "LayoutModel",
      "state": {}
     },
     "b22e2e15f9f443069cb32e0b64c7da26": {
      "model_module": "@jupyter-widgets/base",
      "model_module_version": "1.1.0",
      "model_name": "LayoutModel",
      "state": {}
     },
     "b23b7ca7c9ca4c0d9198de5de74b92e8": {
      "model_module": "@jupyter-widgets/controls",
      "model_module_version": "1.4.0",
      "model_name": "ButtonStyleModel",
      "state": {}
     },
     "b2624bcf275a4c90a91ef0e26166aa5e": {
      "model_module": "@jupyter-widgets/base",
      "model_module_version": "1.1.0",
      "model_name": "LayoutModel",
      "state": {
       "margin": "20px",
       "visibility": "visible"
      }
     },
     "b278a7b3a86443ed9374add377f376f7": {
      "model_module": "@jupyter-widgets/base",
      "model_module_version": "1.1.0",
      "model_name": "LayoutModel",
      "state": {
       "margin": "20px",
       "visibility": "visible"
      }
     },
     "b2811ebc37bf406d8a54829ee63757c5": {
      "model_module": "@jupyter-widgets/controls",
      "model_module_version": "1.4.0",
      "model_name": "HBoxModel",
      "state": {
       "children": [
        "IPY_MODEL_54220b344efd41f69b883b30a9b273b2",
        "IPY_MODEL_ca308f6fcefb4c01979324b291b42cb2"
       ],
       "layout": "IPY_MODEL_b0279fbd19a34bf7a14336c9f02619f3"
      }
     },
     "b28da90736a5477382c944f51cd28a45": {
      "model_module": "@jupyter-widgets/controls",
      "model_module_version": "1.4.0",
      "model_name": "ButtonStyleModel",
      "state": {}
     },
     "b2ae59a72ff7483d9b800904838484cb": {
      "model_module": "@jupyter-widgets/base",
      "model_module_version": "1.1.0",
      "model_name": "LayoutModel",
      "state": {
       "visibility": "visible"
      }
     },
     "b2bd3e527cb0454a92bf8eb8bea925bc": {
      "model_module": "@jupyter-widgets/controls",
      "model_module_version": "1.4.0",
      "model_name": "DescriptionStyleModel",
      "state": {
       "description_width": ""
      }
     },
     "b2c1a514905e4fecb71b0f6eef7276fe": {
      "model_module": "@jupyter-widgets/base",
      "model_module_version": "1.1.0",
      "model_name": "LayoutModel",
      "state": {}
     },
     "b2cb5e73315e45a6b6751d65ec4c1606": {
      "model_module": "@jupyter-widgets/base",
      "model_module_version": "1.1.0",
      "model_name": "LayoutModel",
      "state": {}
     },
     "b2d27439b51f4623a084a51ebdf989b3": {
      "model_module": "@jupyter-widgets/controls",
      "model_module_version": "1.4.0",
      "model_name": "ButtonModel",
      "state": {
       "description": "3",
       "layout": "IPY_MODEL_834293fa4a3f4ec9a316e9148d5d458d",
       "style": "IPY_MODEL_4736002763d4481b899fc4ccf61d3c85"
      }
     },
     "b2e1040b5a0c433c9ec25af6d79bbcb7": {
      "model_module": "@jupyter-widgets/controls",
      "model_module_version": "1.4.0",
      "model_name": "ButtonModel",
      "state": {
       "description": "Previous",
       "disabled": true,
       "layout": "IPY_MODEL_5bbd525ba1ac4d678335406a36c09957",
       "style": "IPY_MODEL_34a400ebb1af4bb79ea612ea28ce3c3f"
      }
     },
     "b3039c07d94b4c4b9cf54aaa5292888a": {
      "model_module": "@jupyter-widgets/controls",
      "model_module_version": "1.4.0",
      "model_name": "HBoxModel",
      "state": {
       "children": [
        "IPY_MODEL_38841b326bf1419eb5a339ee3aecedaa",
        "IPY_MODEL_138459315fd345af8441896b8d565c0b"
       ],
       "layout": "IPY_MODEL_3852906df1ef4be5aaebd8d73778b6c1"
      }
     },
     "b33305b373114db89aea2f24f5500e9d": {
      "model_module": "@jupyter-widgets/controls",
      "model_module_version": "1.4.0",
      "model_name": "DescriptionStyleModel",
      "state": {
       "description_width": ""
      }
     },
     "b38e932e626e4ef69fd216c14b801e5e": {
      "model_module": "@jupyter-widgets/controls",
      "model_module_version": "1.4.0",
      "model_name": "DescriptionStyleModel",
      "state": {
       "description_width": ""
      }
     },
     "b3c318b67f64408e9e558e73a6915cd1": {
      "model_module": "@jupyter-widgets/controls",
      "model_module_version": "1.4.0",
      "model_name": "HTMLModel",
      "state": {
       "layout": "IPY_MODEL_c93aa09d1c6c4c6dbb98855c180b4ec6",
       "style": "IPY_MODEL_60157d1e4cb4479ea861555a0d94167c",
       "value": "<img src=\"qiskitintro_images/3.png\">"
      }
     },
     "b3c86c3807bf4002a962d90af0e3cac4": {
      "model_module": "@jupyter-widgets/controls",
      "model_module_version": "1.4.0",
      "model_name": "ButtonStyleModel",
      "state": {}
     },
     "b3ed089d36dd4fab89c1a01cf7355f28": {
      "model_module": "@jupyter-widgets/base",
      "model_module_version": "1.1.0",
      "model_name": "LayoutModel",
      "state": {
       "visibility": "visible"
      }
     },
     "b3f8d6f45ea24b6ab4f19c3ed676a503": {
      "model_module": "@jupyter-widgets/base",
      "model_module_version": "1.1.0",
      "model_name": "LayoutModel",
      "state": {}
     },
     "b42e8e54696046649d12876355c5800d": {
      "model_module": "@jupyter-widgets/controls",
      "model_module_version": "1.4.0",
      "model_name": "ButtonModel",
      "state": {
       "description": "Previous",
       "disabled": true,
       "layout": "IPY_MODEL_e072711c07874e869f1d6cb3dc17dc2a",
       "style": "IPY_MODEL_ca3ce97513804d458952a000d2961a11"
      }
     },
     "b4b50c5676164ee5a4b383805c36ec61": {
      "model_module": "@jupyter-widgets/controls",
      "model_module_version": "1.4.0",
      "model_name": "DescriptionStyleModel",
      "state": {
       "description_width": ""
      }
     },
     "b4c3ca0ae6a04cb293baf06ce5d8b542": {
      "model_module": "@jupyter-widgets/controls",
      "model_module_version": "1.4.0",
      "model_name": "DescriptionStyleModel",
      "state": {
       "description_width": ""
      }
     },
     "b4e50912f1514f3eb60fb558b64c65c6": {
      "model_module": "@jupyter-widgets/base",
      "model_module_version": "1.1.0",
      "model_name": "LayoutModel",
      "state": {}
     },
     "b4ea4691221b444abdb20aef84cacca4": {
      "model_module": "@jupyter-widgets/base",
      "model_module_version": "1.1.0",
      "model_name": "LayoutModel",
      "state": {
       "margin": "20px",
       "visibility": "visible"
      }
     },
     "b4f11935c1cc49feab1bd93680771e9b": {
      "model_module": "@jupyter-widgets/controls",
      "model_module_version": "1.4.0",
      "model_name": "HTMLModel",
      "state": {
       "layout": "IPY_MODEL_8e64f1f20a2a490d85a2e2df653c49d0",
       "style": "IPY_MODEL_264d8cd66a0a4183bdb4552f0f8b726b",
       "value": "9"
      }
     },
     "b4fc470990574d7c8c06ae076100b3dd": {
      "model_module": "@jupyter-widgets/controls",
      "model_module_version": "1.4.0",
      "model_name": "DescriptionStyleModel",
      "state": {
       "description_width": ""
      }
     },
     "b502bc154a1f4a9a9945da31795525ed": {
      "model_module": "@jupyter-widgets/controls",
      "model_module_version": "1.4.0",
      "model_name": "HTMLModel",
      "state": {
       "layout": "IPY_MODEL_56b81571fe0d4ed7877ebfc70f18df82",
       "style": "IPY_MODEL_ba3fbc1e7e9648b288ef52e956ee5921"
      }
     },
     "b50a0cd31692489e8b76957ab3d010ba": {
      "model_module": "@jupyter-widgets/controls",
      "model_module_version": "1.4.0",
      "model_name": "HBoxModel",
      "state": {
       "children": [
        "IPY_MODEL_ec41f16ba4c24532b1e9c9e3bc7a3fe7",
        "IPY_MODEL_ec86895293fe41fe8141fc538c6ee5fe"
       ],
       "layout": "IPY_MODEL_bc99e0f41c8740c1a1b9c2048f329adb"
      }
     },
     "b57ebe95d8a447d193ab37814644df66": {
      "model_module": "@jupyter-widgets/controls",
      "model_module_version": "1.4.0",
      "model_name": "DescriptionStyleModel",
      "state": {
       "description_width": ""
      }
     },
     "b58586bd5d634cc8aef641b374da5a57": {
      "model_module": "@jupyter-widgets/controls",
      "model_module_version": "1.4.0",
      "model_name": "DescriptionStyleModel",
      "state": {
       "description_width": ""
      }
     },
     "b5959a2d59624ac7a5186e3ad04d82a9": {
      "model_module": "@jupyter-widgets/controls",
      "model_module_version": "1.4.0",
      "model_name": "HTMLModel",
      "state": {
       "layout": "IPY_MODEL_09e2fccc9c884d8aa251aaac744169c2",
       "style": "IPY_MODEL_61a41dabeedf403093507d37e065f052",
       "value": "<p><b>Question ID</b>: 1</p>"
      }
     },
     "b59a585c333d443d970b96c1c6d56402": {
      "model_module": "@jupyter-widgets/controls",
      "model_module_version": "1.4.0",
      "model_name": "DescriptionStyleModel",
      "state": {
       "description_width": ""
      }
     },
     "b63d2650ec2f4264ad8616f610773fbd": {
      "model_module": "@jupyter-widgets/controls",
      "model_module_version": "1.4.0",
      "model_name": "ButtonModel",
      "state": {
       "description": "2",
       "layout": "IPY_MODEL_25baeb35e2b241c3bb7953dba25f7046",
       "style": "IPY_MODEL_52ee4340bf4b434782470be8c80f33d3"
      }
     },
     "b64ed4db34274e9cb8700950fd7bd59d": {
      "model_module": "@jupyter-widgets/base",
      "model_module_version": "1.1.0",
      "model_name": "LayoutModel",
      "state": {}
     },
     "b667431b2eba4a48a52d66dbbfe76fd2": {
      "model_module": "@jupyter-widgets/base",
      "model_module_version": "1.1.0",
      "model_name": "LayoutModel",
      "state": {}
     },
     "b6679cc4579b460d8c4cd18dac27390f": {
      "model_module": "@jupyter-widgets/base",
      "model_module_version": "1.1.0",
      "model_name": "LayoutModel",
      "state": {}
     },
     "b67b082baf36446b9cd7fe9bab8dc207": {
      "model_module": "@jupyter-widgets/base",
      "model_module_version": "1.1.0",
      "model_name": "LayoutModel",
      "state": {}
     },
     "b68e279400224331beef21522e714e7b": {
      "model_module": "@jupyter-widgets/controls",
      "model_module_version": "1.4.0",
      "model_name": "DescriptionStyleModel",
      "state": {
       "description_width": ""
      }
     },
     "b6a052219a1849bf80c7aa971a49028b": {
      "model_module": "@jupyter-widgets/base",
      "model_module_version": "1.1.0",
      "model_name": "LayoutModel",
      "state": {}
     },
     "b6b5af4718184b40af4e2e12d8218737": {
      "model_module": "@jupyter-widgets/controls",
      "model_module_version": "1.4.0",
      "model_name": "HTMLModel",
      "state": {
       "layout": "IPY_MODEL_ea96d462623442aaa1b0dc5f6dd665d9",
       "style": "IPY_MODEL_929158add5d44daf8e0ae73941e41c02",
       "value": "<b>5</b>)&nbsp;&nbsp;"
      }
     },
     "b6bb7272385d4be48f193cfb97539249": {
      "model_module": "@jupyter-widgets/controls",
      "model_module_version": "1.4.0",
      "model_name": "DescriptionStyleModel",
      "state": {
       "description_width": ""
      }
     },
     "b6e1fe6ba39845c481503f5d656473c4": {
      "model_module": "@jupyter-widgets/base",
      "model_module_version": "1.1.0",
      "model_name": "LayoutModel",
      "state": {}
     },
     "b7579d4fb2984ac7a35a33d1c717e03d": {
      "model_module": "@jupyter-widgets/base",
      "model_module_version": "1.1.0",
      "model_name": "LayoutModel",
      "state": {}
     },
     "b76bc1bccc9747c6a2ebd4ae3573504b": {
      "model_module": "@jupyter-widgets/output",
      "model_module_version": "1.0.0",
      "model_name": "OutputModel",
      "state": {
       "layout": "IPY_MODEL_40c72d4f8b6f4e76bc2db44bf0bad50f"
      }
     },
     "b7a5d13b1e314a7c845ac6e7ec1d6fce": {
      "model_module": "@jupyter-widgets/base",
      "model_module_version": "1.1.0",
      "model_name": "LayoutModel",
      "state": {
       "margin": "20px",
       "visibility": "visible"
      }
     },
     "b7aba7f58e1f46568f3570b322f6a244": {
      "model_module": "@jupyter-widgets/controls",
      "model_module_version": "1.4.0",
      "model_name": "ButtonStyleModel",
      "state": {}
     },
     "b7c25ded80344be9bb4b884abbdb93cd": {
      "model_module": "@jupyter-widgets/controls",
      "model_module_version": "1.4.0",
      "model_name": "HBoxModel",
      "state": {
       "children": [
        "IPY_MODEL_e3e9d5f51372494694f932cafab9064b",
        "IPY_MODEL_ba93e775d5fd49dca6f84f57ba94c257"
       ],
       "layout": "IPY_MODEL_b9b9d8afe96349b8b28abddceed8a6d0"
      }
     },
     "b7c4d1befd8e4f198dd84f419211fc66": {
      "model_module": "@jupyter-widgets/base",
      "model_module_version": "1.1.0",
      "model_name": "LayoutModel",
      "state": {}
     },
     "b7c8dedbaeef41798b37f7e0033e8953": {
      "model_module": "@jupyter-widgets/controls",
      "model_module_version": "1.4.0",
      "model_name": "HTMLModel",
      "state": {
       "layout": "IPY_MODEL_7809e15cd29b4a2ab29c86b13e723284",
       "style": "IPY_MODEL_937e04b51f434ddc94a5d6e0fdaf75a6",
       "value": "<p><b>Question ID</b>: 1</p>"
      }
     },
     "b7f5a24280ee46a8af24b951568f0d19": {
      "model_module": "@jupyter-widgets/controls",
      "model_module_version": "1.4.0",
      "model_name": "DescriptionStyleModel",
      "state": {
       "description_width": ""
      }
     },
     "b80a6aae484a41a89756848e65ddf304": {
      "model_module": "@jupyter-widgets/base",
      "model_module_version": "1.1.0",
      "model_name": "LayoutModel",
      "state": {}
     },
     "b827e826bb1a488d866b92620783fd01": {
      "model_module": "@jupyter-widgets/controls",
      "model_module_version": "1.4.0",
      "model_name": "DescriptionStyleModel",
      "state": {
       "description_width": ""
      }
     },
     "b83b265205714b9792a0f6f952201ff5": {
      "model_module": "@jupyter-widgets/controls",
      "model_module_version": "1.4.0",
      "model_name": "ButtonModel",
      "state": {
       "description": "Results",
       "layout": "IPY_MODEL_55952413460e44179518b8645cb0c07b",
       "style": "IPY_MODEL_4ada8063412145f6a9cb749d7ebbdc7d"
      }
     },
     "b83e6a5bf51a469788b168a8000b6362": {
      "model_module": "@jupyter-widgets/base",
      "model_module_version": "1.1.0",
      "model_name": "LayoutModel",
      "state": {}
     },
     "b86ad53f418c4f07bac2cbab5629b504": {
      "model_module": "@jupyter-widgets/controls",
      "model_module_version": "1.4.0",
      "model_name": "DescriptionStyleModel",
      "state": {
       "description_width": ""
      }
     },
     "b87a791cb68a4661a792616df1517891": {
      "model_module": "@jupyter-widgets/base",
      "model_module_version": "1.1.0",
      "model_name": "LayoutModel",
      "state": {
       "visibility": "visible"
      }
     },
     "b89167ffadda446a931ce86d3be22b6f": {
      "model_module": "@jupyter-widgets/base",
      "model_module_version": "1.1.0",
      "model_name": "LayoutModel",
      "state": {}
     },
     "b8917cae11cd40738826f01a3d1b9efe": {
      "model_module": "@jupyter-widgets/base",
      "model_module_version": "1.1.0",
      "model_name": "LayoutModel",
      "state": {
       "margin": "20px",
       "visibility": "visible"
      }
     },
     "b8958dc1968a4cc895ddba19fc40ec4f": {
      "model_module": "@jupyter-widgets/controls",
      "model_module_version": "1.4.0",
      "model_name": "HTMLModel",
      "state": {
       "layout": "IPY_MODEL_f914535e7e82470b8476fd5555368b36",
       "style": "IPY_MODEL_bc3dc942282c4890bf73f06e244ecfa0"
      }
     },
     "b8a716e05b974a3ab3ca145195739f8b": {
      "model_module": "@jupyter-widgets/controls",
      "model_module_version": "1.4.0",
      "model_name": "ButtonModel",
      "state": {
       "description": "3",
       "layout": "IPY_MODEL_ee1135902b70403a968901ad2185dea7",
       "style": "IPY_MODEL_a88bd0a27301459aa97af0caca49bc2f"
      }
     },
     "b8c6fe8a71664b31a552c591792e6673": {
      "model_module": "@jupyter-widgets/base",
      "model_module_version": "1.1.0",
      "model_name": "LayoutModel",
      "state": {}
     },
     "b8f532afd7584e40995213642a2fc474": {
      "model_module": "@jupyter-widgets/controls",
      "model_module_version": "1.4.0",
      "model_name": "HBoxModel",
      "state": {
       "children": [
        "IPY_MODEL_af12f5fc8a0d414ca4b913b78d538add",
        "IPY_MODEL_2153992eefdb46d682ad80d631219eb6"
       ],
       "layout": "IPY_MODEL_1bc0c4769b314be1bf31166da1a64578"
      }
     },
     "b937202d5ff842d582abd6cfe4479bb3": {
      "model_module": "@jupyter-widgets/base",
      "model_module_version": "1.1.0",
      "model_name": "LayoutModel",
      "state": {
       "margin": "20px",
       "visibility": "visible"
      }
     },
     "b97f53bd27f24287afb7573299c07fa7": {
      "model_module": "@jupyter-widgets/controls",
      "model_module_version": "1.4.0",
      "model_name": "DescriptionStyleModel",
      "state": {
       "description_width": ""
      }
     },
     "b9a117a2638a48ceab42e7a0bd5ccd8e": {
      "model_module": "@jupyter-widgets/base",
      "model_module_version": "1.1.0",
      "model_name": "LayoutModel",
      "state": {
       "visibility": "visible"
      }
     },
     "b9b7fa2fd46d4b34bfce4b5b035a9c8d": {
      "model_module": "@jupyter-widgets/controls",
      "model_module_version": "1.4.0",
      "model_name": "DescriptionStyleModel",
      "state": {
       "description_width": ""
      }
     },
     "b9b9d8afe96349b8b28abddceed8a6d0": {
      "model_module": "@jupyter-widgets/base",
      "model_module_version": "1.1.0",
      "model_name": "LayoutModel",
      "state": {
       "visibility": "visible"
      }
     },
     "b9d06e023f8c4bf5b114101b3f492b73": {
      "model_module": "@jupyter-widgets/base",
      "model_module_version": "1.1.0",
      "model_name": "LayoutModel",
      "state": {
       "margin": "20px",
       "visibility": "visible"
      }
     },
     "b9eda3ae0f404825ba9e1ff16abfcdc4": {
      "model_module": "@jupyter-widgets/controls",
      "model_module_version": "1.4.0",
      "model_name": "ButtonStyleModel",
      "state": {}
     },
     "b9fb185d4a164a7db67927ca3f949859": {
      "model_module": "@jupyter-widgets/base",
      "model_module_version": "1.1.0",
      "model_name": "LayoutModel",
      "state": {}
     },
     "ba009ae30a49460a94108baa9a6eafc2": {
      "model_module": "@jupyter-widgets/controls",
      "model_module_version": "1.4.0",
      "model_name": "HTMLModel",
      "state": {
       "layout": "IPY_MODEL_c0c8633069164aa09adc050a9778dab0",
       "style": "IPY_MODEL_d5701dcc606d4b30bb1b4280b3605120",
       "value": "<b>2</b>)&nbsp;&nbsp;"
      }
     },
     "ba2061773365496bbe3609a2c6b8a3df": {
      "model_module": "@jupyter-widgets/controls",
      "model_module_version": "1.4.0",
      "model_name": "VBoxModel",
      "state": {
       "children": [
        "IPY_MODEL_883489e8a0bc4c91b68dce8f44e6c6ad",
        "IPY_MODEL_2e133342a60e43d1ad4fde9086b0b8d8"
       ],
       "layout": "IPY_MODEL_a190095f6d84452ba0c82cbbce172892"
      }
     },
     "ba2108ccdeee47198fc0f23e35eba207": {
      "model_module": "@jupyter-widgets/controls",
      "model_module_version": "1.4.0",
      "model_name": "ButtonStyleModel",
      "state": {}
     },
     "ba24fb7cee7e487cb7e292d9d170dfd6": {
      "model_module": "@jupyter-widgets/base",
      "model_module_version": "1.1.0",
      "model_name": "LayoutModel",
      "state": {
       "margin": "20px",
       "visibility": "visible"
      }
     },
     "ba3fbc1e7e9648b288ef52e956ee5921": {
      "model_module": "@jupyter-widgets/controls",
      "model_module_version": "1.4.0",
      "model_name": "DescriptionStyleModel",
      "state": {
       "description_width": ""
      }
     },
     "ba6ea60eeec1415a9bd89fe4677fd804": {
      "model_module": "@jupyter-widgets/base",
      "model_module_version": "1.1.0",
      "model_name": "LayoutModel",
      "state": {}
     },
     "ba77a7f4a7e24ffbab0e0289730ce8c1": {
      "model_module": "@jupyter-widgets/base",
      "model_module_version": "1.1.0",
      "model_name": "LayoutModel",
      "state": {}
     },
     "ba93e775d5fd49dca6f84f57ba94c257": {
      "model_module": "@jupyter-widgets/controls",
      "model_module_version": "1.4.0",
      "model_name": "HTMLModel",
      "state": {
       "layout": "IPY_MODEL_24104de650494b87902af41db141672a",
       "style": "IPY_MODEL_352069dc9422407e9cec19568d89eb5b",
       "value": "<img src=\"aer1_images/1_w4.png\">"
      }
     },
     "bac85c06dd4b402991992b5682d26e58": {
      "model_module": "@jupyter-widgets/controls",
      "model_module_version": "1.4.0",
      "model_name": "ButtonStyleModel",
      "state": {}
     },
     "bae753c9bf964fbeb578ae38b5eff863": {
      "model_module": "@jupyter-widgets/base",
      "model_module_version": "1.1.0",
      "model_name": "LayoutModel",
      "state": {
       "margin": "20px",
       "visibility": "visible"
      }
     },
     "bb12a7ce3c594ba58ad5b8ac04c8f299": {
      "model_module": "@jupyter-widgets/controls",
      "model_module_version": "1.4.0",
      "model_name": "ButtonStyleModel",
      "state": {}
     },
     "bb17c68ecea94f37b7d8df953a17190d": {
      "model_module": "@jupyter-widgets/controls",
      "model_module_version": "1.4.0",
      "model_name": "HBoxModel",
      "state": {
       "children": [
        "IPY_MODEL_f1c22f3ce2304d72850cb1046d327e99",
        "IPY_MODEL_8c9a0428a4dd47fc9f79dddf77723c14"
       ],
       "layout": "IPY_MODEL_64002732eb014a5795e2dd00f9013150"
      }
     },
     "bb390cf164124aaf9bb1ea94afe56415": {
      "model_module": "@jupyter-widgets/controls",
      "model_module_version": "1.4.0",
      "model_name": "HTMLModel",
      "state": {
       "layout": "IPY_MODEL_ad078994aa1a4302a7898da3acd9c66a",
       "style": "IPY_MODEL_6fbf585a7aa549219c6c5a16796db9ee",
       "value": "<h1>\n       <h4>Which of the following circuits implements an <samp>OR</samp> gate?</h4>\n       <h5>Recall that an <samp>OR</samp> gate outputs 0 when both inputs are 0, and outputs 1 otherwise.<br /><br /></h5>\n       </h1>"
      }
     },
     "bb4976f539fa4908b8095bc6e8b0362d": {
      "model_module": "@jupyter-widgets/base",
      "model_module_version": "1.1.0",
      "model_name": "LayoutModel",
      "state": {}
     },
     "bb7e7adf99de49b7aa33e6f0b4e33796": {
      "model_module": "@jupyter-widgets/controls",
      "model_module_version": "1.4.0",
      "model_name": "HTMLModel",
      "state": {
       "layout": "IPY_MODEL_674dea27f2a74ced833ae517d33273e3",
       "style": "IPY_MODEL_9ddd5e16a94a424289d7f90535d0855f",
       "value": "<b>4</b>)&nbsp;&nbsp;"
      }
     },
     "bb7fc2cf085142a5b0ce4b7ce85ee7c3": {
      "model_module": "@jupyter-widgets/controls",
      "model_module_version": "1.4.0",
      "model_name": "ButtonStyleModel",
      "state": {}
     },
     "bbbc5d3e1668416891aa37ca8d093377": {
      "model_module": "@jupyter-widgets/controls",
      "model_module_version": "1.4.0",
      "model_name": "HBoxModel",
      "state": {
       "children": [
        "IPY_MODEL_8cbadbde9cb44b8cb6c1ced66a758c72",
        "IPY_MODEL_0ff06d40674249e887fd67eec8ccb397"
       ],
       "layout": "IPY_MODEL_61a738e4dc3d477caecb0cbe9d5d42ff"
      }
     },
     "bc3dc942282c4890bf73f06e244ecfa0": {
      "model_module": "@jupyter-widgets/controls",
      "model_module_version": "1.4.0",
      "model_name": "DescriptionStyleModel",
      "state": {
       "description_width": ""
      }
     },
     "bc9350cfe92849ecba5b42d98abaf929": {
      "model_module": "@jupyter-widgets/controls",
      "model_module_version": "1.4.0",
      "model_name": "DescriptionStyleModel",
      "state": {
       "description_width": ""
      }
     },
     "bc99e0f41c8740c1a1b9c2048f329adb": {
      "model_module": "@jupyter-widgets/base",
      "model_module_version": "1.1.0",
      "model_name": "LayoutModel",
      "state": {
       "visibility": "visible"
      }
     },
     "bcda936eaf324dd1bd6b0f16096b06dc": {
      "model_module": "@jupyter-widgets/controls",
      "model_module_version": "1.4.0",
      "model_name": "ButtonModel",
      "state": {
       "description": "Previous",
       "disabled": true,
       "layout": "IPY_MODEL_9e9a9c4bd5334da8929bb67cb75bba82",
       "style": "IPY_MODEL_4083350e35044ab08878d9605bce5e13"
      }
     },
     "bcf0eea3a2ea4c6d820eb19604ec3bef": {
      "model_module": "@jupyter-widgets/base",
      "model_module_version": "1.1.0",
      "model_name": "LayoutModel",
      "state": {}
     },
     "bcf6097f9d2b48c4ad45538404f64220": {
      "model_module": "@jupyter-widgets/base",
      "model_module_version": "1.1.0",
      "model_name": "LayoutModel",
      "state": {
       "margin": "20px",
       "visibility": "visible"
      }
     },
     "bd010ce983364dc6b2989e35f77275c3": {
      "model_module": "@jupyter-widgets/controls",
      "model_module_version": "1.4.0",
      "model_name": "ButtonStyleModel",
      "state": {}
     },
     "bd1577509e3e4fb1a67fd752027dacba": {
      "model_module": "@jupyter-widgets/controls",
      "model_module_version": "1.4.0",
      "model_name": "HTMLModel",
      "state": {
       "layout": "IPY_MODEL_46598fecdc8548aeaec6db31daee6fb2",
       "style": "IPY_MODEL_2b2f135d0bed4921844e60494c0fff9a",
       "value": "<img src=\"http://latex.codecogs.com/svg.latex?\\frac{\\vert0\\rangle-\\vert1\\rangle}{\\sqrt{2}}\" border=\"0\"/>"
      }
     },
     "bd23b7647bf04324bb913702dbbd9ed2": {
      "model_module": "@jupyter-widgets/controls",
      "model_module_version": "1.4.0",
      "model_name": "HTMLModel",
      "state": {
       "layout": "IPY_MODEL_eb5a65a44291467a83e579dee4481519",
       "style": "IPY_MODEL_31ed24fb1fd54335ad30164382363550",
       "value": "<b>2</b>)&nbsp;&nbsp;"
      }
     },
     "bd287b11ed494e37a17934a50c31c306": {
      "model_module": "@jupyter-widgets/controls",
      "model_module_version": "1.4.0",
      "model_name": "HBoxModel",
      "state": {
       "children": [
        "IPY_MODEL_6cfc77f8424447f1aa1087bc168d69e0",
        "IPY_MODEL_9975e712fe9a433c82feac821c177c41"
       ],
       "layout": "IPY_MODEL_393b6ddc340a4121a6b8c6d9422218ce"
      }
     },
     "bd290f55bbeb46c39d2657d95c6c8d45": {
      "model_module": "@jupyter-widgets/base",
      "model_module_version": "1.1.0",
      "model_name": "LayoutModel",
      "state": {}
     },
     "bd5f5b24c22d48bab1bfaa14c36c2075": {
      "model_module": "@jupyter-widgets/controls",
      "model_module_version": "1.4.0",
      "model_name": "HBoxModel",
      "state": {
       "children": [
        "IPY_MODEL_d85e413020e44de492f67e7b4fb0696e",
        "IPY_MODEL_f0ca789fe6c34172908b3ef1c9042c2c",
        "IPY_MODEL_d020e0bc3f934515b4d155867b8a71df",
        "IPY_MODEL_afdd742d486c417c8eae9a16987eab76",
        "IPY_MODEL_04368f53edc84924a046ad57b0e6c59b",
        "IPY_MODEL_e0faac1c71bd4885929baa792449530e"
       ],
       "layout": "IPY_MODEL_6662f2a244c043ffaedbedf2c329095f"
      }
     },
     "bd91a723dac9465183bfa52553c59987": {
      "model_module": "@jupyter-widgets/controls",
      "model_module_version": "1.4.0",
      "model_name": "HTMLModel",
      "state": {
       "layout": "IPY_MODEL_e308b9aa38c14a91bb37339420968afa",
       "style": "IPY_MODEL_7a4f6a7f1e7c4eacb527a819b40d08b4",
       "value": "<b>3</b>)&nbsp;&nbsp;"
      }
     },
     "be0145fc982d42fbbcefbce8e857cf51": {
      "model_module": "@jupyter-widgets/controls",
      "model_module_version": "1.4.0",
      "model_name": "DescriptionStyleModel",
      "state": {
       "description_width": ""
      }
     },
     "be05d78e657d4f138c9e5f1bde1d895f": {
      "model_module": "@jupyter-widgets/base",
      "model_module_version": "1.1.0",
      "model_name": "LayoutModel",
      "state": {
       "visibility": "visible"
      }
     },
     "be122850be0444a08a63b83ed8d0b300": {
      "model_module": "@jupyter-widgets/controls",
      "model_module_version": "1.4.0",
      "model_name": "DescriptionStyleModel",
      "state": {
       "description_width": ""
      }
     },
     "be22213ec3a440b7af68717bcc349f51": {
      "model_module": "@jupyter-widgets/base",
      "model_module_version": "1.1.0",
      "model_name": "LayoutModel",
      "state": {}
     },
     "be250fae67324f24a30dd47a97b7ce92": {
      "model_module": "@jupyter-widgets/base",
      "model_module_version": "1.1.0",
      "model_name": "LayoutModel",
      "state": {}
     },
     "be670b1416474e659f79bfaf4d00759d": {
      "model_module": "@jupyter-widgets/controls",
      "model_module_version": "1.4.0",
      "model_name": "ButtonModel",
      "state": {
       "description": "1",
       "layout": "IPY_MODEL_4bd58294b9c341ceab9a9281ca50bdae",
       "style": "IPY_MODEL_422aed8654c74b0da0f2e05b5d6536dc"
      }
     },
     "be7cafc0a8e7447689fc41f1fa0df024": {
      "model_module": "@jupyter-widgets/controls",
      "model_module_version": "1.4.0",
      "model_name": "HTMLModel",
      "state": {
       "layout": "IPY_MODEL_7266dd97893c4727bba185ea33a53896",
       "style": "IPY_MODEL_b4b50c5676164ee5a4b383805c36ec61",
       "value": "<p><b>Question ID</b>: 1</p>"
      }
     },
     "be7d1e91af044c50a6afd4fb364d674f": {
      "model_module": "@jupyter-widgets/base",
      "model_module_version": "1.1.0",
      "model_name": "LayoutModel",
      "state": {}
     },
     "bea092b00cd54d289a4d8e3abc5de332": {
      "model_module": "@jupyter-widgets/base",
      "model_module_version": "1.1.0",
      "model_name": "LayoutModel",
      "state": {}
     },
     "bea8e65b30744036b80865255e204e22": {
      "model_module": "@jupyter-widgets/controls",
      "model_module_version": "1.4.0",
      "model_name": "DescriptionStyleModel",
      "state": {
       "description_width": ""
      }
     },
     "bebf7b9b0c3c41b3b24b731126a487cf": {
      "model_module": "@jupyter-widgets/base",
      "model_module_version": "1.1.0",
      "model_name": "LayoutModel",
      "state": {
       "margin": "20px",
       "visibility": "visible"
      }
     },
     "bebf9c2da4624dc8a4810e1b7f72f43a": {
      "model_module": "@jupyter-widgets/controls",
      "model_module_version": "1.4.0",
      "model_name": "DescriptionStyleModel",
      "state": {
       "description_width": ""
      }
     },
     "bee770418ae248b38a9445467e30d2f7": {
      "model_module": "@jupyter-widgets/base",
      "model_module_version": "1.1.0",
      "model_name": "LayoutModel",
      "state": {}
     },
     "bee96093d39e465dbf00d3a21b1489e1": {
      "model_module": "@jupyter-widgets/base",
      "model_module_version": "1.1.0",
      "model_name": "LayoutModel",
      "state": {
       "visibility": "visible"
      }
     },
     "bef3eb6c618c481184c94ef7af3f6e08": {
      "model_module": "@jupyter-widgets/controls",
      "model_module_version": "1.4.0",
      "model_name": "ButtonModel",
      "state": {
       "description": "Next",
       "layout": "IPY_MODEL_b074a631d68d4238b5370fb1522c5ee4",
       "style": "IPY_MODEL_7058b68e3c1040a4aaba514e28d32ff1"
      }
     },
     "bf0ab62302c548f7b1f203ac96a1d23a": {
      "model_module": "@jupyter-widgets/controls",
      "model_module_version": "1.4.0",
      "model_name": "VBoxModel",
      "state": {
       "children": [
        "IPY_MODEL_a4a4bfccbe0f40c095d334443e2f00a2",
        "IPY_MODEL_6db9287eac5443869ad7e6529ad53bec",
        "IPY_MODEL_ec1e06e170064bc5902f8fc79abd0b47",
        "IPY_MODEL_f91abb1b227f40f696895f9fa4d10602",
        "IPY_MODEL_9a61a86f93804c0f8b290fee12fb8554",
        "IPY_MODEL_47243f4092d94f6987ce5badc5633af9",
        "IPY_MODEL_0c066ad85000487ab151e33089c60de9",
        "IPY_MODEL_e75284535e0a446687e6eccf3a099846",
        "IPY_MODEL_04c34b6f72854a519ef8ae11ab9874c0"
       ],
       "layout": "IPY_MODEL_fd9b323e7ed14e938b140fff13411d77"
      }
     },
     "bf29c216a5fe45188f132ba2ecc28957": {
      "model_module": "@jupyter-widgets/controls",
      "model_module_version": "1.4.0",
      "model_name": "HTMLModel",
      "state": {
       "layout": "IPY_MODEL_260f059c8bde484db5eda871b6749cef",
       "style": "IPY_MODEL_9a3aab4bd2a842d185ab36b2a04ad892",
       "value": "Both 2 & 3 are possible"
      }
     },
     "bf37607af09249c0bb4ecc462fa6a9b4": {
      "model_module": "@jupyter-widgets/controls",
      "model_module_version": "1.4.0",
      "model_name": "HBoxModel",
      "state": {
       "children": [
        "IPY_MODEL_45261f0ee0924541ae9fcb6218048ec1",
        "IPY_MODEL_edce76c415ff4be58a10e2ea9baeafa0"
       ],
       "layout": "IPY_MODEL_f01ac6b1050548949b13c8ee7462aa7b"
      }
     },
     "bf7fc57c903d46809851131f517ca949": {
      "model_module": "@jupyter-widgets/controls",
      "model_module_version": "1.4.0",
      "model_name": "HTMLModel",
      "state": {
       "layout": "IPY_MODEL_0636533708f74c78a9929c01cd5e30ad",
       "style": "IPY_MODEL_428206e7ca874d43a3cc06604da29bdb",
       "value": "<img src=\"aer1_images/1_w1.png\">"
      }
     },
     "bf9d16343c0940c1a126da92526d3c73": {
      "model_module": "@jupyter-widgets/controls",
      "model_module_version": "1.4.0",
      "model_name": "HTMLModel",
      "state": {
       "layout": "IPY_MODEL_b0995bac6f14431686e0a27930dbc25b",
       "style": "IPY_MODEL_c309ecfad50649ac8fae6782fb189a0a",
       "value": "<b>4</b>)&nbsp;&nbsp;"
      }
     },
     "bfae435809b94b1785200bd34fdf6c3a": {
      "model_module": "@jupyter-widgets/controls",
      "model_module_version": "1.4.0",
      "model_name": "DescriptionStyleModel",
      "state": {
       "description_width": ""
      }
     },
     "bfb4412de64e4b8ca15a5ba8b0397f80": {
      "model_module": "@jupyter-widgets/controls",
      "model_module_version": "1.4.0",
      "model_name": "ButtonModel",
      "state": {
       "description": "Results",
       "layout": "IPY_MODEL_24abd5fd8d54431ea1800242332a7a96",
       "style": "IPY_MODEL_ba2108ccdeee47198fc0f23e35eba207"
      }
     },
     "bfcaf4ccd8f947e4b18dc4cc157760c1": {
      "model_module": "@jupyter-widgets/output",
      "model_module_version": "1.0.0",
      "model_name": "OutputModel",
      "state": {
       "layout": "IPY_MODEL_4c3e694a1c35498dbf94e5399a7b5e00"
      }
     },
     "c0081c9844bd47dd8ea6532ed6adcc4e": {
      "model_module": "@jupyter-widgets/controls",
      "model_module_version": "1.4.0",
      "model_name": "DescriptionStyleModel",
      "state": {
       "description_width": ""
      }
     },
     "c013eafb288f4587b4b9f3a26de15c72": {
      "model_module": "@jupyter-widgets/base",
      "model_module_version": "1.1.0",
      "model_name": "LayoutModel",
      "state": {}
     },
     "c0195fabdc624aa9ba37215edcea0543": {
      "model_module": "@jupyter-widgets/base",
      "model_module_version": "1.1.0",
      "model_name": "LayoutModel",
      "state": {}
     },
     "c0211734e1fe406787cdf50ad49415a3": {
      "model_module": "@jupyter-widgets/controls",
      "model_module_version": "1.4.0",
      "model_name": "HTMLModel",
      "state": {
       "layout": "IPY_MODEL_c3966f26d20142e6b64593e0eaf2e7c5",
       "style": "IPY_MODEL_4223f1de16df408e9bcfbdfedbc1adea",
       "value": "<img src=\"http://latex.codecogs.com/svg.latex?\\frac{\\vert0\\rangle+\\vert1\\rangle}{\\sqrt{2}}\" border=\"0\"/>"
      }
     },
     "c0327c31f4ed4f119e5203ef6a229bfc": {
      "model_module": "@jupyter-widgets/base",
      "model_module_version": "1.1.0",
      "model_name": "LayoutModel",
      "state": {
       "margin": "20px",
       "visibility": "visible"
      }
     },
     "c05825a83e934bcb9241bf86de1caa79": {
      "model_module": "@jupyter-widgets/controls",
      "model_module_version": "1.4.0",
      "model_name": "HBoxModel",
      "state": {
       "children": [
        "IPY_MODEL_547d04249e16431197d46c70f9ae2932",
        "IPY_MODEL_e1330ab4f7484b21b2d7925ad88d130d"
       ],
       "layout": "IPY_MODEL_42ec689601d3424fa8aff4a29a23655f"
      }
     },
     "c063849b880d4880bead8a2e0b2aff74": {
      "model_module": "@jupyter-widgets/controls",
      "model_module_version": "1.4.0",
      "model_name": "HBoxModel",
      "state": {
       "children": [
        "IPY_MODEL_334cd1726a5f41bbbdd84a7d12e95fb9",
        "IPY_MODEL_687b60703d4c47558b53ee6dfcc64c25"
       ],
       "layout": "IPY_MODEL_a2b41a98c50045aa9eb51994228333f5"
      }
     },
     "c066936dffd344149b521f2f89aff09e": {
      "model_module": "@jupyter-widgets/controls",
      "model_module_version": "1.4.0",
      "model_name": "DescriptionStyleModel",
      "state": {
       "description_width": ""
      }
     },
     "c099cf438ed44a7994504f868e60705b": {
      "model_module": "@jupyter-widgets/controls",
      "model_module_version": "1.4.0",
      "model_name": "DescriptionStyleModel",
      "state": {
       "description_width": ""
      }
     },
     "c0c8633069164aa09adc050a9778dab0": {
      "model_module": "@jupyter-widgets/base",
      "model_module_version": "1.1.0",
      "model_name": "LayoutModel",
      "state": {}
     },
     "c0d61b7d655f4d2997bfaaa4e976565b": {
      "model_module": "@jupyter-widgets/controls",
      "model_module_version": "1.4.0",
      "model_name": "DescriptionStyleModel",
      "state": {
       "description_width": ""
      }
     },
     "c1018e0483d24b24810e8e3a58b9071d": {
      "model_module": "@jupyter-widgets/base",
      "model_module_version": "1.1.0",
      "model_name": "LayoutModel",
      "state": {}
     },
     "c1060765cd5643338abe2b6a799aff4d": {
      "model_module": "@jupyter-widgets/controls",
      "model_module_version": "1.4.0",
      "model_name": "HTMLModel",
      "state": {
       "layout": "IPY_MODEL_14f2185580784ac2a30d98c5f40001fa",
       "style": "IPY_MODEL_09a16a53160e4564818788379dd77768",
       "value": "<img src=\"http://latex.codecogs.com/svg.latex?\\vert0\\rangle\" border=\"0\"/>"
      }
     },
     "c15342603b604e6fb975db7f57ec26ad": {
      "model_module": "@jupyter-widgets/controls",
      "model_module_version": "1.4.0",
      "model_name": "ButtonStyleModel",
      "state": {}
     },
     "c161d60dfba84cf6a6ade0af37442630": {
      "model_module": "@jupyter-widgets/controls",
      "model_module_version": "1.4.0",
      "model_name": "HTMLModel",
      "state": {
       "layout": "IPY_MODEL_0141f378851e4974aaf7a17e2f01e89a",
       "style": "IPY_MODEL_191999d913574482869d29bcb01ec2b3"
      }
     },
     "c17cb2197aad42a9b7718268cd576a0a": {
      "model_module": "@jupyter-widgets/controls",
      "model_module_version": "1.4.0",
      "model_name": "HBoxModel",
      "state": {
       "children": [
        "IPY_MODEL_c26fb7acb5a4417fbb272a2a09d66640",
        "IPY_MODEL_93355ac7254d4e5895731ebee37c06fc"
       ],
       "layout": "IPY_MODEL_fc1bc344607d4c43aa1fd3abb078a90e"
      }
     },
     "c1a31c5cd3354c95a7715922e0dadd27": {
      "model_module": "@jupyter-widgets/controls",
      "model_module_version": "1.4.0",
      "model_name": "DescriptionStyleModel",
      "state": {
       "description_width": ""
      }
     },
     "c1bb1b789347420fbcefd5041ade7425": {
      "model_module": "@jupyter-widgets/base",
      "model_module_version": "1.1.0",
      "model_name": "LayoutModel",
      "state": {
       "visibility": "visible"
      }
     },
     "c1d00a45b2ce4877ade8ff90890bad6d": {
      "model_module": "@jupyter-widgets/base",
      "model_module_version": "1.1.0",
      "model_name": "LayoutModel",
      "state": {}
     },
     "c1d13a5b7693493f86d3a6f68d1de876": {
      "model_module": "@jupyter-widgets/controls",
      "model_module_version": "1.4.0",
      "model_name": "HTMLModel",
      "state": {
       "layout": "IPY_MODEL_7514c2fbb3524a7098b879ced42b0fbd",
       "style": "IPY_MODEL_a1cd83eb55274e33be12bbd4475a7282",
       "value": "<br/><br clear=\"all\"/><b>Respond</b>: "
      }
     },
     "c237319e0fd24e0992b586cd45febdac": {
      "model_module": "@jupyter-widgets/base",
      "model_module_version": "1.1.0",
      "model_name": "LayoutModel",
      "state": {}
     },
     "c238078a31db49659bbd4c4a418d0216": {
      "model_module": "@jupyter-widgets/base",
      "model_module_version": "1.1.0",
      "model_name": "LayoutModel",
      "state": {}
     },
     "c264bd5aec004a94b9c3ba0224077e92": {
      "model_module": "@jupyter-widgets/controls",
      "model_module_version": "1.4.0",
      "model_name": "HTMLModel",
      "state": {
       "layout": "IPY_MODEL_3126984b11c8490193aeb494efed7c12",
       "style": "IPY_MODEL_6db9fa712bb1466485a7529e2680f0c6",
       "value": "<b>2</b>)&nbsp;&nbsp;"
      }
     },
     "c26fb7acb5a4417fbb272a2a09d66640": {
      "model_module": "@jupyter-widgets/controls",
      "model_module_version": "1.4.0",
      "model_name": "HTMLModel",
      "state": {
       "layout": "IPY_MODEL_65575a66b9a24d0d9deed4da33a628b2",
       "style": "IPY_MODEL_85b47529ef3243feb1d1e2924ed84968",
       "value": "<b>3</b>)&nbsp;&nbsp;"
      }
     },
     "c2ac87d8f93146dc905769ce7a6f315b": {
      "model_module": "@jupyter-widgets/controls",
      "model_module_version": "1.4.0",
      "model_name": "DescriptionStyleModel",
      "state": {
       "description_width": ""
      }
     },
     "c2b7aad1874b4903a99389030597033f": {
      "model_module": "@jupyter-widgets/base",
      "model_module_version": "1.1.0",
      "model_name": "LayoutModel",
      "state": {
       "margin": "20px",
       "visibility": "visible"
      }
     },
     "c2bccddc34e64385905a8a1fb81a8e4b": {
      "model_module": "@jupyter-widgets/controls",
      "model_module_version": "1.4.0",
      "model_name": "ButtonStyleModel",
      "state": {}
     },
     "c2cd7b20b8594f1b99ef9d791884fd06": {
      "model_module": "@jupyter-widgets/base",
      "model_module_version": "1.1.0",
      "model_name": "LayoutModel",
      "state": {
       "visibility": "visible"
      }
     },
     "c2e74377292541c58e9eb85414ee08d4": {
      "model_module": "@jupyter-widgets/controls",
      "model_module_version": "1.4.0",
      "model_name": "DescriptionStyleModel",
      "state": {
       "description_width": ""
      }
     },
     "c300012f18c84764bf3aab87502e30a6": {
      "model_module": "@jupyter-widgets/base",
      "model_module_version": "1.1.0",
      "model_name": "LayoutModel",
      "state": {
       "visibility": "visible"
      }
     },
     "c3049fc3f6a34009b64d88da492c148e": {
      "model_module": "@jupyter-widgets/controls",
      "model_module_version": "1.4.0",
      "model_name": "DescriptionStyleModel",
      "state": {
       "description_width": ""
      }
     },
     "c309ecfad50649ac8fae6782fb189a0a": {
      "model_module": "@jupyter-widgets/controls",
      "model_module_version": "1.4.0",
      "model_name": "DescriptionStyleModel",
      "state": {
       "description_width": ""
      }
     },
     "c325228ee6824a17b6d7b4927d25e72f": {
      "model_module": "@jupyter-widgets/controls",
      "model_module_version": "1.4.0",
      "model_name": "DescriptionStyleModel",
      "state": {
       "description_width": ""
      }
     },
     "c3328ee0edf24300b428300868f2f775": {
      "model_module": "@jupyter-widgets/base",
      "model_module_version": "1.1.0",
      "model_name": "LayoutModel",
      "state": {
       "margin": "20px",
       "visibility": "visible"
      }
     },
     "c34a657d93a8491990eb51fdf14c8a54": {
      "model_module": "@jupyter-widgets/controls",
      "model_module_version": "1.4.0",
      "model_name": "ButtonModel",
      "state": {
       "description": "4",
       "layout": "IPY_MODEL_9befe082e2a648f3b1d0785350762d74",
       "style": "IPY_MODEL_e89079ace1934d00bff44013dbab7154"
      }
     },
     "c37947398a3d499ba9b541bd7dc71516": {
      "model_module": "@jupyter-widgets/controls",
      "model_module_version": "1.4.0",
      "model_name": "HTMLModel",
      "state": {
       "layout": "IPY_MODEL_59acc2fd96d24480b34748df67f0eb54",
       "style": "IPY_MODEL_6f96dbefe484442696366ca086902338",
       "value": "<h1><h4>Consider the three-qubit quantum circuit below. What are the real and imaginary components of the state vector?<br/><br/><h4> <img align=\"middle\" src=\"questions/qiskitintro_images/question.png\" width=300px><br/></h1>"
      }
     },
     "c37dcbf35ba943d2aa1647aba8887e8d": {
      "model_module": "@jupyter-widgets/base",
      "model_module_version": "1.1.0",
      "model_name": "LayoutModel",
      "state": {}
     },
     "c3966f26d20142e6b64593e0eaf2e7c5": {
      "model_module": "@jupyter-widgets/base",
      "model_module_version": "1.1.0",
      "model_name": "LayoutModel",
      "state": {}
     },
     "c3b57482e7b6464d9f333c9f3b250715": {
      "model_module": "@jupyter-widgets/controls",
      "model_module_version": "1.4.0",
      "model_name": "HTMLModel",
      "state": {
       "layout": "IPY_MODEL_34a9eb955cef46088df4a25eb92c0fa0",
       "style": "IPY_MODEL_99c1dfce07554ed8adbc0f9572ce3c82"
      }
     },
     "c3cb757143ea42518aea6ccf888108bb": {
      "model_module": "@jupyter-widgets/controls",
      "model_module_version": "1.4.0",
      "model_name": "DescriptionStyleModel",
      "state": {
       "description_width": ""
      }
     },
     "c3d9fa31be7043f0a8fbe2fd395ca297": {
      "model_module": "@jupyter-widgets/controls",
      "model_module_version": "1.4.0",
      "model_name": "DescriptionStyleModel",
      "state": {
       "description_width": ""
      }
     },
     "c3db9b6c89cf45dca9d64bcc9acafc5c": {
      "model_module": "@jupyter-widgets/base",
      "model_module_version": "1.1.0",
      "model_name": "LayoutModel",
      "state": {}
     },
     "c459d4d8f42540a7986ca1357f409c62": {
      "model_module": "@jupyter-widgets/base",
      "model_module_version": "1.1.0",
      "model_name": "LayoutModel",
      "state": {}
     },
     "c45ac0ed5d964c969f99bf2b1873160c": {
      "model_module": "@jupyter-widgets/base",
      "model_module_version": "1.1.0",
      "model_name": "LayoutModel",
      "state": {}
     },
     "c470e5dc0da746d7ab5d5cd00b974f83": {
      "model_module": "@jupyter-widgets/base",
      "model_module_version": "1.1.0",
      "model_name": "LayoutModel",
      "state": {
       "margin": "20px",
       "visibility": "visible"
      }
     },
     "c4711cfe7d554eee9f9e719d8b4bae25": {
      "model_module": "@jupyter-widgets/controls",
      "model_module_version": "1.4.0",
      "model_name": "ButtonModel",
      "state": {
       "description": "Previous",
       "disabled": true,
       "layout": "IPY_MODEL_6b19ded4a1184fecba85346e4fcee813",
       "style": "IPY_MODEL_9f00aeb5e61e43ab84a8fe602f14da14"
      }
     },
     "c4787d14a12f409d98ef83d3eafd27eb": {
      "model_module": "@jupyter-widgets/controls",
      "model_module_version": "1.4.0",
      "model_name": "HBoxModel",
      "state": {
       "children": [
        "IPY_MODEL_29d5de78af74449e85b523c44ed4f950",
        "IPY_MODEL_8f2286e892114b6191454d70eab38d3b"
       ],
       "layout": "IPY_MODEL_1d468d6e096642ef959aa6cdf04a746b"
      }
     },
     "c479f89677004031820371728667a312": {
      "model_module": "@jupyter-widgets/controls",
      "model_module_version": "1.4.0",
      "model_name": "HBoxModel",
      "state": {
       "children": [
        "IPY_MODEL_ee7685f8165d4e79bfd3f09f888deaea",
        "IPY_MODEL_13c8cc05cadb454bafa6077c564a51f7"
       ],
       "layout": "IPY_MODEL_3977ee8d7e1341299c752cc0a2cd1dfd"
      }
     },
     "c47e1db0c77c4251987ebcb197b44222": {
      "model_module": "@jupyter-widgets/controls",
      "model_module_version": "1.4.0",
      "model_name": "ButtonStyleModel",
      "state": {}
     },
     "c488a406322d4499ba08c8dd32f4d72e": {
      "model_module": "@jupyter-widgets/controls",
      "model_module_version": "1.4.0",
      "model_name": "HTMLModel",
      "state": {
       "layout": "IPY_MODEL_a471d50bb0e1466494e12bdcd13078e6",
       "style": "IPY_MODEL_193c0144442c460aa1494ac32ffb9e0f",
       "value": "\n        <pre>\nqc3 = QuantumCircuit(3,1)\nif a=='1':\n    q1.x(0)\nif b=='1':\n    qc1.x(1)\nqc3.x(0)\nqc3.x(1)\nqc3.x(2)\nqc3.ccx(0,2,1)\nqc3.measure(1,0)\n\nqc3.draw()\n</pre>\n        "
      }
     },
     "c48d547aa04343b1b05ec1004003171e": {
      "model_module": "@jupyter-widgets/base",
      "model_module_version": "1.1.0",
      "model_name": "LayoutModel",
      "state": {}
     },
     "c49d38c023ee4aaf9985ff42d461c548": {
      "model_module": "@jupyter-widgets/controls",
      "model_module_version": "1.4.0",
      "model_name": "VBoxModel",
      "state": {
       "children": [
        "IPY_MODEL_8d7d752fc1c341fcb5b7ff642b470b1e",
        "IPY_MODEL_76f9e00aced3468c9b88430bd944f93a"
       ],
       "layout": "IPY_MODEL_b6a052219a1849bf80c7aa971a49028b"
      }
     },
     "c4a2038c514d4e0385adf28e03ea5fff": {
      "model_module": "@jupyter-widgets/controls",
      "model_module_version": "1.4.0",
      "model_name": "HTMLModel",
      "state": {
       "layout": "IPY_MODEL_03b8755c910f4aeb8f732ac88d5fee45",
       "style": "IPY_MODEL_c88616f9ae764af7be9741356b9f5456",
       "value": "<img src=\"questions/qiskitintro_images/1.png\">"
      }
     },
     "c4b2dfd6d335439da3bb3a7acfa24a2f": {
      "model_module": "@jupyter-widgets/controls",
      "model_module_version": "1.4.0",
      "model_name": "HBoxModel",
      "state": {
       "children": [
        "IPY_MODEL_5854244e42c747fe8bda043a6f43a0a9",
        "IPY_MODEL_c1060765cd5643338abe2b6a799aff4d"
       ],
       "layout": "IPY_MODEL_755dd17ef3c04bc9a544b1bbd360c58d"
      }
     },
     "c4b3b158e3ad4868b4ada9547774b026": {
      "model_module": "@jupyter-widgets/base",
      "model_module_version": "1.1.0",
      "model_name": "LayoutModel",
      "state": {}
     },
     "c4b7f8d64ca442aaaa9646054053f90b": {
      "model_module": "@jupyter-widgets/controls",
      "model_module_version": "1.4.0",
      "model_name": "HTMLModel",
      "state": {
       "layout": "IPY_MODEL_0730ba3403d649ecbd52ca7a10d9b950",
       "style": "IPY_MODEL_e56b0b6d03814ff5a7f2a90f999bde98",
       "value": "<h1>\n       <h4>Which of the following circuits implements an <samp>OR</samp> gate?</h4>\n       <h5>Recall that an <samp>OR</samp> gate outputs 0 when both inputs are 0, and outputs 1 otherwise.<br /><br /></h5>\n       </h1>"
      }
     },
     "c4bba46e9e4641eab2625c285c135dd5": {
      "model_module": "@jupyter-widgets/controls",
      "model_module_version": "1.4.0",
      "model_name": "HTMLModel",
      "state": {
       "layout": "IPY_MODEL_dd76b20c6c8342e8974f41dd6b32b13f",
       "style": "IPY_MODEL_c69b449c0d204422896dba511817f16b",
       "value": "<p><b>Question ID</b>: 1</p>"
      }
     },
     "c4c273c572b14dbe86a2dcb51003cfb4": {
      "model_module": "@jupyter-widgets/controls",
      "model_module_version": "1.4.0",
      "model_name": "HBoxModel",
      "state": {
       "children": [
        "IPY_MODEL_ff38bec439a64cdca8f2cc007a6e7126",
        "IPY_MODEL_343fbfcd002446beb4d02f076955deb2"
       ],
       "layout": "IPY_MODEL_d0119a48d85f42a3989e52fe815f8162"
      }
     },
     "c4c2b0fc3d0b4ec7857cd3876d905375": {
      "model_module": "@jupyter-widgets/base",
      "model_module_version": "1.1.0",
      "model_name": "LayoutModel",
      "state": {
       "margin": "20px",
       "visibility": "visible"
      }
     },
     "c4d45aca280747b8b3a2fd920a1ec2eb": {
      "model_module": "@jupyter-widgets/controls",
      "model_module_version": "1.4.0",
      "model_name": "HTMLModel",
      "state": {
       "layout": "IPY_MODEL_c013eafb288f4587b4b9f3a26de15c72",
       "style": "IPY_MODEL_7223bae651c148dd817ee554dafedf69",
       "value": "<img src=\"http://latex.codecogs.com/svg.latex?\\frac{\\vert0\\rangle+\\vert1\\rangle}{\\sqrt{2}}\" border=\"0\"/>"
      }
     },
     "c53b12dc92964ad78e5ff85c63aae8ba": {
      "model_module": "@jupyter-widgets/controls",
      "model_module_version": "1.4.0",
      "model_name": "HTMLModel",
      "state": {
       "layout": "IPY_MODEL_c238078a31db49659bbd4c4a418d0216",
       "style": "IPY_MODEL_3b17ce57a03041d0aa2a5765e347e723",
       "value": "<b>5</b>)&nbsp;&nbsp;"
      }
     },
     "c57751f9b6084f26bd785dd5773941b7": {
      "model_module": "@jupyter-widgets/base",
      "model_module_version": "1.1.0",
      "model_name": "LayoutModel",
      "state": {
       "margin": "20px",
       "visibility": "visible"
      }
     },
     "c58622ad75784f9ea85111b3c88cc157": {
      "model_module": "@jupyter-widgets/controls",
      "model_module_version": "1.4.0",
      "model_name": "ButtonModel",
      "state": {
       "description": "5",
       "layout": "IPY_MODEL_a835af5760b44547998f2d5f8bf7bed6",
       "style": "IPY_MODEL_f74d48bb85a441d184d0541c89199d4f"
      }
     },
     "c5921ba328634aa9ab88882077a007ee": {
      "model_module": "@jupyter-widgets/controls",
      "model_module_version": "1.4.0",
      "model_name": "HTMLModel",
      "state": {
       "layout": "IPY_MODEL_03be526c4f544cc2932104d2d4a48eb8",
       "style": "IPY_MODEL_0b13469c750946378afadc7c051712e4",
       "value": "15"
      }
     },
     "c59f364b7943452f883603c0b2a20a45": {
      "model_module": "@jupyter-widgets/controls",
      "model_module_version": "1.4.0",
      "model_name": "DescriptionStyleModel",
      "state": {
       "description_width": ""
      }
     },
     "c5a8da1d17e64b7e98043af2879db6f1": {
      "model_module": "@jupyter-widgets/base",
      "model_module_version": "1.1.0",
      "model_name": "LayoutModel",
      "state": {}
     },
     "c6240a99380c4edd80625b5b8a789f15": {
      "model_module": "@jupyter-widgets/controls",
      "model_module_version": "1.4.0",
      "model_name": "ButtonModel",
      "state": {
       "description": "4",
       "layout": "IPY_MODEL_ea0d4587699d40cc98d9d6c1831a6c42",
       "style": "IPY_MODEL_edd409d1206a4f9c9c7ed7490dcf2e91"
      }
     },
     "c63344a693914e85a6b4dd1cc290ea92": {
      "model_module": "@jupyter-widgets/controls",
      "model_module_version": "1.4.0",
      "model_name": "HTMLModel",
      "state": {
       "layout": "IPY_MODEL_f664746d91a74e1295f3a1fdf094a841",
       "style": "IPY_MODEL_78ee77136f2644c0b9b9c28652791477",
       "value": "<p><b>Question ID</b>: 1</p>"
      }
     },
     "c63e0cbe8bb74cccbba4bbbdb5e12ce3": {
      "model_module": "@jupyter-widgets/base",
      "model_module_version": "1.1.0",
      "model_name": "LayoutModel",
      "state": {}
     },
     "c6519a067ac24afe82cb92d54a84dc22": {
      "model_module": "@jupyter-widgets/controls",
      "model_module_version": "1.4.0",
      "model_name": "HTMLModel",
      "state": {
       "layout": "IPY_MODEL_554e5edefaec454fbdf0966d42b2c13b",
       "style": "IPY_MODEL_0a5ec638d47844eb9c84c5021db86122",
       "value": "<b>2</b>)&nbsp;&nbsp;"
      }
     },
     "c67e5f0cd4414b27a712a8c817578266": {
      "model_module": "@jupyter-widgets/controls",
      "model_module_version": "1.4.0",
      "model_name": "HBoxModel",
      "state": {
       "children": [
        "IPY_MODEL_fd2d53f40ce24019b49c848c73c3d13d",
        "IPY_MODEL_3424a59b0a814073a9ee0141debe0842"
       ],
       "layout": "IPY_MODEL_dc56bd2a32f84e79b1a6aa0b8d37d3b3"
      }
     },
     "c69b449c0d204422896dba511817f16b": {
      "model_module": "@jupyter-widgets/controls",
      "model_module_version": "1.4.0",
      "model_name": "DescriptionStyleModel",
      "state": {
       "description_width": ""
      }
     },
     "c6a2aea5abdf4d89aa245409ef5c5e18": {
      "model_module": "@jupyter-widgets/controls",
      "model_module_version": "1.4.0",
      "model_name": "DescriptionStyleModel",
      "state": {
       "description_width": ""
      }
     },
     "c705b5310de84819b594cc2e848329b0": {
      "model_module": "@jupyter-widgets/controls",
      "model_module_version": "1.4.0",
      "model_name": "ButtonModel",
      "state": {
       "description": "Results",
       "layout": "IPY_MODEL_9f76ff98361e4780af8a926f08227841",
       "style": "IPY_MODEL_9c842d3222e74811bdae9448ed32d5e7"
      }
     },
     "c706d2ec4aa84e2b9fd8664cf0d05a59": {
      "model_module": "@jupyter-widgets/base",
      "model_module_version": "1.1.0",
      "model_name": "LayoutModel",
      "state": {
       "margin": "20px",
       "visibility": "visible"
      }
     },
     "c70726dffbd542909ac21d89c56ad79d": {
      "model_module": "@jupyter-widgets/base",
      "model_module_version": "1.1.0",
      "model_name": "LayoutModel",
      "state": {
       "margin": "20px",
       "visibility": "visible"
      }
     },
     "c715a28eb9c64d568bece7aaaa2dd112": {
      "model_module": "@jupyter-widgets/base",
      "model_module_version": "1.1.0",
      "model_name": "LayoutModel",
      "state": {
       "visibility": "hidden"
      }
     },
     "c7204b7db46e4da4a45daabb71e843b9": {
      "model_module": "@jupyter-widgets/controls",
      "model_module_version": "1.4.0",
      "model_name": "HBoxModel",
      "state": {
       "children": [
        "IPY_MODEL_bcda936eaf324dd1bd6b0f16096b06dc",
        "IPY_MODEL_1d692d25581e47d28df4dd254bc893cb",
        "IPY_MODEL_377abcd656b64b4686c8690de6732e9f"
       ],
       "layout": "IPY_MODEL_049c0c50f04d4d55bbb802972d6a69b9"
      }
     },
     "c74f8c37564e4c9bb54076ec0896b52f": {
      "model_module": "@jupyter-widgets/controls",
      "model_module_version": "1.4.0",
      "model_name": "ButtonModel",
      "state": {
       "description": "4",
       "layout": "IPY_MODEL_ee59b9e513ac4b8aa8086c269caf7824",
       "style": "IPY_MODEL_82cc21d0d1784259b88d4bf2a590d3ab"
      }
     },
     "c757b9265a6549ee9035d6854101d8cc": {
      "model_module": "@jupyter-widgets/controls",
      "model_module_version": "1.4.0",
      "model_name": "ButtonModel",
      "state": {
       "description": "1",
       "layout": "IPY_MODEL_635001448e24492a884f76ca99540d1e",
       "style": "IPY_MODEL_8d93296066b040d9a61c3b4e393cf499"
      }
     },
     "c7790bb68f4f4f8c9abc5568f7b52a21": {
      "model_module": "@jupyter-widgets/controls",
      "model_module_version": "1.4.0",
      "model_name": "HBoxModel",
      "state": {
       "children": [
        "IPY_MODEL_87ddea3541d74a84a9e8ea4b00d9d3e4",
        "IPY_MODEL_fe412266bfb24eecbba3653fa0b5d410"
       ],
       "layout": "IPY_MODEL_4eed78ee29c1424b836987fe6a2886b7"
      }
     },
     "c798667528dd4e45b25a84fde2697365": {
      "model_module": "@jupyter-widgets/controls",
      "model_module_version": "1.4.0",
      "model_name": "ButtonModel",
      "state": {
       "description": "Results",
       "layout": "IPY_MODEL_4ed50c3de04e4c968347281ffef1af1f",
       "style": "IPY_MODEL_ddb1dc3fe0f8460690a95b026f2f9b36"
      }
     },
     "c7a7479b5b2e4ce0864bbdcb7f194954": {
      "model_module": "@jupyter-widgets/controls",
      "model_module_version": "1.4.0",
      "model_name": "ButtonModel",
      "state": {
       "description": "Next",
       "layout": "IPY_MODEL_93da83d6b02643b0a4d75af2dce1f7ff",
       "style": "IPY_MODEL_d7a6668cabcf4a318f88ca297d2ad5a6"
      }
     },
     "c7af9dd2847e4163bd329ba4c9ef8fff": {
      "model_module": "@jupyter-widgets/controls",
      "model_module_version": "1.4.0",
      "model_name": "ButtonStyleModel",
      "state": {}
     },
     "c80b0af2cc1e4857a87b13168e901061": {
      "model_module": "@jupyter-widgets/base",
      "model_module_version": "1.1.0",
      "model_name": "LayoutModel",
      "state": {}
     },
     "c8388b2319154d3f8f767e1368fde337": {
      "model_module": "@jupyter-widgets/base",
      "model_module_version": "1.1.0",
      "model_name": "LayoutModel",
      "state": {
       "visibility": "visible"
      }
     },
     "c8517c4bb53b4767b57baa4498d052b6": {
      "model_module": "@jupyter-widgets/base",
      "model_module_version": "1.1.0",
      "model_name": "LayoutModel",
      "state": {}
     },
     "c86547cacd2c49638d1152db690c51b6": {
      "model_module": "@jupyter-widgets/base",
      "model_module_version": "1.1.0",
      "model_name": "LayoutModel",
      "state": {
       "margin": "20px",
       "visibility": "visible"
      }
     },
     "c88616f9ae764af7be9741356b9f5456": {
      "model_module": "@jupyter-widgets/controls",
      "model_module_version": "1.4.0",
      "model_name": "DescriptionStyleModel",
      "state": {
       "description_width": ""
      }
     },
     "c8a01d5e10dc4fb89199e2abb6834e6a": {
      "model_module": "@jupyter-widgets/controls",
      "model_module_version": "1.4.0",
      "model_name": "HTMLModel",
      "state": {
       "layout": "IPY_MODEL_7f56b4814c3e4e14b6d9f01c3a656bf5",
       "style": "IPY_MODEL_136bd0e9f9cd4825853fe82218f318e6",
       "value": "<br/><br clear=\"all\"/><b>Respond</b>: "
      }
     },
     "c8b048eb2559442db981be5a08529724": {
      "model_module": "@jupyter-widgets/controls",
      "model_module_version": "1.4.0",
      "model_name": "HBoxModel",
      "state": {
       "children": [
        "IPY_MODEL_1636b5134b9f4d0c9ed7a1dff4fc24fb",
        "IPY_MODEL_92a4632cd4c048c2a268cf99c35f5c7d"
       ],
       "layout": "IPY_MODEL_a72198fa16364e00beb7a2ad229ac7c9"
      }
     },
     "c8cafe30eb2c4a99bf1f2d8e59ee6c76": {
      "model_module": "@jupyter-widgets/base",
      "model_module_version": "1.1.0",
      "model_name": "LayoutModel",
      "state": {
       "visibility": "hidden"
      }
     },
     "c8dcf91cb7cd487b85ea809b21d25b88": {
      "model_module": "@jupyter-widgets/base",
      "model_module_version": "1.1.0",
      "model_name": "LayoutModel",
      "state": {}
     },
     "c8e76fb4f24f493c8065ec7d0542c763": {
      "model_module": "@jupyter-widgets/base",
      "model_module_version": "1.1.0",
      "model_name": "LayoutModel",
      "state": {
       "margin": "20px",
       "visibility": "visible"
      }
     },
     "c908d4563e644b27a50cb610967590d5": {
      "model_module": "@jupyter-widgets/base",
      "model_module_version": "1.1.0",
      "model_name": "LayoutModel",
      "state": {
       "visibility": "visible"
      }
     },
     "c910666677ed4909b0902a6eba2c91bd": {
      "model_module": "@jupyter-widgets/controls",
      "model_module_version": "1.4.0",
      "model_name": "ButtonStyleModel",
      "state": {}
     },
     "c91def531d9146eea6ac64751639411f": {
      "model_module": "@jupyter-widgets/controls",
      "model_module_version": "1.4.0",
      "model_name": "DescriptionStyleModel",
      "state": {
       "description_width": ""
      }
     },
     "c93262f138cd403b98f8dd0f27f223ef": {
      "model_module": "@jupyter-widgets/controls",
      "model_module_version": "1.4.0",
      "model_name": "HTMLModel",
      "state": {
       "layout": "IPY_MODEL_74de82dcb4d34e2db1cae94aa1b3542c",
       "style": "IPY_MODEL_56393f13db8e48649cf5910b4498089e",
       "value": "Qubits in state <img src=\"http://latex.codecogs.com/svg.latex?\\vert1\\rangle\" border=\"0\"/> decay down to <img src=\"http://latex.codecogs.com/svg.latex?\\vert0\\rangle\" border=\"0\"/> before measurement. The decay time for <samp>qr[0]</samp> is shorter than that for <samp>qr[1]</samp>."
      }
     },
     "c93aa09d1c6c4c6dbb98855c180b4ec6": {
      "model_module": "@jupyter-widgets/base",
      "model_module_version": "1.1.0",
      "model_name": "LayoutModel",
      "state": {}
     },
     "c949d0291d3f4a8ba13b8325d7da676a": {
      "model_module": "@jupyter-widgets/base",
      "model_module_version": "1.1.0",
      "model_name": "LayoutModel",
      "state": {
       "margin": "20px",
       "visibility": "visible"
      }
     },
     "c990759df19f4030b1ca30dc828ae505": {
      "model_module": "@jupyter-widgets/controls",
      "model_module_version": "1.4.0",
      "model_name": "DescriptionStyleModel",
      "state": {
       "description_width": ""
      }
     },
     "c9b114be3d4649ec848c6c53b0a320ec": {
      "model_module": "@jupyter-widgets/base",
      "model_module_version": "1.1.0",
      "model_name": "LayoutModel",
      "state": {}
     },
     "c9c4ec0632b24ef6a05455bedfb244b1": {
      "model_module": "@jupyter-widgets/controls",
      "model_module_version": "1.4.0",
      "model_name": "ButtonModel",
      "state": {
       "description": "1",
       "layout": "IPY_MODEL_db30523325cb470899122e1699937036",
       "style": "IPY_MODEL_f9fe799aca0d4eec9c8d7236d1d62686"
      }
     },
     "c9c5cdd734134930973c353ba6d78d79": {
      "model_module": "@jupyter-widgets/base",
      "model_module_version": "1.1.0",
      "model_name": "LayoutModel",
      "state": {}
     },
     "c9dbd4207cc94193b938716622460887": {
      "model_module": "@jupyter-widgets/controls",
      "model_module_version": "1.4.0",
      "model_name": "VBoxModel",
      "state": {
       "children": [
        "IPY_MODEL_21ae4e8d9f734a82aa164847cf1180fe",
        "IPY_MODEL_8b9d4298c7644df39cc9ff87588c9ecd",
        "IPY_MODEL_af3464825f8d4036bb6499e2cf977c44",
        "IPY_MODEL_ee7079b7b26844d4b25e3b16577a1d82",
        "IPY_MODEL_49f45ec34bb34f10a64fccfceeea560d",
        "IPY_MODEL_0e8f53f911034bb8a0a79872973a63c3",
        "IPY_MODEL_0d7b2bfc4f5d450ba8f2b86e948d3778",
        "IPY_MODEL_fb63621e2bc94751aabf2333d8364af2",
        "IPY_MODEL_54b3ffcdbcd144a1b92721c60b14ce3d"
       ],
       "layout": "IPY_MODEL_c80b0af2cc1e4857a87b13168e901061"
      }
     },
     "ca051cc1953e4143be421656b100896b": {
      "model_module": "@jupyter-widgets/controls",
      "model_module_version": "1.4.0",
      "model_name": "ButtonModel",
      "state": {
       "description": "2",
       "layout": "IPY_MODEL_9569dbff961a49bd9d43067426237d08",
       "style": "IPY_MODEL_f014d7f0515d4d038feef7508cf56e77"
      }
     },
     "ca308f6fcefb4c01979324b291b42cb2": {
      "model_module": "@jupyter-widgets/controls",
      "model_module_version": "1.4.0",
      "model_name": "HTMLModel",
      "state": {
       "layout": "IPY_MODEL_1f6e51642e724adb9b925c3749b4cd10",
       "style": "IPY_MODEL_205660d139a64d74b1e7d0d0debd11b5",
       "value": "All of the above"
      }
     },
     "ca333b3b1f6143949cb90000592d4273": {
      "model_module": "@jupyter-widgets/controls",
      "model_module_version": "1.4.0",
      "model_name": "ButtonStyleModel",
      "state": {}
     },
     "ca3ce97513804d458952a000d2961a11": {
      "model_module": "@jupyter-widgets/controls",
      "model_module_version": "1.4.0",
      "model_name": "ButtonStyleModel",
      "state": {}
     },
     "ca8566a6b0294dc6a06f869871946384": {
      "model_module": "@jupyter-widgets/controls",
      "model_module_version": "1.4.0",
      "model_name": "HBoxModel",
      "state": {
       "children": [
        "IPY_MODEL_768cc22a9ca141eca3ad8149d382139b",
        "IPY_MODEL_495cf671625f4aada686f4daf6898f68"
       ],
       "layout": "IPY_MODEL_0aacea247380410ab00f7c810d1a45d1"
      }
     },
     "ca8634cf04b34defa5475f5f63d83469": {
      "model_module": "@jupyter-widgets/controls",
      "model_module_version": "1.4.0",
      "model_name": "DescriptionStyleModel",
      "state": {
       "description_width": ""
      }
     },
     "cadea74977ec4f41b15cc507d9de57d6": {
      "model_module": "@jupyter-widgets/base",
      "model_module_version": "1.1.0",
      "model_name": "LayoutModel",
      "state": {
       "margin": "20px",
       "visibility": "visible"
      }
     },
     "caebbb122a044137afdae6d7658ca265": {
      "model_module": "@jupyter-widgets/controls",
      "model_module_version": "1.4.0",
      "model_name": "DescriptionStyleModel",
      "state": {
       "description_width": ""
      }
     },
     "cb10ec75f37e4efebdfbaded6b40ea3c": {
      "model_module": "@jupyter-widgets/controls",
      "model_module_version": "1.4.0",
      "model_name": "HBoxModel",
      "state": {
       "children": [
        "IPY_MODEL_e57d0c826e514724931b9c4dbb5ed66f",
        "IPY_MODEL_6c9a1fd421da4b70960fbe67ce254b31"
       ],
       "layout": "IPY_MODEL_4a7040f9221149a8a14a043a7aa2a3cf"
      }
     },
     "cb1842377b60462f8701ac105072c1ca": {
      "model_module": "@jupyter-widgets/controls",
      "model_module_version": "1.4.0",
      "model_name": "DescriptionStyleModel",
      "state": {
       "description_width": ""
      }
     },
     "cb3dcd500c1a4d6ab19dfa611876a25b": {
      "model_module": "@jupyter-widgets/controls",
      "model_module_version": "1.4.0",
      "model_name": "VBoxModel",
      "state": {
       "children": [
        "IPY_MODEL_428efdc6ab88470d87f6266a11557122",
        "IPY_MODEL_2f8a354c07f84a438419027886b71a92"
       ],
       "layout": "IPY_MODEL_edbd2a07cf1a4cb594c505e406975ab6"
      }
     },
     "cb53c6e2a0a7453980242d1195dd10d6": {
      "model_module": "@jupyter-widgets/base",
      "model_module_version": "1.1.0",
      "model_name": "LayoutModel",
      "state": {}
     },
     "cb809f84d8b048bcab7c899460d8c606": {
      "model_module": "@jupyter-widgets/controls",
      "model_module_version": "1.4.0",
      "model_name": "DescriptionStyleModel",
      "state": {
       "description_width": ""
      }
     },
     "cb8d24e3dfb04443a75f45d5164ec187": {
      "model_module": "@jupyter-widgets/controls",
      "model_module_version": "1.4.0",
      "model_name": "DescriptionStyleModel",
      "state": {
       "description_width": ""
      }
     },
     "cb9fc517e53540a8aa572e8e0dc1ba8b": {
      "model_module": "@jupyter-widgets/base",
      "model_module_version": "1.1.0",
      "model_name": "LayoutModel",
      "state": {}
     },
     "cbeae918799b48f3b90245ead1fbc9ca": {
      "model_module": "@jupyter-widgets/base",
      "model_module_version": "1.1.0",
      "model_name": "LayoutModel",
      "state": {
       "margin": "20px",
       "visibility": "visible"
      }
     },
     "cc01dab87f224670829e9056c5aeae68": {
      "model_module": "@jupyter-widgets/base",
      "model_module_version": "1.1.0",
      "model_name": "LayoutModel",
      "state": {
       "visibility": "hidden"
      }
     },
     "cc09d3cd904b443fae921038bfc34acd": {
      "model_module": "@jupyter-widgets/controls",
      "model_module_version": "1.4.0",
      "model_name": "HTMLModel",
      "state": {
       "layout": "IPY_MODEL_2febdc457fce405ebd10920e8bb2e477",
       "style": "IPY_MODEL_a59054f3fb56450e8512d21931a900ce",
       "value": "\n        <pre>\nqc4 = QuantumCircuit(3,1)\nif a=='1':\n    qc4.x(0)\nif b=='1':\n    qc4.x(1)\nqc4.cx(1,0)\nqc4.cx(2,0)\nqc4.x(0)\nqc4.measure(0,0)\n\nqc4.draw()\n</pre>\n        "
      }
     },
     "cc4575b8c87b4bf3b09b888640f9b564": {
      "model_module": "@jupyter-widgets/controls",
      "model_module_version": "1.4.0",
      "model_name": "ButtonStyleModel",
      "state": {}
     },
     "cc5276dfeff4453c8b920a6c5fd74f03": {
      "model_module": "@jupyter-widgets/base",
      "model_module_version": "1.1.0",
      "model_name": "LayoutModel",
      "state": {}
     },
     "ccdfe1c1b0634a5389e73298163f26a7": {
      "model_module": "@jupyter-widgets/base",
      "model_module_version": "1.1.0",
      "model_name": "LayoutModel",
      "state": {}
     },
     "cd04b93627224d3095dd1b9552b3a65d": {
      "model_module": "@jupyter-widgets/base",
      "model_module_version": "1.1.0",
      "model_name": "LayoutModel",
      "state": {}
     },
     "cd10edeba2004d319cd27e93afd55cfe": {
      "model_module": "@jupyter-widgets/base",
      "model_module_version": "1.1.0",
      "model_name": "LayoutModel",
      "state": {
       "visibility": "visible"
      }
     },
     "cd12ef4f8e5246109488012d0fafe370": {
      "model_module": "@jupyter-widgets/controls",
      "model_module_version": "1.4.0",
      "model_name": "ButtonModel",
      "state": {
       "description": "2",
       "layout": "IPY_MODEL_c70726dffbd542909ac21d89c56ad79d",
       "style": "IPY_MODEL_2c31f7287eed4dd58833d75ae9f7e211"
      }
     },
     "cd28342509774ff2ad117577b3bda477": {
      "model_module": "@jupyter-widgets/base",
      "model_module_version": "1.1.0",
      "model_name": "LayoutModel",
      "state": {
       "margin": "20px",
       "visibility": "visible"
      }
     },
     "cd48e1bd2dee4a4598a5a829f3df8e3e": {
      "model_module": "@jupyter-widgets/controls",
      "model_module_version": "1.4.0",
      "model_name": "DescriptionStyleModel",
      "state": {
       "description_width": ""
      }
     },
     "cd5a75bf71ae4c5da6fca47db711817f": {
      "model_module": "@jupyter-widgets/controls",
      "model_module_version": "1.4.0",
      "model_name": "VBoxModel",
      "state": {
       "children": [
        "IPY_MODEL_c4bba46e9e4641eab2625c285c135dd5",
        "IPY_MODEL_c37947398a3d499ba9b541bd7dc71516",
        "IPY_MODEL_f801ee2197ad4b44a265dc119d8ce195",
        "IPY_MODEL_d2a40be52abb4bcf873af071fdeb37da",
        "IPY_MODEL_c17cb2197aad42a9b7718268cd576a0a",
        "IPY_MODEL_7b0886a37efe4ed38da1635f1e809768",
        "IPY_MODEL_2fbf68be5f884d99b2d067300421c473",
        "IPY_MODEL_9c45cace1ebe42ffbe92fc325cd4fda2",
        "IPY_MODEL_9c2229aeeabe49d3a28873521fc517b6"
       ],
       "layout": "IPY_MODEL_3bbb505200374c74832dceea57ea3b1f"
      }
     },
     "cd8657e6267d483cb8b1175e49a3e068": {
      "model_module": "@jupyter-widgets/controls",
      "model_module_version": "1.4.0",
      "model_name": "HTMLModel",
      "state": {
       "layout": "IPY_MODEL_ab1f8962412a4055b01a1223100ff30e",
       "style": "IPY_MODEL_75e7588be9bd4f2faf3fbdbbed6f033e",
       "value": "<b>1</b>)&nbsp;&nbsp;"
      }
     },
     "cd956f428f0e489aabb9ce07d134bdfa": {
      "model_module": "@jupyter-widgets/controls",
      "model_module_version": "1.4.0",
      "model_name": "ButtonStyleModel",
      "state": {}
     },
     "cdab22533d2a4337906df5b0e9f82101": {
      "model_module": "@jupyter-widgets/base",
      "model_module_version": "1.1.0",
      "model_name": "LayoutModel",
      "state": {}
     },
     "cdc82e5a86824cf1a290fe9f7d148d1f": {
      "model_module": "@jupyter-widgets/controls",
      "model_module_version": "1.4.0",
      "model_name": "HTMLModel",
      "state": {
       "layout": "IPY_MODEL_d8eb33881b52463baedc3f846b98547a",
       "style": "IPY_MODEL_1dea2fef84194d26a0c61bb1e8a7c575",
       "value": "<b>5</b>)&nbsp;&nbsp;"
      }
     },
     "cdcf63483797478099734972795f2491": {
      "model_module": "@jupyter-widgets/base",
      "model_module_version": "1.1.0",
      "model_name": "LayoutModel",
      "state": {
       "margin": "20px",
       "visibility": "visible"
      }
     },
     "cde05fb83c9f4b5699210f114af4cc7b": {
      "model_module": "@jupyter-widgets/base",
      "model_module_version": "1.1.0",
      "model_name": "LayoutModel",
      "state": {}
     },
     "ce2c896241d246ee8406855a844db906": {
      "model_module": "@jupyter-widgets/controls",
      "model_module_version": "1.4.0",
      "model_name": "ButtonModel",
      "state": {
       "description": "Previous",
       "disabled": true,
       "layout": "IPY_MODEL_afd1cf83bd354428ada398e31fb596f8",
       "style": "IPY_MODEL_cecadd2114db45809d612f0ab38f605f"
      }
     },
     "ce348a92fa5148a5953bb0a37e3d2555": {
      "model_module": "@jupyter-widgets/controls",
      "model_module_version": "1.4.0",
      "model_name": "VBoxModel",
      "state": {
       "children": [
        "IPY_MODEL_80299c13ed144ab09ea838dd71ae98ff",
        "IPY_MODEL_4edeaced544d4115b69e869416f14539"
       ],
       "layout": "IPY_MODEL_2b7cdfcceed64a7ebfd4b08e0121516e"
      }
     },
     "ce3bb45b8af44537b5d24ced7ebb97d3": {
      "model_module": "@jupyter-widgets/controls",
      "model_module_version": "1.4.0",
      "model_name": "HTMLModel",
      "state": {
       "layout": "IPY_MODEL_b7c4d1befd8e4f198dd84f419211fc66",
       "style": "IPY_MODEL_df1e758f73834108a01a6e08ebd7b370",
       "value": "<b>3</b>)&nbsp;&nbsp;"
      }
     },
     "ce3c4c464c8e48bd858d4a897c591358": {
      "model_module": "@jupyter-widgets/base",
      "model_module_version": "1.1.0",
      "model_name": "LayoutModel",
      "state": {
       "margin": "20px",
       "visibility": "visible"
      }
     },
     "ce48111925a444129b15b2d9f289c871": {
      "model_module": "@jupyter-widgets/base",
      "model_module_version": "1.1.0",
      "model_name": "LayoutModel",
      "state": {}
     },
     "ce585d53947f4d03b3256d83427a1e7d": {
      "model_module": "@jupyter-widgets/controls",
      "model_module_version": "1.4.0",
      "model_name": "VBoxModel",
      "state": {
       "children": [
        "IPY_MODEL_598e18dec5dd45a494643e956567946f",
        "IPY_MODEL_23825dac8fe349b6b4688bfae42b7a65",
        "IPY_MODEL_d47ed7d78b794444a7503283a396374e",
        "IPY_MODEL_265c806114d344c0855ee1f0c5ebe382",
        "IPY_MODEL_938ae3e2c41d4e89b176f625c351c8fe",
        "IPY_MODEL_b7c25ded80344be9bb4b884abbdb93cd",
        "IPY_MODEL_ff7bd561c3014901bd97c8befe2ee6b6",
        "IPY_MODEL_46b114e3b6f24423bec184137b4144d5",
        "IPY_MODEL_90ff24003de641e9a3f85bfc3e22c1e4"
       ],
       "layout": "IPY_MODEL_b22e2e15f9f443069cb32e0b64c7da26"
      }
     },
     "ce99f1aa663e4a6b93068bbe4228949f": {
      "model_module": "@jupyter-widgets/controls",
      "model_module_version": "1.4.0",
      "model_name": "DescriptionStyleModel",
      "state": {
       "description_width": ""
      }
     },
     "cea4a7d50c7a4524a31455aff526d9f6": {
      "model_module": "@jupyter-widgets/controls",
      "model_module_version": "1.4.0",
      "model_name": "DescriptionStyleModel",
      "state": {
       "description_width": ""
      }
     },
     "ceb703a181b44acdb20037e4b5324cf8": {
      "model_module": "@jupyter-widgets/base",
      "model_module_version": "1.1.0",
      "model_name": "LayoutModel",
      "state": {}
     },
     "cecadd2114db45809d612f0ab38f605f": {
      "model_module": "@jupyter-widgets/controls",
      "model_module_version": "1.4.0",
      "model_name": "ButtonStyleModel",
      "state": {}
     },
     "ceeec805fe4148b7b58f06ca63d66c55": {
      "model_module": "@jupyter-widgets/controls",
      "model_module_version": "1.4.0",
      "model_name": "ButtonModel",
      "state": {
       "description": "5",
       "layout": "IPY_MODEL_e0ac3f0e79304f02ba397648462e144e",
       "style": "IPY_MODEL_78e9f28f99ac47668486c6fb9b8df805"
      }
     },
     "cef9cb983ae1489cabf539b1d4d0f6ec": {
      "model_module": "@jupyter-widgets/controls",
      "model_module_version": "1.4.0",
      "model_name": "HTMLModel",
      "state": {
       "layout": "IPY_MODEL_ba77a7f4a7e24ffbab0e0289730ce8c1",
       "style": "IPY_MODEL_34fbda15b1ba4c848d9f0ceff70a5fb0",
       "value": "<b>4</b>)&nbsp;&nbsp;"
      }
     },
     "cf17b919992947379c3d2b13f696a982": {
      "model_module": "@jupyter-widgets/controls",
      "model_module_version": "1.4.0",
      "model_name": "ButtonModel",
      "state": {
       "description": "5",
       "layout": "IPY_MODEL_d88b4288848b4628bd0ec1a3927358a7",
       "style": "IPY_MODEL_4ba0ed290a854f5c8a5cdd72c24b6e01"
      }
     },
     "cf24b68977904f2eb41a2db095632610": {
      "model_module": "@jupyter-widgets/controls",
      "model_module_version": "1.4.0",
      "model_name": "HTMLModel",
      "state": {
       "layout": "IPY_MODEL_d4b09a88d61f480687b34f618220c0ab",
       "style": "IPY_MODEL_5574e5efe76043d694b08db6d443e778",
       "value": "<b>3</b>)&nbsp;&nbsp;"
      }
     },
     "cf2595da80994a0985756eacf1333bf1": {
      "model_module": "@jupyter-widgets/controls",
      "model_module_version": "1.4.0",
      "model_name": "DescriptionStyleModel",
      "state": {
       "description_width": ""
      }
     },
     "cf638fa887da4b8cbb545250b42b6afb": {
      "model_module": "@jupyter-widgets/base",
      "model_module_version": "1.1.0",
      "model_name": "LayoutModel",
      "state": {}
     },
     "cfa5fa3a5aab4ea59fe83ffd69af3cb0": {
      "model_module": "@jupyter-widgets/base",
      "model_module_version": "1.1.0",
      "model_name": "LayoutModel",
      "state": {}
     },
     "cff08d790b3441e39321878df52f88e5": {
      "model_module": "@jupyter-widgets/controls",
      "model_module_version": "1.4.0",
      "model_name": "HTMLModel",
      "state": {
       "layout": "IPY_MODEL_c8517c4bb53b4767b57baa4498d052b6",
       "style": "IPY_MODEL_e9afa4eb721a480ab49821d805999028",
       "value": "<h1><h4>What is the output of the following circuit?<br/><br/><h4> <img align=\"middle\" src=\"questions/gates_images/hx0.png\" width=300px><br/></h1>"
      }
     },
     "d01183c4ca5b4a7fb75ba46c5a480e7d": {
      "model_module": "@jupyter-widgets/controls",
      "model_module_version": "1.4.0",
      "model_name": "ButtonStyleModel",
      "state": {}
     },
     "d0119a48d85f42a3989e52fe815f8162": {
      "model_module": "@jupyter-widgets/base",
      "model_module_version": "1.1.0",
      "model_name": "LayoutModel",
      "state": {
       "visibility": "visible"
      }
     },
     "d0160740511a40e1998c81a052f63cca": {
      "model_module": "@jupyter-widgets/controls",
      "model_module_version": "1.4.0",
      "model_name": "HBoxModel",
      "state": {
       "children": [
        "IPY_MODEL_5a310cc649ca404db6b76f81dc0bb276",
        "IPY_MODEL_38464b535aaa40fd90e9c244147ed27b"
       ],
       "layout": "IPY_MODEL_476520d8e39c419bb372024d959a7855"
      }
     },
     "d01d5bdbd0c34fee9f6e7c31c557480b": {
      "model_module": "@jupyter-widgets/base",
      "model_module_version": "1.1.0",
      "model_name": "LayoutModel",
      "state": {}
     },
     "d020e0bc3f934515b4d155867b8a71df": {
      "model_module": "@jupyter-widgets/controls",
      "model_module_version": "1.4.0",
      "model_name": "ButtonModel",
      "state": {
       "description": "2",
       "layout": "IPY_MODEL_6fc05bc8fbe4428d8b3a94f3e8ea26c3",
       "style": "IPY_MODEL_bd010ce983364dc6b2989e35f77275c3"
      }
     },
     "d0219ecb41434934a6b4cafb73327883": {
      "model_module": "@jupyter-widgets/controls",
      "model_module_version": "1.4.0",
      "model_name": "VBoxModel",
      "state": {
       "children": [
        "IPY_MODEL_d0c666874c584b1c99e326a81c24427c",
        "IPY_MODEL_a3df66a3c6db4a41b200ee2165f7883c"
       ],
       "layout": "IPY_MODEL_a512f8af65a24ce381db3c35ad3eaa4d"
      }
     },
     "d05aa76cc8f5448a939a101d64535065": {
      "model_module": "@jupyter-widgets/controls",
      "model_module_version": "1.4.0",
      "model_name": "DescriptionStyleModel",
      "state": {
       "description_width": ""
      }
     },
     "d0c666874c584b1c99e326a81c24427c": {
      "model_module": "@jupyter-widgets/controls",
      "model_module_version": "1.4.0",
      "model_name": "HTMLModel",
      "state": {
       "layout": "IPY_MODEL_ba6ea60eeec1415a9bd89fe4677fd804",
       "style": "IPY_MODEL_c2ac87d8f93146dc905769ce7a6f315b"
      }
     },
     "d0fa63a2a4af4289a77316f184b0ec15": {
      "model_module": "@jupyter-widgets/controls",
      "model_module_version": "1.4.0",
      "model_name": "DescriptionStyleModel",
      "state": {
       "description_width": ""
      }
     },
     "d183e1f08ab04c72a73db8633cd2544b": {
      "model_module": "@jupyter-widgets/base",
      "model_module_version": "1.1.0",
      "model_name": "LayoutModel",
      "state": {
       "visibility": "visible"
      }
     },
     "d1920f4ca3ae44f8b0516f78ed455c43": {
      "model_module": "@jupyter-widgets/controls",
      "model_module_version": "1.4.0",
      "model_name": "ButtonModel",
      "state": {
       "description": "Next",
       "layout": "IPY_MODEL_9c7ddda0f948423f847f5d8a61d62db9",
       "style": "IPY_MODEL_ca333b3b1f6143949cb90000592d4273"
      }
     },
     "d1a388ffd6584886879d4a4e5943180b": {
      "model_module": "@jupyter-widgets/controls",
      "model_module_version": "1.4.0",
      "model_name": "HBoxModel",
      "state": {
       "children": [
        "IPY_MODEL_dcc35206f940489492b8e607c8bbd089",
        "IPY_MODEL_87d9cb1b87214f88a0d08b38fcc42d42",
        "IPY_MODEL_3861c6e05ee94b15a145d689a0898874",
        "IPY_MODEL_e013de302b234ce39a585e4713807670",
        "IPY_MODEL_fa1d8003380b4258b773acca4157d7ac",
        "IPY_MODEL_a0265d61b7334fbab81056685def4905"
       ],
       "layout": "IPY_MODEL_36cd9281a5554fc6a4387586cf04f8c5"
      }
     },
     "d1adf13eb6eb4971874d4c680fcf2b4a": {
      "model_module": "@jupyter-widgets/controls",
      "model_module_version": "1.4.0",
      "model_name": "HTMLModel",
      "state": {
       "layout": "IPY_MODEL_482a9552a67b4811abe10401bcd9f02d",
       "style": "IPY_MODEL_d27e26219bf64f718f4ef39d04ce94a0",
       "value": "<br/><br clear=\"all\"/><b>Respond</b>: "
      }
     },
     "d1d1308c87764a1dbd58f11933d7c75e": {
      "model_module": "@jupyter-widgets/controls",
      "model_module_version": "1.4.0",
      "model_name": "HTMLModel",
      "state": {
       "layout": "IPY_MODEL_0e0add6302bb46b7bc8d250e58767a2d",
       "style": "IPY_MODEL_e9e908bad99e4ef7a70204e62ad6dd7e",
       "value": "<b>2</b>)&nbsp;&nbsp;"
      }
     },
     "d1d908f496b847039f3cabfeea9a862f": {
      "model_module": "@jupyter-widgets/controls",
      "model_module_version": "1.4.0",
      "model_name": "HBoxModel",
      "state": {
       "children": [
        "IPY_MODEL_8705572a2cf447c0a0327d17f5616846",
        "IPY_MODEL_06274fc4dc9b4d55b99f11257493d955"
       ],
       "layout": "IPY_MODEL_30adfdcc133749cfad504bfce6ff2995"
      }
     },
     "d1df5897b2954e4dab97cd81d983d6e6": {
      "model_module": "@jupyter-widgets/base",
      "model_module_version": "1.1.0",
      "model_name": "LayoutModel",
      "state": {
       "margin": "20px",
       "visibility": "visible"
      }
     },
     "d1e937bc72f04eea91f4657e61ce2ffb": {
      "model_module": "@jupyter-widgets/base",
      "model_module_version": "1.1.0",
      "model_name": "LayoutModel",
      "state": {}
     },
     "d2209299c5e8471cabd3308ebc0c757a": {
      "model_module": "@jupyter-widgets/base",
      "model_module_version": "1.1.0",
      "model_name": "LayoutModel",
      "state": {
       "visibility": "visible"
      }
     },
     "d22a5075a88f41b0924581ef07924aed": {
      "model_module": "@jupyter-widgets/controls",
      "model_module_version": "1.4.0",
      "model_name": "HTMLModel",
      "state": {
       "layout": "IPY_MODEL_53b324eee0604d349eccedb4518b0702",
       "style": "IPY_MODEL_ce99f1aa663e4a6b93068bbe4228949f",
       "value": "<br/><br clear=\"all\"/><b>Respond</b>: "
      }
     },
     "d23ed1530c0b4830a6197c880a037d15": {
      "model_module": "@jupyter-widgets/base",
      "model_module_version": "1.1.0",
      "model_name": "LayoutModel",
      "state": {
       "margin": "20px",
       "visibility": "visible"
      }
     },
     "d25d4fe47e734630bccf4aff5a11a87b": {
      "model_module": "@jupyter-widgets/base",
      "model_module_version": "1.1.0",
      "model_name": "LayoutModel",
      "state": {}
     },
     "d2711771fc0c4fbeb02bd6a48cec2371": {
      "model_module": "@jupyter-widgets/base",
      "model_module_version": "1.1.0",
      "model_name": "LayoutModel",
      "state": {}
     },
     "d27e26219bf64f718f4ef39d04ce94a0": {
      "model_module": "@jupyter-widgets/controls",
      "model_module_version": "1.4.0",
      "model_name": "DescriptionStyleModel",
      "state": {
       "description_width": ""
      }
     },
     "d2a40be52abb4bcf873af071fdeb37da": {
      "model_module": "@jupyter-widgets/controls",
      "model_module_version": "1.4.0",
      "model_name": "HBoxModel",
      "state": {
       "children": [
        "IPY_MODEL_3918f91f747f4e29bd58ded4f0765384",
        "IPY_MODEL_13a205c5cdf64e5590aa72edb039ddb0"
       ],
       "layout": "IPY_MODEL_739f59df9f024497b8440724cd0e2923"
      }
     },
     "d2aac382ee6f424ea65ec1394991d161": {
      "model_module": "@jupyter-widgets/controls",
      "model_module_version": "1.4.0",
      "model_name": "ButtonStyleModel",
      "state": {}
     },
     "d2b8477447f14d569c2e5ab6a9b8b03b": {
      "model_module": "@jupyter-widgets/base",
      "model_module_version": "1.1.0",
      "model_name": "LayoutModel",
      "state": {}
     },
     "d2ca9801add74de3b8755d15a2aacf11": {
      "model_module": "@jupyter-widgets/base",
      "model_module_version": "1.1.0",
      "model_name": "LayoutModel",
      "state": {}
     },
     "d2e4127ca44c45d1a0721a1632d5607b": {
      "model_module": "@jupyter-widgets/controls",
      "model_module_version": "1.4.0",
      "model_name": "ButtonModel",
      "state": {
       "description": "5",
       "layout": "IPY_MODEL_8511f6734f1340ccad1ad35e8e8f61a7",
       "style": "IPY_MODEL_4548bb5b1f16453facb19cab2a21d93c"
      }
     },
     "d2f4fc0c6f3e4bc992f74f8b012d537a": {
      "model_module": "@jupyter-widgets/controls",
      "model_module_version": "1.4.0",
      "model_name": "DescriptionStyleModel",
      "state": {
       "description_width": ""
      }
     },
     "d2fb77327f54446ab6347f61e772c438": {
      "model_module": "@jupyter-widgets/controls",
      "model_module_version": "1.4.0",
      "model_name": "HBoxModel",
      "state": {
       "children": [
        "IPY_MODEL_17c2d23c55ea457bb1e355855873aaad",
        "IPY_MODEL_80ee15751d6b428ebf12930e590f1412"
       ],
       "layout": "IPY_MODEL_b87a791cb68a4661a792616df1517891"
      }
     },
     "d312448f9faa43b2a773b8736047df9c": {
      "model_module": "@jupyter-widgets/controls",
      "model_module_version": "1.4.0",
      "model_name": "HTMLModel",
      "state": {
       "layout": "IPY_MODEL_4a7bd54d15c64219bc528f557439ed50",
       "style": "IPY_MODEL_6682f24773834f5194f00e9e445142c5"
      }
     },
     "d32f383953b94ebe925eedefde2a6780": {
      "model_module": "@jupyter-widgets/controls",
      "model_module_version": "1.4.0",
      "model_name": "ButtonStyleModel",
      "state": {}
     },
     "d34002fcb37446dc9ca292d873c2dfc8": {
      "model_module": "@jupyter-widgets/controls",
      "model_module_version": "1.4.0",
      "model_name": "HBoxModel",
      "state": {
       "children": [
        "IPY_MODEL_497a45ea82c1435bbb506ccdcd693b34",
        "IPY_MODEL_5a0c2197092548bda9e36e5e8a1e4ad6"
       ],
       "layout": "IPY_MODEL_252fe53635d24220b599e2cb1b817d10"
      }
     },
     "d35a7ea4c88749a7b44d2e7db5b0866b": {
      "model_module": "@jupyter-widgets/controls",
      "model_module_version": "1.4.0",
      "model_name": "ButtonStyleModel",
      "state": {}
     },
     "d35b4322d3094899b89e96870dd65e79": {
      "model_module": "@jupyter-widgets/controls",
      "model_module_version": "1.4.0",
      "model_name": "DescriptionStyleModel",
      "state": {
       "description_width": ""
      }
     },
     "d371877e018e4ad3bc4444394033a824": {
      "model_module": "@jupyter-widgets/base",
      "model_module_version": "1.1.0",
      "model_name": "LayoutModel",
      "state": {
       "visibility": "hidden"
      }
     },
     "d3758b8188754fdda073fb3498f38257": {
      "model_module": "@jupyter-widgets/controls",
      "model_module_version": "1.4.0",
      "model_name": "HBoxModel",
      "state": {
       "children": [
        "IPY_MODEL_53c510a55dc84338924e9b1f0615e732",
        "IPY_MODEL_971787ae1edb476ea0c9bf38db12808a",
        "IPY_MODEL_80ec8c90dc304869b18bde9612f68210"
       ],
       "layout": "IPY_MODEL_239f5ea71db2441e85b41cc38a62d4f5"
      }
     },
     "d3b5b31bfcd943aea369d3f4d1829e3f": {
      "model_module": "@jupyter-widgets/base",
      "model_module_version": "1.1.0",
      "model_name": "LayoutModel",
      "state": {}
     },
     "d3e340fccb1c45e3a10787ff2fb1663a": {
      "model_module": "@jupyter-widgets/controls",
      "model_module_version": "1.4.0",
      "model_name": "VBoxModel",
      "state": {
       "children": [
        "IPY_MODEL_c161d60dfba84cf6a6ade0af37442630",
        "IPY_MODEL_27f17a9b688349c2b62cec5b499112f1"
       ],
       "layout": "IPY_MODEL_4981065f0db449ffbe387e587737e24e"
      }
     },
     "d3e9a9a4cee14e1da2860d2214371a75": {
      "model_module": "@jupyter-widgets/base",
      "model_module_version": "1.1.0",
      "model_name": "LayoutModel",
      "state": {}
     },
     "d41618a7b5a74d42871fc649ed936ba3": {
      "model_module": "@jupyter-widgets/controls",
      "model_module_version": "1.4.0",
      "model_name": "ButtonStyleModel",
      "state": {}
     },
     "d420b75abad94821ba59e3c31ccec22e": {
      "model_module": "@jupyter-widgets/base",
      "model_module_version": "1.1.0",
      "model_name": "LayoutModel",
      "state": {}
     },
     "d435684d7a69464792a4f936cc264f9b": {
      "model_module": "@jupyter-widgets/controls",
      "model_module_version": "1.4.0",
      "model_name": "DescriptionStyleModel",
      "state": {
       "description_width": ""
      }
     },
     "d4466d72da794838824d99deafcffb87": {
      "model_module": "@jupyter-widgets/controls",
      "model_module_version": "1.4.0",
      "model_name": "ButtonStyleModel",
      "state": {}
     },
     "d44ab43cb22d488cb63894be1e223953": {
      "model_module": "@jupyter-widgets/output",
      "model_module_version": "1.0.0",
      "model_name": "OutputModel",
      "state": {
       "layout": "IPY_MODEL_663d4fef59614ead90b1aa12ac91424a"
      }
     },
     "d44e68c580bc40d285b3b242ede84801": {
      "model_module": "@jupyter-widgets/base",
      "model_module_version": "1.1.0",
      "model_name": "LayoutModel",
      "state": {}
     },
     "d47ed7d78b794444a7503283a396374e": {
      "model_module": "@jupyter-widgets/controls",
      "model_module_version": "1.4.0",
      "model_name": "HBoxModel",
      "state": {
       "children": [
        "IPY_MODEL_84ab04d2d30347df9d65b7263774e56f",
        "IPY_MODEL_bf7fc57c903d46809851131f517ca949"
       ],
       "layout": "IPY_MODEL_3e12d26890c04bf7aaffeafffbf55149"
      }
     },
     "d4b09a88d61f480687b34f618220c0ab": {
      "model_module": "@jupyter-widgets/base",
      "model_module_version": "1.1.0",
      "model_name": "LayoutModel",
      "state": {}
     },
     "d4c0522475674179a4257fe0c3b9a6b2": {
      "model_module": "@jupyter-widgets/controls",
      "model_module_version": "1.4.0",
      "model_name": "HBoxModel",
      "state": {
       "children": [
        "IPY_MODEL_abc413ecf63e42ff897a368244160014",
        "IPY_MODEL_878eef13cfc74bae856b1a15f8fc5a88"
       ],
       "layout": "IPY_MODEL_1aa889c8b5104163a850c518f971db91"
      }
     },
     "d4cd7eddfe5c4e7b8bf587f1d641dffa": {
      "model_module": "@jupyter-widgets/controls",
      "model_module_version": "1.4.0",
      "model_name": "DescriptionStyleModel",
      "state": {
       "description_width": ""
      }
     },
     "d50546d7e26f47ef9c24f05442087c67": {
      "model_module": "@jupyter-widgets/controls",
      "model_module_version": "1.4.0",
      "model_name": "DescriptionStyleModel",
      "state": {
       "description_width": ""
      }
     },
     "d5254736944b4cb8be844e994a71e4d9": {
      "model_module": "@jupyter-widgets/controls",
      "model_module_version": "1.4.0",
      "model_name": "ButtonStyleModel",
      "state": {}
     },
     "d54b67716b364794badeba50c49efaf2": {
      "model_module": "@jupyter-widgets/controls",
      "model_module_version": "1.4.0",
      "model_name": "DescriptionStyleModel",
      "state": {
       "description_width": ""
      }
     },
     "d568d3f71ea64917be9bfca873c79ac8": {
      "model_module": "@jupyter-widgets/controls",
      "model_module_version": "1.4.0",
      "model_name": "DescriptionStyleModel",
      "state": {
       "description_width": ""
      }
     },
     "d5701dcc606d4b30bb1b4280b3605120": {
      "model_module": "@jupyter-widgets/controls",
      "model_module_version": "1.4.0",
      "model_name": "DescriptionStyleModel",
      "state": {
       "description_width": ""
      }
     },
     "d5862cf63a7d4c7cbc852b378095f91b": {
      "model_module": "@jupyter-widgets/controls",
      "model_module_version": "1.4.0",
      "model_name": "ButtonStyleModel",
      "state": {}
     },
     "d589961a3eaf455c8b978468ed7058ab": {
      "model_module": "@jupyter-widgets/base",
      "model_module_version": "1.1.0",
      "model_name": "LayoutModel",
      "state": {}
     },
     "d5af36bd9552426c9c599e46e2bb7586": {
      "model_module": "@jupyter-widgets/base",
      "model_module_version": "1.1.0",
      "model_name": "LayoutModel",
      "state": {}
     },
     "d5b9ec906f894bf3b52db92fa03e1229": {
      "model_module": "@jupyter-widgets/base",
      "model_module_version": "1.1.0",
      "model_name": "LayoutModel",
      "state": {
       "margin": "20px",
       "visibility": "visible"
      }
     },
     "d5c030126c354b1fb4e4e381928a813f": {
      "model_module": "@jupyter-widgets/base",
      "model_module_version": "1.1.0",
      "model_name": "LayoutModel",
      "state": {}
     },
     "d5c80fb131f14bf594ab2e98cb299c5f": {
      "model_module": "@jupyter-widgets/base",
      "model_module_version": "1.1.0",
      "model_name": "LayoutModel",
      "state": {
       "margin": "20px",
       "visibility": "visible"
      }
     },
     "d5ccb296f4db4482b4be055e5bb58ca9": {
      "model_module": "@jupyter-widgets/base",
      "model_module_version": "1.1.0",
      "model_name": "LayoutModel",
      "state": {}
     },
     "d5fddbbf7e3043e3a02ec0b7309c22e2": {
      "model_module": "@jupyter-widgets/controls",
      "model_module_version": "1.4.0",
      "model_name": "HTMLModel",
      "state": {
       "layout": "IPY_MODEL_fa5cdfed8b7049be933c40bf812ab6d3",
       "style": "IPY_MODEL_8bdeba7a4e314aa3a7a9d8e2e3f40da9",
       "value": "\n        <pre>\nqc3 = QuantumCircuit(3,1)\nif a=='1':\n    q1.x(0)\nif b=='1':\n    qc1.x(1)\nqc3.x(0)\nqc3.x(1)\nqc3.x(2)\nqc3.ccx(0,2,1)\nqc3.measure(1,0)\n\nqc3.draw()\n</pre>\n        "
      }
     },
     "d608449d01cf46e69fd0075824735d5f": {
      "model_module": "@jupyter-widgets/base",
      "model_module_version": "1.1.0",
      "model_name": "LayoutModel",
      "state": {
       "visibility": "visible"
      }
     },
     "d643959e0b8a444d8c4453bb7c90b28a": {
      "model_module": "@jupyter-widgets/controls",
      "model_module_version": "1.4.0",
      "model_name": "DescriptionStyleModel",
      "state": {
       "description_width": ""
      }
     },
     "d65cd934f83d438aa7f762deef0a27c8": {
      "model_module": "@jupyter-widgets/base",
      "model_module_version": "1.1.0",
      "model_name": "LayoutModel",
      "state": {}
     },
     "d6b606cc7341424d95138922ad7d3734": {
      "model_module": "@jupyter-widgets/controls",
      "model_module_version": "1.4.0",
      "model_name": "HTMLModel",
      "state": {
       "layout": "IPY_MODEL_fa5f11452e70498f827cae1f67f4e97e",
       "style": "IPY_MODEL_36125837dac646679d0bcb9e7591e338"
      }
     },
     "d6f906f52a294e208b094d5075ffb894": {
      "model_module": "@jupyter-widgets/controls",
      "model_module_version": "1.4.0",
      "model_name": "HBoxModel",
      "state": {
       "children": [
        "IPY_MODEL_f93f331b63fb4c218fd874112542af6c",
        "IPY_MODEL_95a664ff413b413997ff370c523608cb"
       ],
       "layout": "IPY_MODEL_0e4a45841f984ad0a8ef8d524abbe797"
      }
     },
     "d6ff5999febd4bd3a5d305ca5d82e543": {
      "model_module": "@jupyter-widgets/controls",
      "model_module_version": "1.4.0",
      "model_name": "ButtonModel",
      "state": {
       "description": "1",
       "layout": "IPY_MODEL_491d0260beae452c8f41effc6b992974",
       "style": "IPY_MODEL_c2bccddc34e64385905a8a1fb81a8e4b"
      }
     },
     "d7284fc74b8c421f8791c2428c066387": {
      "model_module": "@jupyter-widgets/controls",
      "model_module_version": "1.4.0",
      "model_name": "ButtonStyleModel",
      "state": {}
     },
     "d73c9c82cfbc422caddd6aeb34a4cde1": {
      "model_module": "@jupyter-widgets/controls",
      "model_module_version": "1.4.0",
      "model_name": "DescriptionStyleModel",
      "state": {
       "description_width": ""
      }
     },
     "d776a7ee48a44840b95ce8fc46e16132": {
      "model_module": "@jupyter-widgets/controls",
      "model_module_version": "1.4.0",
      "model_name": "ButtonModel",
      "state": {
       "description": "Results",
       "layout": "IPY_MODEL_641474cca5514cbfbb77ff67f45dfcc9",
       "style": "IPY_MODEL_0a52054156b547d6bda86f54553f58b4"
      }
     },
     "d7795a1132c24550bd0e05184ec1d385": {
      "model_module": "@jupyter-widgets/controls",
      "model_module_version": "1.4.0",
      "model_name": "DescriptionStyleModel",
      "state": {
       "description_width": ""
      }
     },
     "d790dfb705704da4b99d30dd7d011b8c": {
      "model_module": "@jupyter-widgets/controls",
      "model_module_version": "1.4.0",
      "model_name": "DescriptionStyleModel",
      "state": {
       "description_width": ""
      }
     },
     "d7a6668cabcf4a318f88ca297d2ad5a6": {
      "model_module": "@jupyter-widgets/controls",
      "model_module_version": "1.4.0",
      "model_name": "ButtonStyleModel",
      "state": {}
     },
     "d80c6661fee94c3a8f318655bab9e3cf": {
      "model_module": "@jupyter-widgets/controls",
      "model_module_version": "1.4.0",
      "model_name": "HBoxModel",
      "state": {
       "children": [
        "IPY_MODEL_46855e6fb8aa43f9aacfb8e48f9cd731",
        "IPY_MODEL_2c212a05fe084f149db7eeba060ff7d2"
       ],
       "layout": "IPY_MODEL_a62875e072f343f885cc3cf63f45e9b6"
      }
     },
     "d85e413020e44de492f67e7b4fb0696e": {
      "model_module": "@jupyter-widgets/controls",
      "model_module_version": "1.4.0",
      "model_name": "HTMLModel",
      "state": {
       "layout": "IPY_MODEL_356d204848594fe28f30a2b7a15a493b",
       "style": "IPY_MODEL_8358abb14c934b64a2844c2437a3598a",
       "value": "<br/><br clear=\"all\"/><b>Respond</b>: "
      }
     },
     "d8715ced003843ef8f0b9de84ee6acfd": {
      "model_module": "@jupyter-widgets/controls",
      "model_module_version": "1.4.0",
      "model_name": "ButtonModel",
      "state": {
       "description": "4",
       "layout": "IPY_MODEL_b4ea4691221b444abdb20aef84cacca4",
       "style": "IPY_MODEL_83cc45df230243609ff17531398809b2"
      }
     },
     "d88b4288848b4628bd0ec1a3927358a7": {
      "model_module": "@jupyter-widgets/base",
      "model_module_version": "1.1.0",
      "model_name": "LayoutModel",
      "state": {
       "margin": "20px",
       "visibility": "visible"
      }
     },
     "d8ae400b60014e93b5326929fc6635b8": {
      "model_module": "@jupyter-widgets/controls",
      "model_module_version": "1.4.0",
      "model_name": "HTMLModel",
      "state": {
       "layout": "IPY_MODEL_36d5b1d5fa3f43788566514edfdb936e",
       "style": "IPY_MODEL_39584d320acf4a339b1b4e03e91662e0",
       "value": "<br/><br clear=\"all\"/><b>Respond</b>: "
      }
     },
     "d8bd2af8bc594c04a071a4d65406e1de": {
      "model_module": "@jupyter-widgets/controls",
      "model_module_version": "1.4.0",
      "model_name": "HTMLModel",
      "state": {
       "layout": "IPY_MODEL_1cb7123a60de44cf91b986c090c57a26",
       "style": "IPY_MODEL_d643959e0b8a444d8c4453bb7c90b28a",
       "value": "A library defining quantum circuits and registers"
      }
     },
     "d8ca4b736d2844a79dcdeb03c2aea0b8": {
      "model_module": "@jupyter-widgets/controls",
      "model_module_version": "1.4.0",
      "model_name": "ButtonModel",
      "state": {
       "description": "1",
       "layout": "IPY_MODEL_53388cb4a69d4451990389957d4ad5a8",
       "style": "IPY_MODEL_00f872c8110a4ce4a44e7baebd637d15"
      }
     },
     "d8eb33881b52463baedc3f846b98547a": {
      "model_module": "@jupyter-widgets/base",
      "model_module_version": "1.1.0",
      "model_name": "LayoutModel",
      "state": {}
     },
     "d8edab111f6949f4a2bbe6cf83be5a46": {
      "model_module": "@jupyter-widgets/base",
      "model_module_version": "1.1.0",
      "model_name": "LayoutModel",
      "state": {}
     },
     "d8fae6b076aa4a5f80516701b66dfb25": {
      "model_module": "@jupyter-widgets/controls",
      "model_module_version": "1.4.0",
      "model_name": "DescriptionStyleModel",
      "state": {
       "description_width": ""
      }
     },
     "d927ee512e354b77a1c27efeef4a8e89": {
      "model_module": "@jupyter-widgets/controls",
      "model_module_version": "1.4.0",
      "model_name": "HTMLModel",
      "state": {
       "layout": "IPY_MODEL_ceb703a181b44acdb20037e4b5324cf8",
       "style": "IPY_MODEL_e90c8d1acac94c3c9e7e393eb3cd66bf",
       "value": "<p><b>Question ID</b>: 1</p>"
      }
     },
     "d978f4ea021c4511bcaa895841e7b5e4": {
      "model_module": "@jupyter-widgets/controls",
      "model_module_version": "1.4.0",
      "model_name": "HTMLModel",
      "state": {
       "layout": "IPY_MODEL_c459d4d8f42540a7986ca1357f409c62",
       "style": "IPY_MODEL_20fc6aec34714b439e36f19bb6f13ed6",
       "value": "<p><b>Question ID</b>: 1</p>"
      }
     },
     "d97d79efaf9c41f0b9c5efa4c6490658": {
      "model_module": "@jupyter-widgets/controls",
      "model_module_version": "1.4.0",
      "model_name": "ButtonStyleModel",
      "state": {}
     },
     "d99b1985b9bd418eac18c69dd452b970": {
      "model_module": "@jupyter-widgets/base",
      "model_module_version": "1.1.0",
      "model_name": "LayoutModel",
      "state": {
       "visibility": "hidden"
      }
     },
     "da84b45f1b7144ffa99565af0895d6ad": {
      "model_module": "@jupyter-widgets/controls",
      "model_module_version": "1.4.0",
      "model_name": "HBoxModel",
      "state": {
       "children": [
        "IPY_MODEL_fd97e18af9dd4643912f10d3db103efa",
        "IPY_MODEL_c488a406322d4499ba08c8dd32f4d72e"
       ],
       "layout": "IPY_MODEL_9367c559e5a54b7f86f6a01992a7a483"
      }
     },
     "da9a4c2fc87b4427862145344ca2106d": {
      "model_module": "@jupyter-widgets/controls",
      "model_module_version": "1.4.0",
      "model_name": "HTMLModel",
      "state": {
       "layout": "IPY_MODEL_23ddf70788b641669f8364dd77c0ef86",
       "style": "IPY_MODEL_d05aa76cc8f5448a939a101d64535065",
       "value": "Both 2 & 3 are possible"
      }
     },
     "dad05d85dc484b8fa90deaae89acc6f9": {
      "model_module": "@jupyter-widgets/base",
      "model_module_version": "1.1.0",
      "model_name": "LayoutModel",
      "state": {}
     },
     "db283009302e43cea1457dd33b1777a5": {
      "model_module": "@jupyter-widgets/controls",
      "model_module_version": "1.4.0",
      "model_name": "HTMLModel",
      "state": {
       "layout": "IPY_MODEL_dfc31f6b3c2d4cc089c8e0537edd2f3f",
       "style": "IPY_MODEL_78bdd1fcc837412d9a663494c6f2e58d",
       "value": "<b>5</b>)&nbsp;&nbsp;"
      }
     },
     "db289278976b49ad96081fb61d70f09c": {
      "model_module": "@jupyter-widgets/base",
      "model_module_version": "1.1.0",
      "model_name": "LayoutModel",
      "state": {
       "visibility": "visible"
      }
     },
     "db2db587097e4071ab5406b08cee0dfa": {
      "model_module": "@jupyter-widgets/controls",
      "model_module_version": "1.4.0",
      "model_name": "HTMLModel",
      "state": {
       "layout": "IPY_MODEL_eca26dfbce3d4a4f87e72131d80c6021",
       "style": "IPY_MODEL_849a1ef0b1c6430e84e5c4b1bbc1b7da",
       "value": "None of the above"
      }
     },
     "db30523325cb470899122e1699937036": {
      "model_module": "@jupyter-widgets/base",
      "model_module_version": "1.1.0",
      "model_name": "LayoutModel",
      "state": {
       "margin": "20px",
       "visibility": "visible"
      }
     },
     "db32f59e91f54f07b226ef23ae287f09": {
      "model_module": "@jupyter-widgets/base",
      "model_module_version": "1.1.0",
      "model_name": "LayoutModel",
      "state": {}
     },
     "db3ae53c4f5d45e88ae599b49e3ac614": {
      "model_module": "@jupyter-widgets/base",
      "model_module_version": "1.1.0",
      "model_name": "LayoutModel",
      "state": {
       "visibility": "hidden"
      }
     },
     "db515cb0f57a4f3bb4067ef835496b52": {
      "model_module": "@jupyter-widgets/controls",
      "model_module_version": "1.4.0",
      "model_name": "ButtonModel",
      "state": {
       "description": "3",
       "layout": "IPY_MODEL_aebe5102bade485eb3b1ecd99b8763b5",
       "style": "IPY_MODEL_a5ac8779ef9240cc95cb4553f304778e"
      }
     },
     "db5226e8e870428f8e59d634984104f5": {
      "model_module": "@jupyter-widgets/base",
      "model_module_version": "1.1.0",
      "model_name": "LayoutModel",
      "state": {}
     },
     "db564fdb403c4d099efcadaf776870a0": {
      "model_module": "@jupyter-widgets/base",
      "model_module_version": "1.1.0",
      "model_name": "LayoutModel",
      "state": {
       "visibility": "visible"
      }
     },
     "db7316e19db94abfa6f876b0348eb481": {
      "model_module": "@jupyter-widgets/base",
      "model_module_version": "1.1.0",
      "model_name": "LayoutModel",
      "state": {}
     },
     "db911e1bd87143cab0d7fb454aeabf86": {
      "model_module": "@jupyter-widgets/controls",
      "model_module_version": "1.4.0",
      "model_name": "ButtonModel",
      "state": {
       "description": "Previous",
       "disabled": true,
       "layout": "IPY_MODEL_30105d10a7ac4bc3acd2904d22524797",
       "style": "IPY_MODEL_93cc794eed9c40da8bd9b759fa3f2f1b"
      }
     },
     "dbc4a486b19841fdb6b995eeef12ac8a": {
      "model_module": "@jupyter-widgets/controls",
      "model_module_version": "1.4.0",
      "model_name": "ButtonModel",
      "state": {
       "description": "Next",
       "layout": "IPY_MODEL_3ae545c46b254ef7ab4071f0f078bccd",
       "style": "IPY_MODEL_79068e887682400dabc25cd265c8b6c1"
      }
     },
     "dbffa68fb6454d4dbce9ab798c77de48": {
      "model_module": "@jupyter-widgets/controls",
      "model_module_version": "1.4.0",
      "model_name": "DescriptionStyleModel",
      "state": {
       "description_width": ""
      }
     },
     "dc1d43820b21469a8bb712ea87f05040": {
      "model_module": "@jupyter-widgets/base",
      "model_module_version": "1.1.0",
      "model_name": "LayoutModel",
      "state": {}
     },
     "dc56bd2a32f84e79b1a6aa0b8d37d3b3": {
      "model_module": "@jupyter-widgets/base",
      "model_module_version": "1.1.0",
      "model_name": "LayoutModel",
      "state": {
       "visibility": "visible"
      }
     },
     "dc5ee2ad2f5540169afcdfa23b23455c": {
      "model_module": "@jupyter-widgets/base",
      "model_module_version": "1.1.0",
      "model_name": "LayoutModel",
      "state": {}
     },
     "dc5f7967aac5468791cf911dac0af98f": {
      "model_module": "@jupyter-widgets/controls",
      "model_module_version": "1.4.0",
      "model_name": "DescriptionStyleModel",
      "state": {
       "description_width": ""
      }
     },
     "dc977d33a5c740a4b8b28c8a01f33a89": {
      "model_module": "@jupyter-widgets/controls",
      "model_module_version": "1.4.0",
      "model_name": "ButtonStyleModel",
      "state": {}
     },
     "dca097914afc48e5926df876209a9368": {
      "model_module": "@jupyter-widgets/controls",
      "model_module_version": "1.4.0",
      "model_name": "DescriptionStyleModel",
      "state": {
       "description_width": ""
      }
     },
     "dcc35206f940489492b8e607c8bbd089": {
      "model_module": "@jupyter-widgets/controls",
      "model_module_version": "1.4.0",
      "model_name": "HTMLModel",
      "state": {
       "layout": "IPY_MODEL_566161e9efb44eb984c43c778aec4c97",
       "style": "IPY_MODEL_cb8d24e3dfb04443a75f45d5164ec187",
       "value": "<br/><br clear=\"all\"/><b>Respond</b>: "
      }
     },
     "dd04eb9f0da14c9990f9ad049a485bbc": {
      "model_module": "@jupyter-widgets/base",
      "model_module_version": "1.1.0",
      "model_name": "LayoutModel",
      "state": {}
     },
     "dd64df830aeb416287da1d7d7e64e022": {
      "model_module": "@jupyter-widgets/base",
      "model_module_version": "1.1.0",
      "model_name": "LayoutModel",
      "state": {}
     },
     "dd76b20c6c8342e8974f41dd6b32b13f": {
      "model_module": "@jupyter-widgets/base",
      "model_module_version": "1.1.0",
      "model_name": "LayoutModel",
      "state": {}
     },
     "dda58888f1a64948bc80c4df59be8818": {
      "model_module": "@jupyter-widgets/controls",
      "model_module_version": "1.4.0",
      "model_name": "HTMLModel",
      "state": {
       "layout": "IPY_MODEL_566d33f8664f4b61bb2ee25a213aae64",
       "style": "IPY_MODEL_781b9e53a33b453dbb368cefc9db6dba",
       "value": "Qubits in state <img src=\"http://latex.codecogs.com/svg.latex?\\vert0\\rangle\" border=\"0\"/> decay down to <img src=\"http://latex.codecogs.com/svg.latex?\\vert1\\rangle\" border=\"0\"/> before measurement. The decay time for <samp>qr[0]</samp> is longer than that for <samp>qr[1]</samp>."
      }
     },
     "ddb1dc3fe0f8460690a95b026f2f9b36": {
      "model_module": "@jupyter-widgets/controls",
      "model_module_version": "1.4.0",
      "model_name": "ButtonStyleModel",
      "state": {}
     },
     "ddbb646593d04e4aa75159e1aa02cc1f": {
      "model_module": "@jupyter-widgets/controls",
      "model_module_version": "1.4.0",
      "model_name": "DescriptionStyleModel",
      "state": {
       "description_width": ""
      }
     },
     "ddce566ace454754b963ad2fcbc9a3c6": {
      "model_module": "@jupyter-widgets/controls",
      "model_module_version": "1.4.0",
      "model_name": "ButtonModel",
      "state": {
       "description": "2",
       "layout": "IPY_MODEL_5c131f3e6bda431a82cdb6fb5cb14ec5",
       "style": "IPY_MODEL_9d226a0713524d17bc3a50c24131ae4b"
      }
     },
     "ddd0dda0ccd940f59a8d0e8302e5c6c3": {
      "model_module": "@jupyter-widgets/controls",
      "model_module_version": "1.4.0",
      "model_name": "DescriptionStyleModel",
      "state": {
       "description_width": ""
      }
     },
     "ddfb70e705354441a903d2c003742e3c": {
      "model_module": "@jupyter-widgets/controls",
      "model_module_version": "1.4.0",
      "model_name": "ButtonModel",
      "state": {
       "description": "3",
       "layout": "IPY_MODEL_c949d0291d3f4a8ba13b8325d7da676a",
       "style": "IPY_MODEL_6c5cbb74cf1a4155b73b23fb35b9a53d"
      }
     },
     "de1f08a2e6234ff3bc48a70a1fc84a22": {
      "model_module": "@jupyter-widgets/base",
      "model_module_version": "1.1.0",
      "model_name": "LayoutModel",
      "state": {}
     },
     "de43df5263f24af8888efa820a2ca3a8": {
      "model_module": "@jupyter-widgets/controls",
      "model_module_version": "1.4.0",
      "model_name": "DescriptionStyleModel",
      "state": {
       "description_width": ""
      }
     },
     "de7cf8edc509497c83fb8cd2ef2a3920": {
      "model_module": "@jupyter-widgets/controls",
      "model_module_version": "1.4.0",
      "model_name": "ButtonStyleModel",
      "state": {}
     },
     "dea6e6514f5d4bb59c7aa64bcd5264d7": {
      "model_module": "@jupyter-widgets/controls",
      "model_module_version": "1.4.0",
      "model_name": "ButtonStyleModel",
      "state": {}
     },
     "dec23ce543834ed2b733013cdbd978b9": {
      "model_module": "@jupyter-widgets/controls",
      "model_module_version": "1.4.0",
      "model_name": "DescriptionStyleModel",
      "state": {
       "description_width": ""
      }
     },
     "dec65498e3604846964642407a4d22f8": {
      "model_module": "@jupyter-widgets/base",
      "model_module_version": "1.1.0",
      "model_name": "LayoutModel",
      "state": {}
     },
     "dee9fed2b17e4d5d84299e284529841f": {
      "model_module": "@jupyter-widgets/controls",
      "model_module_version": "1.4.0",
      "model_name": "DescriptionStyleModel",
      "state": {
       "description_width": ""
      }
     },
     "df0a133a2d54428fadf90dcedf731004": {
      "model_module": "@jupyter-widgets/base",
      "model_module_version": "1.1.0",
      "model_name": "LayoutModel",
      "state": {
       "visibility": "visible"
      }
     },
     "df1e758f73834108a01a6e08ebd7b370": {
      "model_module": "@jupyter-widgets/controls",
      "model_module_version": "1.4.0",
      "model_name": "DescriptionStyleModel",
      "state": {
       "description_width": ""
      }
     },
     "df254dd8d7ab4312b8afa43de959695c": {
      "model_module": "@jupyter-widgets/controls",
      "model_module_version": "1.4.0",
      "model_name": "DescriptionStyleModel",
      "state": {
       "description_width": ""
      }
     },
     "df56742aae7248129699b5f9fd6bb04f": {
      "model_module": "@jupyter-widgets/output",
      "model_module_version": "1.0.0",
      "model_name": "OutputModel",
      "state": {
       "layout": "IPY_MODEL_5ca92aa3242c48008df5f82462b655e8"
      }
     },
     "df869d9dc2054c719666e156c794bde5": {
      "model_module": "@jupyter-widgets/controls",
      "model_module_version": "1.4.0",
      "model_name": "DescriptionStyleModel",
      "state": {
       "description_width": ""
      }
     },
     "dfc31f6b3c2d4cc089c8e0537edd2f3f": {
      "model_module": "@jupyter-widgets/base",
      "model_module_version": "1.1.0",
      "model_name": "LayoutModel",
      "state": {}
     },
     "e005d44de3b04f9e9c4648361c67ccf3": {
      "model_module": "@jupyter-widgets/controls",
      "model_module_version": "1.4.0",
      "model_name": "ButtonModel",
      "state": {
       "description": "3",
       "layout": "IPY_MODEL_a0e1b2f109874328a1e3368a054dab11",
       "style": "IPY_MODEL_014461b5927c4c2bae220cf1f425012b"
      }
     },
     "e013de302b234ce39a585e4713807670": {
      "model_module": "@jupyter-widgets/controls",
      "model_module_version": "1.4.0",
      "model_name": "ButtonModel",
      "state": {
       "description": "3",
       "layout": "IPY_MODEL_c3328ee0edf24300b428300868f2f775",
       "style": "IPY_MODEL_33f0e673fd9e4f48a90a8848361bf4aa"
      }
     },
     "e02782bb94654a3599df570908c5c1b1": {
      "model_module": "@jupyter-widgets/controls",
      "model_module_version": "1.4.0",
      "model_name": "HTMLModel",
      "state": {
       "layout": "IPY_MODEL_68fd4f4981314dd79077e4ea3d3ae94e",
       "style": "IPY_MODEL_e14b1f74d2444d1bb2b40fa15de9a6bf",
       "value": "<b>5</b>)&nbsp;&nbsp;"
      }
     },
     "e02d3f0e001e4ff08f60e055d6fb25d4": {
      "model_module": "@jupyter-widgets/controls",
      "model_module_version": "1.4.0",
      "model_name": "DescriptionStyleModel",
      "state": {
       "description_width": ""
      }
     },
     "e03855cda9db4c64904f3325d37ad5fe": {
      "model_module": "@jupyter-widgets/controls",
      "model_module_version": "1.4.0",
      "model_name": "ButtonModel",
      "state": {
       "description": "2",
       "layout": "IPY_MODEL_a3d03d62e06a4c89b379600972257e79",
       "style": "IPY_MODEL_9864c215972c45d4b1e02766adf7919d"
      }
     },
     "e072711c07874e869f1d6cb3dc17dc2a": {
      "model_module": "@jupyter-widgets/base",
      "model_module_version": "1.1.0",
      "model_name": "LayoutModel",
      "state": {}
     },
     "e0ac3f0e79304f02ba397648462e144e": {
      "model_module": "@jupyter-widgets/base",
      "model_module_version": "1.1.0",
      "model_name": "LayoutModel",
      "state": {
       "margin": "20px",
       "visibility": "visible"
      }
     },
     "e0bee317ce174056bb89fc3d1a03dd13": {
      "model_module": "@jupyter-widgets/output",
      "model_module_version": "1.0.0",
      "model_name": "OutputModel",
      "state": {
       "layout": "IPY_MODEL_be22213ec3a440b7af68717bcc349f51"
      }
     },
     "e0c2848c4c0240f29d82a40bec5225f3": {
      "model_module": "@jupyter-widgets/controls",
      "model_module_version": "1.4.0",
      "model_name": "ButtonStyleModel",
      "state": {}
     },
     "e0f02c903e314e01940d9d44f708da16": {
      "model_module": "@jupyter-widgets/controls",
      "model_module_version": "1.4.0",
      "model_name": "HTMLModel",
      "state": {
       "layout": "IPY_MODEL_e15b73272c3b4c74be0ba030b1319d57",
       "style": "IPY_MODEL_44542b30c860413fb1b1d5cf7823a7ae",
       "value": "<h1>\n       <h4>How many gates are in the quantum circuit that results from transpiling the following quantum circuit \n       using only the pass <pre>BasicSwapMapper?</pre> <br/>\n       \n       Assume the following coupling map: <br/><br/>\n       <pre>\n[[0, 1], [1, 2], [2, 3], [3, 4]]\n       </pre></h4>\n       <pre>\nqr = QuantumRegister(5, 'q') \ntpl_circuit = QuantumCircuit(qr)\ntpl_circuit.h(qr[3])\ntpl_circuit.cx(qr[0], qr[4])\ntpl_circuit.cx(qr[3], qr[0])\n       </pre>\n       </h1>"
      }
     },
     "e0faac1c71bd4885929baa792449530e": {
      "model_module": "@jupyter-widgets/controls",
      "model_module_version": "1.4.0",
      "model_name": "ButtonModel",
      "state": {
       "description": "5",
       "layout": "IPY_MODEL_49f9dcb73bc8442a853762e418ea6f83",
       "style": "IPY_MODEL_162e96c39ed54435b68443b332ed376a"
      }
     },
     "e11e7bbff6224aa4b3e3bb6591c6d5bc": {
      "model_module": "@jupyter-widgets/base",
      "model_module_version": "1.1.0",
      "model_name": "LayoutModel",
      "state": {}
     },
     "e1330ab4f7484b21b2d7925ad88d130d": {
      "model_module": "@jupyter-widgets/controls",
      "model_module_version": "1.4.0",
      "model_name": "HTMLModel",
      "state": {
       "layout": "IPY_MODEL_8b01e3010c9b4bbe8387a72c07018a98",
       "style": "IPY_MODEL_06463e3004e94ed784008be26977aef9",
       "value": "<img src=\"http://latex.codecogs.com/svg.latex?\\frac{\\vert0\\rangle+\\vert1\\rangle}{\\sqrt{2}}\" border=\"0\"/>"
      }
     },
     "e14b1f74d2444d1bb2b40fa15de9a6bf": {
      "model_module": "@jupyter-widgets/controls",
      "model_module_version": "1.4.0",
      "model_name": "DescriptionStyleModel",
      "state": {
       "description_width": ""
      }
     },
     "e15b73272c3b4c74be0ba030b1319d57": {
      "model_module": "@jupyter-widgets/base",
      "model_module_version": "1.1.0",
      "model_name": "LayoutModel",
      "state": {}
     },
     "e15dc2f908384a65af1f6d43a13748ff": {
      "model_module": "@jupyter-widgets/controls",
      "model_module_version": "1.4.0",
      "model_name": "HTMLModel",
      "state": {
       "layout": "IPY_MODEL_c45ac0ed5d964c969f99bf2b1873160c",
       "style": "IPY_MODEL_2991bb58a9984762a753a8fd90c6d943",
       "value": "<h1><h4>What is the output of the following circuit?<br/><br/><h4> <img align=\"middle\" src=\"gates_images/hx0.png\" width=300px><br/></h1>"
      }
     },
     "e1700902ba0b483b9542128a029baea3": {
      "model_module": "@jupyter-widgets/controls",
      "model_module_version": "1.4.0",
      "model_name": "ButtonModel",
      "state": {
       "description": "Previous",
       "disabled": true,
       "layout": "IPY_MODEL_f6176e1627534b8f983ee180cb2460c7",
       "style": "IPY_MODEL_0c860017d62b4bd7b074e5b0515ac441"
      }
     },
     "e17d81ffff344f23b365abdd36020906": {
      "model_module": "@jupyter-widgets/controls",
      "model_module_version": "1.4.0",
      "model_name": "DescriptionStyleModel",
      "state": {
       "description_width": ""
      }
     },
     "e1f71a0d004241cd8d6afff69e4d6c1a": {
      "model_module": "@jupyter-widgets/controls",
      "model_module_version": "1.4.0",
      "model_name": "HTMLModel",
      "state": {
       "layout": "IPY_MODEL_a9e40cc2d78945dba50747e909b6d25e",
       "style": "IPY_MODEL_9c451a27067f4557a75b82fa707bd893",
       "value": "<b>1</b>)&nbsp;&nbsp;"
      }
     },
     "e1f9fa6a536940f899d3a0213547d927": {
      "model_module": "@jupyter-widgets/output",
      "model_module_version": "1.0.0",
      "model_name": "OutputModel",
      "state": {
       "layout": "IPY_MODEL_303ca8aeaee84b4faaa2690de277b40a"
      }
     },
     "e219ace7b2ec4df1b60eb53ff6ae95b3": {
      "model_module": "@jupyter-widgets/controls",
      "model_module_version": "1.4.0",
      "model_name": "DescriptionStyleModel",
      "state": {
       "description_width": ""
      }
     },
     "e24bc291d99644dba9fffc5acf9e4ca0": {
      "model_module": "@jupyter-widgets/controls",
      "model_module_version": "1.4.0",
      "model_name": "ButtonStyleModel",
      "state": {}
     },
     "e25ab63e4ebc414e9e87990a2e034d6a": {
      "model_module": "@jupyter-widgets/controls",
      "model_module_version": "1.4.0",
      "model_name": "DescriptionStyleModel",
      "state": {
       "description_width": ""
      }
     },
     "e28a901762394b5881ef54d4b71c6d3e": {
      "model_module": "@jupyter-widgets/controls",
      "model_module_version": "1.4.0",
      "model_name": "HBoxModel",
      "state": {
       "children": [
        "IPY_MODEL_105a809236e94922a98744947d40f132",
        "IPY_MODEL_f9d30882a7eb4058b9204f397a43cd78",
        "IPY_MODEL_38905c65799a42b5a19e3dc7ffd975ef",
        "IPY_MODEL_e005d44de3b04f9e9c4648361c67ccf3",
        "IPY_MODEL_6313e6f2d8af47b091d9a21050480459",
        "IPY_MODEL_662433b90765473d9e8e61414af5a1b3"
       ],
       "layout": "IPY_MODEL_ec0df7769c154a97baf5c844758e5275"
      }
     },
     "e29608fb29314235ab4e2f74d0075605": {
      "model_module": "@jupyter-widgets/base",
      "model_module_version": "1.1.0",
      "model_name": "LayoutModel",
      "state": {
       "visibility": "hidden"
      }
     },
     "e308b9aa38c14a91bb37339420968afa": {
      "model_module": "@jupyter-widgets/base",
      "model_module_version": "1.1.0",
      "model_name": "LayoutModel",
      "state": {}
     },
     "e311c47fb9cf4f09b10ad6331a4e0172": {
      "model_module": "@jupyter-widgets/base",
      "model_module_version": "1.1.0",
      "model_name": "LayoutModel",
      "state": {}
     },
     "e33a9b72d91b44ada40791d2664c70c0": {
      "model_module": "@jupyter-widgets/base",
      "model_module_version": "1.1.0",
      "model_name": "LayoutModel",
      "state": {}
     },
     "e34a3c5362d74d18b61d026beb099e0c": {
      "model_module": "@jupyter-widgets/base",
      "model_module_version": "1.1.0",
      "model_name": "LayoutModel",
      "state": {}
     },
     "e34a9dbd3fd942439fe6c92efb0043a1": {
      "model_module": "@jupyter-widgets/output",
      "model_module_version": "1.0.0",
      "model_name": "OutputModel",
      "state": {
       "layout": "IPY_MODEL_b89167ffadda446a931ce86d3be22b6f"
      }
     },
     "e35749d43aea4d05b9e8a811e423a18f": {
      "model_module": "@jupyter-widgets/controls",
      "model_module_version": "1.4.0",
      "model_name": "DescriptionStyleModel",
      "state": {
       "description_width": ""
      }
     },
     "e35ba9214af34e61bf1b550b17a09c76": {
      "model_module": "@jupyter-widgets/base",
      "model_module_version": "1.1.0",
      "model_name": "LayoutModel",
      "state": {}
     },
     "e36becaa4d994a219dc0e0d00812d1fc": {
      "model_module": "@jupyter-widgets/controls",
      "model_module_version": "1.4.0",
      "model_name": "HTMLModel",
      "state": {
       "layout": "IPY_MODEL_a91293dfa6e64f2b84a2266fe8cd43c7",
       "style": "IPY_MODEL_88ae4b10f7ae45a8a338156b61abe5bb",
       "value": "<b>1</b>)&nbsp;&nbsp;"
      }
     },
     "e3789730eb3749fb9aff1bc6aae5e41d": {
      "model_module": "@jupyter-widgets/controls",
      "model_module_version": "1.4.0",
      "model_name": "HTMLModel",
      "state": {
       "layout": "IPY_MODEL_b9fb185d4a164a7db67927ca3f949859",
       "style": "IPY_MODEL_e66cb61a9efc4512aae7a3a84b4a7a56",
       "value": "None of the above"
      }
     },
     "e3c7887e973d42ee87d697ba7dbea233": {
      "model_module": "@jupyter-widgets/base",
      "model_module_version": "1.1.0",
      "model_name": "LayoutModel",
      "state": {
       "margin": "20px",
       "visibility": "visible"
      }
     },
     "e3e9d5f51372494694f932cafab9064b": {
      "model_module": "@jupyter-widgets/controls",
      "model_module_version": "1.4.0",
      "model_name": "HTMLModel",
      "state": {
       "layout": "IPY_MODEL_37c8102f97f14ea08e63d7dd5fef1015",
       "style": "IPY_MODEL_8eae12bbe5c7442ab411b77446e2030e",
       "value": "<b>4</b>)&nbsp;&nbsp;"
      }
     },
     "e4111865cc834f5b94477f77dbc4ac40": {
      "model_module": "@jupyter-widgets/controls",
      "model_module_version": "1.4.0",
      "model_name": "HBoxModel",
      "state": {
       "children": [
        "IPY_MODEL_140da0954620492397fa4a3ff16c5fdd",
        "IPY_MODEL_888481c82424444cb7cb9a2a99008a74"
       ],
       "layout": "IPY_MODEL_db564fdb403c4d099efcadaf776870a0"
      }
     },
     "e41bfb95e9364ddd887071bef31c8263": {
      "model_module": "@jupyter-widgets/base",
      "model_module_version": "1.1.0",
      "model_name": "LayoutModel",
      "state": {}
     },
     "e420ed3b9f604d848e96d89f0b5289ec": {
      "model_module": "@jupyter-widgets/controls",
      "model_module_version": "1.4.0",
      "model_name": "ButtonStyleModel",
      "state": {}
     },
     "e42d0ed898ae4485b7d2e544602bb3d8": {
      "model_module": "@jupyter-widgets/controls",
      "model_module_version": "1.4.0",
      "model_name": "DescriptionStyleModel",
      "state": {
       "description_width": ""
      }
     },
     "e44c02ddb7fa41e1b209914fcd7c0ad0": {
      "model_module": "@jupyter-widgets/base",
      "model_module_version": "1.1.0",
      "model_name": "LayoutModel",
      "state": {
       "visibility": "visible"
      }
     },
     "e47f100851154114a33a8d56606bd06c": {
      "model_module": "@jupyter-widgets/controls",
      "model_module_version": "1.4.0",
      "model_name": "HBoxModel",
      "state": {
       "children": [
        "IPY_MODEL_0cebaa1af3b54a209d5a9635d2c194b7",
        "IPY_MODEL_7d69bb7bd6de41adb7aa030da95afaa6"
       ],
       "layout": "IPY_MODEL_1f0af738144047549fb815e137ea74f1"
      }
     },
     "e48664c43e4c42b0a9187cf21523efb8": {
      "model_module": "@jupyter-widgets/base",
      "model_module_version": "1.1.0",
      "model_name": "LayoutModel",
      "state": {}
     },
     "e4be89c3f28d47f58be44fb0b55903fa": {
      "model_module": "@jupyter-widgets/controls",
      "model_module_version": "1.4.0",
      "model_name": "ButtonModel",
      "state": {
       "description": "Next",
       "disabled": true,
       "layout": "IPY_MODEL_f7347ef9778e4a7d979e64ecd212e40f",
       "style": "IPY_MODEL_56a9f5699cee4e40a5ac7f1a3254cdae"
      }
     },
     "e4bf2aca3565424fb5fba1e9fc33a971": {
      "model_module": "@jupyter-widgets/controls",
      "model_module_version": "1.4.0",
      "model_name": "HBoxModel",
      "state": {
       "children": [
        "IPY_MODEL_05dd78b5d61743f29f265850665382d4",
        "IPY_MODEL_2985c1dd761a4f28b16fc11b5348d063",
        "IPY_MODEL_4f249a0f13fa4be3957f902ed618c11a",
        "IPY_MODEL_ddfb70e705354441a903d2c003742e3c",
        "IPY_MODEL_f19067fc13e14446b9e8ba261c3ba31f",
        "IPY_MODEL_1b49e33d49ba44de9279001499f4af35"
       ],
       "layout": "IPY_MODEL_3451bf43dcd1403b86198267eedde8cd"
      }
     },
     "e4e989404c40472c995611c84b5a300c": {
      "model_module": "@jupyter-widgets/controls",
      "model_module_version": "1.4.0",
      "model_name": "HBoxModel",
      "state": {
       "children": [
        "IPY_MODEL_72954d81174a44f7910b1b9e6cb02ec4",
        "IPY_MODEL_9ab9e04828ba4451b78388914b957b7a"
       ],
       "layout": "IPY_MODEL_387cb840f947422b8e04242800899222"
      }
     },
     "e51bd045663b492aaf7ea4c89e14efa0": {
      "model_module": "@jupyter-widgets/controls",
      "model_module_version": "1.4.0",
      "model_name": "DescriptionStyleModel",
      "state": {
       "description_width": ""
      }
     },
     "e52af87ed6ab4cffb071b89863d50c6c": {
      "model_module": "@jupyter-widgets/base",
      "model_module_version": "1.1.0",
      "model_name": "LayoutModel",
      "state": {}
     },
     "e5347fbec7124a67bc90d5a67e01707d": {
      "model_module": "@jupyter-widgets/controls",
      "model_module_version": "1.4.0",
      "model_name": "VBoxModel",
      "state": {
       "children": [
        "IPY_MODEL_47cf3c2750864e109c15908e4497c931",
        "IPY_MODEL_7ca36ab7c5784134881d8e842aacaad2"
       ],
       "layout": "IPY_MODEL_4a21f73e3eae4d5b8c9a578523118e39"
      }
     },
     "e56b0b6d03814ff5a7f2a90f999bde98": {
      "model_module": "@jupyter-widgets/controls",
      "model_module_version": "1.4.0",
      "model_name": "DescriptionStyleModel",
      "state": {
       "description_width": ""
      }
     },
     "e57d0c826e514724931b9c4dbb5ed66f": {
      "model_module": "@jupyter-widgets/controls",
      "model_module_version": "1.4.0",
      "model_name": "HTMLModel",
      "state": {
       "layout": "IPY_MODEL_fb2d5ca35a1844deaf14de0e7770bc30",
       "style": "IPY_MODEL_c099cf438ed44a7994504f868e60705b",
       "value": "<b>3</b>)&nbsp;&nbsp;"
      }
     },
     "e58b69566d464997bbf455f7a25ebe4f": {
      "model_module": "@jupyter-widgets/controls",
      "model_module_version": "1.4.0",
      "model_name": "HBoxModel",
      "state": {
       "children": [
        "IPY_MODEL_6246be4a5a344645994ddb4631828e66",
        "IPY_MODEL_ff40ec81a190489fa004faa1c066bc91"
       ],
       "layout": "IPY_MODEL_07b837678d4141aa8289539d7cf26e22"
      }
     },
     "e5e0bc831f504f6db9d3e31a0e5cb6e5": {
      "model_module": "@jupyter-widgets/base",
      "model_module_version": "1.1.0",
      "model_name": "LayoutModel",
      "state": {}
     },
     "e5ef07cbede94c7f9bd0a19c8b01951d": {
      "model_module": "@jupyter-widgets/controls",
      "model_module_version": "1.4.0",
      "model_name": "HTMLModel",
      "state": {
       "layout": "IPY_MODEL_7ac60f3c3d8249318b896484b9c97863",
       "style": "IPY_MODEL_6a0000bb153f4ca490a9d57b28c65dda",
       "value": "<b>3</b>)&nbsp;&nbsp;"
      }
     },
     "e5fea0c62ed0456b8e70d52fa6134684": {
      "model_module": "@jupyter-widgets/controls",
      "model_module_version": "1.4.0",
      "model_name": "HTMLModel",
      "state": {
       "layout": "IPY_MODEL_c37dcbf35ba943d2aa1647aba8887e8d",
       "style": "IPY_MODEL_c3cb757143ea42518aea6ccf888108bb",
       "value": "None of the above"
      }
     },
     "e606b98331b04f659dca21b79054d979": {
      "model_module": "@jupyter-widgets/base",
      "model_module_version": "1.1.0",
      "model_name": "LayoutModel",
      "state": {
       "visibility": "visible"
      }
     },
     "e61a9ff447ef452f85b230ca39eb3256": {
      "model_module": "@jupyter-widgets/base",
      "model_module_version": "1.1.0",
      "model_name": "LayoutModel",
      "state": {}
     },
     "e61fa37c13e44047ac4774b906f23dd9": {
      "model_module": "@jupyter-widgets/controls",
      "model_module_version": "1.4.0",
      "model_name": "HBoxModel",
      "state": {
       "children": [
        "IPY_MODEL_95fb627f82cb4aef97bf0e459fca21ff",
        "IPY_MODEL_b143866dd43e458a93ae8ae223ff74b6"
       ],
       "layout": "IPY_MODEL_55af7622e29c4b098fa23826688b07ea"
      }
     },
     "e633e97aec1244fca0e46a4dd89a9efc": {
      "model_module": "@jupyter-widgets/controls",
      "model_module_version": "1.4.0",
      "model_name": "HTMLModel",
      "state": {
       "layout": "IPY_MODEL_28b79535d5eb45a287cdf3ebc98f6d29",
       "style": "IPY_MODEL_4506bf19c3134d8da9f6e167131d367a",
       "value": "<h1><h4>What is the output of the following circuit?<br/><br/><h4> <img align=\"middle\" src=\"gates_images/hx0.png\" width=300px><br/></h1>"
      }
     },
     "e643d8f198fd49c3a766882c076b078d": {
      "model_module": "@jupyter-widgets/controls",
      "model_module_version": "1.4.0",
      "model_name": "ButtonStyleModel",
      "state": {}
     },
     "e66cb61a9efc4512aae7a3a84b4a7a56": {
      "model_module": "@jupyter-widgets/controls",
      "model_module_version": "1.4.0",
      "model_name": "DescriptionStyleModel",
      "state": {
       "description_width": ""
      }
     },
     "e67d3133acec4c7e9c1d92d26b2676a7": {
      "model_module": "@jupyter-widgets/controls",
      "model_module_version": "1.4.0",
      "model_name": "HBoxModel",
      "state": {
       "children": [
        "IPY_MODEL_84174211e1724f1c8e6528695f652f29",
        "IPY_MODEL_242839e7ecba457c8225792571e636cd"
       ],
       "layout": "IPY_MODEL_5eac8d4e71924eeaa24df463a1a1edd5"
      }
     },
     "e6d8ad98978f4950b2b5ca23621708e5": {
      "model_module": "@jupyter-widgets/base",
      "model_module_version": "1.1.0",
      "model_name": "LayoutModel",
      "state": {
       "visibility": "visible"
      }
     },
     "e75284535e0a446687e6eccf3a099846": {
      "model_module": "@jupyter-widgets/controls",
      "model_module_version": "1.4.0",
      "model_name": "HBoxModel",
      "state": {
       "children": [
        "IPY_MODEL_895035ad6cd14c5889eea8b98df94394",
        "IPY_MODEL_116ab0b0ecff498cbbb886febd83716b",
        "IPY_MODEL_1b3294ecda9e4685922efef151f3ad7b",
        "IPY_MODEL_287ec9fa921d43f78c1f882e14da52c2",
        "IPY_MODEL_aa89b8f8f4714393b2938fcadbe7dc32",
        "IPY_MODEL_4a81d0355ee542c7b4a5d5fc5873a85a"
       ],
       "layout": "IPY_MODEL_534b019c9e9d45b6a0492dbae04872e0"
      }
     },
     "e7a26680527f4498afecb74f331676ab": {
      "model_module": "@jupyter-widgets/controls",
      "model_module_version": "1.4.0",
      "model_name": "DescriptionStyleModel",
      "state": {
       "description_width": ""
      }
     },
     "e7a3078ea1b042d3a97a48832a6399e3": {
      "model_module": "@jupyter-widgets/controls",
      "model_module_version": "1.4.0",
      "model_name": "ButtonStyleModel",
      "state": {}
     },
     "e7bc9163785345b28d1ca983f3e798a5": {
      "model_module": "@jupyter-widgets/controls",
      "model_module_version": "1.4.0",
      "model_name": "HBoxModel",
      "state": {
       "children": [
        "IPY_MODEL_83a9dbea893145c0aa230cff48aa16c2",
        "IPY_MODEL_7ef4c2b505b5449c85203e5fca982dbc"
       ],
       "layout": "IPY_MODEL_382ef58819244920ac41d3a38002ed4a"
      }
     },
     "e7d6e65cbadd40038cd4258409639463": {
      "model_module": "@jupyter-widgets/base",
      "model_module_version": "1.1.0",
      "model_name": "LayoutModel",
      "state": {}
     },
     "e7fed37286c84e7487c792f53cb894bb": {
      "model_module": "@jupyter-widgets/controls",
      "model_module_version": "1.4.0",
      "model_name": "DescriptionStyleModel",
      "state": {
       "description_width": ""
      }
     },
     "e84eb72f92d645a9aa58012bed1c05f3": {
      "model_module": "@jupyter-widgets/controls",
      "model_module_version": "1.4.0",
      "model_name": "ButtonModel",
      "state": {
       "description": "Next",
       "layout": "IPY_MODEL_d3e9a9a4cee14e1da2860d2214371a75",
       "style": "IPY_MODEL_5e9bf2d4be2b4a449b6e33834f8a2545"
      }
     },
     "e856e83937d6490b9bdc1e3616da4b07": {
      "model_module": "@jupyter-widgets/controls",
      "model_module_version": "1.4.0",
      "model_name": "ButtonStyleModel",
      "state": {}
     },
     "e857a739584c45d7be855c11466551a8": {
      "model_module": "@jupyter-widgets/base",
      "model_module_version": "1.1.0",
      "model_name": "LayoutModel",
      "state": {}
     },
     "e89079ace1934d00bff44013dbab7154": {
      "model_module": "@jupyter-widgets/controls",
      "model_module_version": "1.4.0",
      "model_name": "ButtonStyleModel",
      "state": {}
     },
     "e8a3ea931990455faa014e398fe8a5e1": {
      "model_module": "@jupyter-widgets/controls",
      "model_module_version": "1.4.0",
      "model_name": "DescriptionStyleModel",
      "state": {
       "description_width": ""
      }
     },
     "e8a71eefbc5240048e3d8b19db617de6": {
      "model_module": "@jupyter-widgets/controls",
      "model_module_version": "1.4.0",
      "model_name": "HTMLModel",
      "state": {
       "layout": "IPY_MODEL_00e4cf5d3e8e4f059b2b3ab459eb81f4",
       "style": "IPY_MODEL_76e3a6dbb06346bcb4b699822fc1a26c",
       "value": "<p><b>Question ID</b>: 1</p>"
      }
     },
     "e8a96c164ab940bdbd1ed25ba71e0a6e": {
      "model_module": "@jupyter-widgets/controls",
      "model_module_version": "1.4.0",
      "model_name": "VBoxModel",
      "state": {
       "children": [
        "IPY_MODEL_e61fa37c13e44047ac4774b906f23dd9",
        "IPY_MODEL_6b8b24d2ab594452bc094e43eafa0ffe"
       ],
       "layout": "IPY_MODEL_18f96313567e4d0283110e48955aaf12"
      }
     },
     "e8b583cd570745649302f8d0090a64b0": {
      "model_module": "@jupyter-widgets/base",
      "model_module_version": "1.1.0",
      "model_name": "LayoutModel",
      "state": {}
     },
     "e8da104063b8478084ae89e3a80e5e7a": {
      "model_module": "@jupyter-widgets/base",
      "model_module_version": "1.1.0",
      "model_name": "LayoutModel",
      "state": {
       "visibility": "visible"
      }
     },
     "e8f97e5a53774024b446269e12731e58": {
      "model_module": "@jupyter-widgets/base",
      "model_module_version": "1.1.0",
      "model_name": "LayoutModel",
      "state": {
       "margin": "20px",
       "visibility": "visible"
      }
     },
     "e906c71ec9584eb692a6f46736a939dc": {
      "model_module": "@jupyter-widgets/base",
      "model_module_version": "1.1.0",
      "model_name": "LayoutModel",
      "state": {}
     },
     "e90c8d1acac94c3c9e7e393eb3cd66bf": {
      "model_module": "@jupyter-widgets/controls",
      "model_module_version": "1.4.0",
      "model_name": "DescriptionStyleModel",
      "state": {
       "description_width": ""
      }
     },
     "e92d30523df3457a9d644a9a2a6798b5": {
      "model_module": "@jupyter-widgets/base",
      "model_module_version": "1.1.0",
      "model_name": "LayoutModel",
      "state": {}
     },
     "e96225b8bdd74a178e2279c22589bcd1": {
      "model_module": "@jupyter-widgets/base",
      "model_module_version": "1.1.0",
      "model_name": "LayoutModel",
      "state": {}
     },
     "e9afa4eb721a480ab49821d805999028": {
      "model_module": "@jupyter-widgets/controls",
      "model_module_version": "1.4.0",
      "model_name": "DescriptionStyleModel",
      "state": {
       "description_width": ""
      }
     },
     "e9b1a19c6a2442259d9569fba3499241": {
      "model_module": "@jupyter-widgets/controls",
      "model_module_version": "1.4.0",
      "model_name": "HBoxModel",
      "state": {
       "children": [
        "IPY_MODEL_139e80804e394625aae52223e3e62839",
        "IPY_MODEL_b3c318b67f64408e9e558e73a6915cd1"
       ],
       "layout": "IPY_MODEL_78edf09faf7f42dea12199e16f0ac2d5"
      }
     },
     "e9c48273c9ea4f128d67a40d4a0d6290": {
      "model_module": "@jupyter-widgets/base",
      "model_module_version": "1.1.0",
      "model_name": "LayoutModel",
      "state": {}
     },
     "e9cca303e3944a689ddb7cddd296ff8a": {
      "model_module": "@jupyter-widgets/base",
      "model_module_version": "1.1.0",
      "model_name": "LayoutModel",
      "state": {}
     },
     "e9ccb940428e48ce8eca3cb5040db7b3": {
      "model_module": "@jupyter-widgets/base",
      "model_module_version": "1.1.0",
      "model_name": "LayoutModel",
      "state": {
       "margin": "20px",
       "visibility": "visible"
      }
     },
     "e9d382888b4143cebbdcdfac78b4d70f": {
      "model_module": "@jupyter-widgets/controls",
      "model_module_version": "1.4.0",
      "model_name": "HTMLModel",
      "state": {
       "layout": "IPY_MODEL_51d9b4e7d9214ad1bb1ce098b97bc778",
       "style": "IPY_MODEL_03e6c146aeab4c2cbe02da445b4fcbc8",
       "value": "<b>2</b>)&nbsp;&nbsp;"
      }
     },
     "e9dff4330cd640f79561ca15606cadc6": {
      "model_module": "@jupyter-widgets/controls",
      "model_module_version": "1.4.0",
      "model_name": "DescriptionStyleModel",
      "state": {
       "description_width": ""
      }
     },
     "e9e376efdc824ab192780be924fb9880": {
      "model_module": "@jupyter-widgets/controls",
      "model_module_version": "1.4.0",
      "model_name": "HBoxModel",
      "state": {
       "children": [
        "IPY_MODEL_ba009ae30a49460a94108baa9a6eafc2",
        "IPY_MODEL_f808b1e359814b798fdd8c404423c66d"
       ],
       "layout": "IPY_MODEL_ebcee21c9d5f495ea7eea1e04b7c4a0a"
      }
     },
     "e9e69fe14d7142b9b5c2d7555556ff77": {
      "model_module": "@jupyter-widgets/controls",
      "model_module_version": "1.4.0",
      "model_name": "HTMLModel",
      "state": {
       "layout": "IPY_MODEL_8d4e86e0b788439b9812ba9f2e53ab63",
       "style": "IPY_MODEL_042129da8f6a4d7582a90e09a1fb5122",
       "value": "<b>5</b>)&nbsp;&nbsp;"
      }
     },
     "e9e7a27d19144c09bf08b8376cc7eb7f": {
      "model_module": "@jupyter-widgets/base",
      "model_module_version": "1.1.0",
      "model_name": "LayoutModel",
      "state": {
       "visibility": "hidden"
      }
     },
     "e9e908bad99e4ef7a70204e62ad6dd7e": {
      "model_module": "@jupyter-widgets/controls",
      "model_module_version": "1.4.0",
      "model_name": "DescriptionStyleModel",
      "state": {
       "description_width": ""
      }
     },
     "e9fa60f4ce934ba88be93e9ef0052ab7": {
      "model_module": "@jupyter-widgets/base",
      "model_module_version": "1.1.0",
      "model_name": "LayoutModel",
      "state": {}
     },
     "ea01e478482043b29cf9fb68e0f43943": {
      "model_module": "@jupyter-widgets/controls",
      "model_module_version": "1.4.0",
      "model_name": "HTMLModel",
      "state": {
       "layout": "IPY_MODEL_9985db50b7ac4e73b67e604219f816f8",
       "style": "IPY_MODEL_e02d3f0e001e4ff08f60e055d6fb25d4",
       "value": "Qubits in state <img src=\"http://latex.codecogs.com/svg.latex?\\vert1\\rangle\" border=\"0\"/> decay down to <img src=\"http://latex.codecogs.com/svg.latex?\\vert0\\rangle\" border=\"0\"/> before measurement. The decay time for <samp>qr[0]</samp> is longer than that for <samp>qr[1]</samp>."
      }
     },
     "ea0a601aacc842e19dbb109459eed0b9": {
      "model_module": "@jupyter-widgets/controls",
      "model_module_version": "1.4.0",
      "model_name": "HBoxModel",
      "state": {
       "children": [
        "IPY_MODEL_ac8d4a3490684c1ba7fd7f29f577d88b",
        "IPY_MODEL_c757b9265a6549ee9035d6854101d8cc",
        "IPY_MODEL_f87d34428e34464b91eabcb77d2adf61",
        "IPY_MODEL_492b7b5445d0402b998224c63c470d19",
        "IPY_MODEL_670e2e4bca744612befbd34926523a50",
        "IPY_MODEL_a9740ebd03f544768e0a87afc19758cf"
       ],
       "layout": "IPY_MODEL_746e5a41a69344d7aa18ca663b1a43ee"
      }
     },
     "ea0d4587699d40cc98d9d6c1831a6c42": {
      "model_module": "@jupyter-widgets/base",
      "model_module_version": "1.1.0",
      "model_name": "LayoutModel",
      "state": {
       "margin": "20px",
       "visibility": "visible"
      }
     },
     "ea19b48371bf44a580f208d0698a7e5f": {
      "model_module": "@jupyter-widgets/controls",
      "model_module_version": "1.4.0",
      "model_name": "HTMLModel",
      "state": {
       "layout": "IPY_MODEL_27dfd4175a604e6fa4d77549d69d30ec",
       "style": "IPY_MODEL_6905f993502f4bbdbf5df8b11a0b7e9c"
      }
     },
     "ea7dcee9e51d4ee5a5aa5d1358a227f9": {
      "model_module": "@jupyter-widgets/base",
      "model_module_version": "1.1.0",
      "model_name": "LayoutModel",
      "state": {}
     },
     "ea96d462623442aaa1b0dc5f6dd665d9": {
      "model_module": "@jupyter-widgets/base",
      "model_module_version": "1.1.0",
      "model_name": "LayoutModel",
      "state": {}
     },
     "ea99beccac0a494dae0b6cdd9e061c55": {
      "model_module": "@jupyter-widgets/controls",
      "model_module_version": "1.4.0",
      "model_name": "DescriptionStyleModel",
      "state": {
       "description_width": ""
      }
     },
     "ea9d811615474629b87bd6a83c84b7ea": {
      "model_module": "@jupyter-widgets/base",
      "model_module_version": "1.1.0",
      "model_name": "LayoutModel",
      "state": {}
     },
     "eac2c269433a4179bb9594f56b9576c0": {
      "model_module": "@jupyter-widgets/base",
      "model_module_version": "1.1.0",
      "model_name": "LayoutModel",
      "state": {}
     },
     "eadb950039b144ffa650c6f87295295e": {
      "model_module": "@jupyter-widgets/controls",
      "model_module_version": "1.4.0",
      "model_name": "ButtonStyleModel",
      "state": {}
     },
     "eae1d62612604d9ea1665bb968218dbd": {
      "model_module": "@jupyter-widgets/base",
      "model_module_version": "1.1.0",
      "model_name": "LayoutModel",
      "state": {}
     },
     "eaf1504afb4443a1a0f243c4f0b84ae4": {
      "model_module": "@jupyter-widgets/controls",
      "model_module_version": "1.4.0",
      "model_name": "ButtonModel",
      "state": {
       "description": "Next",
       "disabled": true,
       "layout": "IPY_MODEL_4d11bfb5f4a9449da4806b3403c41ce7",
       "style": "IPY_MODEL_822cfb6f34bd450e907e6eb25b20c7c9"
      }
     },
     "eb1fe9d14d6c4067a024ceeec2144185": {
      "model_module": "@jupyter-widgets/controls",
      "model_module_version": "1.4.0",
      "model_name": "HTMLModel",
      "state": {
       "layout": "IPY_MODEL_fd4e3fca4616405c8769b9323ca11927",
       "style": "IPY_MODEL_fdd7b7fd88094d15a808efa11b5a27d2",
       "value": "<b>3</b>)&nbsp;&nbsp;"
      }
     },
     "eb21daa39499430f9ba7d60d217637a2": {
      "model_module": "@jupyter-widgets/base",
      "model_module_version": "1.1.0",
      "model_name": "LayoutModel",
      "state": {}
     },
     "eb2ca580da7c43349decea717779271b": {
      "model_module": "@jupyter-widgets/controls",
      "model_module_version": "1.4.0",
      "model_name": "DescriptionStyleModel",
      "state": {
       "description_width": ""
      }
     },
     "eb5a65a44291467a83e579dee4481519": {
      "model_module": "@jupyter-widgets/base",
      "model_module_version": "1.1.0",
      "model_name": "LayoutModel",
      "state": {}
     },
     "eb5f0802ab27402fba2fb1544ae86830": {
      "model_module": "@jupyter-widgets/base",
      "model_module_version": "1.1.0",
      "model_name": "LayoutModel",
      "state": {}
     },
     "eb7715f25f6040c2b138383355ba5639": {
      "model_module": "@jupyter-widgets/base",
      "model_module_version": "1.1.0",
      "model_name": "LayoutModel",
      "state": {}
     },
     "ebb0f527363549a19fff6f412cece69b": {
      "model_module": "@jupyter-widgets/controls",
      "model_module_version": "1.4.0",
      "model_name": "DescriptionStyleModel",
      "state": {
       "description_width": ""
      }
     },
     "ebb6ed82d5c14a36bf854d663ec209cb": {
      "model_module": "@jupyter-widgets/controls",
      "model_module_version": "1.4.0",
      "model_name": "HTMLModel",
      "state": {
       "layout": "IPY_MODEL_368e92562b6247e3933e6f5d829ae94c",
       "style": "IPY_MODEL_49b83d1afcdc45308a0e6f039d18cc59",
       "value": "<img src=\"http://latex.codecogs.com/svg.latex?\\frac{\\vert0\\rangle-\\vert1\\rangle}{\\sqrt{2}}\" border=\"0\"/>"
      }
     },
     "ebb7d347738946658d303a6edc0e4390": {
      "model_module": "@jupyter-widgets/base",
      "model_module_version": "1.1.0",
      "model_name": "LayoutModel",
      "state": {}
     },
     "ebbca613402440a0857037369f0b14c3": {
      "model_module": "@jupyter-widgets/base",
      "model_module_version": "1.1.0",
      "model_name": "LayoutModel",
      "state": {}
     },
     "ebcb93adaa8b42ba85b4448e4e524317": {
      "model_module": "@jupyter-widgets/controls",
      "model_module_version": "1.4.0",
      "model_name": "ButtonStyleModel",
      "state": {}
     },
     "ebcee21c9d5f495ea7eea1e04b7c4a0a": {
      "model_module": "@jupyter-widgets/base",
      "model_module_version": "1.1.0",
      "model_name": "LayoutModel",
      "state": {
       "visibility": "visible"
      }
     },
     "ebd76a2bb95b4f9982ddbf43ac262071": {
      "model_module": "@jupyter-widgets/controls",
      "model_module_version": "1.4.0",
      "model_name": "HTMLModel",
      "state": {
       "layout": "IPY_MODEL_55d71529fa48460da31bf2316bdf7351",
       "style": "IPY_MODEL_1430af4868294651b4906b2c878fd176",
       "value": "<b>2</b>)&nbsp;&nbsp;"
      }
     },
     "ec053983175e449aa3f47399a15c67b0": {
      "model_module": "@jupyter-widgets/controls",
      "model_module_version": "1.4.0",
      "model_name": "DescriptionStyleModel",
      "state": {
       "description_width": ""
      }
     },
     "ec0df7769c154a97baf5c844758e5275": {
      "model_module": "@jupyter-widgets/base",
      "model_module_version": "1.1.0",
      "model_name": "LayoutModel",
      "state": {}
     },
     "ec11b72aba72451d82bf425146b44d43": {
      "model_module": "@jupyter-widgets/base",
      "model_module_version": "1.1.0",
      "model_name": "LayoutModel",
      "state": {}
     },
     "ec1e06e170064bc5902f8fc79abd0b47": {
      "model_module": "@jupyter-widgets/controls",
      "model_module_version": "1.4.0",
      "model_name": "HBoxModel",
      "state": {
       "children": [
        "IPY_MODEL_1a17e3c751664ec184a457502fe021bc",
        "IPY_MODEL_adcbf2219ca34e1d988c03352dc51eab"
       ],
       "layout": "IPY_MODEL_b3ed089d36dd4fab89c1a01cf7355f28"
      }
     },
     "ec41f16ba4c24532b1e9c9e3bc7a3fe7": {
      "model_module": "@jupyter-widgets/controls",
      "model_module_version": "1.4.0",
      "model_name": "HTMLModel",
      "state": {
       "layout": "IPY_MODEL_c48d547aa04343b1b05ec1004003171e",
       "style": "IPY_MODEL_096318fde08b46ce9516d697e00fdcff",
       "value": "<b>5</b>)&nbsp;&nbsp;"
      }
     },
     "ec4fbc37dfc24da08bd5ea7f9728f140": {
      "model_module": "@jupyter-widgets/controls",
      "model_module_version": "1.4.0",
      "model_name": "HBoxModel",
      "state": {
       "children": [
        "IPY_MODEL_0981b1826cb2489aa6120bd7d3b104d0",
        "IPY_MODEL_288be992866e4071a63425b4d056dc69"
       ],
       "layout": "IPY_MODEL_5bc71103d2c64f619029f792246f6bd1"
      }
     },
     "ec65d44a6fc64963ba4565f164011213": {
      "model_module": "@jupyter-widgets/base",
      "model_module_version": "1.1.0",
      "model_name": "LayoutModel",
      "state": {
       "visibility": "visible"
      }
     },
     "ec86895293fe41fe8141fc538c6ee5fe": {
      "model_module": "@jupyter-widgets/controls",
      "model_module_version": "1.4.0",
      "model_name": "HTMLModel",
      "state": {
       "layout": "IPY_MODEL_e906c71ec9584eb692a6f46736a939dc",
       "style": "IPY_MODEL_1981890c00e243e195f9932176330636",
       "value": "None of the above"
      }
     },
     "eca26dfbce3d4a4f87e72131d80c6021": {
      "model_module": "@jupyter-widgets/base",
      "model_module_version": "1.1.0",
      "model_name": "LayoutModel",
      "state": {}
     },
     "eca7d0e61f394434ba402829218d964c": {
      "model_module": "@jupyter-widgets/controls",
      "model_module_version": "1.4.0",
      "model_name": "HTMLModel",
      "state": {
       "layout": "IPY_MODEL_fbc385faff3f467f883990caa87dacd7",
       "style": "IPY_MODEL_59dbab318eec49899d685c8d19fddad3",
       "value": "<p><b>Question ID</b>: 1</p>"
      }
     },
     "eceba7edaade40798e24c56f6bff9d0e": {
      "model_module": "@jupyter-widgets/controls",
      "model_module_version": "1.4.0",
      "model_name": "HTMLModel",
      "state": {
       "layout": "IPY_MODEL_e41bfb95e9364ddd887071bef31c8263",
       "style": "IPY_MODEL_4213a8a39c4d4e5fa1b3fcf15b913adb",
       "value": "<br/><br clear=\"all\"/><b>Respond</b>: "
      }
     },
     "ed1c0bacfc1547cf8c381ff282f47483": {
      "model_module": "@jupyter-widgets/controls",
      "model_module_version": "1.4.0",
      "model_name": "HBoxModel",
      "state": {
       "children": [
        "IPY_MODEL_0aa68eec2d5c444eba71a006ca63df10",
        "IPY_MODEL_769dccf1a22f491f8b948b3fc23d0fa5"
       ],
       "layout": "IPY_MODEL_e33a9b72d91b44ada40791d2664c70c0"
      }
     },
     "ed678b6a733746e18b865e4be8f45567": {
      "model_module": "@jupyter-widgets/controls",
      "model_module_version": "1.4.0",
      "model_name": "HTMLModel",
      "state": {
       "layout": "IPY_MODEL_4a76f32bd35b4574b420bbf5f74a0380",
       "style": "IPY_MODEL_e7fed37286c84e7487c792f53cb894bb",
       "value": "<img src=\"http://latex.codecogs.com/svg.latex?\\frac{\\vert0\\rangle-\\vert1\\rangle}{\\sqrt{2}}\" border=\"0\"/>"
      }
     },
     "ed6d7da5a29542c292ce46d9625ea251": {
      "model_module": "@jupyter-widgets/controls",
      "model_module_version": "1.4.0",
      "model_name": "ButtonModel",
      "state": {
       "description": "5",
       "layout": "IPY_MODEL_fd47b481b5374f6e8f6a65f2e25ef69c",
       "style": "IPY_MODEL_483de70959c34fd39d18f115ffd4fd68"
      }
     },
     "ed73061273694acda334e634c36798ee": {
      "model_module": "@jupyter-widgets/controls",
      "model_module_version": "1.4.0",
      "model_name": "HTMLModel",
      "state": {
       "layout": "IPY_MODEL_cfa5fa3a5aab4ea59fe83ffd69af3cb0",
       "style": "IPY_MODEL_49246c9cc876461eb72e122ca9809876",
       "value": "<b>4</b>)&nbsp;&nbsp;"
      }
     },
     "edb890d5aafe47feb893686da9bd6342": {
      "model_module": "@jupyter-widgets/controls",
      "model_module_version": "1.4.0",
      "model_name": "HTMLModel",
      "state": {
       "layout": "IPY_MODEL_955a30408abd41e2b418c9b2482914e0",
       "style": "IPY_MODEL_b827e826bb1a488d866b92620783fd01"
      }
     },
     "edbd2a07cf1a4cb594c505e406975ab6": {
      "model_module": "@jupyter-widgets/base",
      "model_module_version": "1.1.0",
      "model_name": "LayoutModel",
      "state": {}
     },
     "edce76c415ff4be58a10e2ea9baeafa0": {
      "model_module": "@jupyter-widgets/controls",
      "model_module_version": "1.4.0",
      "model_name": "HTMLModel",
      "state": {
       "layout": "IPY_MODEL_3523e5d338434a55b225f46f5d2e1608",
       "style": "IPY_MODEL_2fb324712c374acab23f9afadd1f46ce",
       "value": "<img src=\"questions/aer1_images/1_w3.png\">"
      }
     },
     "edd409d1206a4f9c9c7ed7490dcf2e91": {
      "model_module": "@jupyter-widgets/controls",
      "model_module_version": "1.4.0",
      "model_name": "ButtonStyleModel",
      "state": {}
     },
     "edf8fb312bd74cd39c09487f131d691b": {
      "model_module": "@jupyter-widgets/base",
      "model_module_version": "1.1.0",
      "model_name": "LayoutModel",
      "state": {
       "visibility": "visible"
      }
     },
     "ee01d3f3a917435892c6c36180da4a9e": {
      "model_module": "@jupyter-widgets/controls",
      "model_module_version": "1.4.0",
      "model_name": "HBoxModel",
      "state": {
       "children": [
        "IPY_MODEL_d22a5075a88f41b0924581ef07924aed",
        "IPY_MODEL_42f0dd84d3a943ff921fbe6a7298a3c7",
        "IPY_MODEL_43dc64d5cccb481b9244f2784dc86106",
        "IPY_MODEL_db515cb0f57a4f3bb4067ef835496b52",
        "IPY_MODEL_118d525db01746b099af6d0a5fa7320b",
        "IPY_MODEL_c58622ad75784f9ea85111b3c88cc157"
       ],
       "layout": "IPY_MODEL_1beb173957ce48bea7ecb7ed07b022ba"
      }
     },
     "ee1135902b70403a968901ad2185dea7": {
      "model_module": "@jupyter-widgets/base",
      "model_module_version": "1.1.0",
      "model_name": "LayoutModel",
      "state": {
       "margin": "20px",
       "visibility": "visible"
      }
     },
     "ee1c8d5ef3ca4af881ebec865480b0b9": {
      "model_module": "@jupyter-widgets/base",
      "model_module_version": "1.1.0",
      "model_name": "LayoutModel",
      "state": {}
     },
     "ee315802aae54ec1aa5f4896516f1ce7": {
      "model_module": "@jupyter-widgets/base",
      "model_module_version": "1.1.0",
      "model_name": "LayoutModel",
      "state": {
       "visibility": "hidden"
      }
     },
     "ee457d74581f4f26a0c7bfee8e94d28d": {
      "model_module": "@jupyter-widgets/base",
      "model_module_version": "1.1.0",
      "model_name": "LayoutModel",
      "state": {}
     },
     "ee4e154c0d7e4738ae61da74fb671b0d": {
      "model_module": "@jupyter-widgets/controls",
      "model_module_version": "1.4.0",
      "model_name": "ButtonStyleModel",
      "state": {}
     },
     "ee59b9e513ac4b8aa8086c269caf7824": {
      "model_module": "@jupyter-widgets/base",
      "model_module_version": "1.1.0",
      "model_name": "LayoutModel",
      "state": {
       "margin": "20px",
       "visibility": "visible"
      }
     },
     "ee7079b7b26844d4b25e3b16577a1d82": {
      "model_module": "@jupyter-widgets/controls",
      "model_module_version": "1.4.0",
      "model_name": "HBoxModel",
      "state": {
       "children": [
        "IPY_MODEL_c6519a067ac24afe82cb92d54a84dc22",
        "IPY_MODEL_826358f63f9746218eeab12426a75363"
       ],
       "layout": "IPY_MODEL_472f458c8cd64bdea286639d05e175b8"
      }
     },
     "ee7685f8165d4e79bfd3f09f888deaea": {
      "model_module": "@jupyter-widgets/controls",
      "model_module_version": "1.4.0",
      "model_name": "VBoxModel",
      "state": {
       "children": [
        "IPY_MODEL_b5959a2d59624ac7a5186e3ad04d82a9",
        "IPY_MODEL_bb390cf164124aaf9bb1ea94afe56415",
        "IPY_MODEL_46fbb504e38143d1824c7d6fb663a3f2",
        "IPY_MODEL_191117b7adf749f18957c03e1f41d282",
        "IPY_MODEL_3d5b6dc3b1aa45b2a2f16d4c036b354b",
        "IPY_MODEL_ec4fbc37dfc24da08bd5ea7f9728f140",
        "IPY_MODEL_1760ec303c7f4432a1c5094ee522746d",
        "IPY_MODEL_0f8e3a5b4d2e4855bbd1d70a60de0705",
        "IPY_MODEL_d3758b8188754fdda073fb3498f38257"
       ],
       "layout": "IPY_MODEL_ce48111925a444129b15b2d9f289c871"
      }
     },
     "ee796b89f10943efb6a52f276a34ccaf": {
      "model_module": "@jupyter-widgets/base",
      "model_module_version": "1.1.0",
      "model_name": "LayoutModel",
      "state": {}
     },
     "eedc5294ff704428b212864c1b6c1267": {
      "model_module": "@jupyter-widgets/base",
      "model_module_version": "1.1.0",
      "model_name": "LayoutModel",
      "state": {}
     },
     "eef9b2b430984c159c2b674ddf952fa1": {
      "model_module": "@jupyter-widgets/controls",
      "model_module_version": "1.4.0",
      "model_name": "HTMLModel",
      "state": {
       "layout": "IPY_MODEL_9d41a27ca8864af7b37f4877b7dd32ad",
       "style": "IPY_MODEL_b4c3ca0ae6a04cb293baf06ce5d8b542",
       "value": "<img src=\"qiskitintro_images/4.png\">"
      }
     },
     "ef0473987b794ad2ab45d280d4a0a7bf": {
      "model_module": "@jupyter-widgets/controls",
      "model_module_version": "1.4.0",
      "model_name": "ButtonModel",
      "state": {
       "description": "1",
       "layout": "IPY_MODEL_a6983ccfbcb54bd4b4b7e0caf3f3802e",
       "style": "IPY_MODEL_ade0d55ffc8b40848af71db1e87fdc82"
      }
     },
     "ef08adc99fe64fedb218d9ee23c237b9": {
      "model_module": "@jupyter-widgets/controls",
      "model_module_version": "1.4.0",
      "model_name": "HBoxModel",
      "state": {
       "children": [
        "IPY_MODEL_8e081490c78b4942a13f90134390e600",
        "IPY_MODEL_2e1edc127f4c4441918f841987cb0cd6",
        "IPY_MODEL_dbc4a486b19841fdb6b995eeef12ac8a"
       ],
       "layout": "IPY_MODEL_480aa25dce9742a4ad4e1a2256ebb3e4"
      }
     },
     "ef1ab633868f46579f7a30b8e81a9490": {
      "model_module": "@jupyter-widgets/controls",
      "model_module_version": "1.4.0",
      "model_name": "ButtonModel",
      "state": {
       "description": "Next",
       "layout": "IPY_MODEL_479ce057d7c240498e2e4bf71dec132b",
       "style": "IPY_MODEL_23213301dfa44dd589bde59759b70f67"
      }
     },
     "ef1ce7f4592742ad943d532bd685cc5a": {
      "model_module": "@jupyter-widgets/base",
      "model_module_version": "1.1.0",
      "model_name": "LayoutModel",
      "state": {
       "visibility": "visible"
      }
     },
     "ef3a72818e30430eb7e9248e170ce6f1": {
      "model_module": "@jupyter-widgets/controls",
      "model_module_version": "1.4.0",
      "model_name": "ButtonModel",
      "state": {
       "description": "Previous",
       "disabled": true,
       "layout": "IPY_MODEL_de1f08a2e6234ff3bc48a70a1fc84a22",
       "style": "IPY_MODEL_ee4e154c0d7e4738ae61da74fb671b0d"
      }
     },
     "ef49b8f4b79d4c1aa4b5e913b6d3a956": {
      "model_module": "@jupyter-widgets/base",
      "model_module_version": "1.1.0",
      "model_name": "LayoutModel",
      "state": {}
     },
     "ef8dc9f57f8a43cfa0b903a85115e898": {
      "model_module": "@jupyter-widgets/controls",
      "model_module_version": "1.4.0",
      "model_name": "HTMLModel",
      "state": {
       "layout": "IPY_MODEL_7d40e60efd2f4c96821ab95d3320db34",
       "style": "IPY_MODEL_af66b391061b4bb6b3f0ea35dc71d690"
      }
     },
     "efc33ad791354ce7825e2058b3d3acb6": {
      "model_module": "@jupyter-widgets/controls",
      "model_module_version": "1.4.0",
      "model_name": "DescriptionStyleModel",
      "state": {
       "description_width": ""
      }
     },
     "f004fadbec4b479c90ae0c6b05872c31": {
      "model_module": "@jupyter-widgets/controls",
      "model_module_version": "1.4.0",
      "model_name": "HBoxModel",
      "state": {
       "children": [
        "IPY_MODEL_6d0ea5318dee4d92a57f15ca57e4baa3",
        "IPY_MODEL_6ec202fcc7884f5785a58b64df0a0d6e"
       ],
       "layout": "IPY_MODEL_cd10edeba2004d319cd27e93afd55cfe"
      }
     },
     "f014d7f0515d4d038feef7508cf56e77": {
      "model_module": "@jupyter-widgets/controls",
      "model_module_version": "1.4.0",
      "model_name": "ButtonStyleModel",
      "state": {}
     },
     "f01ac6b1050548949b13c8ee7462aa7b": {
      "model_module": "@jupyter-widgets/base",
      "model_module_version": "1.1.0",
      "model_name": "LayoutModel",
      "state": {
       "visibility": "visible"
      }
     },
     "f034b7a557c14dbfa94844132a44bb6f": {
      "model_module": "@jupyter-widgets/controls",
      "model_module_version": "1.4.0",
      "model_name": "ButtonModel",
      "state": {
       "description": "Results",
       "layout": "IPY_MODEL_9622343b597143e68acdbd2face144a4",
       "style": "IPY_MODEL_f761bee051074b51a892654aac15f68e"
      }
     },
     "f036175b8d154272a9d23006e9bdc535": {
      "model_module": "@jupyter-widgets/base",
      "model_module_version": "1.1.0",
      "model_name": "LayoutModel",
      "state": {}
     },
     "f048cc48c2a84290a80f854ac29a1dec": {
      "model_module": "@jupyter-widgets/base",
      "model_module_version": "1.1.0",
      "model_name": "LayoutModel",
      "state": {
       "visibility": "hidden"
      }
     },
     "f0746ca8aafe4964841cd1d4e06bd79d": {
      "model_module": "@jupyter-widgets/controls",
      "model_module_version": "1.4.0",
      "model_name": "ButtonStyleModel",
      "state": {}
     },
     "f0a27ccb8f624bd1acb436d98c7f7a09": {
      "model_module": "@jupyter-widgets/controls",
      "model_module_version": "1.4.0",
      "model_name": "VBoxModel",
      "state": {
       "children": [
        "IPY_MODEL_2ef13329c3f5468b99d3b3d7f3eb2a68",
        "IPY_MODEL_8ccf3ce66845485680478e7e17c64d1a"
       ],
       "layout": "IPY_MODEL_03443930a1b0444c822c9a9e73f21c25"
      }
     },
     "f0ca789fe6c34172908b3ef1c9042c2c": {
      "model_module": "@jupyter-widgets/controls",
      "model_module_version": "1.4.0",
      "model_name": "ButtonModel",
      "state": {
       "description": "1",
       "layout": "IPY_MODEL_2d56be56a9314c139a0def4159e96d67",
       "style": "IPY_MODEL_3adbbb3128224c9192a896f051756129"
      }
     },
     "f0edc4bbda374ea48379bc07ec068905": {
      "model_module": "@jupyter-widgets/controls",
      "model_module_version": "1.4.0",
      "model_name": "HBoxModel",
      "state": {
       "children": [
        "IPY_MODEL_61a510955bba4d8680ea5d8bf688579d",
        "IPY_MODEL_c4d45aca280747b8b3a2fd920a1ec2eb"
       ],
       "layout": "IPY_MODEL_30c26d5320334c1fb95201a007f2a781"
      }
     },
     "f11fb6f95c134897b53f0e29e13d712a": {
      "model_module": "@jupyter-widgets/controls",
      "model_module_version": "1.4.0",
      "model_name": "DescriptionStyleModel",
      "state": {
       "description_width": ""
      }
     },
     "f162ba2dcedd419c89314638c2f7b441": {
      "model_module": "@jupyter-widgets/base",
      "model_module_version": "1.1.0",
      "model_name": "LayoutModel",
      "state": {}
     },
     "f19067fc13e14446b9e8ba261c3ba31f": {
      "model_module": "@jupyter-widgets/controls",
      "model_module_version": "1.4.0",
      "model_name": "ButtonModel",
      "state": {
       "description": "4",
       "layout": "IPY_MODEL_f40b7a76cfde40e7bc7a58e40ba555ea",
       "style": "IPY_MODEL_416f7a7176e843879aeb392e8d35298d"
      }
     },
     "f1c22f3ce2304d72850cb1046d327e99": {
      "model_module": "@jupyter-widgets/controls",
      "model_module_version": "1.4.0",
      "model_name": "HTMLModel",
      "state": {
       "layout": "IPY_MODEL_463b080b4daa4fa3b3bdc617261cd7f1",
       "style": "IPY_MODEL_6afbaf0b6bfb47379729bcedd410dd87",
       "value": "<b>5</b>)&nbsp;&nbsp;"
      }
     },
     "f216c8087c0a49a08e02082b829c81c5": {
      "model_module": "@jupyter-widgets/controls",
      "model_module_version": "1.4.0",
      "model_name": "ButtonStyleModel",
      "state": {}
     },
     "f22ff06a9a314972a8637d159cb10672": {
      "model_module": "@jupyter-widgets/controls",
      "model_module_version": "1.4.0",
      "model_name": "ButtonModel",
      "state": {
       "description": "5",
       "layout": "IPY_MODEL_c4c2b0fc3d0b4ec7857cd3876d905375",
       "style": "IPY_MODEL_55dce1d8d1ff4374bf63d45b781553f5"
      }
     },
     "f23b962b067e4211b3b4240df14c583e": {
      "model_module": "@jupyter-widgets/controls",
      "model_module_version": "1.4.0",
      "model_name": "HTMLModel",
      "state": {
       "layout": "IPY_MODEL_dc5ee2ad2f5540169afcdfa23b23455c",
       "style": "IPY_MODEL_71ebb118e9104c9bbf455794f11e2efc"
      }
     },
     "f266340b3e4c461d8293d88e63274459": {
      "model_module": "@jupyter-widgets/controls",
      "model_module_version": "1.4.0",
      "model_name": "VBoxModel",
      "state": {
       "children": [
        "IPY_MODEL_f4016f76cfdd4cb5a0ad8b2488cd9131",
        "IPY_MODEL_cff08d790b3441e39321878df52f88e5",
        "IPY_MODEL_802e1d36e4c34e319c5f83fd1b4da01c",
        "IPY_MODEL_bd287b11ed494e37a17934a50c31c306",
        "IPY_MODEL_58ff6a8594fb4af5ad011e07f5832383",
        "IPY_MODEL_94e5bdc174e0413dbd80d71d36afe81c",
        "IPY_MODEL_e67d3133acec4c7e9c1d92d26b2676a7",
        "IPY_MODEL_6bc6e18992524b05b03f0bd4e5ca9a0c",
        "IPY_MODEL_0f8609b82e2e4554b6383d53a47574d2"
       ],
       "layout": "IPY_MODEL_fd089bc16d2647b8aef7f812b2e7d5a1"
      }
     },
     "f27e49a32ffe4941a184cb98765a40e0": {
      "model_module": "@jupyter-widgets/controls",
      "model_module_version": "1.4.0",
      "model_name": "DescriptionStyleModel",
      "state": {
       "description_width": ""
      }
     },
     "f288346051324329b36797ef361c0ca5": {
      "model_module": "@jupyter-widgets/controls",
      "model_module_version": "1.4.0",
      "model_name": "DescriptionStyleModel",
      "state": {
       "description_width": ""
      }
     },
     "f28e59e5f2e5436a86c34f78f2f01aa0": {
      "model_module": "@jupyter-widgets/controls",
      "model_module_version": "1.4.0",
      "model_name": "ButtonModel",
      "state": {
       "description": "Next",
       "layout": "IPY_MODEL_f7a65fe514c747428bb6bde4e5c7525f",
       "style": "IPY_MODEL_de7cf8edc509497c83fb8cd2ef2a3920"
      }
     },
     "f2ae09d8e349415e8e22fe9bae5b769b": {
      "model_module": "@jupyter-widgets/controls",
      "model_module_version": "1.4.0",
      "model_name": "HTMLModel",
      "state": {
       "layout": "IPY_MODEL_d420b75abad94821ba59e3c31ccec22e",
       "style": "IPY_MODEL_d7795a1132c24550bd0e05184ec1d385",
       "value": "<h1><h4>Consider the three-qubit quantum circuit below. What are the real and imaginary components of the state vector?<br/><br/><h4> <img align=\"middle\" src=\"qiskitintro_images/question.png\" width=300px><br/></h1>"
      }
     },
     "f2b8f5c542084229a1c259deed20c85c": {
      "model_module": "@jupyter-widgets/controls",
      "model_module_version": "1.4.0",
      "model_name": "HBoxModel",
      "state": {
       "children": [
        "IPY_MODEL_a71ebff5da124de1837d6ab626c5ba2e",
        "IPY_MODEL_ab7b6bc2892d4cfab55c9c11715d57c2"
       ],
       "layout": "IPY_MODEL_6131a384b2184d9c8a21503466e7ed52"
      }
     },
     "f2f0100c751b457cadb95ce745b0d550": {
      "model_module": "@jupyter-widgets/controls",
      "model_module_version": "1.4.0",
      "model_name": "DescriptionStyleModel",
      "state": {
       "description_width": ""
      }
     },
     "f35584cf15924753bfac77b93afc171d": {
      "model_module": "@jupyter-widgets/base",
      "model_module_version": "1.1.0",
      "model_name": "LayoutModel",
      "state": {}
     },
     "f367dece29f840d8a5b5c6c8a307d5b0": {
      "model_module": "@jupyter-widgets/base",
      "model_module_version": "1.1.0",
      "model_name": "LayoutModel",
      "state": {}
     },
     "f385bd0054314e90bd1ed4457a9afcee": {
      "model_module": "@jupyter-widgets/base",
      "model_module_version": "1.1.0",
      "model_name": "LayoutModel",
      "state": {}
     },
     "f39a6c24da7e404890e7ef2a48639c7d": {
      "model_module": "@jupyter-widgets/base",
      "model_module_version": "1.1.0",
      "model_name": "LayoutModel",
      "state": {}
     },
     "f3c0aa6208214ad88fbc3c2c41abd224": {
      "model_module": "@jupyter-widgets/controls",
      "model_module_version": "1.4.0",
      "model_name": "HTMLModel",
      "state": {
       "layout": "IPY_MODEL_e61a9ff447ef452f85b230ca39eb3256",
       "style": "IPY_MODEL_fa3fa35808f84244a53fda5b27f1a6c9"
      }
     },
     "f3c56c0b3e4e4fe0a5c621f5bd417240": {
      "model_module": "@jupyter-widgets/controls",
      "model_module_version": "1.4.0",
      "model_name": "VBoxModel",
      "state": {
       "children": [
        "IPY_MODEL_2a263db1ca9d44e6b3b5ecc405ba0c0a",
        "IPY_MODEL_df56742aae7248129699b5f9fd6bb04f"
       ],
       "layout": "IPY_MODEL_be7d1e91af044c50a6afd4fb364d674f"
      }
     },
     "f3cbafcd31a945c589bd7d36eea12bf4": {
      "model_module": "@jupyter-widgets/base",
      "model_module_version": "1.1.0",
      "model_name": "LayoutModel",
      "state": {}
     },
     "f3cc19226e5a43eab008ae15ea7655e3": {
      "model_module": "@jupyter-widgets/controls",
      "model_module_version": "1.4.0",
      "model_name": "ButtonModel",
      "state": {
       "description": "4",
       "layout": "IPY_MODEL_28625c62bf414e68b95f8a978f94366e",
       "style": "IPY_MODEL_2fa11452e4a648d8ba77249ac07cfc25"
      }
     },
     "f3cd885d552240a0864c1993b0089e59": {
      "model_module": "@jupyter-widgets/controls",
      "model_module_version": "1.4.0",
      "model_name": "HTMLModel",
      "state": {
       "layout": "IPY_MODEL_a17e866a7c9944d1aef4c8bdc0903d80",
       "style": "IPY_MODEL_b6bb7272385d4be48f193cfb97539249",
       "value": "<b>3</b>)&nbsp;&nbsp;"
      }
     },
     "f4016f76cfdd4cb5a0ad8b2488cd9131": {
      "model_module": "@jupyter-widgets/controls",
      "model_module_version": "1.4.0",
      "model_name": "HTMLModel",
      "state": {
       "layout": "IPY_MODEL_04808652655f4319842ae6d487594283",
       "style": "IPY_MODEL_3df4e46f9ea14af7b42d7b1ec478e849",
       "value": "<p><b>Question ID</b>: 1</p>"
      }
     },
     "f40b7a76cfde40e7bc7a58e40ba555ea": {
      "model_module": "@jupyter-widgets/base",
      "model_module_version": "1.1.0",
      "model_name": "LayoutModel",
      "state": {
       "margin": "20px",
       "visibility": "visible"
      }
     },
     "f42408ea9af2485990b88968239a232a": {
      "model_module": "@jupyter-widgets/base",
      "model_module_version": "1.1.0",
      "model_name": "LayoutModel",
      "state": {
       "margin": "20px",
       "visibility": "visible"
      }
     },
     "f42700dda43e4126880201a24c1f6ba6": {
      "model_module": "@jupyter-widgets/base",
      "model_module_version": "1.1.0",
      "model_name": "LayoutModel",
      "state": {}
     },
     "f487a7cc6b944475803b91ea9a765e86": {
      "model_module": "@jupyter-widgets/controls",
      "model_module_version": "1.4.0",
      "model_name": "ButtonModel",
      "state": {
       "description": "1",
       "layout": "IPY_MODEL_b9d06e023f8c4bf5b114101b3f492b73",
       "style": "IPY_MODEL_d2aac382ee6f424ea65ec1394991d161"
      }
     },
     "f4dff2345c164936824243ebd3344f8b": {
      "model_module": "@jupyter-widgets/controls",
      "model_module_version": "1.4.0",
      "model_name": "ButtonModel",
      "state": {
       "description": "Previous",
       "disabled": true,
       "layout": "IPY_MODEL_c63e0cbe8bb74cccbba4bbbdb5e12ce3",
       "style": "IPY_MODEL_97f2cd6a0185434ca35bf904dcffd2bc"
      }
     },
     "f540611f63ab4cdbb330b45b327a9925": {
      "model_module": "@jupyter-widgets/base",
      "model_module_version": "1.1.0",
      "model_name": "LayoutModel",
      "state": {}
     },
     "f540caf9ba7644be8cd276016551d95d": {
      "model_module": "@jupyter-widgets/controls",
      "model_module_version": "1.4.0",
      "model_name": "VBoxModel",
      "state": {
       "children": [
        "IPY_MODEL_c4787d14a12f409d98ef83d3eafd27eb",
        "IPY_MODEL_82cf3e1db3324010a3a21a054358210c"
       ],
       "layout": "IPY_MODEL_ef49b8f4b79d4c1aa4b5e913b6d3a956"
      }
     },
     "f5524fe9e19a4d86894ccb3adba40829": {
      "model_module": "@jupyter-widgets/base",
      "model_module_version": "1.1.0",
      "model_name": "LayoutModel",
      "state": {}
     },
     "f567cf2695b94e30917382d0a497410c": {
      "model_module": "@jupyter-widgets/base",
      "model_module_version": "1.1.0",
      "model_name": "LayoutModel",
      "state": {
       "visibility": "visible"
      }
     },
     "f58199d844354f64ad7a5d6a5f4e1370": {
      "model_module": "@jupyter-widgets/controls",
      "model_module_version": "1.4.0",
      "model_name": "DescriptionStyleModel",
      "state": {
       "description_width": ""
      }
     },
     "f5a2e3ab32874d4594c75641f7f01c41": {
      "model_module": "@jupyter-widgets/controls",
      "model_module_version": "1.4.0",
      "model_name": "HTMLModel",
      "state": {
       "layout": "IPY_MODEL_b2286b0c553b46d795f2a9baa56c6544",
       "style": "IPY_MODEL_bfae435809b94b1785200bd34fdf6c3a",
       "value": "Qubits in state <img src=\"http://latex.codecogs.com/svg.latex?\\vert1\\rangle\" border=\"0\"/> decay down to <img src=\"http://latex.codecogs.com/svg.latex?\\vert0\\rangle\" border=\"0\"/> before measurement. The decay times for both qubits are equal."
      }
     },
     "f5c59065dfe14cfbbb241d42bf9f719a": {
      "model_module": "@jupyter-widgets/controls",
      "model_module_version": "1.4.0",
      "model_name": "ButtonStyleModel",
      "state": {}
     },
     "f6176e1627534b8f983ee180cb2460c7": {
      "model_module": "@jupyter-widgets/base",
      "model_module_version": "1.1.0",
      "model_name": "LayoutModel",
      "state": {}
     },
     "f655852fffcb42d88fc4419e19d1cee1": {
      "model_module": "@jupyter-widgets/controls",
      "model_module_version": "1.4.0",
      "model_name": "ButtonModel",
      "state": {
       "description": "3",
       "layout": "IPY_MODEL_a42fdb42dd204388958d1b1f6fd830a2",
       "style": "IPY_MODEL_3c44c11cce8e480bb3474432fd758c7d"
      }
     },
     "f664746d91a74e1295f3a1fdf094a841": {
      "model_module": "@jupyter-widgets/base",
      "model_module_version": "1.1.0",
      "model_name": "LayoutModel",
      "state": {}
     },
     "f66d50f4f2b7404c9c58040887a1d668": {
      "model_module": "@jupyter-widgets/controls",
      "model_module_version": "1.4.0",
      "model_name": "ButtonModel",
      "state": {
       "description": "4",
       "layout": "IPY_MODEL_cdcf63483797478099734972795f2491",
       "style": "IPY_MODEL_60a03f2563904cbb8383c62c504e1239"
      }
     },
     "f67d21be35ea42949b22fb3d96627dee": {
      "model_module": "@jupyter-widgets/controls",
      "model_module_version": "1.4.0",
      "model_name": "DescriptionStyleModel",
      "state": {
       "description_width": ""
      }
     },
     "f6823c26af084f0bb41e375db228bc9f": {
      "model_module": "@jupyter-widgets/controls",
      "model_module_version": "1.4.0",
      "model_name": "HTMLModel",
      "state": {
       "layout": "IPY_MODEL_dd04eb9f0da14c9990f9ad049a485bbc",
       "style": "IPY_MODEL_c3049fc3f6a34009b64d88da492c148e",
       "value": "<br/><br clear=\"all\"/><b>Respond</b>: "
      }
     },
     "f689ef94f16347a39db92aa1cb57be12": {
      "model_module": "@jupyter-widgets/base",
      "model_module_version": "1.1.0",
      "model_name": "LayoutModel",
      "state": {
       "visibility": "visible"
      }
     },
     "f69c40238cb44bb7a504f984b891c6c7": {
      "model_module": "@jupyter-widgets/base",
      "model_module_version": "1.1.0",
      "model_name": "LayoutModel",
      "state": {
       "margin": "20px",
       "visibility": "visible"
      }
     },
     "f6b11d4c4bf7470c9318db09c7a74881": {
      "model_module": "@jupyter-widgets/base",
      "model_module_version": "1.1.0",
      "model_name": "LayoutModel",
      "state": {}
     },
     "f6c1bb332b134628ac8695c0addec9b3": {
      "model_module": "@jupyter-widgets/controls",
      "model_module_version": "1.4.0",
      "model_name": "ButtonStyleModel",
      "state": {}
     },
     "f707377bfdc14281ae52812e1745c324": {
      "model_module": "@jupyter-widgets/base",
      "model_module_version": "1.1.0",
      "model_name": "LayoutModel",
      "state": {
       "margin": "20px",
       "visibility": "visible"
      }
     },
     "f730cce9dfda4b189c8058d0278cfece": {
      "model_module": "@jupyter-widgets/base",
      "model_module_version": "1.1.0",
      "model_name": "LayoutModel",
      "state": {}
     },
     "f7347ef9778e4a7d979e64ecd212e40f": {
      "model_module": "@jupyter-widgets/base",
      "model_module_version": "1.1.0",
      "model_name": "LayoutModel",
      "state": {}
     },
     "f740bd5c0601480f9d0fa8d9b4a27fe5": {
      "model_module": "@jupyter-widgets/base",
      "model_module_version": "1.1.0",
      "model_name": "LayoutModel",
      "state": {
       "margin": "20px",
       "visibility": "visible"
      }
     },
     "f74d48bb85a441d184d0541c89199d4f": {
      "model_module": "@jupyter-widgets/controls",
      "model_module_version": "1.4.0",
      "model_name": "ButtonStyleModel",
      "state": {}
     },
     "f761bee051074b51a892654aac15f68e": {
      "model_module": "@jupyter-widgets/controls",
      "model_module_version": "1.4.0",
      "model_name": "ButtonStyleModel",
      "state": {}
     },
     "f7a65fe514c747428bb6bde4e5c7525f": {
      "model_module": "@jupyter-widgets/base",
      "model_module_version": "1.1.0",
      "model_name": "LayoutModel",
      "state": {}
     },
     "f7c1d0809daf4763a50ad10fc9e15675": {
      "model_module": "@jupyter-widgets/controls",
      "model_module_version": "1.4.0",
      "model_name": "DescriptionStyleModel",
      "state": {
       "description_width": ""
      }
     },
     "f801ee2197ad4b44a265dc119d8ce195": {
      "model_module": "@jupyter-widgets/controls",
      "model_module_version": "1.4.0",
      "model_name": "HBoxModel",
      "state": {
       "children": [
        "IPY_MODEL_7ed1d3c318ea48a08477461e6e5db925",
        "IPY_MODEL_c4a2038c514d4e0385adf28e03ea5fff"
       ],
       "layout": "IPY_MODEL_843075ee57c14875b10437e368699041"
      }
     },
     "f808b1e359814b798fdd8c404423c66d": {
      "model_module": "@jupyter-widgets/controls",
      "model_module_version": "1.4.0",
      "model_name": "HTMLModel",
      "state": {
       "layout": "IPY_MODEL_17824c50f6c84856aee96d32415faf32",
       "style": "IPY_MODEL_64a884ab393b473a9b584b243042e00e",
       "value": "<img src=\"questions/qiskitintro_images/2.png\">"
      }
     },
     "f80d3e5261d44b81b9ad36f42cf1c41a": {
      "model_module": "@jupyter-widgets/base",
      "model_module_version": "1.1.0",
      "model_name": "LayoutModel",
      "state": {}
     },
     "f815a98a1b60494f96344847b4a8ac9f": {
      "model_module": "@jupyter-widgets/controls",
      "model_module_version": "1.4.0",
      "model_name": "HTMLModel",
      "state": {
       "layout": "IPY_MODEL_04116fce8775496ab2bdf1c909cebde6",
       "style": "IPY_MODEL_e35749d43aea4d05b9e8a811e423a18f",
       "value": "\n        <pre>\nqc3 = QuantumCircuit(3,1)\nif a=='1':\n    q1.x(0)\nif b=='1':\n    qc1.x(1)\nqc3.x(0)\nqc3.x(1)\nqc3.x(2)\nqc3.ccx(0,2,1)\nqc3.measure(1,0)\n\nqc3.draw()\n</pre>\n        "
      }
     },
     "f81e1ed7174543eb85d049f7250a0796": {
      "model_module": "@jupyter-widgets/controls",
      "model_module_version": "1.4.0",
      "model_name": "DescriptionStyleModel",
      "state": {
       "description_width": ""
      }
     },
     "f833afd9c49242ef8bebc191a15adb30": {
      "model_module": "@jupyter-widgets/controls",
      "model_module_version": "1.4.0",
      "model_name": "ButtonStyleModel",
      "state": {}
     },
     "f83e5dc5552a46218f48710730cb3daa": {
      "model_module": "@jupyter-widgets/controls",
      "model_module_version": "1.4.0",
      "model_name": "HTMLModel",
      "state": {
       "layout": "IPY_MODEL_90bd7afa2507415bb0b6e1d875edf6e5",
       "style": "IPY_MODEL_be122850be0444a08a63b83ed8d0b300",
       "value": "Choices B and C"
      }
     },
     "f86f91f9245647ff84659a5c59c17bdb": {
      "model_module": "@jupyter-widgets/controls",
      "model_module_version": "1.4.0",
      "model_name": "ButtonModel",
      "state": {
       "description": "Previous",
       "disabled": true,
       "layout": "IPY_MODEL_2ddccae170054047a104f351bf64b504",
       "style": "IPY_MODEL_8b02565e3e634106b87b70ef38da9e74"
      }
     },
     "f87d34428e34464b91eabcb77d2adf61": {
      "model_module": "@jupyter-widgets/controls",
      "model_module_version": "1.4.0",
      "model_name": "ButtonModel",
      "state": {
       "description": "2",
       "layout": "IPY_MODEL_d5b9ec906f894bf3b52db92fa03e1229",
       "style": "IPY_MODEL_88907969635e4d58ab56624a7f0cdd3a"
      }
     },
     "f886c05263b349519a77bb419d71cdf7": {
      "model_module": "@jupyter-widgets/controls",
      "model_module_version": "1.4.0",
      "model_name": "HBoxModel",
      "state": {
       "children": [
        "IPY_MODEL_55464fbf70234e6fb0ac9a8a0d203382",
        "IPY_MODEL_bd1577509e3e4fb1a67fd752027dacba"
       ],
       "layout": "IPY_MODEL_358aacc11188457c9640df6b9fb92e9d"
      }
     },
     "f914535e7e82470b8476fd5555368b36": {
      "model_module": "@jupyter-widgets/base",
      "model_module_version": "1.1.0",
      "model_name": "LayoutModel",
      "state": {}
     },
     "f915513d726e410aa91a678b5ac74000": {
      "model_module": "@jupyter-widgets/controls",
      "model_module_version": "1.4.0",
      "model_name": "DescriptionStyleModel",
      "state": {
       "description_width": ""
      }
     },
     "f91abb1b227f40f696895f9fa4d10602": {
      "model_module": "@jupyter-widgets/controls",
      "model_module_version": "1.4.0",
      "model_name": "HBoxModel",
      "state": {
       "children": [
        "IPY_MODEL_bd23b7647bf04324bb913702dbbd9ed2",
        "IPY_MODEL_9e6a9dee348f49d791ece8d8dbbe66c1"
       ],
       "layout": "IPY_MODEL_33c8f06bcde6489fb81d06b48bd75c1f"
      }
     },
     "f933405aa2924dd790220ec7161b2660": {
      "model_module": "@jupyter-widgets/controls",
      "model_module_version": "1.4.0",
      "model_name": "HTMLModel",
      "state": {
       "layout": "IPY_MODEL_268900faa18e4c499ac6b3a1828d777e",
       "style": "IPY_MODEL_88f5182f12564a74aa4b111c67f82b56",
       "value": "<p><b>Question ID</b>: 1</p>"
      }
     },
     "f93f331b63fb4c218fd874112542af6c": {
      "model_module": "@jupyter-widgets/controls",
      "model_module_version": "1.4.0",
      "model_name": "VBoxModel",
      "state": {
       "children": [
        "IPY_MODEL_d927ee512e354b77a1c27efeef4a8e89",
        "IPY_MODEL_73d3d17dc8984b0b8f092050d367d693",
        "IPY_MODEL_15fef8ecaaaf4aaa854f48bbbe29e24c",
        "IPY_MODEL_a356e8af755a4571a0714f18b4541b6c",
        "IPY_MODEL_857eac7b098b45a497141e021a0a16b1",
        "IPY_MODEL_17278b87e25749f58f93bf6b98a8b9b4",
        "IPY_MODEL_c8b048eb2559442db981be5a08529724",
        "IPY_MODEL_0dd36570ce8d41358de936993c5d7199",
        "IPY_MODEL_0e451d22043e4ee38eb6b3994f20a32f"
       ],
       "layout": "IPY_MODEL_c9c5cdd734134930973c353ba6d78d79"
      }
     },
     "f9a0fc1e4f31452f97ff886cec11bb08": {
      "model_module": "@jupyter-widgets/base",
      "model_module_version": "1.1.0",
      "model_name": "LayoutModel",
      "state": {
       "margin": "20px",
       "visibility": "visible"
      }
     },
     "f9d30882a7eb4058b9204f397a43cd78": {
      "model_module": "@jupyter-widgets/controls",
      "model_module_version": "1.4.0",
      "model_name": "ButtonModel",
      "state": {
       "description": "1",
       "layout": "IPY_MODEL_a9035f0523b3419ab7bf00e8835051ed",
       "style": "IPY_MODEL_52030a66e4474931978d9703ecb8ce51"
      }
     },
     "f9fe799aca0d4eec9c8d7236d1d62686": {
      "model_module": "@jupyter-widgets/controls",
      "model_module_version": "1.4.0",
      "model_name": "ButtonStyleModel",
      "state": {}
     },
     "fa1d8003380b4258b773acca4157d7ac": {
      "model_module": "@jupyter-widgets/controls",
      "model_module_version": "1.4.0",
      "model_name": "ButtonModel",
      "state": {
       "description": "4",
       "layout": "IPY_MODEL_b0f6226f15a344f7988371dab3f701ac",
       "style": "IPY_MODEL_1422094eddb34c679cd8d571f4618c48"
      }
     },
     "fa215e8636cd46f09a60e32cb7beffe1": {
      "model_module": "@jupyter-widgets/base",
      "model_module_version": "1.1.0",
      "model_name": "LayoutModel",
      "state": {}
     },
     "fa3fa35808f84244a53fda5b27f1a6c9": {
      "model_module": "@jupyter-widgets/controls",
      "model_module_version": "1.4.0",
      "model_name": "DescriptionStyleModel",
      "state": {
       "description_width": ""
      }
     },
     "fa5a2bcf216c4040a43ad08d296c5782": {
      "model_module": "@jupyter-widgets/base",
      "model_module_version": "1.1.0",
      "model_name": "LayoutModel",
      "state": {}
     },
     "fa5cdfed8b7049be933c40bf812ab6d3": {
      "model_module": "@jupyter-widgets/base",
      "model_module_version": "1.1.0",
      "model_name": "LayoutModel",
      "state": {}
     },
     "fa5f11452e70498f827cae1f67f4e97e": {
      "model_module": "@jupyter-widgets/base",
      "model_module_version": "1.1.0",
      "model_name": "LayoutModel",
      "state": {
       "visibility": "hidden"
      }
     },
     "fa77e122b65f46f485d413aa1cc86277": {
      "model_module": "@jupyter-widgets/controls",
      "model_module_version": "1.4.0",
      "model_name": "DescriptionStyleModel",
      "state": {
       "description_width": ""
      }
     },
     "fa86e06b18e34873ac36e94e6dd20f43": {
      "model_module": "@jupyter-widgets/controls",
      "model_module_version": "1.4.0",
      "model_name": "ButtonStyleModel",
      "state": {}
     },
     "fa9ad4b714404f2fb6baf9a024a9418b": {
      "model_module": "@jupyter-widgets/controls",
      "model_module_version": "1.4.0",
      "model_name": "HTMLModel",
      "state": {
       "layout": "IPY_MODEL_8f1a5ba2333e43e7a2541504fd42d64f",
       "style": "IPY_MODEL_a7ea23cfb792472c918558221e743b90",
       "value": "Choices B and C"
      }
     },
     "faa1cd693c2742409ab9383c3e2c4265": {
      "model_module": "@jupyter-widgets/controls",
      "model_module_version": "1.4.0",
      "model_name": "DescriptionStyleModel",
      "state": {
       "description_width": ""
      }
     },
     "faac943ccc644712a409538d23f071d4": {
      "model_module": "@jupyter-widgets/controls",
      "model_module_version": "1.4.0",
      "model_name": "HTMLModel",
      "state": {
       "layout": "IPY_MODEL_84025b4abf1c42db916cd9830539afb0",
       "style": "IPY_MODEL_f288346051324329b36797ef361c0ca5",
       "value": "<b>4</b>)&nbsp;&nbsp;"
      }
     },
     "facbd524adf44bd596be9a6980345d14": {
      "model_module": "@jupyter-widgets/controls",
      "model_module_version": "1.4.0",
      "model_name": "DescriptionStyleModel",
      "state": {
       "description_width": ""
      }
     },
     "fadb7d7afa9c420487b1f1682d9a4bdc": {
      "model_module": "@jupyter-widgets/controls",
      "model_module_version": "1.4.0",
      "model_name": "HTMLModel",
      "state": {
       "layout": "IPY_MODEL_9fe0157e75e14d64971cee96d2f35ef1",
       "style": "IPY_MODEL_c990759df19f4030b1ca30dc828ae505",
       "value": "<br/><br clear=\"all\"/><b>Respond</b>: "
      }
     },
     "fb2d5ca35a1844deaf14de0e7770bc30": {
      "model_module": "@jupyter-widgets/base",
      "model_module_version": "1.1.0",
      "model_name": "LayoutModel",
      "state": {}
     },
     "fb578dcd5c754d3db33b9d6e560a96de": {
      "model_module": "@jupyter-widgets/base",
      "model_module_version": "1.1.0",
      "model_name": "LayoutModel",
      "state": {
       "visibility": "hidden"
      }
     },
     "fb63621e2bc94751aabf2333d8364af2": {
      "model_module": "@jupyter-widgets/controls",
      "model_module_version": "1.4.0",
      "model_name": "HBoxModel",
      "state": {
       "children": [
        "IPY_MODEL_a8164d3cd1d04be18ea87a94ef8821e9",
        "IPY_MODEL_ffa28cd38b8e42c8902ab4db1136843e",
        "IPY_MODEL_ca051cc1953e4143be421656b100896b",
        "IPY_MODEL_1a83a418cf584d91aba898bba42e44d6",
        "IPY_MODEL_c6240a99380c4edd80625b5b8a789f15",
        "IPY_MODEL_00d4576dddea4d47b195246572902d8d"
       ],
       "layout": "IPY_MODEL_d5c030126c354b1fb4e4e381928a813f"
      }
     },
     "fb640dd7605c4ce3a7aa931e2bba8cdc": {
      "model_module": "@jupyter-widgets/controls",
      "model_module_version": "1.4.0",
      "model_name": "HTMLModel",
      "state": {
       "layout": "IPY_MODEL_f39a6c24da7e404890e7ef2a48639c7d",
       "style": "IPY_MODEL_58e37b27c9c34adfa9430c9cd099447b",
       "value": "A library of utilities and components for building algorithms and applications"
      }
     },
     "fbc385faff3f467f883990caa87dacd7": {
      "model_module": "@jupyter-widgets/base",
      "model_module_version": "1.1.0",
      "model_name": "LayoutModel",
      "state": {}
     },
     "fbe6250e7eef4aa6b368b888ce5bffa2": {
      "model_module": "@jupyter-widgets/base",
      "model_module_version": "1.1.0",
      "model_name": "LayoutModel",
      "state": {
       "visibility": "visible"
      }
     },
     "fc00bc52d3394405b67d1b09bd91422b": {
      "model_module": "@jupyter-widgets/controls",
      "model_module_version": "1.4.0",
      "model_name": "DescriptionStyleModel",
      "state": {
       "description_width": ""
      }
     },
     "fc05bc077c97469190df4219c61a8a07": {
      "model_module": "@jupyter-widgets/base",
      "model_module_version": "1.1.0",
      "model_name": "LayoutModel",
      "state": {}
     },
     "fc09afe3a01545bf9c3c45e7a732b575": {
      "model_module": "@jupyter-widgets/controls",
      "model_module_version": "1.4.0",
      "model_name": "HTMLModel",
      "state": {
       "layout": "IPY_MODEL_a880f2a281824fb594b788a9ac6fdd62",
       "style": "IPY_MODEL_309b556bf73b4858a1215a63d1ee9623",
       "value": "<img src=\"qiskitintro_images/2.png\">"
      }
     },
     "fc1bc344607d4c43aa1fd3abb078a90e": {
      "model_module": "@jupyter-widgets/base",
      "model_module_version": "1.1.0",
      "model_name": "LayoutModel",
      "state": {
       "visibility": "visible"
      }
     },
     "fc252f99c10d4d1db0505f0a01a0990f": {
      "model_module": "@jupyter-widgets/base",
      "model_module_version": "1.1.0",
      "model_name": "LayoutModel",
      "state": {}
     },
     "fc359a11b4394616bc8f6838d28a3ab1": {
      "model_module": "@jupyter-widgets/controls",
      "model_module_version": "1.4.0",
      "model_name": "DescriptionStyleModel",
      "state": {
       "description_width": ""
      }
     },
     "fc69c5d9073145249ea2ccdb9cfda54a": {
      "model_module": "@jupyter-widgets/controls",
      "model_module_version": "1.4.0",
      "model_name": "DescriptionStyleModel",
      "state": {
       "description_width": ""
      }
     },
     "fc6ac92870c04340bf1a777e041dac34": {
      "model_module": "@jupyter-widgets/base",
      "model_module_version": "1.1.0",
      "model_name": "LayoutModel",
      "state": {
       "visibility": "hidden"
      }
     },
     "fc6c747c173443438409d6d677aff4b7": {
      "model_module": "@jupyter-widgets/controls",
      "model_module_version": "1.4.0",
      "model_name": "DescriptionStyleModel",
      "state": {
       "description_width": ""
      }
     },
     "fc81499c51a143e49297fb8998c57762": {
      "model_module": "@jupyter-widgets/controls",
      "model_module_version": "1.4.0",
      "model_name": "DescriptionStyleModel",
      "state": {
       "description_width": ""
      }
     },
     "fc95be33e7f64b0597bbe05d16a28b21": {
      "model_module": "@jupyter-widgets/controls",
      "model_module_version": "1.4.0",
      "model_name": "HTMLModel",
      "state": {
       "layout": "IPY_MODEL_a52628a59724446598424d2f0178a101",
       "style": "IPY_MODEL_30a254d2babe4ead91233d539d3607e1",
       "value": "<img src=\"http://latex.codecogs.com/svg.latex?\\vert0\\rangle\" border=\"0\"/>"
      }
     },
     "fcc91bfe2df7491eaee3590bba52b041": {
      "model_module": "@jupyter-widgets/controls",
      "model_module_version": "1.4.0",
      "model_name": "HTMLModel",
      "state": {
       "layout": "IPY_MODEL_ec11b72aba72451d82bf425146b44d43",
       "style": "IPY_MODEL_990a747b500f4d77980fc9719dc561bc",
       "value": "<b>5</b>)&nbsp;&nbsp;"
      }
     },
     "fd089bc16d2647b8aef7f812b2e7d5a1": {
      "model_module": "@jupyter-widgets/base",
      "model_module_version": "1.1.0",
      "model_name": "LayoutModel",
      "state": {}
     },
     "fd08cf4232434497b7e35cf6eb66dca5": {
      "model_module": "@jupyter-widgets/controls",
      "model_module_version": "1.4.0",
      "model_name": "HBoxModel",
      "state": {
       "children": [
        "IPY_MODEL_8c07582f553c4594b87e0a2144030469",
        "IPY_MODEL_4c1376b079bb48cf8616d5ef44a27ce7"
       ],
       "layout": "IPY_MODEL_23d7c4152f62463f9737679d8b76f475"
      }
     },
     "fd0f71208dee44b188326366900b0659": {
      "model_module": "@jupyter-widgets/controls",
      "model_module_version": "1.4.0",
      "model_name": "ButtonModel",
      "state": {
       "description": "4",
       "layout": "IPY_MODEL_7da70649df8a4fb7a06f371bc2ba4b65",
       "style": "IPY_MODEL_5a436f47fa1645c1899ce9f8b9eaa899"
      }
     },
     "fd257f356a774290a527cf0e3af52b10": {
      "model_module": "@jupyter-widgets/base",
      "model_module_version": "1.1.0",
      "model_name": "LayoutModel",
      "state": {}
     },
     "fd2d53f40ce24019b49c848c73c3d13d": {
      "model_module": "@jupyter-widgets/controls",
      "model_module_version": "1.4.0",
      "model_name": "HTMLModel",
      "state": {
       "layout": "IPY_MODEL_5acf3279d2cb4629b4fa2cb5c60f415c",
       "style": "IPY_MODEL_616bd2a6f99347abb146d42dd1910efd",
       "value": "<b>1</b>)&nbsp;&nbsp;"
      }
     },
     "fd47b481b5374f6e8f6a65f2e25ef69c": {
      "model_module": "@jupyter-widgets/base",
      "model_module_version": "1.1.0",
      "model_name": "LayoutModel",
      "state": {
       "margin": "20px",
       "visibility": "visible"
      }
     },
     "fd4e3fca4616405c8769b9323ca11927": {
      "model_module": "@jupyter-widgets/base",
      "model_module_version": "1.1.0",
      "model_name": "LayoutModel",
      "state": {}
     },
     "fd77ce87a2c340a5b333303807d8795e": {
      "model_module": "@jupyter-widgets/controls",
      "model_module_version": "1.4.0",
      "model_name": "HTMLModel",
      "state": {
       "layout": "IPY_MODEL_0e6a66931a0b4e09a9be8f0916139c3c",
       "style": "IPY_MODEL_81c15079d29c4f00be3eab5d9b2a4746"
      }
     },
     "fd81211eff6045149693f77f564415b4": {
      "model_module": "@jupyter-widgets/controls",
      "model_module_version": "1.4.0",
      "model_name": "DescriptionStyleModel",
      "state": {
       "description_width": ""
      }
     },
     "fd84298b8d2e48abbf577d57cce8ba29": {
      "model_module": "@jupyter-widgets/base",
      "model_module_version": "1.1.0",
      "model_name": "LayoutModel",
      "state": {}
     },
     "fd97e18af9dd4643912f10d3db103efa": {
      "model_module": "@jupyter-widgets/controls",
      "model_module_version": "1.4.0",
      "model_name": "HTMLModel",
      "state": {
       "layout": "IPY_MODEL_e9c48273c9ea4f128d67a40d4a0d6290",
       "style": "IPY_MODEL_b33305b373114db89aea2f24f5500e9d",
       "value": "<b>3</b>)&nbsp;&nbsp;"
      }
     },
     "fd9b323e7ed14e938b140fff13411d77": {
      "model_module": "@jupyter-widgets/base",
      "model_module_version": "1.1.0",
      "model_name": "LayoutModel",
      "state": {}
     },
     "fdd7b7fd88094d15a808efa11b5a27d2": {
      "model_module": "@jupyter-widgets/controls",
      "model_module_version": "1.4.0",
      "model_name": "DescriptionStyleModel",
      "state": {
       "description_width": ""
      }
     },
     "fde41d94813d4d6e9eebe5e75c935266": {
      "model_module": "@jupyter-widgets/controls",
      "model_module_version": "1.4.0",
      "model_name": "DescriptionStyleModel",
      "state": {
       "description_width": ""
      }
     },
     "fe1caf446b334e57be29839473770e4c": {
      "model_module": "@jupyter-widgets/controls",
      "model_module_version": "1.4.0",
      "model_name": "ButtonStyleModel",
      "state": {}
     },
     "fe336c67f91b4d33be48defce72e8cb8": {
      "model_module": "@jupyter-widgets/controls",
      "model_module_version": "1.4.0",
      "model_name": "HBoxModel",
      "state": {
       "children": [
        "IPY_MODEL_faac943ccc644712a409538d23f071d4",
        "IPY_MODEL_1834851b615a442e95e8243bb17e1117"
       ],
       "layout": "IPY_MODEL_d183e1f08ab04c72a73db8633cd2544b"
      }
     },
     "fe412266bfb24eecbba3653fa0b5d410": {
      "model_module": "@jupyter-widgets/controls",
      "model_module_version": "1.4.0",
      "model_name": "HTMLModel",
      "state": {
       "layout": "IPY_MODEL_b6679cc4579b460d8c4cd18dac27390f",
       "style": "IPY_MODEL_503722dc716d4c2ba30801217178ed89",
       "value": "Qubits in state <img src=\"http://latex.codecogs.com/svg.latex?\\vert0\\rangle\" border=\"0\"/> decay down to <img src=\"http://latex.codecogs.com/svg.latex?\\vert1\\rangle\" border=\"0\"/> before measurement. The decay time for <samp>qr[0]</samp> is shorter than that for <samp>qr[1]</samp>."
      }
     },
     "fe58c5e122234be0a6288bb0377df9fd": {
      "model_module": "@jupyter-widgets/base",
      "model_module_version": "1.1.0",
      "model_name": "LayoutModel",
      "state": {}
     },
     "fe7527d1284842d9b3875d32dce61cb6": {
      "model_module": "@jupyter-widgets/controls",
      "model_module_version": "1.4.0",
      "model_name": "DescriptionStyleModel",
      "state": {
       "description_width": ""
      }
     },
     "fec54ac78f0c41b6a475d8fd21a85248": {
      "model_module": "@jupyter-widgets/base",
      "model_module_version": "1.1.0",
      "model_name": "LayoutModel",
      "state": {}
     },
     "fee3f64efb514051ab49973b6e78c4d0": {
      "model_module": "@jupyter-widgets/base",
      "model_module_version": "1.1.0",
      "model_name": "LayoutModel",
      "state": {}
     },
     "feed68c61643494da93877d1889dcf24": {
      "model_module": "@jupyter-widgets/base",
      "model_module_version": "1.1.0",
      "model_name": "LayoutModel",
      "state": {
       "margin": "20px",
       "visibility": "visible"
      }
     },
     "fef3e144992d49b094e6fc814ed8c22a": {
      "model_module": "@jupyter-widgets/controls",
      "model_module_version": "1.4.0",
      "model_name": "DescriptionStyleModel",
      "state": {
       "description_width": ""
      }
     },
     "fef5d83802c0403aaaab9f1d74f23180": {
      "model_module": "@jupyter-widgets/base",
      "model_module_version": "1.1.0",
      "model_name": "LayoutModel",
      "state": {}
     },
     "ff05165595774941b9891c95f8ca1ce6": {
      "model_module": "@jupyter-widgets/base",
      "model_module_version": "1.1.0",
      "model_name": "LayoutModel",
      "state": {}
     },
     "ff38bec439a64cdca8f2cc007a6e7126": {
      "model_module": "@jupyter-widgets/controls",
      "model_module_version": "1.4.0",
      "model_name": "HTMLModel",
      "state": {
       "layout": "IPY_MODEL_60d26c31c3064eb790c40aa2184d3320",
       "style": "IPY_MODEL_7411924d19cd4ad7b20740aeda2ea25f",
       "value": "<b>5</b>)&nbsp;&nbsp;"
      }
     },
     "ff3ae7c19f4449a8a2934322a2c3bd37": {
      "model_module": "@jupyter-widgets/controls",
      "model_module_version": "1.4.0",
      "model_name": "HTMLModel",
      "state": {
       "layout": "IPY_MODEL_fe58c5e122234be0a6288bb0377df9fd",
       "style": "IPY_MODEL_a47c0872550a43d1b3f35eafb442feb1",
       "value": "A library defining quantum circuits and registers"
      }
     },
     "ff40ec81a190489fa004faa1c066bc91": {
      "model_module": "@jupyter-widgets/controls",
      "model_module_version": "1.4.0",
      "model_name": "HTMLModel",
      "state": {
       "layout": "IPY_MODEL_507f76a023504aa0937f80ef68983d5a",
       "style": "IPY_MODEL_e42d0ed898ae4485b7d2e544602bb3d8",
       "value": "<img src=\"questions/aer1_images/1_w2.png\">"
      }
     },
     "ff6d5d0b454746fd82dcd9c663693543": {
      "model_module": "@jupyter-widgets/controls",
      "model_module_version": "1.4.0",
      "model_name": "HTMLModel",
      "state": {
       "layout": "IPY_MODEL_cb9fc517e53540a8aa572e8e0dc1ba8b",
       "style": "IPY_MODEL_3a7ce6d3fbd04b3a8bb3a3e1f6633c3d"
      }
     },
     "ff6f4986dd8c4e83a634e83d64327142": {
      "model_module": "@jupyter-widgets/base",
      "model_module_version": "1.1.0",
      "model_name": "LayoutModel",
      "state": {}
     },
     "ff7bd561c3014901bd97c8befe2ee6b6": {
      "model_module": "@jupyter-widgets/controls",
      "model_module_version": "1.4.0",
      "model_name": "HBoxModel",
      "state": {
       "children": [
        "IPY_MODEL_3b65b39c32f3438aa7429bf0ca7848e9",
        "IPY_MODEL_9f347114282147f4a7a0a74fe49c0c7f"
       ],
       "layout": "IPY_MODEL_a2e1fcf1f10d407b99944777fa9477c7"
      }
     },
     "ffa061a02a804a0081f345c7978d591b": {
      "model_module": "@jupyter-widgets/base",
      "model_module_version": "1.1.0",
      "model_name": "LayoutModel",
      "state": {}
     },
     "ffa28cd38b8e42c8902ab4db1136843e": {
      "model_module": "@jupyter-widgets/controls",
      "model_module_version": "1.4.0",
      "model_name": "ButtonModel",
      "state": {
       "description": "1",
       "layout": "IPY_MODEL_9660f76b8308473788509f91f9420b55",
       "style": "IPY_MODEL_ab0d965d2f10440eac94f4e50569709a"
      }
     },
     "ffb64431207548e08500c8f179103499": {
      "model_module": "@jupyter-widgets/controls",
      "model_module_version": "1.4.0",
      "model_name": "ButtonModel",
      "state": {
       "description": "2",
       "layout": "IPY_MODEL_2805221ce58d45968729f6e8fb95f280",
       "style": "IPY_MODEL_f6c1bb332b134628ac8695c0addec9b3"
      }
     },
     "ffb97c4c189d4857a33ce3285fd7aa45": {
      "model_module": "@jupyter-widgets/base",
      "model_module_version": "1.1.0",
      "model_name": "LayoutModel",
      "state": {
       "margin": "20px",
       "visibility": "visible"
      }
     },
     "ffc476852dad48b8ad495639e24c21d1": {
      "model_module": "@jupyter-widgets/base",
      "model_module_version": "1.1.0",
      "model_name": "LayoutModel",
      "state": {}
     }
    },
    "version_major": 2,
    "version_minor": 0
   }
  }
 },
 "nbformat": 4,
 "nbformat_minor": 4
}
